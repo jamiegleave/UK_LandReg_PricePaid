{
 "cells": [
  {
   "cell_type": "code",
   "execution_count": 3,
   "metadata": {},
   "outputs": [
    {
     "name": "stdout",
     "output_type": "stream",
     "text": [
      "Server file is 5.1521 GB\n",
      "Local file is 5.1521 GB\n",
      "Local file is up-to-date\n"
     ]
    }
   ],
   "source": [
    "# Verifies that CSV file is up-to-date (else: D/L from Land Registry server)\n",
    "\n",
    "from initalisation import check_vers\n",
    "\n",
    "url = 'http://prod.publicdata.landregistry.gov.uk.s3-website-eu-west-1.amazonaws.com/pp-complete.csv'\n",
    "dest = 'C:/Users/jamie/OneDrive/Python/Py_24/Docker/Data/'\n",
    "\n",
    "check_vers(url,dest)"
   ]
  },
  {
   "cell_type": "code",
   "execution_count": 4,
   "metadata": {},
   "outputs": [
    {
     "name": "stdout",
     "output_type": "stream",
     "text": [
      "Successfully copied C:/Users/jamie/OneDrive/Python/Py_24/Docker/Data/ to path /var/lib/mysql-files (container 110e4f0dab4e)\n"
     ]
    }
   ],
   "source": [
    "# Copy local file into Docker volume\n",
    "\n",
    "from initalisation import copy_file_to_docker_volume\n",
    "\n",
    "file_name = \"26_10_2024\"+\"_pricepaid_complete\"\n",
    "\n",
    "copy_file_to_docker_volume(file_name+\".csv\",\n",
    "                           container_name = \"110e4f0dab4e\",\n",
    "                           local_path = \"C:/Users/jamie/OneDrive/Python/Py_24/Docker/Data/\",\n",
    "                           mount_path = \"/var/lib/mysql-files\")"
   ]
  },
  {
   "cell_type": "code",
   "execution_count": 4,
   "metadata": {},
   "outputs": [],
   "source": [
    "from initalisation import sql_commitchanges\n",
    "\n",
    "file_name = \"26-10-2024-\"+\"pricepaid_complete\"\n",
    "\n",
    "base = 'CREATE TABLE'+' `'+file_name.replace('_','')+'` '\n",
    "\n",
    "fd = open('load_dat.sql','r')\n",
    "sqlFile = fd.read()\n",
    "fd.close()\n",
    "\n",
    "query=base+sqlFile\n",
    "\n",
    "sql_commitchanges(query)"
   ]
  },
  {
   "cell_type": "code",
   "execution_count": 18,
   "metadata": {},
   "outputs": [],
   "source": [
    "# LOAD DATA INFILE \"/var/lib/mysql-files/26_10_2024_pricepaid_complete.csv\"\n",
    "mount_path = \"/var/lib/mysql-files\"\n",
    "start = \"LOAD DATA INFILE \"+\"'\"+mount_path+\"/\"+file_name+\".csv\"+\" \"\n",
    "mid = \"INTO TABLE \"+file_name.replace('_','')+\" \"\n",
    "end = \"\"\"COLUMNS TERMINATED BY ',' OPTIONALLY ENCLOSED BY '\"' ESCAPED BY '\"' LINES TERMINATED BY '\\n'\"\"\""
   ]
  },
  {
   "cell_type": "code",
   "execution_count": 19,
   "metadata": {},
   "outputs": [
    {
     "data": {
      "text/plain": [
       "'LOAD DATA INFILE \\'/var/lib/mysql-files/26-10-2024-pricepaid_complete.csv INTO TABLE 26-10-2024-pricepaidcomplete COLUMNS TERMINATED BY \\',\\' OPTIONALLY ENCLOSED BY \\'\"\\' ESCAPED BY \\'\"\\' LINES TERMINATED BY \\'\\n\\''"
      ]
     },
     "execution_count": 19,
     "metadata": {},
     "output_type": "execute_result"
    }
   ],
   "source": [
    "start+mid+end"
   ]
  },
  {
   "cell_type": "code",
   "execution_count": 23,
   "metadata": {},
   "outputs": [
    {
     "data": {
      "text/plain": [
       "'(`tx_id` varchar(40) CHARACTER SET utf8mb3 COLLATE utf8mb3_general_ci DEFAULT NULL,\\n`price_gbp` int DEFAULT NULL,\\n`date` date DEFAULT NULL,\\n`postcode` varchar(100) CHARACTER SET utf8mb3 COLLATE utf8mb3_general_ci DEFAULT NULL,\\n`prop_type` varchar(1) CHARACTER SET utf8mb3 COLLATE utf8mb3_general_ci DEFAULT NULL,\\n`new_build` varchar(1) CHARACTER SET utf8mb3 COLLATE utf8mb3_general_ci DEFAULT NULL,\\n`estate_type` varchar(1) CHARACTER SET utf8mb3 COLLATE utf8mb3_general_ci DEFAULT NULL,\\n`1_building_name_no` varchar(100) CHARACTER SET utf8mb3 COLLATE utf8mb3_general_ci DEFAULT NULL,\\n`2_building_name_no` varchar(100) CHARACTER SET utf8mb3 COLLATE utf8mb3_general_ci DEFAULT NULL,\\n`3_street` varchar(100) CHARACTER SET utf8mb3 COLLATE utf8mb3_general_ci DEFAULT NULL,\\n`4_locality` varchar(100) CHARACTER SET utf8mb3 COLLATE utf8mb3_general_ci DEFAULT NULL,\\n`5_town_city` varchar(100) CHARACTER SET utf8mb3 COLLATE utf8mb3_general_ci DEFAULT NULL,\\n`6_district` varchar(100) CHARACTER SET utf8mb3 COLLATE utf8mb3_general_ci DEFAULT NULL,\\n`7_county` varchar(100) CHARACTER SET utf8mb3 COLLATE utf8mb3_general_ci DEFAULT NULL,\\n`COL 15` varchar(1) DEFAULT NULL,\\n`COL 16` varchar(1) DEFAULT NULL)'"
      ]
     },
     "execution_count": 23,
     "metadata": {},
     "output_type": "execute_result"
    }
   ],
   "source": [
    "sqlFile"
   ]
  },
  {
   "cell_type": "code",
   "execution_count": 13,
   "metadata": {},
   "outputs": [
    {
     "data": {
      "text/plain": [
       "'(`tx_id` varchar(40) CHARACTER SET utf8mb3 COLLATE utf8mb3_general_ci DEFAULT NULL,`price_gbp` int DEFAULT NULL,`date` date DEFAULT NULL,`postcode` varchar(100) CHARACTER SET utf8mb3 COLLATE utf8mb3_general_ci DEFAULT NULL,`prop_type` varchar(1) CHARACTER SET utf8mb3 COLLATE utf8mb3_general_ci DEFAULT NULL,`new_build` varchar(1) CHARACTER SET utf8mb3 COLLATE utf8mb3_general_ci DEFAULT NULL,`estate_type` varchar(1) CHARACTER SET utf8mb3 COLLATE utf8mb3_general_ci DEFAULT NULL,`1_building_name_no` varchar(100) CHARACTER SET utf8mb3 COLLATE utf8mb3_general_ci DEFAULT NULL,`2_building_name_no` varchar(100) CHARACTER SET utf8mb3 COLLATE utf8mb3_general_ci DEFAULT NULL,`3_street` varchar(100) CHARACTER SET utf8mb3 COLLATE utf8mb3_general_ci DEFAULT NULL,`4_locality` varchar(100) CHARACTER SET utf8mb3 COLLATE utf8mb3_general_ci DEFAULT NULL,`5_town_city` varchar(100) CHARACTER SET utf8mb3 COLLATE utf8mb3_general_ci DEFAULT NULL,`6_district` varchar(100) CHARACTER SET utf8mb3 COLLATE utf8mb3_general_ci DEFAULT NULL,`7_county` varchar(100) CHARACTER SET utf8mb3 COLLATE utf8mb3_general_ci DEFAULT NULL,`COL 15` varchar(1) DEFAULT NULL,`COL 16` varchar(1) DEFAULT NULL)'"
      ]
     },
     "execution_count": 13,
     "metadata": {},
     "output_type": "execute_result"
    }
   ],
   "source": [
    "sqlFile.replace('\\n','')"
   ]
  },
  {
   "cell_type": "code",
   "execution_count": null,
   "metadata": {},
   "outputs": [],
   "source": [
    "#docker cp ./26_10_2024_pricepaid_complete.csv 110e4f0dab4e:/var/lib/mysql-files/"
   ]
  },
  {
   "cell_type": "code",
   "execution_count": null,
   "metadata": {},
   "outputs": [],
   "source": [
    "# LOAD DATA INFILE \"/var/lib/mysql-files/26_10_2024_pricepaid_complete.csv\"\n",
    "# INTO TABLE 26102024pricepaidcomplete\n",
    "# COLUMNS TERMINATED BY ','\n",
    "# OPTIONALLY ENCLOSED BY '\"'\n",
    "# ESCAPED BY '\"'\n",
    "# LINES TERMINATED BY '\\n'"
   ]
  }
 ],
 "metadata": {
  "kernelspec": {
   "display_name": "base",
   "language": "python",
   "name": "python3"
  },
  "language_info": {
   "codemirror_mode": {
    "name": "ipython",
    "version": 3
   },
   "file_extension": ".py",
   "mimetype": "text/x-python",
   "name": "python",
   "nbconvert_exporter": "python",
   "pygments_lexer": "ipython3",
   "version": "3.12.7"
  }
 },
 "nbformat": 4,
 "nbformat_minor": 2
}
