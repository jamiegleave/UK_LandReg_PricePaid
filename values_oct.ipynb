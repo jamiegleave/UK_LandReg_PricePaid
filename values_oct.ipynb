{
 "cells": [
  {
   "cell_type": "code",
   "execution_count": 1,
   "metadata": {},
   "outputs": [],
   "source": [
    "import sys         \n",
    "\n",
    "import pandas as pd\n",
    "import numpy as np\n",
    "from scipy.stats import iqr\n",
    "\n",
    "from ppc_db import sql_extractdata\n",
    "\n",
    "sys.path.append(r'C:\\Users\\jamie\\OneDrive\\Python\\Py_24\\Git_master\\econ')\n",
    "import fred\n",
    "\n",
    "db_args = {\n",
    "    'user':'root',\n",
    "    'password':'password',\n",
    "    'host':'localhost',\n",
    "    'port':3306,\n",
    "    'database':'CSV_DB 7'\n",
    " }"
   ]
  },
  {
   "cell_type": "code",
   "execution_count": 2,
   "metadata": {},
   "outputs": [],
   "source": [
    "cols = ['7_county', 'price_gbp']\n",
    "\n",
    "query = f\"SELECT {\", \".join(str(x) for x in cols)} FROM Oct24pricepaidcomplete WHERE YEAR(date)=2023\"\n",
    "result = pd.DataFrame(sql_extractdata(query, **db_args),columns=cols)\n",
    "\n",
    "df = (result.join\n",
    "      (pd.read_csv('county_to_region.csv',\n",
    "                   index_col='7_county',\n",
    "                   dtype=str),\n",
    "                   on='7_county')\n",
    "     )"
   ]
  },
  {
   "cell_type": "code",
   "execution_count": 3,
   "metadata": {},
   "outputs": [],
   "source": [
    "df_median = pd.DataFrame()\n",
    "\n",
    "\n",
    "for i in range(1995,2024+1,1):\n",
    "    cols = ['7_county', 'price_gbp']\n",
    "    query = f\"SELECT {\", \".join(str(x) for x in cols)} FROM Oct24pricepaidcomplete WHERE YEAR(date)=\"+str(i)\n",
    "    result = pd.DataFrame(sql_extractdata(query, **db_args),columns=['7_county',i])\n",
    "\n",
    "    df = (result.join\n",
    "        (pd.read_csv('county_to_region.csv',\n",
    "                    index_col='7_county',\n",
    "                    dtype=str),\n",
    "                    on='7_county')\n",
    "        )\n",
    "    \n",
    "    df_median = pd.concat([df_median,df.groupby('region')[i].quantile(q=0.5)],axis=1)"
   ]
  },
  {
   "cell_type": "code",
   "execution_count": 4,
   "metadata": {},
   "outputs": [],
   "source": [
    "# df_quantiles = pd.DataFrame()\n",
    "# for j in [10]:\n",
    "#     df_quantiles[j] = df.groupby('region')[i].quantile(j/100)"
   ]
  },
  {
   "cell_type": "code",
   "execution_count": 53,
   "metadata": {},
   "outputs": [
    {
     "data": {
      "application/vnd.plotly.v1+json": {
       "config": {
        "plotlyServerURL": "https://plot.ly"
       },
       "data": [
        {
         "hovertemplate": "variable=East Midlands<br>Year=%{x}<br>Relative Price=%{y}<extra></extra>",
         "legendgroup": "East Midlands",
         "line": {
          "color": "#636efa",
          "dash": "solid"
         },
         "marker": {
          "symbol": "circle"
         },
         "mode": "lines",
         "name": "East Midlands",
         "orientation": "v",
         "showlegend": true,
         "type": "scatter",
         "x": [
          1995,
          1996,
          1997,
          1998,
          1999,
          2000,
          2001,
          2002,
          2003,
          2004,
          2005,
          2006,
          2007,
          2008,
          2009,
          2010,
          2011,
          2012,
          2013,
          2014,
          2015,
          2016,
          2017,
          2018,
          2019,
          2020,
          2021,
          2022,
          2023,
          2024
         ],
         "xaxis": "x",
         "y": [
          1,
          1.0337323177366704,
          1.088139281828074,
          1.1643090315560392,
          1.251360174102285,
          1.338411316648531,
          1.5233949945593035,
          1.8498367791077257,
          2.3286180631120783,
          2.752992383025027,
          2.872687704026115,
          2.9815016322089227,
          3.144722524483134,
          3.003264417845484,
          2.9379760609358,
          3.0250272034820456,
          2.9597388465723613,
          3.003264417845484,
          3.046789989118607,
          3.2426550598476607,
          3.427638737758433,
          3.5908596300326443,
          3.8411316648531013,
          4.026115342763874,
          4.134929270946682,
          4.374319912948858,
          4.787812840043525,
          5.212187159956475,
          5.114254624591948,
          5.004352557127312
         ],
         "yaxis": "y"
        },
        {
         "hovertemplate": "variable=London<br>Year=%{x}<br>Relative Price=%{y}<extra></extra>",
         "legendgroup": "London",
         "line": {
          "color": "#EF553B",
          "dash": "solid"
         },
         "marker": {
          "symbol": "circle"
         },
         "mode": "lines",
         "name": "London",
         "orientation": "v",
         "showlegend": true,
         "type": "scatter",
         "x": [
          1995,
          1996,
          1997,
          1998,
          1999,
          2000,
          2001,
          2002,
          2003,
          2004,
          2005,
          2006,
          2007,
          2008,
          2009,
          2010,
          2011,
          2012,
          2013,
          2014,
          2015,
          2016,
          2017,
          2018,
          2019,
          2020,
          2021,
          2022,
          2023,
          2024
         ],
         "xaxis": "x",
         "y": [
          1,
          1.0548667716966915,
          1.1781628878690322,
          1.323378313583122,
          1.6165490787040209,
          1.8905404479758887,
          2.1234331118569765,
          2.4727721076786082,
          2.7399136927186793,
          3.013905061990547,
          3.150900746626481,
          3.3563942735803822,
          3.602986505925063,
          3.54818823207069,
          3.4248921158983494,
          3.9386259332831015,
          4.0112336461401465,
          4.1098705390780195,
          4.424960613740667,
          4.95924378382081,
          5.452428248510172,
          5.959312281663127,
          6.164805808617029,
          6.164805808617029,
          6.233303650934996,
          6.59634221522022,
          6.764846907322419,
          7.0552777587505995,
          6.986779916432632,
          6.918282074114665
         ],
         "yaxis": "y"
        },
        {
         "hovertemplate": "variable=North East<br>Year=%{x}<br>Relative Price=%{y}<extra></extra>",
         "legendgroup": "North East",
         "line": {
          "color": "#00cc96",
          "dash": "solid"
         },
         "marker": {
          "symbol": "circle"
         },
         "mode": "lines",
         "name": "North East",
         "orientation": "v",
         "showlegend": true,
         "type": "scatter",
         "x": [
          1995,
          1996,
          1997,
          1998,
          1999,
          2000,
          2001,
          2002,
          2003,
          2004,
          2005,
          2006,
          2007,
          2008,
          2009,
          2010,
          2011,
          2012,
          2013,
          2014,
          2015,
          2016,
          2017,
          2018,
          2019,
          2020,
          2021,
          2022,
          2023,
          2024
         ],
         "xaxis": "x",
         "y": [
          1,
          1.0532544378698225,
          1.1123076923076922,
          1.136094674556213,
          1.1952662721893492,
          1.2307692307692308,
          1.301775147928994,
          1.4201183431952662,
          1.8449704142011834,
          2.272189349112426,
          2.5783905325443786,
          2.8165680473372783,
          2.899408284023669,
          2.8402366863905324,
          2.8402366863905324,
          2.8875739644970415,
          2.769230769230769,
          2.8402366863905324,
          2.8402366863905324,
          2.93491124260355,
          3.0059171597633134,
          3.029585798816568,
          3.076923076923077,
          3.1384378698224853,
          3.171597633136095,
          3.2544378698224854,
          3.431834319526627,
          3.502958579881657,
          3.473372781065089,
          3.3124260355029587
         ],
         "yaxis": "y"
        },
        {
         "hovertemplate": "variable=North West<br>Year=%{x}<br>Relative Price=%{y}<extra></extra>",
         "legendgroup": "North West",
         "line": {
          "color": "#ab63fa",
          "dash": "solid"
         },
         "marker": {
          "symbol": "circle"
         },
         "mode": "lines",
         "name": "North West",
         "orientation": "v",
         "showlegend": true,
         "type": "scatter",
         "x": [
          1995,
          1996,
          1997,
          1998,
          1999,
          2000,
          2001,
          2002,
          2003,
          2004,
          2005,
          2006,
          2007,
          2008,
          2009,
          2010,
          2011,
          2012,
          2013,
          2014,
          2015,
          2016,
          2017,
          2018,
          2019,
          2020,
          2021,
          2022,
          2023,
          2024
         ],
         "xaxis": "x",
         "y": [
          1,
          1.0294777777777777,
          1.0888888888888888,
          1.1111111111111112,
          1.1933333333333334,
          1.2555555555555555,
          1.3333333333333333,
          1.5555555555555556,
          1.8888888888888888,
          2.4,
          2.6444444444444444,
          2.8433333333333333,
          2.9988888888888887,
          2.887777777777778,
          2.888888888888889,
          2.888888888888889,
          2.8222222222222224,
          2.888888888888889,
          2.888888888888889,
          3,
          3.111111111111111,
          3.2222222222222223,
          3.3333333333333335,
          3.4444444444444446,
          3.5555555555555554,
          3.7777777777777777,
          4.111111111111111,
          4.333333333333333,
          4.222222222222222,
          4.222222222222222
         ],
         "yaxis": "y"
        },
        {
         "hovertemplate": "variable=South East<br>Year=%{x}<br>Relative Price=%{y}<extra></extra>",
         "legendgroup": "South East",
         "line": {
          "color": "#FFA15A",
          "dash": "solid"
         },
         "marker": {
          "symbol": "circle"
         },
         "mode": "lines",
         "name": "South East",
         "orientation": "v",
         "showlegend": true,
         "type": "scatter",
         "x": [
          1995,
          1996,
          1997,
          1998,
          1999,
          2000,
          2001,
          2002,
          2003,
          2004,
          2005,
          2006,
          2007,
          2008,
          2009,
          2010,
          2011,
          2012,
          2013,
          2014,
          2015,
          2016,
          2017,
          2018,
          2019,
          2020,
          2021,
          2022,
          2023,
          2024
         ],
         "xaxis": "x",
         "y": [
          1,
          1.0538461538461539,
          1.146153846153846,
          1.2769230769230768,
          1.4230769230769231,
          1.7230769230769232,
          1.9384615384615385,
          2.276923076923077,
          2.6146153846153846,
          2.8461538461538463,
          2.953846153846154,
          3.1153846153846154,
          3.3838461538461537,
          3.3076923076923075,
          3.123076923076923,
          3.523076923076923,
          3.4307692307692306,
          3.523076923076923,
          3.6153846153846154,
          3.8446153846153845,
          4.153846153846154,
          4.492307692307692,
          4.769230769230769,
          4.880769230769231,
          4.923076923076923,
          5.230769230769231,
          5.461538461538462,
          5.815384615384615,
          5.7384615384615385,
          5.615384615384615
         ],
         "yaxis": "y"
        }
       ],
       "layout": {
        "height": 600,
        "legend": {
         "title": {
          "text": "Region"
         },
         "tracegroupgap": 0,
         "x": 0.01,
         "xanchor": "left",
         "y": 0.99,
         "yanchor": "top"
        },
        "template": {
         "data": {
          "bar": [
           {
            "error_x": {
             "color": "#2a3f5f"
            },
            "error_y": {
             "color": "#2a3f5f"
            },
            "marker": {
             "line": {
              "color": "#E5ECF6",
              "width": 0.5
             },
             "pattern": {
              "fillmode": "overlay",
              "size": 10,
              "solidity": 0.2
             }
            },
            "type": "bar"
           }
          ],
          "barpolar": [
           {
            "marker": {
             "line": {
              "color": "#E5ECF6",
              "width": 0.5
             },
             "pattern": {
              "fillmode": "overlay",
              "size": 10,
              "solidity": 0.2
             }
            },
            "type": "barpolar"
           }
          ],
          "carpet": [
           {
            "aaxis": {
             "endlinecolor": "#2a3f5f",
             "gridcolor": "white",
             "linecolor": "white",
             "minorgridcolor": "white",
             "startlinecolor": "#2a3f5f"
            },
            "baxis": {
             "endlinecolor": "#2a3f5f",
             "gridcolor": "white",
             "linecolor": "white",
             "minorgridcolor": "white",
             "startlinecolor": "#2a3f5f"
            },
            "type": "carpet"
           }
          ],
          "choropleth": [
           {
            "colorbar": {
             "outlinewidth": 0,
             "ticks": ""
            },
            "type": "choropleth"
           }
          ],
          "contour": [
           {
            "colorbar": {
             "outlinewidth": 0,
             "ticks": ""
            },
            "colorscale": [
             [
              0,
              "#0d0887"
             ],
             [
              0.1111111111111111,
              "#46039f"
             ],
             [
              0.2222222222222222,
              "#7201a8"
             ],
             [
              0.3333333333333333,
              "#9c179e"
             ],
             [
              0.4444444444444444,
              "#bd3786"
             ],
             [
              0.5555555555555556,
              "#d8576b"
             ],
             [
              0.6666666666666666,
              "#ed7953"
             ],
             [
              0.7777777777777778,
              "#fb9f3a"
             ],
             [
              0.8888888888888888,
              "#fdca26"
             ],
             [
              1,
              "#f0f921"
             ]
            ],
            "type": "contour"
           }
          ],
          "contourcarpet": [
           {
            "colorbar": {
             "outlinewidth": 0,
             "ticks": ""
            },
            "type": "contourcarpet"
           }
          ],
          "heatmap": [
           {
            "colorbar": {
             "outlinewidth": 0,
             "ticks": ""
            },
            "colorscale": [
             [
              0,
              "#0d0887"
             ],
             [
              0.1111111111111111,
              "#46039f"
             ],
             [
              0.2222222222222222,
              "#7201a8"
             ],
             [
              0.3333333333333333,
              "#9c179e"
             ],
             [
              0.4444444444444444,
              "#bd3786"
             ],
             [
              0.5555555555555556,
              "#d8576b"
             ],
             [
              0.6666666666666666,
              "#ed7953"
             ],
             [
              0.7777777777777778,
              "#fb9f3a"
             ],
             [
              0.8888888888888888,
              "#fdca26"
             ],
             [
              1,
              "#f0f921"
             ]
            ],
            "type": "heatmap"
           }
          ],
          "heatmapgl": [
           {
            "colorbar": {
             "outlinewidth": 0,
             "ticks": ""
            },
            "colorscale": [
             [
              0,
              "#0d0887"
             ],
             [
              0.1111111111111111,
              "#46039f"
             ],
             [
              0.2222222222222222,
              "#7201a8"
             ],
             [
              0.3333333333333333,
              "#9c179e"
             ],
             [
              0.4444444444444444,
              "#bd3786"
             ],
             [
              0.5555555555555556,
              "#d8576b"
             ],
             [
              0.6666666666666666,
              "#ed7953"
             ],
             [
              0.7777777777777778,
              "#fb9f3a"
             ],
             [
              0.8888888888888888,
              "#fdca26"
             ],
             [
              1,
              "#f0f921"
             ]
            ],
            "type": "heatmapgl"
           }
          ],
          "histogram": [
           {
            "marker": {
             "pattern": {
              "fillmode": "overlay",
              "size": 10,
              "solidity": 0.2
             }
            },
            "type": "histogram"
           }
          ],
          "histogram2d": [
           {
            "colorbar": {
             "outlinewidth": 0,
             "ticks": ""
            },
            "colorscale": [
             [
              0,
              "#0d0887"
             ],
             [
              0.1111111111111111,
              "#46039f"
             ],
             [
              0.2222222222222222,
              "#7201a8"
             ],
             [
              0.3333333333333333,
              "#9c179e"
             ],
             [
              0.4444444444444444,
              "#bd3786"
             ],
             [
              0.5555555555555556,
              "#d8576b"
             ],
             [
              0.6666666666666666,
              "#ed7953"
             ],
             [
              0.7777777777777778,
              "#fb9f3a"
             ],
             [
              0.8888888888888888,
              "#fdca26"
             ],
             [
              1,
              "#f0f921"
             ]
            ],
            "type": "histogram2d"
           }
          ],
          "histogram2dcontour": [
           {
            "colorbar": {
             "outlinewidth": 0,
             "ticks": ""
            },
            "colorscale": [
             [
              0,
              "#0d0887"
             ],
             [
              0.1111111111111111,
              "#46039f"
             ],
             [
              0.2222222222222222,
              "#7201a8"
             ],
             [
              0.3333333333333333,
              "#9c179e"
             ],
             [
              0.4444444444444444,
              "#bd3786"
             ],
             [
              0.5555555555555556,
              "#d8576b"
             ],
             [
              0.6666666666666666,
              "#ed7953"
             ],
             [
              0.7777777777777778,
              "#fb9f3a"
             ],
             [
              0.8888888888888888,
              "#fdca26"
             ],
             [
              1,
              "#f0f921"
             ]
            ],
            "type": "histogram2dcontour"
           }
          ],
          "mesh3d": [
           {
            "colorbar": {
             "outlinewidth": 0,
             "ticks": ""
            },
            "type": "mesh3d"
           }
          ],
          "parcoords": [
           {
            "line": {
             "colorbar": {
              "outlinewidth": 0,
              "ticks": ""
             }
            },
            "type": "parcoords"
           }
          ],
          "pie": [
           {
            "automargin": true,
            "type": "pie"
           }
          ],
          "scatter": [
           {
            "fillpattern": {
             "fillmode": "overlay",
             "size": 10,
             "solidity": 0.2
            },
            "type": "scatter"
           }
          ],
          "scatter3d": [
           {
            "line": {
             "colorbar": {
              "outlinewidth": 0,
              "ticks": ""
             }
            },
            "marker": {
             "colorbar": {
              "outlinewidth": 0,
              "ticks": ""
             }
            },
            "type": "scatter3d"
           }
          ],
          "scattercarpet": [
           {
            "marker": {
             "colorbar": {
              "outlinewidth": 0,
              "ticks": ""
             }
            },
            "type": "scattercarpet"
           }
          ],
          "scattergeo": [
           {
            "marker": {
             "colorbar": {
              "outlinewidth": 0,
              "ticks": ""
             }
            },
            "type": "scattergeo"
           }
          ],
          "scattergl": [
           {
            "marker": {
             "colorbar": {
              "outlinewidth": 0,
              "ticks": ""
             }
            },
            "type": "scattergl"
           }
          ],
          "scattermapbox": [
           {
            "marker": {
             "colorbar": {
              "outlinewidth": 0,
              "ticks": ""
             }
            },
            "type": "scattermapbox"
           }
          ],
          "scatterpolar": [
           {
            "marker": {
             "colorbar": {
              "outlinewidth": 0,
              "ticks": ""
             }
            },
            "type": "scatterpolar"
           }
          ],
          "scatterpolargl": [
           {
            "marker": {
             "colorbar": {
              "outlinewidth": 0,
              "ticks": ""
             }
            },
            "type": "scatterpolargl"
           }
          ],
          "scatterternary": [
           {
            "marker": {
             "colorbar": {
              "outlinewidth": 0,
              "ticks": ""
             }
            },
            "type": "scatterternary"
           }
          ],
          "surface": [
           {
            "colorbar": {
             "outlinewidth": 0,
             "ticks": ""
            },
            "colorscale": [
             [
              0,
              "#0d0887"
             ],
             [
              0.1111111111111111,
              "#46039f"
             ],
             [
              0.2222222222222222,
              "#7201a8"
             ],
             [
              0.3333333333333333,
              "#9c179e"
             ],
             [
              0.4444444444444444,
              "#bd3786"
             ],
             [
              0.5555555555555556,
              "#d8576b"
             ],
             [
              0.6666666666666666,
              "#ed7953"
             ],
             [
              0.7777777777777778,
              "#fb9f3a"
             ],
             [
              0.8888888888888888,
              "#fdca26"
             ],
             [
              1,
              "#f0f921"
             ]
            ],
            "type": "surface"
           }
          ],
          "table": [
           {
            "cells": {
             "fill": {
              "color": "#EBF0F8"
             },
             "line": {
              "color": "white"
             }
            },
            "header": {
             "fill": {
              "color": "#C8D4E3"
             },
             "line": {
              "color": "white"
             }
            },
            "type": "table"
           }
          ]
         },
         "layout": {
          "annotationdefaults": {
           "arrowcolor": "#2a3f5f",
           "arrowhead": 0,
           "arrowwidth": 1
          },
          "autotypenumbers": "strict",
          "coloraxis": {
           "colorbar": {
            "outlinewidth": 0,
            "ticks": ""
           }
          },
          "colorscale": {
           "diverging": [
            [
             0,
             "#8e0152"
            ],
            [
             0.1,
             "#c51b7d"
            ],
            [
             0.2,
             "#de77ae"
            ],
            [
             0.3,
             "#f1b6da"
            ],
            [
             0.4,
             "#fde0ef"
            ],
            [
             0.5,
             "#f7f7f7"
            ],
            [
             0.6,
             "#e6f5d0"
            ],
            [
             0.7,
             "#b8e186"
            ],
            [
             0.8,
             "#7fbc41"
            ],
            [
             0.9,
             "#4d9221"
            ],
            [
             1,
             "#276419"
            ]
           ],
           "sequential": [
            [
             0,
             "#0d0887"
            ],
            [
             0.1111111111111111,
             "#46039f"
            ],
            [
             0.2222222222222222,
             "#7201a8"
            ],
            [
             0.3333333333333333,
             "#9c179e"
            ],
            [
             0.4444444444444444,
             "#bd3786"
            ],
            [
             0.5555555555555556,
             "#d8576b"
            ],
            [
             0.6666666666666666,
             "#ed7953"
            ],
            [
             0.7777777777777778,
             "#fb9f3a"
            ],
            [
             0.8888888888888888,
             "#fdca26"
            ],
            [
             1,
             "#f0f921"
            ]
           ],
           "sequentialminus": [
            [
             0,
             "#0d0887"
            ],
            [
             0.1111111111111111,
             "#46039f"
            ],
            [
             0.2222222222222222,
             "#7201a8"
            ],
            [
             0.3333333333333333,
             "#9c179e"
            ],
            [
             0.4444444444444444,
             "#bd3786"
            ],
            [
             0.5555555555555556,
             "#d8576b"
            ],
            [
             0.6666666666666666,
             "#ed7953"
            ],
            [
             0.7777777777777778,
             "#fb9f3a"
            ],
            [
             0.8888888888888888,
             "#fdca26"
            ],
            [
             1,
             "#f0f921"
            ]
           ]
          },
          "colorway": [
           "#636efa",
           "#EF553B",
           "#00cc96",
           "#ab63fa",
           "#FFA15A",
           "#19d3f3",
           "#FF6692",
           "#B6E880",
           "#FF97FF",
           "#FECB52"
          ],
          "font": {
           "color": "#2a3f5f"
          },
          "geo": {
           "bgcolor": "white",
           "lakecolor": "white",
           "landcolor": "#E5ECF6",
           "showlakes": true,
           "showland": true,
           "subunitcolor": "white"
          },
          "hoverlabel": {
           "align": "left"
          },
          "hovermode": "closest",
          "mapbox": {
           "style": "light"
          },
          "paper_bgcolor": "white",
          "plot_bgcolor": "#E5ECF6",
          "polar": {
           "angularaxis": {
            "gridcolor": "white",
            "linecolor": "white",
            "ticks": ""
           },
           "bgcolor": "#E5ECF6",
           "radialaxis": {
            "gridcolor": "white",
            "linecolor": "white",
            "ticks": ""
           }
          },
          "scene": {
           "xaxis": {
            "backgroundcolor": "#E5ECF6",
            "gridcolor": "white",
            "gridwidth": 2,
            "linecolor": "white",
            "showbackground": true,
            "ticks": "",
            "zerolinecolor": "white"
           },
           "yaxis": {
            "backgroundcolor": "#E5ECF6",
            "gridcolor": "white",
            "gridwidth": 2,
            "linecolor": "white",
            "showbackground": true,
            "ticks": "",
            "zerolinecolor": "white"
           },
           "zaxis": {
            "backgroundcolor": "#E5ECF6",
            "gridcolor": "white",
            "gridwidth": 2,
            "linecolor": "white",
            "showbackground": true,
            "ticks": "",
            "zerolinecolor": "white"
           }
          },
          "shapedefaults": {
           "line": {
            "color": "#2a3f5f"
           }
          },
          "ternary": {
           "aaxis": {
            "gridcolor": "white",
            "linecolor": "white",
            "ticks": ""
           },
           "baxis": {
            "gridcolor": "white",
            "linecolor": "white",
            "ticks": ""
           },
           "bgcolor": "#E5ECF6",
           "caxis": {
            "gridcolor": "white",
            "linecolor": "white",
            "ticks": ""
           }
          },
          "title": {
           "x": 0.05
          },
          "xaxis": {
           "automargin": true,
           "gridcolor": "white",
           "linecolor": "white",
           "ticks": "",
           "title": {
            "standoff": 15
           },
           "zerolinecolor": "white",
           "zerolinewidth": 2
          },
          "yaxis": {
           "automargin": true,
           "gridcolor": "white",
           "linecolor": "white",
           "ticks": "",
           "title": {
            "standoff": 15
           },
           "zerolinecolor": "white",
           "zerolinewidth": 2
          }
         }
        },
        "title": {
         "text": "Median House Prices, Nominal GBP"
        },
        "width": 800,
        "xaxis": {
         "anchor": "y",
         "domain": [
          0,
          1
         ],
         "title": {
          "text": "Year"
         }
        },
        "yaxis": {
         "anchor": "x",
         "domain": [
          0,
          1
         ],
         "title": {
          "text": "Relative Price"
         }
        }
       }
      }
     },
     "metadata": {},
     "output_type": "display_data"
    }
   ],
   "source": [
    "#Nominal\n",
    "\n",
    "df_median_screened = df_median.transpose().drop(['East of England','Yorkshire and the Humber','South West','West Midlands','Wales'],axis=1)\n",
    "\n",
    "import plotly.express as px\n",
    "fig = px.line(df_median_screened.apply(lambda x: x/x.iloc[0],axis=0),\n",
    "              labels={\n",
    "                  'index':'Year',\n",
    "                  'value':'Relative Price'\n",
    "              },\n",
    "              width=800, height=600,\n",
    "              title='Median House Prices, Nominal GBP')\n",
    "\n",
    "fig.update_layout(legend=dict(\n",
    "    title='Region',\n",
    "    yanchor=\"top\",\n",
    "    y=0.99,\n",
    "    xanchor=\"left\",\n",
    "    x=0.01\n",
    "))\n",
    "\n",
    "fig.show()"
   ]
  },
  {
   "cell_type": "code",
   "execution_count": 51,
   "metadata": {},
   "outputs": [
    {
     "data": {
      "application/vnd.plotly.v1+json": {
       "config": {
        "plotlyServerURL": "https://plot.ly"
       },
       "data": [
        {
         "hovertemplate": "variable=East Midlands<br>Year=%{x}<br>Relative Price=%{y}<extra></extra>",
         "legendgroup": "East Midlands",
         "line": {
          "color": "#636efa",
          "dash": "solid"
         },
         "marker": {
          "symbol": "circle"
         },
         "mode": "lines",
         "name": "East Midlands",
         "orientation": "v",
         "showlegend": true,
         "type": "scatter",
         "x": [
          1995,
          1996,
          1997,
          1998,
          1999,
          2000,
          2001,
          2002,
          2003,
          2004,
          2005,
          2006,
          2007,
          2008,
          2009,
          2010,
          2011,
          2012,
          2013,
          2014,
          2015,
          2016,
          2017,
          2018,
          2019,
          2020,
          2021,
          2022,
          2023,
          2024
         ],
         "xaxis": "x",
         "y": [
          1,
          1.0050664864231973,
          1.0351551271361468,
          1.0878018933472822,
          1.148972014003911,
          1.214542954581834,
          1.3615629941312388,
          1.628540593815548,
          2.0221942082006197,
          2.3579519271675466,
          2.4101828997695467,
          2.4416130030977565,
          2.515162492659719,
          2.3205716245899515,
          2.226184052293008,
          2.2364454157284857,
          2.1069980815994542,
          2.0842523527300907,
          2.0670430250799208,
          2.1684122893501514,
          2.2837022720555766,
          2.3686371944725657,
          2.4706215390872512,
          2.5315029219440994,
          2.5554612003741144,
          2.6768384835833734,
          2.8585523939611917,
          2.885166383150206,
          2.6491868176772666,
          2.524414954266066
         ],
         "yaxis": "y"
        },
        {
         "hovertemplate": "variable=London<br>Year=%{x}<br>Relative Price=%{y}<extra></extra>",
         "legendgroup": "London",
         "line": {
          "color": "#EF553B",
          "dash": "solid"
         },
         "marker": {
          "symbol": "circle"
         },
         "mode": "lines",
         "name": "London",
         "orientation": "v",
         "showlegend": true,
         "type": "scatter",
         "x": [
          1995,
          1996,
          1997,
          1998,
          1999,
          2000,
          2001,
          2002,
          2003,
          2004,
          2005,
          2006,
          2007,
          2008,
          2009,
          2010,
          2011,
          2012,
          2013,
          2014,
          2015,
          2016,
          2017,
          2018,
          2019,
          2020,
          2021,
          2022,
          2023,
          2024
         ],
         "xaxis": "x",
         "y": [
          1,
          1.0256148730989463,
          1.1207952643068462,
          1.2364186793316698,
          1.4842806165116982,
          1.7155731970279438,
          1.8978583728731355,
          2.176954097837694,
          2.379367268576672,
          2.5814249589066263,
          2.643603440689634,
          2.748620297023021,
          2.8816839802905214,
          2.741625040113552,
          2.5951335378847284,
          2.9118818841103367,
          2.8555430176051653,
          2.8522321543151454,
          3.0020395253865155,
          3.316321029602697,
          3.632740709274899,
          3.9309385991499015,
          3.9652121676599474,
          3.8762485892961287,
          3.852294582651422,
          4.036591525991923,
          4.0389359333293555,
          3.9053951035604304,
          3.6191559887580707,
          3.4898849604135944
         ],
         "yaxis": "y"
        },
        {
         "hovertemplate": "variable=North East<br>Year=%{x}<br>Relative Price=%{y}<extra></extra>",
         "legendgroup": "North East",
         "line": {
          "color": "#00cc96",
          "dash": "solid"
         },
         "marker": {
          "symbol": "circle"
         },
         "mode": "lines",
         "name": "North East",
         "orientation": "v",
         "showlegend": true,
         "type": "scatter",
         "x": [
          1995,
          1996,
          1997,
          1998,
          1999,
          2000,
          2001,
          2002,
          2003,
          2004,
          2005,
          2006,
          2007,
          2008,
          2009,
          2010,
          2011,
          2012,
          2013,
          2014,
          2015,
          2016,
          2017,
          2018,
          2019,
          2020,
          2021,
          2022,
          2023,
          2024
         ],
         "xaxis": "x",
         "y": [
          1,
          1.0240472499662376,
          1.0581467187830154,
          1.0614415112389606,
          1.0974677990000414,
          1.1168630146448584,
          1.1634860784169647,
          1.2502294235014173,
          1.6021899619351876,
          1.9461416920965424,
          2.163267786385757,
          2.3065454984820435,
          2.318959116458709,
          2.194602853612725,
          2.1521242804021297,
          2.1348242911808466,
          1.971377956211435,
          1.9711118211051744,
          1.9269104379189657,
          1.9626193625764334,
          2.0027255999130085,
          1.9984043784127445,
          1.9790814507920538,
          1.9733574330092405,
          1.960104795897046,
          1.9915334739427362,
          2.048968607902358,
          1.9390359605441605,
          1.7992090851774578,
          1.6709329975192628
         ],
         "yaxis": "y"
        },
        {
         "hovertemplate": "variable=North West<br>Year=%{x}<br>Relative Price=%{y}<extra></extra>",
         "legendgroup": "North West",
         "line": {
          "color": "#ab63fa",
          "dash": "solid"
         },
         "marker": {
          "symbol": "circle"
         },
         "mode": "lines",
         "name": "North West",
         "orientation": "v",
         "showlegend": true,
         "type": "scatter",
         "x": [
          1995,
          1996,
          1997,
          1998,
          1999,
          2000,
          2001,
          2002,
          2003,
          2004,
          2005,
          2006,
          2007,
          2008,
          2009,
          2010,
          2011,
          2012,
          2013,
          2014,
          2015,
          2016,
          2017,
          2018,
          2019,
          2020,
          2021,
          2022,
          2023,
          2024
         ],
         "xaxis": "x",
         "y": [
          1,
          1.000929926644169,
          1.0358682340015073,
          1.0380996261538444,
          1.0956930160907672,
          1.1393553948009008,
          1.1916918015301035,
          1.3694642666686823,
          1.6403291856032336,
          2.0556121622769727,
          2.2186869705530086,
          2.3284641416293836,
          2.398524128683509,
          2.2313370509147474,
          2.188989372242351,
          2.1357964333899457,
          2.0091018553735056,
          2.0048762365592907,
          1.959917700049985,
          2.006145195214217,
          2.0728122350805678,
          2.1254730595922005,
          2.1440049050247247,
          2.165765367665629,
          2.1973977479708173,
          2.3117881497525175,
          2.454529218481374,
          2.398683561551532,
          2.187113523567979,
          2.129874103860249
         ],
         "yaxis": "y"
        },
        {
         "hovertemplate": "variable=South East<br>Year=%{x}<br>Relative Price=%{y}<extra></extra>",
         "legendgroup": "South East",
         "line": {
          "color": "#FFA15A",
          "dash": "solid"
         },
         "marker": {
          "symbol": "circle"
         },
         "mode": "lines",
         "name": "South East",
         "orientation": "v",
         "showlegend": true,
         "type": "scatter",
         "x": [
          1995,
          1996,
          1997,
          1998,
          1999,
          2000,
          2001,
          2002,
          2003,
          2004,
          2005,
          2006,
          2007,
          2008,
          2009,
          2010,
          2011,
          2012,
          2013,
          2014,
          2015,
          2016,
          2017,
          2018,
          2019,
          2020,
          2021,
          2022,
          2023,
          2024
         ],
         "xaxis": "x",
         "y": [
          1,
          1.024622557410039,
          1.0903448208759978,
          1.1930160319029568,
          1.306638641878762,
          1.563608220502802,
          1.732536542224535,
          2.004534509013939,
          2.270557018859209,
          2.4377451924438462,
          2.4782747802945044,
          2.551252531409235,
          2.70641459169233,
          2.5557979066031526,
          2.3664399899921746,
          2.6046606208382705,
          2.4423182457508332,
          2.444999954762543,
          2.452796411601017,
          2.5709522270976044,
          2.767546006179,
          2.9632589923651476,
          3.067576248727683,
          3.068884151874584,
          3.0425507279595934,
          3.20093743811887,
          3.2607986914960456,
          3.2190617263898664,
          2.97252635571567,
          2.832646328413327
         ],
         "yaxis": "y"
        }
       ],
       "layout": {
        "height": 600,
        "legend": {
         "title": {
          "text": "Region"
         },
         "tracegroupgap": 0,
         "x": 0.01,
         "xanchor": "left",
         "y": 0.99,
         "yanchor": "top"
        },
        "template": {
         "data": {
          "bar": [
           {
            "error_x": {
             "color": "#2a3f5f"
            },
            "error_y": {
             "color": "#2a3f5f"
            },
            "marker": {
             "line": {
              "color": "#E5ECF6",
              "width": 0.5
             },
             "pattern": {
              "fillmode": "overlay",
              "size": 10,
              "solidity": 0.2
             }
            },
            "type": "bar"
           }
          ],
          "barpolar": [
           {
            "marker": {
             "line": {
              "color": "#E5ECF6",
              "width": 0.5
             },
             "pattern": {
              "fillmode": "overlay",
              "size": 10,
              "solidity": 0.2
             }
            },
            "type": "barpolar"
           }
          ],
          "carpet": [
           {
            "aaxis": {
             "endlinecolor": "#2a3f5f",
             "gridcolor": "white",
             "linecolor": "white",
             "minorgridcolor": "white",
             "startlinecolor": "#2a3f5f"
            },
            "baxis": {
             "endlinecolor": "#2a3f5f",
             "gridcolor": "white",
             "linecolor": "white",
             "minorgridcolor": "white",
             "startlinecolor": "#2a3f5f"
            },
            "type": "carpet"
           }
          ],
          "choropleth": [
           {
            "colorbar": {
             "outlinewidth": 0,
             "ticks": ""
            },
            "type": "choropleth"
           }
          ],
          "contour": [
           {
            "colorbar": {
             "outlinewidth": 0,
             "ticks": ""
            },
            "colorscale": [
             [
              0,
              "#0d0887"
             ],
             [
              0.1111111111111111,
              "#46039f"
             ],
             [
              0.2222222222222222,
              "#7201a8"
             ],
             [
              0.3333333333333333,
              "#9c179e"
             ],
             [
              0.4444444444444444,
              "#bd3786"
             ],
             [
              0.5555555555555556,
              "#d8576b"
             ],
             [
              0.6666666666666666,
              "#ed7953"
             ],
             [
              0.7777777777777778,
              "#fb9f3a"
             ],
             [
              0.8888888888888888,
              "#fdca26"
             ],
             [
              1,
              "#f0f921"
             ]
            ],
            "type": "contour"
           }
          ],
          "contourcarpet": [
           {
            "colorbar": {
             "outlinewidth": 0,
             "ticks": ""
            },
            "type": "contourcarpet"
           }
          ],
          "heatmap": [
           {
            "colorbar": {
             "outlinewidth": 0,
             "ticks": ""
            },
            "colorscale": [
             [
              0,
              "#0d0887"
             ],
             [
              0.1111111111111111,
              "#46039f"
             ],
             [
              0.2222222222222222,
              "#7201a8"
             ],
             [
              0.3333333333333333,
              "#9c179e"
             ],
             [
              0.4444444444444444,
              "#bd3786"
             ],
             [
              0.5555555555555556,
              "#d8576b"
             ],
             [
              0.6666666666666666,
              "#ed7953"
             ],
             [
              0.7777777777777778,
              "#fb9f3a"
             ],
             [
              0.8888888888888888,
              "#fdca26"
             ],
             [
              1,
              "#f0f921"
             ]
            ],
            "type": "heatmap"
           }
          ],
          "heatmapgl": [
           {
            "colorbar": {
             "outlinewidth": 0,
             "ticks": ""
            },
            "colorscale": [
             [
              0,
              "#0d0887"
             ],
             [
              0.1111111111111111,
              "#46039f"
             ],
             [
              0.2222222222222222,
              "#7201a8"
             ],
             [
              0.3333333333333333,
              "#9c179e"
             ],
             [
              0.4444444444444444,
              "#bd3786"
             ],
             [
              0.5555555555555556,
              "#d8576b"
             ],
             [
              0.6666666666666666,
              "#ed7953"
             ],
             [
              0.7777777777777778,
              "#fb9f3a"
             ],
             [
              0.8888888888888888,
              "#fdca26"
             ],
             [
              1,
              "#f0f921"
             ]
            ],
            "type": "heatmapgl"
           }
          ],
          "histogram": [
           {
            "marker": {
             "pattern": {
              "fillmode": "overlay",
              "size": 10,
              "solidity": 0.2
             }
            },
            "type": "histogram"
           }
          ],
          "histogram2d": [
           {
            "colorbar": {
             "outlinewidth": 0,
             "ticks": ""
            },
            "colorscale": [
             [
              0,
              "#0d0887"
             ],
             [
              0.1111111111111111,
              "#46039f"
             ],
             [
              0.2222222222222222,
              "#7201a8"
             ],
             [
              0.3333333333333333,
              "#9c179e"
             ],
             [
              0.4444444444444444,
              "#bd3786"
             ],
             [
              0.5555555555555556,
              "#d8576b"
             ],
             [
              0.6666666666666666,
              "#ed7953"
             ],
             [
              0.7777777777777778,
              "#fb9f3a"
             ],
             [
              0.8888888888888888,
              "#fdca26"
             ],
             [
              1,
              "#f0f921"
             ]
            ],
            "type": "histogram2d"
           }
          ],
          "histogram2dcontour": [
           {
            "colorbar": {
             "outlinewidth": 0,
             "ticks": ""
            },
            "colorscale": [
             [
              0,
              "#0d0887"
             ],
             [
              0.1111111111111111,
              "#46039f"
             ],
             [
              0.2222222222222222,
              "#7201a8"
             ],
             [
              0.3333333333333333,
              "#9c179e"
             ],
             [
              0.4444444444444444,
              "#bd3786"
             ],
             [
              0.5555555555555556,
              "#d8576b"
             ],
             [
              0.6666666666666666,
              "#ed7953"
             ],
             [
              0.7777777777777778,
              "#fb9f3a"
             ],
             [
              0.8888888888888888,
              "#fdca26"
             ],
             [
              1,
              "#f0f921"
             ]
            ],
            "type": "histogram2dcontour"
           }
          ],
          "mesh3d": [
           {
            "colorbar": {
             "outlinewidth": 0,
             "ticks": ""
            },
            "type": "mesh3d"
           }
          ],
          "parcoords": [
           {
            "line": {
             "colorbar": {
              "outlinewidth": 0,
              "ticks": ""
             }
            },
            "type": "parcoords"
           }
          ],
          "pie": [
           {
            "automargin": true,
            "type": "pie"
           }
          ],
          "scatter": [
           {
            "fillpattern": {
             "fillmode": "overlay",
             "size": 10,
             "solidity": 0.2
            },
            "type": "scatter"
           }
          ],
          "scatter3d": [
           {
            "line": {
             "colorbar": {
              "outlinewidth": 0,
              "ticks": ""
             }
            },
            "marker": {
             "colorbar": {
              "outlinewidth": 0,
              "ticks": ""
             }
            },
            "type": "scatter3d"
           }
          ],
          "scattercarpet": [
           {
            "marker": {
             "colorbar": {
              "outlinewidth": 0,
              "ticks": ""
             }
            },
            "type": "scattercarpet"
           }
          ],
          "scattergeo": [
           {
            "marker": {
             "colorbar": {
              "outlinewidth": 0,
              "ticks": ""
             }
            },
            "type": "scattergeo"
           }
          ],
          "scattergl": [
           {
            "marker": {
             "colorbar": {
              "outlinewidth": 0,
              "ticks": ""
             }
            },
            "type": "scattergl"
           }
          ],
          "scattermapbox": [
           {
            "marker": {
             "colorbar": {
              "outlinewidth": 0,
              "ticks": ""
             }
            },
            "type": "scattermapbox"
           }
          ],
          "scatterpolar": [
           {
            "marker": {
             "colorbar": {
              "outlinewidth": 0,
              "ticks": ""
             }
            },
            "type": "scatterpolar"
           }
          ],
          "scatterpolargl": [
           {
            "marker": {
             "colorbar": {
              "outlinewidth": 0,
              "ticks": ""
             }
            },
            "type": "scatterpolargl"
           }
          ],
          "scatterternary": [
           {
            "marker": {
             "colorbar": {
              "outlinewidth": 0,
              "ticks": ""
             }
            },
            "type": "scatterternary"
           }
          ],
          "surface": [
           {
            "colorbar": {
             "outlinewidth": 0,
             "ticks": ""
            },
            "colorscale": [
             [
              0,
              "#0d0887"
             ],
             [
              0.1111111111111111,
              "#46039f"
             ],
             [
              0.2222222222222222,
              "#7201a8"
             ],
             [
              0.3333333333333333,
              "#9c179e"
             ],
             [
              0.4444444444444444,
              "#bd3786"
             ],
             [
              0.5555555555555556,
              "#d8576b"
             ],
             [
              0.6666666666666666,
              "#ed7953"
             ],
             [
              0.7777777777777778,
              "#fb9f3a"
             ],
             [
              0.8888888888888888,
              "#fdca26"
             ],
             [
              1,
              "#f0f921"
             ]
            ],
            "type": "surface"
           }
          ],
          "table": [
           {
            "cells": {
             "fill": {
              "color": "#EBF0F8"
             },
             "line": {
              "color": "white"
             }
            },
            "header": {
             "fill": {
              "color": "#C8D4E3"
             },
             "line": {
              "color": "white"
             }
            },
            "type": "table"
           }
          ]
         },
         "layout": {
          "annotationdefaults": {
           "arrowcolor": "#2a3f5f",
           "arrowhead": 0,
           "arrowwidth": 1
          },
          "autotypenumbers": "strict",
          "coloraxis": {
           "colorbar": {
            "outlinewidth": 0,
            "ticks": ""
           }
          },
          "colorscale": {
           "diverging": [
            [
             0,
             "#8e0152"
            ],
            [
             0.1,
             "#c51b7d"
            ],
            [
             0.2,
             "#de77ae"
            ],
            [
             0.3,
             "#f1b6da"
            ],
            [
             0.4,
             "#fde0ef"
            ],
            [
             0.5,
             "#f7f7f7"
            ],
            [
             0.6,
             "#e6f5d0"
            ],
            [
             0.7,
             "#b8e186"
            ],
            [
             0.8,
             "#7fbc41"
            ],
            [
             0.9,
             "#4d9221"
            ],
            [
             1,
             "#276419"
            ]
           ],
           "sequential": [
            [
             0,
             "#0d0887"
            ],
            [
             0.1111111111111111,
             "#46039f"
            ],
            [
             0.2222222222222222,
             "#7201a8"
            ],
            [
             0.3333333333333333,
             "#9c179e"
            ],
            [
             0.4444444444444444,
             "#bd3786"
            ],
            [
             0.5555555555555556,
             "#d8576b"
            ],
            [
             0.6666666666666666,
             "#ed7953"
            ],
            [
             0.7777777777777778,
             "#fb9f3a"
            ],
            [
             0.8888888888888888,
             "#fdca26"
            ],
            [
             1,
             "#f0f921"
            ]
           ],
           "sequentialminus": [
            [
             0,
             "#0d0887"
            ],
            [
             0.1111111111111111,
             "#46039f"
            ],
            [
             0.2222222222222222,
             "#7201a8"
            ],
            [
             0.3333333333333333,
             "#9c179e"
            ],
            [
             0.4444444444444444,
             "#bd3786"
            ],
            [
             0.5555555555555556,
             "#d8576b"
            ],
            [
             0.6666666666666666,
             "#ed7953"
            ],
            [
             0.7777777777777778,
             "#fb9f3a"
            ],
            [
             0.8888888888888888,
             "#fdca26"
            ],
            [
             1,
             "#f0f921"
            ]
           ]
          },
          "colorway": [
           "#636efa",
           "#EF553B",
           "#00cc96",
           "#ab63fa",
           "#FFA15A",
           "#19d3f3",
           "#FF6692",
           "#B6E880",
           "#FF97FF",
           "#FECB52"
          ],
          "font": {
           "color": "#2a3f5f"
          },
          "geo": {
           "bgcolor": "white",
           "lakecolor": "white",
           "landcolor": "#E5ECF6",
           "showlakes": true,
           "showland": true,
           "subunitcolor": "white"
          },
          "hoverlabel": {
           "align": "left"
          },
          "hovermode": "closest",
          "mapbox": {
           "style": "light"
          },
          "paper_bgcolor": "white",
          "plot_bgcolor": "#E5ECF6",
          "polar": {
           "angularaxis": {
            "gridcolor": "white",
            "linecolor": "white",
            "ticks": ""
           },
           "bgcolor": "#E5ECF6",
           "radialaxis": {
            "gridcolor": "white",
            "linecolor": "white",
            "ticks": ""
           }
          },
          "scene": {
           "xaxis": {
            "backgroundcolor": "#E5ECF6",
            "gridcolor": "white",
            "gridwidth": 2,
            "linecolor": "white",
            "showbackground": true,
            "ticks": "",
            "zerolinecolor": "white"
           },
           "yaxis": {
            "backgroundcolor": "#E5ECF6",
            "gridcolor": "white",
            "gridwidth": 2,
            "linecolor": "white",
            "showbackground": true,
            "ticks": "",
            "zerolinecolor": "white"
           },
           "zaxis": {
            "backgroundcolor": "#E5ECF6",
            "gridcolor": "white",
            "gridwidth": 2,
            "linecolor": "white",
            "showbackground": true,
            "ticks": "",
            "zerolinecolor": "white"
           }
          },
          "shapedefaults": {
           "line": {
            "color": "#2a3f5f"
           }
          },
          "ternary": {
           "aaxis": {
            "gridcolor": "white",
            "linecolor": "white",
            "ticks": ""
           },
           "baxis": {
            "gridcolor": "white",
            "linecolor": "white",
            "ticks": ""
           },
           "bgcolor": "#E5ECF6",
           "caxis": {
            "gridcolor": "white",
            "linecolor": "white",
            "ticks": ""
           }
          },
          "title": {
           "x": 0.05
          },
          "xaxis": {
           "automargin": true,
           "gridcolor": "white",
           "linecolor": "white",
           "ticks": "",
           "title": {
            "standoff": 15
           },
           "zerolinecolor": "white",
           "zerolinewidth": 2
          },
          "yaxis": {
           "automargin": true,
           "gridcolor": "white",
           "linecolor": "white",
           "ticks": "",
           "title": {
            "standoff": 15
           },
           "zerolinecolor": "white",
           "zerolinewidth": 2
          }
         }
        },
        "title": {
         "text": "Median House Prices, CPI Adjusted GBP (1995)"
        },
        "width": 800,
        "xaxis": {
         "anchor": "y",
         "domain": [
          0,
          1
         ],
         "title": {
          "text": "Year"
         }
        },
        "yaxis": {
         "anchor": "x",
         "domain": [
          0,
          1
         ],
         "title": {
          "text": "Relative Price"
         }
        }
       }
      }
     },
     "metadata": {},
     "output_type": "display_data"
    }
   ],
   "source": [
    "df_median_screened = df_median.transpose().drop(['East of England','Yorkshire and the Humber','South West','West Midlands','Wales'],axis=1)\n",
    "\n",
    "gbp_cpi = (\n",
    "    fred.Fred_Pull('GBRCPIALLMINMEI',\n",
    "                   '899901ba06f09b9961a73113b1834a15').index(1995)\n",
    "                   .resample('YE').mean()\n",
    "                   .assign(year=lambda df: df.index.year).set_index('year')\n",
    ")\n",
    "\n",
    "import plotly.express as px\n",
    "fig = px.line(df_median_screened.mul(gbp_cpi.values,axis=1)\n",
    "              .apply(lambda x: x/x.iloc[0],axis=0),\n",
    "              labels={\n",
    "                  'index':'Year',\n",
    "                  'value':'Relative Price'\n",
    "              },\n",
    "              width=800, height=600,\n",
    "              title='Median House Prices, CPI Adjusted GBP (1995)')\n",
    "\n",
    "fig.update_layout(legend=dict(\n",
    "    title='Region',\n",
    "    yanchor=\"top\",\n",
    "    y=0.99,\n",
    "    xanchor=\"left\",\n",
    "    x=0.01\n",
    "))\n",
    "\n",
    "fig.show()"
   ]
  },
  {
   "cell_type": "code",
   "execution_count": 59,
   "metadata": {},
   "outputs": [
    {
     "data": {
      "application/vnd.plotly.v1+json": {
       "config": {
        "plotlyServerURL": "https://plot.ly"
       },
       "data": [
        {
         "hovertemplate": "variable=East Midlands<br>Year=%{x}<br>Relative Price=%{y}<extra></extra>",
         "legendgroup": "East Midlands",
         "line": {
          "color": "#636efa",
          "dash": "solid"
         },
         "marker": {
          "symbol": "circle"
         },
         "mode": "lines",
         "name": "East Midlands",
         "orientation": "v",
         "showlegend": true,
         "type": "scatter",
         "x": [
          2007,
          2008,
          2009,
          2010,
          2011,
          2012,
          2013,
          2014,
          2015,
          2016,
          2017,
          2018,
          2019,
          2020,
          2021,
          2022,
          2023,
          2024
         ],
         "xaxis": "x",
         "y": [
          1,
          0.9226328841028507,
          0.885105458907697,
          0.8891852602984321,
          0.8377184725633205,
          0.8286750294713753,
          0.821832796533983,
          0.8621360630489968,
          0.9079740488816771,
          0.9417432079975847,
          0.982291023461722,
          1.0064967688298743,
          1.016022307835777,
          1.0642805351127376,
          1.1365279190921564,
          1.1471093384901814,
          1.0532865472543764,
          1.003678673498571
         ],
         "yaxis": "y"
        },
        {
         "hovertemplate": "variable=London<br>Year=%{x}<br>Relative Price=%{y}<extra></extra>",
         "legendgroup": "London",
         "line": {
          "color": "#EF553B",
          "dash": "solid"
         },
         "marker": {
          "symbol": "circle"
         },
         "mode": "lines",
         "name": "London",
         "orientation": "v",
         "showlegend": true,
         "type": "scatter",
         "x": [
          2007,
          2008,
          2009,
          2010,
          2011,
          2012,
          2013,
          2014,
          2015,
          2016,
          2017,
          2018,
          2019,
          2020,
          2021,
          2022,
          2023,
          2024
         ],
         "xaxis": "x",
         "y": [
          1,
          0.9513968425632677,
          0.9005614618515859,
          1.0104792558886941,
          0.9909285810435323,
          0.98977964753359,
          1.0417656987786217,
          1.150827450992165,
          1.260631191387148,
          1.364111618774241,
          1.3760052090306545,
          1.3451331290342732,
          1.3368206260642936,
          1.4007752250421877,
          1.4015887796697826,
          1.3552475324399385,
          1.2559170309831127,
          1.2110574873174524
         ],
         "yaxis": "y"
        },
        {
         "hovertemplate": "variable=North East<br>Year=%{x}<br>Relative Price=%{y}<extra></extra>",
         "legendgroup": "North East",
         "line": {
          "color": "#00cc96",
          "dash": "solid"
         },
         "marker": {
          "symbol": "circle"
         },
         "mode": "lines",
         "name": "North East",
         "orientation": "v",
         "showlegend": true,
         "type": "scatter",
         "x": [
          2007,
          2008,
          2009,
          2010,
          2011,
          2012,
          2013,
          2014,
          2015,
          2016,
          2017,
          2018,
          2019,
          2020,
          2021,
          2022,
          2023,
          2024
         ],
         "xaxis": "x",
         "y": [
          1,
          0.946374102948443,
          0.928056154646075,
          0.9205959156541511,
          0.850113286698186,
          0.8499985218002749,
          0.8309376496734264,
          0.8463363362669181,
          0.8636312670192211,
          0.861767835503937,
          0.8534352489207814,
          0.8509668924317915,
          0.8452519848173642,
          0.8588049094129843,
          0.8835725448369892,
          0.8361665140113678,
          0.7758692563433529,
          0.7205530212498746
         ],
         "yaxis": "y"
        },
        {
         "hovertemplate": "variable=North West<br>Year=%{x}<br>Relative Price=%{y}<extra></extra>",
         "legendgroup": "North West",
         "line": {
          "color": "#ab63fa",
          "dash": "solid"
         },
         "marker": {
          "symbol": "circle"
         },
         "mode": "lines",
         "name": "North West",
         "orientation": "v",
         "showlegend": true,
         "type": "scatter",
         "x": [
          2007,
          2008,
          2009,
          2010,
          2011,
          2012,
          2013,
          2014,
          2015,
          2016,
          2017,
          2018,
          2019,
          2020,
          2021,
          2022,
          2023,
          2024
         ],
         "xaxis": "x",
         "y": [
          1,
          0.9302958532835246,
          0.9126401298467794,
          0.8904627674361699,
          0.8376408772990965,
          0.8358791194065319,
          0.8171348691521129,
          0.8364081775217918,
          0.8642032032499434,
          0.8861587149255906,
          0.8938850684823073,
          0.9029575069792458,
          0.9161457755177617,
          0.9638377709468368,
          1.0233498129654441,
          1.0000664712379232,
          0.9118580452923906,
          0.8879936117337641
         ],
         "yaxis": "y"
        },
        {
         "hovertemplate": "variable=South East<br>Year=%{x}<br>Relative Price=%{y}<extra></extra>",
         "legendgroup": "South East",
         "line": {
          "color": "#FFA15A",
          "dash": "solid"
         },
         "marker": {
          "symbol": "circle"
         },
         "mode": "lines",
         "name": "South East",
         "orientation": "v",
         "showlegend": true,
         "type": "scatter",
         "x": [
          2007,
          2008,
          2009,
          2010,
          2011,
          2012,
          2013,
          2014,
          2015,
          2016,
          2017,
          2018,
          2019,
          2020,
          2021,
          2022,
          2023,
          2024
         ],
         "xaxis": "x",
         "y": [
          1,
          0.9443482585589384,
          0.8743819211056024,
          0.9624026669208753,
          0.9024183705068051,
          0.9034092419793215,
          0.9062899746144488,
          0.9499476669204547,
          1.0225876015723236,
          1.0949020898206918,
          1.1334465377714051,
          1.1339297982263687,
          1.1241997945544162,
          1.1827225022893895,
          1.2048407888079913,
          1.189419291586429,
          1.098326311438093,
          1.0466416849467484
         ],
         "yaxis": "y"
        }
       ],
       "layout": {
        "height": 600,
        "legend": {
         "title": {
          "text": "Region"
         },
         "tracegroupgap": 0,
         "x": 0.01,
         "xanchor": "left",
         "y": 0.99,
         "yanchor": "top"
        },
        "template": {
         "data": {
          "bar": [
           {
            "error_x": {
             "color": "#2a3f5f"
            },
            "error_y": {
             "color": "#2a3f5f"
            },
            "marker": {
             "line": {
              "color": "#E5ECF6",
              "width": 0.5
             },
             "pattern": {
              "fillmode": "overlay",
              "size": 10,
              "solidity": 0.2
             }
            },
            "type": "bar"
           }
          ],
          "barpolar": [
           {
            "marker": {
             "line": {
              "color": "#E5ECF6",
              "width": 0.5
             },
             "pattern": {
              "fillmode": "overlay",
              "size": 10,
              "solidity": 0.2
             }
            },
            "type": "barpolar"
           }
          ],
          "carpet": [
           {
            "aaxis": {
             "endlinecolor": "#2a3f5f",
             "gridcolor": "white",
             "linecolor": "white",
             "minorgridcolor": "white",
             "startlinecolor": "#2a3f5f"
            },
            "baxis": {
             "endlinecolor": "#2a3f5f",
             "gridcolor": "white",
             "linecolor": "white",
             "minorgridcolor": "white",
             "startlinecolor": "#2a3f5f"
            },
            "type": "carpet"
           }
          ],
          "choropleth": [
           {
            "colorbar": {
             "outlinewidth": 0,
             "ticks": ""
            },
            "type": "choropleth"
           }
          ],
          "contour": [
           {
            "colorbar": {
             "outlinewidth": 0,
             "ticks": ""
            },
            "colorscale": [
             [
              0,
              "#0d0887"
             ],
             [
              0.1111111111111111,
              "#46039f"
             ],
             [
              0.2222222222222222,
              "#7201a8"
             ],
             [
              0.3333333333333333,
              "#9c179e"
             ],
             [
              0.4444444444444444,
              "#bd3786"
             ],
             [
              0.5555555555555556,
              "#d8576b"
             ],
             [
              0.6666666666666666,
              "#ed7953"
             ],
             [
              0.7777777777777778,
              "#fb9f3a"
             ],
             [
              0.8888888888888888,
              "#fdca26"
             ],
             [
              1,
              "#f0f921"
             ]
            ],
            "type": "contour"
           }
          ],
          "contourcarpet": [
           {
            "colorbar": {
             "outlinewidth": 0,
             "ticks": ""
            },
            "type": "contourcarpet"
           }
          ],
          "heatmap": [
           {
            "colorbar": {
             "outlinewidth": 0,
             "ticks": ""
            },
            "colorscale": [
             [
              0,
              "#0d0887"
             ],
             [
              0.1111111111111111,
              "#46039f"
             ],
             [
              0.2222222222222222,
              "#7201a8"
             ],
             [
              0.3333333333333333,
              "#9c179e"
             ],
             [
              0.4444444444444444,
              "#bd3786"
             ],
             [
              0.5555555555555556,
              "#d8576b"
             ],
             [
              0.6666666666666666,
              "#ed7953"
             ],
             [
              0.7777777777777778,
              "#fb9f3a"
             ],
             [
              0.8888888888888888,
              "#fdca26"
             ],
             [
              1,
              "#f0f921"
             ]
            ],
            "type": "heatmap"
           }
          ],
          "heatmapgl": [
           {
            "colorbar": {
             "outlinewidth": 0,
             "ticks": ""
            },
            "colorscale": [
             [
              0,
              "#0d0887"
             ],
             [
              0.1111111111111111,
              "#46039f"
             ],
             [
              0.2222222222222222,
              "#7201a8"
             ],
             [
              0.3333333333333333,
              "#9c179e"
             ],
             [
              0.4444444444444444,
              "#bd3786"
             ],
             [
              0.5555555555555556,
              "#d8576b"
             ],
             [
              0.6666666666666666,
              "#ed7953"
             ],
             [
              0.7777777777777778,
              "#fb9f3a"
             ],
             [
              0.8888888888888888,
              "#fdca26"
             ],
             [
              1,
              "#f0f921"
             ]
            ],
            "type": "heatmapgl"
           }
          ],
          "histogram": [
           {
            "marker": {
             "pattern": {
              "fillmode": "overlay",
              "size": 10,
              "solidity": 0.2
             }
            },
            "type": "histogram"
           }
          ],
          "histogram2d": [
           {
            "colorbar": {
             "outlinewidth": 0,
             "ticks": ""
            },
            "colorscale": [
             [
              0,
              "#0d0887"
             ],
             [
              0.1111111111111111,
              "#46039f"
             ],
             [
              0.2222222222222222,
              "#7201a8"
             ],
             [
              0.3333333333333333,
              "#9c179e"
             ],
             [
              0.4444444444444444,
              "#bd3786"
             ],
             [
              0.5555555555555556,
              "#d8576b"
             ],
             [
              0.6666666666666666,
              "#ed7953"
             ],
             [
              0.7777777777777778,
              "#fb9f3a"
             ],
             [
              0.8888888888888888,
              "#fdca26"
             ],
             [
              1,
              "#f0f921"
             ]
            ],
            "type": "histogram2d"
           }
          ],
          "histogram2dcontour": [
           {
            "colorbar": {
             "outlinewidth": 0,
             "ticks": ""
            },
            "colorscale": [
             [
              0,
              "#0d0887"
             ],
             [
              0.1111111111111111,
              "#46039f"
             ],
             [
              0.2222222222222222,
              "#7201a8"
             ],
             [
              0.3333333333333333,
              "#9c179e"
             ],
             [
              0.4444444444444444,
              "#bd3786"
             ],
             [
              0.5555555555555556,
              "#d8576b"
             ],
             [
              0.6666666666666666,
              "#ed7953"
             ],
             [
              0.7777777777777778,
              "#fb9f3a"
             ],
             [
              0.8888888888888888,
              "#fdca26"
             ],
             [
              1,
              "#f0f921"
             ]
            ],
            "type": "histogram2dcontour"
           }
          ],
          "mesh3d": [
           {
            "colorbar": {
             "outlinewidth": 0,
             "ticks": ""
            },
            "type": "mesh3d"
           }
          ],
          "parcoords": [
           {
            "line": {
             "colorbar": {
              "outlinewidth": 0,
              "ticks": ""
             }
            },
            "type": "parcoords"
           }
          ],
          "pie": [
           {
            "automargin": true,
            "type": "pie"
           }
          ],
          "scatter": [
           {
            "fillpattern": {
             "fillmode": "overlay",
             "size": 10,
             "solidity": 0.2
            },
            "type": "scatter"
           }
          ],
          "scatter3d": [
           {
            "line": {
             "colorbar": {
              "outlinewidth": 0,
              "ticks": ""
             }
            },
            "marker": {
             "colorbar": {
              "outlinewidth": 0,
              "ticks": ""
             }
            },
            "type": "scatter3d"
           }
          ],
          "scattercarpet": [
           {
            "marker": {
             "colorbar": {
              "outlinewidth": 0,
              "ticks": ""
             }
            },
            "type": "scattercarpet"
           }
          ],
          "scattergeo": [
           {
            "marker": {
             "colorbar": {
              "outlinewidth": 0,
              "ticks": ""
             }
            },
            "type": "scattergeo"
           }
          ],
          "scattergl": [
           {
            "marker": {
             "colorbar": {
              "outlinewidth": 0,
              "ticks": ""
             }
            },
            "type": "scattergl"
           }
          ],
          "scattermapbox": [
           {
            "marker": {
             "colorbar": {
              "outlinewidth": 0,
              "ticks": ""
             }
            },
            "type": "scattermapbox"
           }
          ],
          "scatterpolar": [
           {
            "marker": {
             "colorbar": {
              "outlinewidth": 0,
              "ticks": ""
             }
            },
            "type": "scatterpolar"
           }
          ],
          "scatterpolargl": [
           {
            "marker": {
             "colorbar": {
              "outlinewidth": 0,
              "ticks": ""
             }
            },
            "type": "scatterpolargl"
           }
          ],
          "scatterternary": [
           {
            "marker": {
             "colorbar": {
              "outlinewidth": 0,
              "ticks": ""
             }
            },
            "type": "scatterternary"
           }
          ],
          "surface": [
           {
            "colorbar": {
             "outlinewidth": 0,
             "ticks": ""
            },
            "colorscale": [
             [
              0,
              "#0d0887"
             ],
             [
              0.1111111111111111,
              "#46039f"
             ],
             [
              0.2222222222222222,
              "#7201a8"
             ],
             [
              0.3333333333333333,
              "#9c179e"
             ],
             [
              0.4444444444444444,
              "#bd3786"
             ],
             [
              0.5555555555555556,
              "#d8576b"
             ],
             [
              0.6666666666666666,
              "#ed7953"
             ],
             [
              0.7777777777777778,
              "#fb9f3a"
             ],
             [
              0.8888888888888888,
              "#fdca26"
             ],
             [
              1,
              "#f0f921"
             ]
            ],
            "type": "surface"
           }
          ],
          "table": [
           {
            "cells": {
             "fill": {
              "color": "#EBF0F8"
             },
             "line": {
              "color": "white"
             }
            },
            "header": {
             "fill": {
              "color": "#C8D4E3"
             },
             "line": {
              "color": "white"
             }
            },
            "type": "table"
           }
          ]
         },
         "layout": {
          "annotationdefaults": {
           "arrowcolor": "#2a3f5f",
           "arrowhead": 0,
           "arrowwidth": 1
          },
          "autotypenumbers": "strict",
          "coloraxis": {
           "colorbar": {
            "outlinewidth": 0,
            "ticks": ""
           }
          },
          "colorscale": {
           "diverging": [
            [
             0,
             "#8e0152"
            ],
            [
             0.1,
             "#c51b7d"
            ],
            [
             0.2,
             "#de77ae"
            ],
            [
             0.3,
             "#f1b6da"
            ],
            [
             0.4,
             "#fde0ef"
            ],
            [
             0.5,
             "#f7f7f7"
            ],
            [
             0.6,
             "#e6f5d0"
            ],
            [
             0.7,
             "#b8e186"
            ],
            [
             0.8,
             "#7fbc41"
            ],
            [
             0.9,
             "#4d9221"
            ],
            [
             1,
             "#276419"
            ]
           ],
           "sequential": [
            [
             0,
             "#0d0887"
            ],
            [
             0.1111111111111111,
             "#46039f"
            ],
            [
             0.2222222222222222,
             "#7201a8"
            ],
            [
             0.3333333333333333,
             "#9c179e"
            ],
            [
             0.4444444444444444,
             "#bd3786"
            ],
            [
             0.5555555555555556,
             "#d8576b"
            ],
            [
             0.6666666666666666,
             "#ed7953"
            ],
            [
             0.7777777777777778,
             "#fb9f3a"
            ],
            [
             0.8888888888888888,
             "#fdca26"
            ],
            [
             1,
             "#f0f921"
            ]
           ],
           "sequentialminus": [
            [
             0,
             "#0d0887"
            ],
            [
             0.1111111111111111,
             "#46039f"
            ],
            [
             0.2222222222222222,
             "#7201a8"
            ],
            [
             0.3333333333333333,
             "#9c179e"
            ],
            [
             0.4444444444444444,
             "#bd3786"
            ],
            [
             0.5555555555555556,
             "#d8576b"
            ],
            [
             0.6666666666666666,
             "#ed7953"
            ],
            [
             0.7777777777777778,
             "#fb9f3a"
            ],
            [
             0.8888888888888888,
             "#fdca26"
            ],
            [
             1,
             "#f0f921"
            ]
           ]
          },
          "colorway": [
           "#636efa",
           "#EF553B",
           "#00cc96",
           "#ab63fa",
           "#FFA15A",
           "#19d3f3",
           "#FF6692",
           "#B6E880",
           "#FF97FF",
           "#FECB52"
          ],
          "font": {
           "color": "#2a3f5f"
          },
          "geo": {
           "bgcolor": "white",
           "lakecolor": "white",
           "landcolor": "#E5ECF6",
           "showlakes": true,
           "showland": true,
           "subunitcolor": "white"
          },
          "hoverlabel": {
           "align": "left"
          },
          "hovermode": "closest",
          "mapbox": {
           "style": "light"
          },
          "paper_bgcolor": "white",
          "plot_bgcolor": "#E5ECF6",
          "polar": {
           "angularaxis": {
            "gridcolor": "white",
            "linecolor": "white",
            "ticks": ""
           },
           "bgcolor": "#E5ECF6",
           "radialaxis": {
            "gridcolor": "white",
            "linecolor": "white",
            "ticks": ""
           }
          },
          "scene": {
           "xaxis": {
            "backgroundcolor": "#E5ECF6",
            "gridcolor": "white",
            "gridwidth": 2,
            "linecolor": "white",
            "showbackground": true,
            "ticks": "",
            "zerolinecolor": "white"
           },
           "yaxis": {
            "backgroundcolor": "#E5ECF6",
            "gridcolor": "white",
            "gridwidth": 2,
            "linecolor": "white",
            "showbackground": true,
            "ticks": "",
            "zerolinecolor": "white"
           },
           "zaxis": {
            "backgroundcolor": "#E5ECF6",
            "gridcolor": "white",
            "gridwidth": 2,
            "linecolor": "white",
            "showbackground": true,
            "ticks": "",
            "zerolinecolor": "white"
           }
          },
          "shapedefaults": {
           "line": {
            "color": "#2a3f5f"
           }
          },
          "ternary": {
           "aaxis": {
            "gridcolor": "white",
            "linecolor": "white",
            "ticks": ""
           },
           "baxis": {
            "gridcolor": "white",
            "linecolor": "white",
            "ticks": ""
           },
           "bgcolor": "#E5ECF6",
           "caxis": {
            "gridcolor": "white",
            "linecolor": "white",
            "ticks": ""
           }
          },
          "title": {
           "x": 0.05
          },
          "xaxis": {
           "automargin": true,
           "gridcolor": "white",
           "linecolor": "white",
           "ticks": "",
           "title": {
            "standoff": 15
           },
           "zerolinecolor": "white",
           "zerolinewidth": 2
          },
          "yaxis": {
           "automargin": true,
           "gridcolor": "white",
           "linecolor": "white",
           "ticks": "",
           "title": {
            "standoff": 15
           },
           "zerolinecolor": "white",
           "zerolinewidth": 2
          }
         }
        },
        "title": {
         "text": "Median House Prices, CPI Adjusted GBP (2007)"
        },
        "width": 800,
        "xaxis": {
         "anchor": "y",
         "domain": [
          0,
          1
         ],
         "title": {
          "text": "Year"
         }
        },
        "yaxis": {
         "anchor": "x",
         "domain": [
          0,
          1
         ],
         "title": {
          "text": "Relative Price"
         }
        }
       }
      }
     },
     "metadata": {},
     "output_type": "display_data"
    }
   ],
   "source": [
    "# Post-GFC\n",
    "\n",
    "gbp_cpi = (\n",
    "    fred.Fred_Pull('GBRCPIALLMINMEI',\n",
    "                   '899901ba06f09b9961a73113b1834a15').index(2007)\n",
    "                   .resample('YE').mean()\n",
    "                   .assign(year=lambda df: df.index.year).set_index('year')\n",
    ")\n",
    "\n",
    "import plotly.express as px\n",
    "fig = px.line(df_median_screened.loc[df_median_screened.index>2006].mul(gbp_cpi.values,axis=1).apply(lambda x: x/x.iloc[0],axis=0),\n",
    "              labels={\n",
    "                  'index':'Year',\n",
    "                  'value':'Relative Price'\n",
    "              },\n",
    "              width=800, height=600,\n",
    "              title='Median House Prices, CPI Adjusted GBP (2007)')\n",
    "\n",
    "fig.update_layout(legend=dict(\n",
    "    title='Region',\n",
    "    yanchor=\"top\",\n",
    "    y=0.99,\n",
    "    xanchor=\"left\",\n",
    "    x=0.01\n",
    "))\n",
    "\n",
    "fig.show()"
   ]
  },
  {
   "cell_type": "code",
   "execution_count": 77,
   "metadata": {},
   "outputs": [],
   "source": [
    "us_cpi = (\n",
    "    fred.Fred_Pull('CPIAUCSL',\n",
    "                   '899901ba06f09b9961a73113b1834a15').index(2007)\n",
    "                   .resample('YE').mean()\n",
    "                   .assign(year=lambda df: df.index.year).set_index('year')\n",
    ")"
   ]
  },
  {
   "cell_type": "code",
   "execution_count": 80,
   "metadata": {},
   "outputs": [
    {
     "data": {
      "text/html": [
       "<div>\n",
       "<style scoped>\n",
       "    .dataframe tbody tr th:only-of-type {\n",
       "        vertical-align: middle;\n",
       "    }\n",
       "\n",
       "    .dataframe tbody tr th {\n",
       "        vertical-align: top;\n",
       "    }\n",
       "\n",
       "    .dataframe thead th {\n",
       "        text-align: right;\n",
       "    }\n",
       "</style>\n",
       "<table border=\"1\" class=\"dataframe\">\n",
       "  <thead>\n",
       "    <tr style=\"text-align: right;\">\n",
       "      <th></th>\n",
       "      <th>CPIAUCSL</th>\n",
       "    </tr>\n",
       "    <tr>\n",
       "      <th>year</th>\n",
       "      <th></th>\n",
       "    </tr>\n",
       "  </thead>\n",
       "  <tbody>\n",
       "    <tr>\n",
       "      <th>2007</th>\n",
       "      <td>0.981281</td>\n",
       "    </tr>\n",
       "    <tr>\n",
       "      <th>2008</th>\n",
       "      <td>0.945249</td>\n",
       "    </tr>\n",
       "    <tr>\n",
       "      <th>2009</th>\n",
       "      <td>0.948210</td>\n",
       "    </tr>\n",
       "    <tr>\n",
       "      <th>2010</th>\n",
       "      <td>0.932892</td>\n",
       "    </tr>\n",
       "    <tr>\n",
       "      <th>2011</th>\n",
       "      <td>0.904542</td>\n",
       "    </tr>\n",
       "    <tr>\n",
       "      <th>2012</th>\n",
       "      <td>0.886131</td>\n",
       "    </tr>\n",
       "    <tr>\n",
       "      <th>2013</th>\n",
       "      <td>0.873315</td>\n",
       "    </tr>\n",
       "    <tr>\n",
       "      <th>2014</th>\n",
       "      <td>0.859426</td>\n",
       "    </tr>\n",
       "    <tr>\n",
       "      <th>2015</th>\n",
       "      <td>0.858396</td>\n",
       "    </tr>\n",
       "    <tr>\n",
       "      <th>2016</th>\n",
       "      <td>0.847676</td>\n",
       "    </tr>\n",
       "    <tr>\n",
       "      <th>2017</th>\n",
       "      <td>0.829974</td>\n",
       "    </tr>\n",
       "    <tr>\n",
       "      <th>2018</th>\n",
       "      <td>0.810206</td>\n",
       "    </tr>\n",
       "    <tr>\n",
       "      <th>2019</th>\n",
       "      <td>0.795790</td>\n",
       "    </tr>\n",
       "    <tr>\n",
       "      <th>2020</th>\n",
       "      <td>0.785975</td>\n",
       "    </tr>\n",
       "    <tr>\n",
       "      <th>2021</th>\n",
       "      <td>0.751114</td>\n",
       "    </tr>\n",
       "    <tr>\n",
       "      <th>2022</th>\n",
       "      <td>0.695461</td>\n",
       "    </tr>\n",
       "    <tr>\n",
       "      <th>2023</th>\n",
       "      <td>0.667714</td>\n",
       "    </tr>\n",
       "    <tr>\n",
       "      <th>2024</th>\n",
       "      <td>0.650483</td>\n",
       "    </tr>\n",
       "  </tbody>\n",
       "</table>\n",
       "</div>"
      ],
      "text/plain": [
       "      CPIAUCSL\n",
       "year          \n",
       "2007  0.981281\n",
       "2008  0.945249\n",
       "2009  0.948210\n",
       "2010  0.932892\n",
       "2011  0.904542\n",
       "2012  0.886131\n",
       "2013  0.873315\n",
       "2014  0.859426\n",
       "2015  0.858396\n",
       "2016  0.847676\n",
       "2017  0.829974\n",
       "2018  0.810206\n",
       "2019  0.795790\n",
       "2020  0.785975\n",
       "2021  0.751114\n",
       "2022  0.695461\n",
       "2023  0.667714\n",
       "2024  0.650483"
      ]
     },
     "execution_count": 80,
     "metadata": {},
     "output_type": "execute_result"
    }
   ],
   "source": [
    "us_cpi"
   ]
  },
  {
   "cell_type": "code",
   "execution_count": 65,
   "metadata": {},
   "outputs": [],
   "source": [
    "gbpusd_fx = (\n",
    "    fred.Fred_Pull('DEXUSUK',\n",
    "                   '899901ba06f09b9961a73113b1834a15').extract(2007)\n",
    "                   .resample('YE').mean()\n",
    "                   .assign(year=lambda df: df.index.year).set_index('year')\n",
    ")"
   ]
  },
  {
   "cell_type": "code",
   "execution_count": 88,
   "metadata": {},
   "outputs": [],
   "source": [
    "usdreal = (gbpusd_fx[gbpusd_fx.index>2006]\n",
    "           .join(us_cpi)\n",
    "           .assign(real=lambda df:df['DEXUSUK']*df['CPIAUCSL'])\n",
    ")"
   ]
  },
  {
   "cell_type": "code",
   "execution_count": 89,
   "metadata": {},
   "outputs": [
    {
     "data": {
      "text/html": [
       "<div>\n",
       "<style scoped>\n",
       "    .dataframe tbody tr th:only-of-type {\n",
       "        vertical-align: middle;\n",
       "    }\n",
       "\n",
       "    .dataframe tbody tr th {\n",
       "        vertical-align: top;\n",
       "    }\n",
       "\n",
       "    .dataframe thead th {\n",
       "        text-align: right;\n",
       "    }\n",
       "</style>\n",
       "<table border=\"1\" class=\"dataframe\">\n",
       "  <thead>\n",
       "    <tr style=\"text-align: right;\">\n",
       "      <th></th>\n",
       "      <th>DEXUSUK</th>\n",
       "      <th>CPIAUCSL</th>\n",
       "      <th>real</th>\n",
       "    </tr>\n",
       "    <tr>\n",
       "      <th>year</th>\n",
       "      <th></th>\n",
       "      <th></th>\n",
       "      <th></th>\n",
       "    </tr>\n",
       "  </thead>\n",
       "  <tbody>\n",
       "    <tr>\n",
       "      <th>2007</th>\n",
       "      <td>2.001653</td>\n",
       "      <td>0.981281</td>\n",
       "      <td>1.964184</td>\n",
       "    </tr>\n",
       "    <tr>\n",
       "      <th>2008</th>\n",
       "      <td>1.852181</td>\n",
       "      <td>0.945249</td>\n",
       "      <td>1.750773</td>\n",
       "    </tr>\n",
       "    <tr>\n",
       "      <th>2009</th>\n",
       "      <td>1.565189</td>\n",
       "      <td>0.948210</td>\n",
       "      <td>1.484128</td>\n",
       "    </tr>\n",
       "    <tr>\n",
       "      <th>2010</th>\n",
       "      <td>1.546518</td>\n",
       "      <td>0.932892</td>\n",
       "      <td>1.442734</td>\n",
       "    </tr>\n",
       "    <tr>\n",
       "      <th>2011</th>\n",
       "      <td>1.603695</td>\n",
       "      <td>0.904542</td>\n",
       "      <td>1.450609</td>\n",
       "    </tr>\n",
       "    <tr>\n",
       "      <th>2012</th>\n",
       "      <td>1.585550</td>\n",
       "      <td>0.886131</td>\n",
       "      <td>1.405006</td>\n",
       "    </tr>\n",
       "    <tr>\n",
       "      <th>2013</th>\n",
       "      <td>1.564762</td>\n",
       "      <td>0.873315</td>\n",
       "      <td>1.366530</td>\n",
       "    </tr>\n",
       "    <tr>\n",
       "      <th>2014</th>\n",
       "      <td>1.647472</td>\n",
       "      <td>0.859426</td>\n",
       "      <td>1.415880</td>\n",
       "    </tr>\n",
       "    <tr>\n",
       "      <th>2015</th>\n",
       "      <td>1.528523</td>\n",
       "      <td>0.858396</td>\n",
       "      <td>1.312079</td>\n",
       "    </tr>\n",
       "    <tr>\n",
       "      <th>2016</th>\n",
       "      <td>1.354928</td>\n",
       "      <td>0.847676</td>\n",
       "      <td>1.148540</td>\n",
       "    </tr>\n",
       "    <tr>\n",
       "      <th>2017</th>\n",
       "      <td>1.289151</td>\n",
       "      <td>0.829974</td>\n",
       "      <td>1.069961</td>\n",
       "    </tr>\n",
       "    <tr>\n",
       "      <th>2018</th>\n",
       "      <td>1.335714</td>\n",
       "      <td>0.810206</td>\n",
       "      <td>1.082204</td>\n",
       "    </tr>\n",
       "    <tr>\n",
       "      <th>2019</th>\n",
       "      <td>1.277348</td>\n",
       "      <td>0.795790</td>\n",
       "      <td>1.016502</td>\n",
       "    </tr>\n",
       "    <tr>\n",
       "      <th>2020</th>\n",
       "      <td>1.283718</td>\n",
       "      <td>0.785975</td>\n",
       "      <td>1.008971</td>\n",
       "    </tr>\n",
       "    <tr>\n",
       "      <th>2021</th>\n",
       "      <td>1.376067</td>\n",
       "      <td>0.751114</td>\n",
       "      <td>1.033584</td>\n",
       "    </tr>\n",
       "    <tr>\n",
       "      <th>2022</th>\n",
       "      <td>1.237375</td>\n",
       "      <td>0.695461</td>\n",
       "      <td>0.860546</td>\n",
       "    </tr>\n",
       "    <tr>\n",
       "      <th>2023</th>\n",
       "      <td>1.243888</td>\n",
       "      <td>0.667714</td>\n",
       "      <td>0.830561</td>\n",
       "    </tr>\n",
       "    <tr>\n",
       "      <th>2024</th>\n",
       "      <td>1.280068</td>\n",
       "      <td>0.650483</td>\n",
       "      <td>0.832662</td>\n",
       "    </tr>\n",
       "  </tbody>\n",
       "</table>\n",
       "</div>"
      ],
      "text/plain": [
       "       DEXUSUK  CPIAUCSL      real\n",
       "year                              \n",
       "2007  2.001653  0.981281  1.964184\n",
       "2008  1.852181  0.945249  1.750773\n",
       "2009  1.565189  0.948210  1.484128\n",
       "2010  1.546518  0.932892  1.442734\n",
       "2011  1.603695  0.904542  1.450609\n",
       "2012  1.585550  0.886131  1.405006\n",
       "2013  1.564762  0.873315  1.366530\n",
       "2014  1.647472  0.859426  1.415880\n",
       "2015  1.528523  0.858396  1.312079\n",
       "2016  1.354928  0.847676  1.148540\n",
       "2017  1.289151  0.829974  1.069961\n",
       "2018  1.335714  0.810206  1.082204\n",
       "2019  1.277348  0.795790  1.016502\n",
       "2020  1.283718  0.785975  1.008971\n",
       "2021  1.376067  0.751114  1.033584\n",
       "2022  1.237375  0.695461  0.860546\n",
       "2023  1.243888  0.667714  0.830561\n",
       "2024  1.280068  0.650483  0.832662"
      ]
     },
     "execution_count": 89,
     "metadata": {},
     "output_type": "execute_result"
    }
   ],
   "source": [
    "usdreal"
   ]
  },
  {
   "cell_type": "code",
   "execution_count": 102,
   "metadata": {},
   "outputs": [
    {
     "data": {
      "application/vnd.plotly.v1+json": {
       "config": {
        "plotlyServerURL": "https://plot.ly"
       },
       "data": [
        {
         "hovertemplate": "variable=East Midlands<br>Year=%{x}<br>Relative Price=%{y}<extra></extra>",
         "legendgroup": "East Midlands",
         "line": {
          "color": "#636efa",
          "dash": "solid"
         },
         "marker": {
          "symbol": "circle"
         },
         "mode": "lines",
         "name": "East Midlands",
         "orientation": "v",
         "showlegend": true,
         "type": "scatter",
         "x": [
          1995,
          1996,
          1997,
          1998,
          1999,
          2000,
          2001,
          2002,
          2003,
          2004,
          2005,
          2006,
          2007,
          2008,
          2009,
          2010,
          2011,
          2012,
          2013,
          2014,
          2015,
          2016,
          2017,
          2018,
          2019,
          2020,
          2021,
          2022,
          2023,
          2024
         ],
         "xaxis": "x",
         "y": [
          1,
          0.9937282562710488,
          1.0720730465458892,
          1.142813762237893,
          1.173508887080955,
          1.1377181215529502,
          1.1964104696943734,
          1.491954524226715,
          1.9975777954801965,
          2.57874635376649,
          2.5854209943507858,
          2.6322550242825886,
          2.931536339859003,
          2.4954800035195346,
          2.0694279331875887,
          2.071315265146279,
          2.0376738134893837,
          2.0026382606639164,
          1.9760244872130999,
          2.179004002401728,
          2.134448428227295,
          1.9573810435199959,
          1.9505538059341807,
          2.067882886286293,
          1.9948347927376788,
          2.094690699262215,
          2.3486243054724105,
          2.1287520390738894,
          2.0159734164723657,
          1.977641103686535
         ],
         "yaxis": "y"
        },
        {
         "hovertemplate": "variable=London<br>Year=%{x}<br>Relative Price=%{y}<extra></extra>",
         "legendgroup": "London",
         "line": {
          "color": "#EF553B",
          "dash": "solid"
         },
         "marker": {
          "symbol": "circle"
         },
         "mode": "lines",
         "name": "London",
         "orientation": "v",
         "showlegend": true,
         "type": "scatter",
         "x": [
          1995,
          1996,
          1997,
          1998,
          1999,
          2000,
          2001,
          2002,
          2003,
          2004,
          2005,
          2006,
          2007,
          2008,
          2009,
          2010,
          2011,
          2012,
          2013,
          2014,
          2015,
          2016,
          2017,
          2018,
          2019,
          2020,
          2021,
          2022,
          2023,
          2024
         ],
         "xaxis": "x",
         "y": [
          1,
          1.0140448350609195,
          1.1607674657265266,
          1.2989463350539805,
          1.5159781728091313,
          1.6070561421857967,
          1.6676552146978272,
          1.9943724630733402,
          2.3504029453384665,
          2.823145002917299,
          2.835812932267702,
          2.963233558104651,
          3.358733812572845,
          2.9482694661323996,
          2.412397945317658,
          2.696880216455455,
          2.7615901889428693,
          2.7405459003298906,
          2.8698500910574842,
          3.3325197575406342,
          3.3953189923000675,
          3.248426865529483,
          3.1305319582954105,
          3.1663515184257216,
          3.007164133121219,
          3.158730262610781,
          3.3184429718002235,
          2.8815037630572,
          2.754098810517285,
          2.733995824730785
         ],
         "yaxis": "y"
        },
        {
         "hovertemplate": "variable=North East<br>Year=%{x}<br>Relative Price=%{y}<extra></extra>",
         "legendgroup": "North East",
         "line": {
          "color": "#00cc96",
          "dash": "solid"
         },
         "marker": {
          "symbol": "circle"
         },
         "mode": "lines",
         "name": "North East",
         "orientation": "v",
         "showlegend": true,
         "type": "scatter",
         "x": [
          1995,
          1996,
          1997,
          1998,
          1999,
          2000,
          2001,
          2002,
          2003,
          2004,
          2005,
          2006,
          2007,
          2008,
          2009,
          2010,
          2011,
          2012,
          2013,
          2014,
          2015,
          2016,
          2017,
          2018,
          2019,
          2020,
          2021,
          2022,
          2023,
          2024
         ],
         "xaxis": "x",
         "y": [
          1,
          1.0124948964019354,
          1.0958846135812474,
          1.115120293752982,
          1.1209047737583446,
          1.046216839231681,
          1.022359546757432,
          1.145372397714738,
          1.582686311296899,
          2.128374940381176,
          2.3205533289026596,
          2.486641400341797,
          2.7028523764908736,
          2.3600165919572444,
          2.000583059144662,
          1.9771974364451965,
          1.9065158497025667,
          1.8939280283510567,
          1.8420623875727866,
          1.9722058702806984,
          1.871835291847035,
          1.6514301374311935,
          1.5624832840736647,
          1.6119562923956077,
          1.530089849806753,
          1.558422994409736,
          1.683459601382692,
          1.4306719983126477,
          1.3691588913965342,
          1.3090184606203057
         ],
         "yaxis": "y"
        },
        {
         "hovertemplate": "variable=North West<br>Year=%{x}<br>Relative Price=%{y}<extra></extra>",
         "legendgroup": "North West",
         "line": {
          "color": "#ab63fa",
          "dash": "solid"
         },
         "marker": {
          "symbol": "circle"
         },
         "mode": "lines",
         "name": "North West",
         "orientation": "v",
         "showlegend": true,
         "type": "scatter",
         "x": [
          1995,
          1996,
          1997,
          1998,
          1999,
          2000,
          2001,
          2002,
          2003,
          2004,
          2005,
          2006,
          2007,
          2008,
          2009,
          2010,
          2011,
          2012,
          2013,
          2014,
          2015,
          2016,
          2017,
          2018,
          2019,
          2020,
          2021,
          2022,
          2023,
          2024
         ],
         "xaxis": "x",
         "y": [
          1,
          0.9896383613320546,
          1.0728115857557319,
          1.0905979724783217,
          1.1190920894707488,
          1.0672864839106526,
          1.0471440206182183,
          1.2546069874967918,
          1.6203612616192682,
          2.2480960307776168,
          2.3800018969966015,
          2.5102714590271185,
          2.795589018914192,
          2.399519554865677,
          2.034852305991121,
          1.9780977995765465,
          1.9429985604067517,
          1.926370314021885,
          1.8736162340265798,
          2.0159443069199883,
          1.9373413388058114,
          1.7564364374024044,
          1.6926902244131368,
          1.769126593015321,
          1.7153246077435573,
          1.8090300052279482,
          2.016673541893393,
          1.7698121510658147,
          1.6643457127670913,
          1.6685555464458741
         ],
         "yaxis": "y"
        },
        {
         "hovertemplate": "variable=South East<br>Year=%{x}<br>Relative Price=%{y}<extra></extra>",
         "legendgroup": "South East",
         "line": {
          "color": "#FFA15A",
          "dash": "solid"
         },
         "marker": {
          "symbol": "circle"
         },
         "mode": "lines",
         "name": "South East",
         "orientation": "v",
         "showlegend": true,
         "type": "scatter",
         "x": [
          1995,
          1996,
          1997,
          1998,
          1999,
          2000,
          2001,
          2002,
          2003,
          2004,
          2005,
          2006,
          2007,
          2008,
          2009,
          2010,
          2011,
          2012,
          2013,
          2014,
          2015,
          2016,
          2017,
          2018,
          2019,
          2020,
          2021,
          2022,
          2023,
          2024
         ],
         "xaxis": "x",
         "y": [
          1,
          1.0130637137594645,
          1.1292310333582705,
          1.253348746832779,
          1.334542564796445,
          1.4647035749243535,
          1.5223863068987942,
          1.8364137443359632,
          2.242917255845929,
          2.6660113185503787,
          2.6584636574079687,
          2.7504552463864624,
          3.1544493643751754,
          2.748435989383541,
          2.1998077887844842,
          2.4123429378267827,
          2.3619613026870687,
          2.34925989183379,
          2.344791914181193,
          2.5835101656374615,
          2.586670029284682,
          2.448761250659692,
          2.42184909031418,
          2.5068479924104197,
          2.3750648414910795,
          2.504810776469467,
          2.6791151627232397,
          2.375108851252821,
          2.2620277561777833,
          2.219111323916881
         ],
         "yaxis": "y"
        }
       ],
       "layout": {
        "height": 600,
        "legend": {
         "title": {
          "text": "Region"
         },
         "tracegroupgap": 0,
         "x": 0.01,
         "xanchor": "left",
         "y": 0.99,
         "yanchor": "top"
        },
        "template": {
         "data": {
          "bar": [
           {
            "error_x": {
             "color": "#2a3f5f"
            },
            "error_y": {
             "color": "#2a3f5f"
            },
            "marker": {
             "line": {
              "color": "#E5ECF6",
              "width": 0.5
             },
             "pattern": {
              "fillmode": "overlay",
              "size": 10,
              "solidity": 0.2
             }
            },
            "type": "bar"
           }
          ],
          "barpolar": [
           {
            "marker": {
             "line": {
              "color": "#E5ECF6",
              "width": 0.5
             },
             "pattern": {
              "fillmode": "overlay",
              "size": 10,
              "solidity": 0.2
             }
            },
            "type": "barpolar"
           }
          ],
          "carpet": [
           {
            "aaxis": {
             "endlinecolor": "#2a3f5f",
             "gridcolor": "white",
             "linecolor": "white",
             "minorgridcolor": "white",
             "startlinecolor": "#2a3f5f"
            },
            "baxis": {
             "endlinecolor": "#2a3f5f",
             "gridcolor": "white",
             "linecolor": "white",
             "minorgridcolor": "white",
             "startlinecolor": "#2a3f5f"
            },
            "type": "carpet"
           }
          ],
          "choropleth": [
           {
            "colorbar": {
             "outlinewidth": 0,
             "ticks": ""
            },
            "type": "choropleth"
           }
          ],
          "contour": [
           {
            "colorbar": {
             "outlinewidth": 0,
             "ticks": ""
            },
            "colorscale": [
             [
              0,
              "#0d0887"
             ],
             [
              0.1111111111111111,
              "#46039f"
             ],
             [
              0.2222222222222222,
              "#7201a8"
             ],
             [
              0.3333333333333333,
              "#9c179e"
             ],
             [
              0.4444444444444444,
              "#bd3786"
             ],
             [
              0.5555555555555556,
              "#d8576b"
             ],
             [
              0.6666666666666666,
              "#ed7953"
             ],
             [
              0.7777777777777778,
              "#fb9f3a"
             ],
             [
              0.8888888888888888,
              "#fdca26"
             ],
             [
              1,
              "#f0f921"
             ]
            ],
            "type": "contour"
           }
          ],
          "contourcarpet": [
           {
            "colorbar": {
             "outlinewidth": 0,
             "ticks": ""
            },
            "type": "contourcarpet"
           }
          ],
          "heatmap": [
           {
            "colorbar": {
             "outlinewidth": 0,
             "ticks": ""
            },
            "colorscale": [
             [
              0,
              "#0d0887"
             ],
             [
              0.1111111111111111,
              "#46039f"
             ],
             [
              0.2222222222222222,
              "#7201a8"
             ],
             [
              0.3333333333333333,
              "#9c179e"
             ],
             [
              0.4444444444444444,
              "#bd3786"
             ],
             [
              0.5555555555555556,
              "#d8576b"
             ],
             [
              0.6666666666666666,
              "#ed7953"
             ],
             [
              0.7777777777777778,
              "#fb9f3a"
             ],
             [
              0.8888888888888888,
              "#fdca26"
             ],
             [
              1,
              "#f0f921"
             ]
            ],
            "type": "heatmap"
           }
          ],
          "heatmapgl": [
           {
            "colorbar": {
             "outlinewidth": 0,
             "ticks": ""
            },
            "colorscale": [
             [
              0,
              "#0d0887"
             ],
             [
              0.1111111111111111,
              "#46039f"
             ],
             [
              0.2222222222222222,
              "#7201a8"
             ],
             [
              0.3333333333333333,
              "#9c179e"
             ],
             [
              0.4444444444444444,
              "#bd3786"
             ],
             [
              0.5555555555555556,
              "#d8576b"
             ],
             [
              0.6666666666666666,
              "#ed7953"
             ],
             [
              0.7777777777777778,
              "#fb9f3a"
             ],
             [
              0.8888888888888888,
              "#fdca26"
             ],
             [
              1,
              "#f0f921"
             ]
            ],
            "type": "heatmapgl"
           }
          ],
          "histogram": [
           {
            "marker": {
             "pattern": {
              "fillmode": "overlay",
              "size": 10,
              "solidity": 0.2
             }
            },
            "type": "histogram"
           }
          ],
          "histogram2d": [
           {
            "colorbar": {
             "outlinewidth": 0,
             "ticks": ""
            },
            "colorscale": [
             [
              0,
              "#0d0887"
             ],
             [
              0.1111111111111111,
              "#46039f"
             ],
             [
              0.2222222222222222,
              "#7201a8"
             ],
             [
              0.3333333333333333,
              "#9c179e"
             ],
             [
              0.4444444444444444,
              "#bd3786"
             ],
             [
              0.5555555555555556,
              "#d8576b"
             ],
             [
              0.6666666666666666,
              "#ed7953"
             ],
             [
              0.7777777777777778,
              "#fb9f3a"
             ],
             [
              0.8888888888888888,
              "#fdca26"
             ],
             [
              1,
              "#f0f921"
             ]
            ],
            "type": "histogram2d"
           }
          ],
          "histogram2dcontour": [
           {
            "colorbar": {
             "outlinewidth": 0,
             "ticks": ""
            },
            "colorscale": [
             [
              0,
              "#0d0887"
             ],
             [
              0.1111111111111111,
              "#46039f"
             ],
             [
              0.2222222222222222,
              "#7201a8"
             ],
             [
              0.3333333333333333,
              "#9c179e"
             ],
             [
              0.4444444444444444,
              "#bd3786"
             ],
             [
              0.5555555555555556,
              "#d8576b"
             ],
             [
              0.6666666666666666,
              "#ed7953"
             ],
             [
              0.7777777777777778,
              "#fb9f3a"
             ],
             [
              0.8888888888888888,
              "#fdca26"
             ],
             [
              1,
              "#f0f921"
             ]
            ],
            "type": "histogram2dcontour"
           }
          ],
          "mesh3d": [
           {
            "colorbar": {
             "outlinewidth": 0,
             "ticks": ""
            },
            "type": "mesh3d"
           }
          ],
          "parcoords": [
           {
            "line": {
             "colorbar": {
              "outlinewidth": 0,
              "ticks": ""
             }
            },
            "type": "parcoords"
           }
          ],
          "pie": [
           {
            "automargin": true,
            "type": "pie"
           }
          ],
          "scatter": [
           {
            "fillpattern": {
             "fillmode": "overlay",
             "size": 10,
             "solidity": 0.2
            },
            "type": "scatter"
           }
          ],
          "scatter3d": [
           {
            "line": {
             "colorbar": {
              "outlinewidth": 0,
              "ticks": ""
             }
            },
            "marker": {
             "colorbar": {
              "outlinewidth": 0,
              "ticks": ""
             }
            },
            "type": "scatter3d"
           }
          ],
          "scattercarpet": [
           {
            "marker": {
             "colorbar": {
              "outlinewidth": 0,
              "ticks": ""
             }
            },
            "type": "scattercarpet"
           }
          ],
          "scattergeo": [
           {
            "marker": {
             "colorbar": {
              "outlinewidth": 0,
              "ticks": ""
             }
            },
            "type": "scattergeo"
           }
          ],
          "scattergl": [
           {
            "marker": {
             "colorbar": {
              "outlinewidth": 0,
              "ticks": ""
             }
            },
            "type": "scattergl"
           }
          ],
          "scattermapbox": [
           {
            "marker": {
             "colorbar": {
              "outlinewidth": 0,
              "ticks": ""
             }
            },
            "type": "scattermapbox"
           }
          ],
          "scatterpolar": [
           {
            "marker": {
             "colorbar": {
              "outlinewidth": 0,
              "ticks": ""
             }
            },
            "type": "scatterpolar"
           }
          ],
          "scatterpolargl": [
           {
            "marker": {
             "colorbar": {
              "outlinewidth": 0,
              "ticks": ""
             }
            },
            "type": "scatterpolargl"
           }
          ],
          "scatterternary": [
           {
            "marker": {
             "colorbar": {
              "outlinewidth": 0,
              "ticks": ""
             }
            },
            "type": "scatterternary"
           }
          ],
          "surface": [
           {
            "colorbar": {
             "outlinewidth": 0,
             "ticks": ""
            },
            "colorscale": [
             [
              0,
              "#0d0887"
             ],
             [
              0.1111111111111111,
              "#46039f"
             ],
             [
              0.2222222222222222,
              "#7201a8"
             ],
             [
              0.3333333333333333,
              "#9c179e"
             ],
             [
              0.4444444444444444,
              "#bd3786"
             ],
             [
              0.5555555555555556,
              "#d8576b"
             ],
             [
              0.6666666666666666,
              "#ed7953"
             ],
             [
              0.7777777777777778,
              "#fb9f3a"
             ],
             [
              0.8888888888888888,
              "#fdca26"
             ],
             [
              1,
              "#f0f921"
             ]
            ],
            "type": "surface"
           }
          ],
          "table": [
           {
            "cells": {
             "fill": {
              "color": "#EBF0F8"
             },
             "line": {
              "color": "white"
             }
            },
            "header": {
             "fill": {
              "color": "#C8D4E3"
             },
             "line": {
              "color": "white"
             }
            },
            "type": "table"
           }
          ]
         },
         "layout": {
          "annotationdefaults": {
           "arrowcolor": "#2a3f5f",
           "arrowhead": 0,
           "arrowwidth": 1
          },
          "autotypenumbers": "strict",
          "coloraxis": {
           "colorbar": {
            "outlinewidth": 0,
            "ticks": ""
           }
          },
          "colorscale": {
           "diverging": [
            [
             0,
             "#8e0152"
            ],
            [
             0.1,
             "#c51b7d"
            ],
            [
             0.2,
             "#de77ae"
            ],
            [
             0.3,
             "#f1b6da"
            ],
            [
             0.4,
             "#fde0ef"
            ],
            [
             0.5,
             "#f7f7f7"
            ],
            [
             0.6,
             "#e6f5d0"
            ],
            [
             0.7,
             "#b8e186"
            ],
            [
             0.8,
             "#7fbc41"
            ],
            [
             0.9,
             "#4d9221"
            ],
            [
             1,
             "#276419"
            ]
           ],
           "sequential": [
            [
             0,
             "#0d0887"
            ],
            [
             0.1111111111111111,
             "#46039f"
            ],
            [
             0.2222222222222222,
             "#7201a8"
            ],
            [
             0.3333333333333333,
             "#9c179e"
            ],
            [
             0.4444444444444444,
             "#bd3786"
            ],
            [
             0.5555555555555556,
             "#d8576b"
            ],
            [
             0.6666666666666666,
             "#ed7953"
            ],
            [
             0.7777777777777778,
             "#fb9f3a"
            ],
            [
             0.8888888888888888,
             "#fdca26"
            ],
            [
             1,
             "#f0f921"
            ]
           ],
           "sequentialminus": [
            [
             0,
             "#0d0887"
            ],
            [
             0.1111111111111111,
             "#46039f"
            ],
            [
             0.2222222222222222,
             "#7201a8"
            ],
            [
             0.3333333333333333,
             "#9c179e"
            ],
            [
             0.4444444444444444,
             "#bd3786"
            ],
            [
             0.5555555555555556,
             "#d8576b"
            ],
            [
             0.6666666666666666,
             "#ed7953"
            ],
            [
             0.7777777777777778,
             "#fb9f3a"
            ],
            [
             0.8888888888888888,
             "#fdca26"
            ],
            [
             1,
             "#f0f921"
            ]
           ]
          },
          "colorway": [
           "#636efa",
           "#EF553B",
           "#00cc96",
           "#ab63fa",
           "#FFA15A",
           "#19d3f3",
           "#FF6692",
           "#B6E880",
           "#FF97FF",
           "#FECB52"
          ],
          "font": {
           "color": "#2a3f5f"
          },
          "geo": {
           "bgcolor": "white",
           "lakecolor": "white",
           "landcolor": "#E5ECF6",
           "showlakes": true,
           "showland": true,
           "subunitcolor": "white"
          },
          "hoverlabel": {
           "align": "left"
          },
          "hovermode": "closest",
          "mapbox": {
           "style": "light"
          },
          "paper_bgcolor": "white",
          "plot_bgcolor": "#E5ECF6",
          "polar": {
           "angularaxis": {
            "gridcolor": "white",
            "linecolor": "white",
            "ticks": ""
           },
           "bgcolor": "#E5ECF6",
           "radialaxis": {
            "gridcolor": "white",
            "linecolor": "white",
            "ticks": ""
           }
          },
          "scene": {
           "xaxis": {
            "backgroundcolor": "#E5ECF6",
            "gridcolor": "white",
            "gridwidth": 2,
            "linecolor": "white",
            "showbackground": true,
            "ticks": "",
            "zerolinecolor": "white"
           },
           "yaxis": {
            "backgroundcolor": "#E5ECF6",
            "gridcolor": "white",
            "gridwidth": 2,
            "linecolor": "white",
            "showbackground": true,
            "ticks": "",
            "zerolinecolor": "white"
           },
           "zaxis": {
            "backgroundcolor": "#E5ECF6",
            "gridcolor": "white",
            "gridwidth": 2,
            "linecolor": "white",
            "showbackground": true,
            "ticks": "",
            "zerolinecolor": "white"
           }
          },
          "shapedefaults": {
           "line": {
            "color": "#2a3f5f"
           }
          },
          "ternary": {
           "aaxis": {
            "gridcolor": "white",
            "linecolor": "white",
            "ticks": ""
           },
           "baxis": {
            "gridcolor": "white",
            "linecolor": "white",
            "ticks": ""
           },
           "bgcolor": "#E5ECF6",
           "caxis": {
            "gridcolor": "white",
            "linecolor": "white",
            "ticks": ""
           }
          },
          "title": {
           "x": 0.05
          },
          "xaxis": {
           "automargin": true,
           "gridcolor": "white",
           "linecolor": "white",
           "ticks": "",
           "title": {
            "standoff": 15
           },
           "zerolinecolor": "white",
           "zerolinewidth": 2
          },
          "yaxis": {
           "automargin": true,
           "gridcolor": "white",
           "linecolor": "white",
           "ticks": "",
           "title": {
            "standoff": 15
           },
           "zerolinecolor": "white",
           "zerolinewidth": 2
          }
         }
        },
        "title": {
         "text": "Median House Prices, CPI Adjusted US$ (1995)"
        },
        "width": 800,
        "xaxis": {
         "anchor": "y",
         "domain": [
          0,
          1
         ],
         "title": {
          "text": "Year"
         }
        },
        "yaxis": {
         "anchor": "x",
         "domain": [
          0,
          1
         ],
         "title": {
          "text": "Relative Price"
         }
        }
       }
      }
     },
     "metadata": {},
     "output_type": "display_data"
    }
   ],
   "source": [
    "# Post-GFC, Real US$\n",
    "\n",
    "import plotly.express as px\n",
    "\n",
    "us_cpi = (\n",
    "    fred.Fred_Pull('CPIAUCSL',\n",
    "                   '899901ba06f09b9961a73113b1834a15').index(1995)\n",
    "                   .resample('YE').mean()\n",
    "                   .assign(year=lambda df: df.index.year).set_index('year')\n",
    ")\n",
    "\n",
    "gbpusd_fx = (\n",
    "    fred.Fred_Pull('DEXUSUK',\n",
    "                   '899901ba06f09b9961a73113b1834a15').extract(1995)\n",
    "                   .resample('YE').mean()\n",
    "                   .assign(year=lambda df: df.index.year).set_index('year')\n",
    ")\n",
    "\n",
    "usdreal = (gbpusd_fx[gbpusd_fx.index>1994]\n",
    "           .join(us_cpi)\n",
    "           .assign(real=lambda df:df['DEXUSUK']*df['CPIAUCSL'])\n",
    ")\n",
    "\n",
    "\n",
    "fig = px.line(df_median_screened.mul(usdreal['real'].values,axis=0).apply(lambda x: x/x.iloc[0],axis=0),\n",
    "              labels={\n",
    "                  'index':'Year',\n",
    "                  'value':'Relative Price'\n",
    "              },\n",
    "              width=800, height=600,\n",
    "              title='Median House Prices, CPI Adjusted US$ (1995)')\n",
    "\n",
    "fig.update_layout(legend=dict(\n",
    "    title='Region',\n",
    "    yanchor=\"top\",\n",
    "    y=0.99,\n",
    "    xanchor=\"left\",\n",
    "    x=0.01\n",
    "))\n",
    "\n",
    "fig.show()"
   ]
  },
  {
   "cell_type": "markdown",
   "metadata": {},
   "source": [
    "Real Wages"
   ]
  },
  {
   "cell_type": "code",
   "execution_count": 219,
   "metadata": {},
   "outputs": [],
   "source": [
    "# Average Weekly Earnings Per Person in the United Kingdom (FROM Q1 1919)\n",
    "\n",
    "nominal_wages_gbp = (\n",
    "    fred.Fred_Pull('AWEPPUKQ',\n",
    "                   '899901ba06f09b9961a73113b1834a15').extract()\n",
    "                   .resample('YE').mean()\n",
    "                   .assign(year=lambda df: df.index.year).set_index('year')\n",
    ")\n",
    "\n",
    "# Residential Property Prices for United Kingdom (FROM Q2 1846)\n",
    "\n",
    "nominal_resproperty_gbp = (\n",
    "    fred.Fred_Pull('HPIUKA',\n",
    "                   '899901ba06f09b9961a73113b1834a15').extract()\n",
    "                   .resample('YE').mean()\n",
    "                   .assign(year=lambda df: df.index.year).set_index('year')\n",
    ")\n",
    "\n",
    "# Household Variable Mortgage Rate in the United Kingdom (FROM 1853)\n",
    "\n",
    "nominal_mortrate_perc = (\n",
    "    fred.Fred_Pull('CMRAUKA',\n",
    "                   '899901ba06f09b9961a73113b1834a15').extract()\n",
    "                   .resample('YE').mean()\n",
    "                   .assign(year=lambda df: df.index.year).set_index('year')\n",
    ")\n",
    "\n",
    "# Inflation, consumer prices for the United Kingdom (FROM 1960)\n",
    "\n",
    "gbp_cpi_percent = (\n",
    "    fred.Fred_Pull('FPCPITOTLZGGBR',\n",
    "                   '899901ba06f09b9961a73113b1834a15').extract()\n",
    "                   .resample('YE').mean()\n",
    "                   .assign(year=lambda df: df.index.year).set_index('year')\n",
    ")\n",
    "\n",
    "# Consumer Price Indices ..., COICOP 1999: Consumer Price Index... (FROM 1914)\n",
    "\n",
    "gbp_cpi = (\n",
    "    fred.Fred_Pull('CPIUKQ',\n",
    "                   '899901ba06f09b9961a73113b1834a15').extract()\n",
    "                   .apply(lambda x:1/(x/x.iloc[-1]))\n",
    "                   .resample('YE').mean()\n",
    "                   .assign(year=lambda df: df.index.year).set_index('year')\n",
    ")"
   ]
  },
  {
   "cell_type": "code",
   "execution_count": 253,
   "metadata": {},
   "outputs": [],
   "source": [
    "df = (\n",
    "    nominal_wages_gbp.join([nominal_resproperty_gbp,nominal_mortrate_perc,gbp_cpi_percent,gbp_cpi])\n",
    "    .assign(real_prop_gbp = lambda df:df['HPIUKA']*df['CPIUKQ'],\n",
    "            real_wages_gbp = lambda df: df['AWEPPUKQ']*df['CPIUKQ'],\n",
    "            nominal_mortrate_perc = lambda df: df['CMRAUKA']\n",
    "            )\n",
    ")\n",
    "\n",
    "#df=df.loc[df.index<2007]"
   ]
  },
  {
   "cell_type": "code",
   "execution_count": 248,
   "metadata": {},
   "outputs": [
    {
     "data": {
      "application/vnd.plotly.v1+json": {
       "config": {
        "plotlyServerURL": "https://plot.ly"
       },
       "data": [
        {
         "hovertemplate": "Average Weekly Earnings=%{x}<br>Residential Property Price Index=%{y}<extra></extra>",
         "legendgroup": "",
         "marker": {
          "color": "#636efa",
          "symbol": "circle"
         },
         "mode": "markers",
         "name": "",
         "orientation": "v",
         "showlegend": false,
         "type": "scatter",
         "x": [
          80.66916956216016,
          82.5229279175208,
          94.57952565964432,
          88.09884379182317,
          82.2872835700058,
          82.61799213406826,
          83.88605302854307,
          85.14915240746313,
          88.03368142468372,
          87.96258307803677,
          88.36983807735882,
          91.42603252191242,
          96.13745360029439,
          97.14727470593972,
          98.33934421077659,
          97.19572310568263,
          96.87173777031099,
          96.52992208549992,
          95.0012283659548,
          97.40768325864278,
          96.3941752577077,
          92.35637642822115,
          92.82293337324963,
          99.36676533397015,
          104.8433398824536,
          108.88512855340555,
          112.04529336455904,
          121.79886452750976,
          131.3200584382385,
          131.46839766622918,
          130.98801334023014,
          128.48177938834021,
          127.92048032696472,
          125.02011782054709,
          126.23479843000678,
          128.77738946541388,
          131.0409640528262,
          134.45622500245452,
          136.16984456427093,
          137.40449332905808,
          140.3337843119998,
          145.15449021553445,
          149.5769094490419,
          150.11703941024953,
          152.98312728627587,
          160.7857657263107,
          164.67529944305326,
          168.57782743196086,
          171.0004553840322,
          178.3330792459314,
          182.61614229301898,
          193.29800075892226,
          197.9090335497681,
          207.83872919006203,
          217.73266995698341,
          223.97596929160508,
          235.7445289269039,
          236.985194374922,
          226.53874769223606,
          238.6910710066454,
          250.6121090596434,
          264.09853384875953,
          268.7210342192226,
          272.46882132608454,
          282.0994478098228,
          287.4695338459068,
          298.3765072918482,
          311.7084560807298,
          325.936043672481,
          343.056980773277,
          357.2476038861409,
          369.33430011588763,
          370.1864242948953,
          376.14964948821114,
          377.8976613320368,
          384.53389856106855,
          386.797721488517,
          391.45100593266835,
          401.39620328950764,
          415.8149587044051,
          429.1241153704484,
          443.6571231537321,
          460.7852897932194,
          469.4811279327026,
          478.06143457300766,
          492.30176278657854,
          504.89535275378006,
          516.5976969332326
         ],
         "xaxis": "x",
         "y": [
          3.8783254597192385,
          3.990363203533578,
          5.346352729078145,
          6.446256862816329,
          7.378586830838727,
          7.64097037078088,
          8.26150522250803,
          8.401813899787633,
          8.661781332229998,
          8.75417094747926,
          9.168052365374404,
          9.577120768541748,
          9.831165363255277,
          10.113429999417148,
          10.372506894442967,
          9.847590993483548,
          9.726078089388652,
          9.445197855724063,
          8.97932215179157,
          9.276922215108836,
          9.429864970862711,
          8.731328170883172,
          8.89987675788461,
          9.680826128570509,
          10.553766663664204,
          12.128976345189479,
          14.404852755176783,
          17.099339198291066,
          22.111385609723936,
          24.006723264376298,
          22.238636593210714,
          22.089231390039288,
          21.374054940708028,
          19.098942395032914,
          16.91903478585348,
          16.171830571468316,
          15.751167632393136,
          15.470991556112924,
          14.898582993502584,
          14.635719402755194,
          15.016411559033626,
          16.119747723565432,
          17.107254685867545,
          17.55587910383712,
          18.590000848857642,
          20.44087613106539,
          21.168827925250536,
          21.48602172530364,
          22.592454380322057,
          23.018296695556508,
          23.224798286119196,
          23.172692252629133,
          23.774008389606436,
          29.592265560559433,
          36.892057537559694,
          34.59935207189856,
          29.857893546107135,
          28.106329434855642,
          26.251550071994462,
          28.28990914176347,
          32.912322103869855,
          34.620924038396694,
          32.647233038955385,
          30.93135200362896,
          32.86331026631857,
          34.4683133173913,
          35.81627441134388,
          39.4140581612534,
          44.51529787554987,
          53.8758498949369,
          61.63967366003901,
          57.03955492195791,
          52.40126201093423,
          48.33726224771746,
          45.85896778344399,
          46.27184262062378,
          45.11821904075761,
          45.62570628843935,
          48.84855584499995,
          53.74879338592974,
          58.827416719555316,
          66.92547818560867,
          71.87698682103812,
          82.7690657512999,
          93.33666797899612,
          103.03165264539979,
          106.48938276613832,
          112.24876478640701
         ],
         "yaxis": "y"
        },
        {
         "hovertemplate": "<b>OLS trendline</b><br>real_prop_gbp = 0.176891 * real_wages_gbp + -8.39816<br>R<sup>2</sup>=0.901633<br><br>Average Weekly Earnings=%{x}<br>Residential Property Price Index=%{y} <b>(trend)</b><extra></extra>",
         "legendgroup": "",
         "marker": {
          "color": "#636efa",
          "symbol": "circle"
         },
         "mode": "lines",
         "name": "",
         "showlegend": false,
         "type": "scatter",
         "x": [
          80.66916956216016,
          82.2872835700058,
          82.5229279175208,
          82.61799213406826,
          83.88605302854307,
          85.14915240746313,
          87.96258307803677,
          88.03368142468372,
          88.09884379182317,
          88.36983807735882,
          91.42603252191242,
          92.35637642822115,
          92.82293337324963,
          94.57952565964432,
          95.0012283659548,
          96.13745360029439,
          96.3941752577077,
          96.52992208549992,
          96.87173777031099,
          97.14727470593972,
          97.19572310568263,
          97.40768325864278,
          98.33934421077659,
          99.36676533397015,
          104.8433398824536,
          108.88512855340555,
          112.04529336455904,
          121.79886452750976,
          125.02011782054709,
          126.23479843000678,
          127.92048032696472,
          128.48177938834021,
          128.77738946541388,
          130.98801334023014,
          131.0409640528262,
          131.3200584382385,
          131.46839766622918,
          134.45622500245452,
          136.16984456427093,
          137.40449332905808,
          140.3337843119998,
          145.15449021553445,
          149.5769094490419,
          150.11703941024953,
          152.98312728627587,
          160.7857657263107,
          164.67529944305326,
          168.57782743196086,
          171.0004553840322,
          178.3330792459314,
          182.61614229301898,
          193.29800075892226,
          197.9090335497681,
          207.83872919006203,
          217.73266995698341,
          223.97596929160508,
          226.53874769223606,
          235.7445289269039,
          236.985194374922,
          238.6910710066454,
          250.6121090596434,
          264.09853384875953,
          268.7210342192226,
          272.46882132608454,
          282.0994478098228,
          287.4695338459068,
          298.3765072918482,
          311.7084560807298,
          325.936043672481,
          343.056980773277,
          357.2476038861409,
          369.33430011588763,
          370.1864242948953,
          376.14964948821114,
          377.8976613320368,
          384.53389856106855,
          386.797721488517,
          391.45100593266835,
          401.39620328950764,
          415.8149587044051,
          429.1241153704484,
          443.6571231537321,
          460.7852897932194,
          469.4811279327026,
          478.06143457300766,
          492.30176278657854,
          504.89535275378006,
          516.5976969332326
         ],
         "xaxis": "x",
         "y": [
          5.871476328176348,
          6.157705892932286,
          6.199389222227618,
          6.216205212444816,
          6.4405135838881815,
          6.66394430862008,
          7.161614455720198,
          7.174191102802512,
          7.18571772941495,
          7.233654139349062,
          7.774266977154458,
          7.93883630297757,
          8.021365958281127,
          8.332091063651056,
          8.406686414472077,
          8.607674263729212,
          8.653085976320877,
          8.677098348284517,
          8.737562415844558,
          8.786302379021937,
          8.794872457708788,
          8.832366269660987,
          8.99716856884163,
          9.178909966225792,
          10.147665901694715,
          10.862621341492396,
          11.421625585981815,
          13.146943094668625,
          13.716753332738492,
          13.931619220109447,
          14.22980092630803,
          14.329089595250046,
          14.381380313510938,
          14.772419453188242,
          14.78178594982964,
          14.831155193328588,
          14.857395045686417,
          15.385914367481483,
          15.689037991007254,
          15.907436062378004,
          16.42560083879399,
          17.2783396111517,
          18.060625115286516,
          18.15616916407325,
          18.663153889086246,
          20.043369247095917,
          20.731392178390493,
          21.421713677553644,
          21.850254398989076,
          23.14732847803051,
          23.904963147680487,
          25.794486187871424,
          26.61013570477807,
          28.366608022241262,
          30.11675562970645,
          31.221138165501348,
          31.67447021912788,
          33.30288870092916,
          33.52235106852015,
          33.824105038548254,
          35.93282761112616,
          38.31845277646413,
          39.136130803294506,
          39.79908005606269,
          41.50264977574983,
          42.45256886757993,
          44.3819126882869,
          46.74021246239904,
          49.256942547033745,
          52.28547969016077,
          54.79567109664792,
          56.93369708517746,
          57.084430056830115,
          58.13927003927175,
          58.448477342848946,
          59.62236699739307,
          60.02281656279223,
          60.845940010631566,
          62.60515443993498,
          65.15570036359536,
          67.50996841968995,
          70.08072454208599,
          73.11054052446845,
          74.64875473791948,
          76.16653248609981,
          78.6855162701775,
          80.91320712357175,
          82.98324475062901
         ],
         "yaxis": "y"
        }
       ],
       "layout": {
        "height": 600,
        "legend": {
         "title": {
          "text": "Region"
         },
         "tracegroupgap": 0,
         "x": 0.01,
         "xanchor": "left",
         "y": 0.99,
         "yanchor": "top"
        },
        "template": {
         "data": {
          "bar": [
           {
            "error_x": {
             "color": "#2a3f5f"
            },
            "error_y": {
             "color": "#2a3f5f"
            },
            "marker": {
             "line": {
              "color": "#E5ECF6",
              "width": 0.5
             },
             "pattern": {
              "fillmode": "overlay",
              "size": 10,
              "solidity": 0.2
             }
            },
            "type": "bar"
           }
          ],
          "barpolar": [
           {
            "marker": {
             "line": {
              "color": "#E5ECF6",
              "width": 0.5
             },
             "pattern": {
              "fillmode": "overlay",
              "size": 10,
              "solidity": 0.2
             }
            },
            "type": "barpolar"
           }
          ],
          "carpet": [
           {
            "aaxis": {
             "endlinecolor": "#2a3f5f",
             "gridcolor": "white",
             "linecolor": "white",
             "minorgridcolor": "white",
             "startlinecolor": "#2a3f5f"
            },
            "baxis": {
             "endlinecolor": "#2a3f5f",
             "gridcolor": "white",
             "linecolor": "white",
             "minorgridcolor": "white",
             "startlinecolor": "#2a3f5f"
            },
            "type": "carpet"
           }
          ],
          "choropleth": [
           {
            "colorbar": {
             "outlinewidth": 0,
             "ticks": ""
            },
            "type": "choropleth"
           }
          ],
          "contour": [
           {
            "colorbar": {
             "outlinewidth": 0,
             "ticks": ""
            },
            "colorscale": [
             [
              0,
              "#0d0887"
             ],
             [
              0.1111111111111111,
              "#46039f"
             ],
             [
              0.2222222222222222,
              "#7201a8"
             ],
             [
              0.3333333333333333,
              "#9c179e"
             ],
             [
              0.4444444444444444,
              "#bd3786"
             ],
             [
              0.5555555555555556,
              "#d8576b"
             ],
             [
              0.6666666666666666,
              "#ed7953"
             ],
             [
              0.7777777777777778,
              "#fb9f3a"
             ],
             [
              0.8888888888888888,
              "#fdca26"
             ],
             [
              1,
              "#f0f921"
             ]
            ],
            "type": "contour"
           }
          ],
          "contourcarpet": [
           {
            "colorbar": {
             "outlinewidth": 0,
             "ticks": ""
            },
            "type": "contourcarpet"
           }
          ],
          "heatmap": [
           {
            "colorbar": {
             "outlinewidth": 0,
             "ticks": ""
            },
            "colorscale": [
             [
              0,
              "#0d0887"
             ],
             [
              0.1111111111111111,
              "#46039f"
             ],
             [
              0.2222222222222222,
              "#7201a8"
             ],
             [
              0.3333333333333333,
              "#9c179e"
             ],
             [
              0.4444444444444444,
              "#bd3786"
             ],
             [
              0.5555555555555556,
              "#d8576b"
             ],
             [
              0.6666666666666666,
              "#ed7953"
             ],
             [
              0.7777777777777778,
              "#fb9f3a"
             ],
             [
              0.8888888888888888,
              "#fdca26"
             ],
             [
              1,
              "#f0f921"
             ]
            ],
            "type": "heatmap"
           }
          ],
          "heatmapgl": [
           {
            "colorbar": {
             "outlinewidth": 0,
             "ticks": ""
            },
            "colorscale": [
             [
              0,
              "#0d0887"
             ],
             [
              0.1111111111111111,
              "#46039f"
             ],
             [
              0.2222222222222222,
              "#7201a8"
             ],
             [
              0.3333333333333333,
              "#9c179e"
             ],
             [
              0.4444444444444444,
              "#bd3786"
             ],
             [
              0.5555555555555556,
              "#d8576b"
             ],
             [
              0.6666666666666666,
              "#ed7953"
             ],
             [
              0.7777777777777778,
              "#fb9f3a"
             ],
             [
              0.8888888888888888,
              "#fdca26"
             ],
             [
              1,
              "#f0f921"
             ]
            ],
            "type": "heatmapgl"
           }
          ],
          "histogram": [
           {
            "marker": {
             "pattern": {
              "fillmode": "overlay",
              "size": 10,
              "solidity": 0.2
             }
            },
            "type": "histogram"
           }
          ],
          "histogram2d": [
           {
            "colorbar": {
             "outlinewidth": 0,
             "ticks": ""
            },
            "colorscale": [
             [
              0,
              "#0d0887"
             ],
             [
              0.1111111111111111,
              "#46039f"
             ],
             [
              0.2222222222222222,
              "#7201a8"
             ],
             [
              0.3333333333333333,
              "#9c179e"
             ],
             [
              0.4444444444444444,
              "#bd3786"
             ],
             [
              0.5555555555555556,
              "#d8576b"
             ],
             [
              0.6666666666666666,
              "#ed7953"
             ],
             [
              0.7777777777777778,
              "#fb9f3a"
             ],
             [
              0.8888888888888888,
              "#fdca26"
             ],
             [
              1,
              "#f0f921"
             ]
            ],
            "type": "histogram2d"
           }
          ],
          "histogram2dcontour": [
           {
            "colorbar": {
             "outlinewidth": 0,
             "ticks": ""
            },
            "colorscale": [
             [
              0,
              "#0d0887"
             ],
             [
              0.1111111111111111,
              "#46039f"
             ],
             [
              0.2222222222222222,
              "#7201a8"
             ],
             [
              0.3333333333333333,
              "#9c179e"
             ],
             [
              0.4444444444444444,
              "#bd3786"
             ],
             [
              0.5555555555555556,
              "#d8576b"
             ],
             [
              0.6666666666666666,
              "#ed7953"
             ],
             [
              0.7777777777777778,
              "#fb9f3a"
             ],
             [
              0.8888888888888888,
              "#fdca26"
             ],
             [
              1,
              "#f0f921"
             ]
            ],
            "type": "histogram2dcontour"
           }
          ],
          "mesh3d": [
           {
            "colorbar": {
             "outlinewidth": 0,
             "ticks": ""
            },
            "type": "mesh3d"
           }
          ],
          "parcoords": [
           {
            "line": {
             "colorbar": {
              "outlinewidth": 0,
              "ticks": ""
             }
            },
            "type": "parcoords"
           }
          ],
          "pie": [
           {
            "automargin": true,
            "type": "pie"
           }
          ],
          "scatter": [
           {
            "fillpattern": {
             "fillmode": "overlay",
             "size": 10,
             "solidity": 0.2
            },
            "type": "scatter"
           }
          ],
          "scatter3d": [
           {
            "line": {
             "colorbar": {
              "outlinewidth": 0,
              "ticks": ""
             }
            },
            "marker": {
             "colorbar": {
              "outlinewidth": 0,
              "ticks": ""
             }
            },
            "type": "scatter3d"
           }
          ],
          "scattercarpet": [
           {
            "marker": {
             "colorbar": {
              "outlinewidth": 0,
              "ticks": ""
             }
            },
            "type": "scattercarpet"
           }
          ],
          "scattergeo": [
           {
            "marker": {
             "colorbar": {
              "outlinewidth": 0,
              "ticks": ""
             }
            },
            "type": "scattergeo"
           }
          ],
          "scattergl": [
           {
            "marker": {
             "colorbar": {
              "outlinewidth": 0,
              "ticks": ""
             }
            },
            "type": "scattergl"
           }
          ],
          "scattermapbox": [
           {
            "marker": {
             "colorbar": {
              "outlinewidth": 0,
              "ticks": ""
             }
            },
            "type": "scattermapbox"
           }
          ],
          "scatterpolar": [
           {
            "marker": {
             "colorbar": {
              "outlinewidth": 0,
              "ticks": ""
             }
            },
            "type": "scatterpolar"
           }
          ],
          "scatterpolargl": [
           {
            "marker": {
             "colorbar": {
              "outlinewidth": 0,
              "ticks": ""
             }
            },
            "type": "scatterpolargl"
           }
          ],
          "scatterternary": [
           {
            "marker": {
             "colorbar": {
              "outlinewidth": 0,
              "ticks": ""
             }
            },
            "type": "scatterternary"
           }
          ],
          "surface": [
           {
            "colorbar": {
             "outlinewidth": 0,
             "ticks": ""
            },
            "colorscale": [
             [
              0,
              "#0d0887"
             ],
             [
              0.1111111111111111,
              "#46039f"
             ],
             [
              0.2222222222222222,
              "#7201a8"
             ],
             [
              0.3333333333333333,
              "#9c179e"
             ],
             [
              0.4444444444444444,
              "#bd3786"
             ],
             [
              0.5555555555555556,
              "#d8576b"
             ],
             [
              0.6666666666666666,
              "#ed7953"
             ],
             [
              0.7777777777777778,
              "#fb9f3a"
             ],
             [
              0.8888888888888888,
              "#fdca26"
             ],
             [
              1,
              "#f0f921"
             ]
            ],
            "type": "surface"
           }
          ],
          "table": [
           {
            "cells": {
             "fill": {
              "color": "#EBF0F8"
             },
             "line": {
              "color": "white"
             }
            },
            "header": {
             "fill": {
              "color": "#C8D4E3"
             },
             "line": {
              "color": "white"
             }
            },
            "type": "table"
           }
          ]
         },
         "layout": {
          "annotationdefaults": {
           "arrowcolor": "#2a3f5f",
           "arrowhead": 0,
           "arrowwidth": 1
          },
          "autotypenumbers": "strict",
          "coloraxis": {
           "colorbar": {
            "outlinewidth": 0,
            "ticks": ""
           }
          },
          "colorscale": {
           "diverging": [
            [
             0,
             "#8e0152"
            ],
            [
             0.1,
             "#c51b7d"
            ],
            [
             0.2,
             "#de77ae"
            ],
            [
             0.3,
             "#f1b6da"
            ],
            [
             0.4,
             "#fde0ef"
            ],
            [
             0.5,
             "#f7f7f7"
            ],
            [
             0.6,
             "#e6f5d0"
            ],
            [
             0.7,
             "#b8e186"
            ],
            [
             0.8,
             "#7fbc41"
            ],
            [
             0.9,
             "#4d9221"
            ],
            [
             1,
             "#276419"
            ]
           ],
           "sequential": [
            [
             0,
             "#0d0887"
            ],
            [
             0.1111111111111111,
             "#46039f"
            ],
            [
             0.2222222222222222,
             "#7201a8"
            ],
            [
             0.3333333333333333,
             "#9c179e"
            ],
            [
             0.4444444444444444,
             "#bd3786"
            ],
            [
             0.5555555555555556,
             "#d8576b"
            ],
            [
             0.6666666666666666,
             "#ed7953"
            ],
            [
             0.7777777777777778,
             "#fb9f3a"
            ],
            [
             0.8888888888888888,
             "#fdca26"
            ],
            [
             1,
             "#f0f921"
            ]
           ],
           "sequentialminus": [
            [
             0,
             "#0d0887"
            ],
            [
             0.1111111111111111,
             "#46039f"
            ],
            [
             0.2222222222222222,
             "#7201a8"
            ],
            [
             0.3333333333333333,
             "#9c179e"
            ],
            [
             0.4444444444444444,
             "#bd3786"
            ],
            [
             0.5555555555555556,
             "#d8576b"
            ],
            [
             0.6666666666666666,
             "#ed7953"
            ],
            [
             0.7777777777777778,
             "#fb9f3a"
            ],
            [
             0.8888888888888888,
             "#fdca26"
            ],
            [
             1,
             "#f0f921"
            ]
           ]
          },
          "colorway": [
           "#636efa",
           "#EF553B",
           "#00cc96",
           "#ab63fa",
           "#FFA15A",
           "#19d3f3",
           "#FF6692",
           "#B6E880",
           "#FF97FF",
           "#FECB52"
          ],
          "font": {
           "color": "#2a3f5f"
          },
          "geo": {
           "bgcolor": "white",
           "lakecolor": "white",
           "landcolor": "#E5ECF6",
           "showlakes": true,
           "showland": true,
           "subunitcolor": "white"
          },
          "hoverlabel": {
           "align": "left"
          },
          "hovermode": "closest",
          "mapbox": {
           "style": "light"
          },
          "paper_bgcolor": "white",
          "plot_bgcolor": "#E5ECF6",
          "polar": {
           "angularaxis": {
            "gridcolor": "white",
            "linecolor": "white",
            "ticks": ""
           },
           "bgcolor": "#E5ECF6",
           "radialaxis": {
            "gridcolor": "white",
            "linecolor": "white",
            "ticks": ""
           }
          },
          "scene": {
           "xaxis": {
            "backgroundcolor": "#E5ECF6",
            "gridcolor": "white",
            "gridwidth": 2,
            "linecolor": "white",
            "showbackground": true,
            "ticks": "",
            "zerolinecolor": "white"
           },
           "yaxis": {
            "backgroundcolor": "#E5ECF6",
            "gridcolor": "white",
            "gridwidth": 2,
            "linecolor": "white",
            "showbackground": true,
            "ticks": "",
            "zerolinecolor": "white"
           },
           "zaxis": {
            "backgroundcolor": "#E5ECF6",
            "gridcolor": "white",
            "gridwidth": 2,
            "linecolor": "white",
            "showbackground": true,
            "ticks": "",
            "zerolinecolor": "white"
           }
          },
          "shapedefaults": {
           "line": {
            "color": "#2a3f5f"
           }
          },
          "ternary": {
           "aaxis": {
            "gridcolor": "white",
            "linecolor": "white",
            "ticks": ""
           },
           "baxis": {
            "gridcolor": "white",
            "linecolor": "white",
            "ticks": ""
           },
           "bgcolor": "#E5ECF6",
           "caxis": {
            "gridcolor": "white",
            "linecolor": "white",
            "ticks": ""
           }
          },
          "title": {
           "x": 0.05
          },
          "xaxis": {
           "automargin": true,
           "gridcolor": "white",
           "linecolor": "white",
           "ticks": "",
           "title": {
            "standoff": 15
           },
           "zerolinecolor": "white",
           "zerolinewidth": 2
          },
          "yaxis": {
           "automargin": true,
           "gridcolor": "white",
           "linecolor": "white",
           "ticks": "",
           "title": {
            "standoff": 15
           },
           "zerolinecolor": "white",
           "zerolinewidth": 2
          }
         }
        },
        "title": {
         "text": "UK House Price Index vs. Weekly Earnings, CPI Adjusted GBP (2024)"
        },
        "width": 800,
        "xaxis": {
         "anchor": "y",
         "domain": [
          0,
          1
         ],
         "title": {
          "text": "Average Weekly Earnings"
         }
        },
        "yaxis": {
         "anchor": "x",
         "domain": [
          0,
          1
         ],
         "title": {
          "text": "Residential Property Price Index"
         }
        }
       }
      }
     },
     "metadata": {},
     "output_type": "display_data"
    }
   ],
   "source": [
    "import seaborn as sns\n",
    "\n",
    "fig = px.scatter(df,x='real_wages_gbp',y='real_prop_gbp',\n",
    "              labels={\n",
    "                  'real_wages_gbp':'Average Weekly Earnings',\n",
    "                  'real_prop_gbp':'Residential Property Price Index'\n",
    "              },\n",
    "              width=800, height=600, trendline=\"ols\",\n",
    "              title='UK House Price Index vs. Weekly Earnings, CPI Adjusted GBP (2024)')\n",
    "\n",
    "fig.update_layout(legend=dict(\n",
    "    title='Region',\n",
    "    yanchor=\"top\",\n",
    "    y=0.99,\n",
    "    xanchor=\"left\",\n",
    "    x=0.01\n",
    "))\n",
    "\n",
    "fig.show()"
   ]
  },
  {
   "cell_type": "code",
   "execution_count": 235,
   "metadata": {},
   "outputs": [
    {
     "data": {
      "application/vnd.plotly.v1+json": {
       "config": {
        "plotlyServerURL": "https://plot.ly"
       },
       "data": [
        {
         "hovertemplate": "Nominal Mortgage Rate=%{x}<br>Residential Property Price Index=%{y}<extra></extra>",
         "legendgroup": "",
         "marker": {
          "color": "#636efa",
          "symbol": "circle"
         },
         "mode": "markers",
         "name": "",
         "orientation": "v",
         "showlegend": false,
         "type": "scatter",
         "x": [
          5.25,
          6.25,
          6.75,
          6.53,
          6.3,
          6.08,
          5.85,
          5.83,
          5.81,
          5.79,
          5.77,
          5.82,
          5.87,
          5.87,
          5.57,
          5.44,
          5.21,
          4.97,
          4.87,
          4.82,
          4.79,
          4.76,
          4.74,
          4.77,
          4.8,
          4.71,
          4.68,
          4.35,
          4.29,
          4.24,
          4.2,
          4.18,
          4.19,
          4.32,
          4.55,
          4.58,
          4.66,
          5.32,
          5.98,
          6.13,
          5.98,
          5.89,
          6.28,
          6.61,
          6.27,
          6.16,
          6.63,
          6.95,
          7.2,
          7.46,
          8.08,
          8.58,
          8.59,
          8.26,
          9.59,
          10.69,
          11.07,
          11.07,
          11.05,
          9.93,
          11.34,
          14.18,
          14.24,
          13.48,
          11.6,
          11.7,
          13.4,
          11.85,
          11.3,
          11.08,
          13.7,
          15.02,
          12.55,
          10.34,
          8,
          7.67,
          7.83,
          6.67,
          7.18,
          7.71,
          6.82,
          7.09,
          6.44,
          5.39,
          4.96,
          5.28,
          5.47,
          5.35,
          5.79,
          5.7,
          3.71,
          3.6,
          3.43,
          3.38,
          3.33,
          3.22,
          3.08,
          2.84
         ],
         "xaxis": "x",
         "y": [
          3.8783254597192385,
          3.990363203533578,
          5.346352729078145,
          6.446256862816329,
          7.378586830838727,
          7.64097037078088,
          8.26150522250803,
          8.401813899787633,
          8.661781332229998,
          8.75417094747926,
          9.168052365374404,
          9.577120768541748,
          9.831165363255277,
          10.113429999417148,
          10.372506894442967,
          9.847590993483548,
          9.726078089388652,
          9.445197855724063,
          8.97932215179157,
          9.276922215108836,
          9.429864970862711,
          8.731328170883172,
          8.89987675788461,
          9.680826128570509,
          10.553766663664204,
          12.128976345189479,
          14.404852755176783,
          17.099339198291066,
          22.111385609723936,
          24.006723264376298,
          22.238636593210714,
          22.089231390039288,
          21.374054940708028,
          19.098942395032914,
          16.91903478585348,
          16.171830571468316,
          15.751167632393136,
          15.470991556112924,
          14.898582993502584,
          14.635719402755194,
          15.016411559033626,
          16.119747723565432,
          17.107254685867545,
          17.55587910383712,
          18.590000848857642,
          20.44087613106539,
          21.168827925250536,
          21.48602172530364,
          22.592454380322057,
          23.018296695556508,
          23.224798286119196,
          23.172692252629133,
          23.774008389606436,
          29.592265560559433,
          36.892057537559694,
          34.59935207189856,
          29.857893546107135,
          28.106329434855642,
          26.251550071994462,
          28.28990914176347,
          32.912322103869855,
          34.620924038396694,
          32.647233038955385,
          30.93135200362896,
          32.86331026631857,
          34.4683133173913,
          35.81627441134388,
          39.4140581612534,
          44.51529787554987,
          53.8758498949369,
          61.63967366003901,
          57.03955492195791,
          52.40126201093423,
          48.33726224771746,
          45.85896778344399,
          46.27184262062378,
          45.11821904075761,
          45.62570628843935,
          48.84855584499995,
          53.74879338592974,
          58.827416719555316,
          66.92547818560867,
          71.87698682103812,
          82.7690657512999,
          93.33666797899612,
          103.03165264539979,
          106.48938276613832,
          112.24876478640701,
          120.55788176072426,
          111.14730586538494,
          99.11728647528902,
          101.4363271516008,
          95.6920567158826,
          93.42655520024043,
          93.43529119602405,
          99.4800956722611,
          105.36083685109527,
          112.30169696156915
         ],
         "yaxis": "y"
        },
        {
         "hovertemplate": "<b>OLS trendline</b><br>real_prop_gbp = -0.748109 * nominal_mortrate_perc + 41.5153<br>R<sup>2</sup>=0.004626<br><br>Nominal Mortgage Rate=%{x}<br>Residential Property Price Index=%{y} <b>(trend)</b><extra></extra>",
         "legendgroup": "",
         "marker": {
          "color": "#636efa",
          "symbol": "circle"
         },
         "mode": "lines",
         "name": "",
         "showlegend": false,
         "type": "scatter",
         "x": [
          2.84,
          3.08,
          3.22,
          3.33,
          3.38,
          3.43,
          3.6,
          3.71,
          4.18,
          4.19,
          4.2,
          4.24,
          4.29,
          4.32,
          4.35,
          4.55,
          4.58,
          4.66,
          4.68,
          4.71,
          4.74,
          4.76,
          4.77,
          4.79,
          4.8,
          4.82,
          4.87,
          4.96,
          4.97,
          5.21,
          5.25,
          5.28,
          5.32,
          5.35,
          5.39,
          5.44,
          5.47,
          5.57,
          5.7,
          5.77,
          5.79,
          5.79,
          5.81,
          5.82,
          5.83,
          5.85,
          5.87,
          5.87,
          5.89,
          5.98,
          5.98,
          6.08,
          6.13,
          6.16,
          6.25,
          6.27,
          6.28,
          6.3,
          6.44,
          6.53,
          6.61,
          6.63,
          6.67,
          6.75,
          6.82,
          6.95,
          7.09,
          7.18,
          7.2,
          7.46,
          7.67,
          7.71,
          7.83,
          8,
          8.08,
          8.26,
          8.58,
          8.59,
          9.59,
          9.93,
          10.34,
          10.69,
          11.05,
          11.07,
          11.07,
          11.08,
          11.3,
          11.34,
          11.6,
          11.7,
          11.85,
          12.55,
          13.4,
          13.48,
          13.7,
          14.18,
          14.24,
          15.02
         ],
         "xaxis": "x",
         "y": [
          39.39064634780557,
          39.2111002743573,
          39.106365064845804,
          39.024073114515346,
          38.98666768254696,
          38.94926225057856,
          38.822083781886036,
          38.73979183155558,
          38.38818077105271,
          38.38069968465903,
          38.37321859826535,
          38.34329425269064,
          38.30588882072225,
          38.283445561541214,
          38.26100230236018,
          38.11138057448662,
          38.088937315305586,
          38.02908862415616,
          38.0141264513688,
          37.99168319218777,
          37.96923993300673,
          37.95427776021938,
          37.9467966738257,
          37.931834501038345,
          37.92435341464466,
          37.90939124185731,
          37.87198580988892,
          37.80465603234582,
          37.797174945952136,
          37.617628872503865,
          37.58770452692915,
          37.56526126774812,
          37.53533692217341,
          37.51289366299237,
          37.482969317417655,
          37.44556388544927,
          37.423120626268236,
          37.34830976233145,
          37.25105563921364,
          37.19868803445789,
          37.18372586167054,
          37.18372586167054,
          37.16876368888318,
          37.1612826024895,
          37.153801516095825,
          37.13883934330847,
          37.12387717052111,
          37.12387717052111,
          37.108914997733756,
          37.041585220190655,
          37.041585220190655,
          36.96677435625387,
          36.92936892428548,
          36.906925665104445,
          36.839595887561345,
          36.82463371477399,
          36.817152628380306,
          36.80219045559295,
          36.69745524608146,
          36.63012546853835,
          36.57027677738893,
          36.55531460460158,
          36.525390259026864,
          36.46554156787744,
          36.41317396312169,
          36.31591984000387,
          36.21118463049238,
          36.14385485294928,
          36.128892680161925,
          35.93438443392629,
          35.77728161965905,
          35.74735727408434,
          35.657584237360204,
          35.53040576866768,
          35.47055707751825,
          35.33589752243205,
          35.096502757834344,
          35.08902167144067,
          34.340913032072855,
          34.0865560946878,
          33.779831552547,
          33.517993528768265,
          33.248674418595854,
          33.2337122458085,
          33.2337122458085,
          33.22623115941482,
          33.0616472587539,
          33.031722913179195,
          32.83721466694356,
          32.76240380300678,
          32.650187507101606,
          32.12651145954414,
          31.490619116081504,
          31.430770424932078,
          31.26618652427116,
          30.907094377374612,
          30.862207859012543,
          30.27868312030565
         ],
         "yaxis": "y"
        }
       ],
       "layout": {
        "height": 600,
        "legend": {
         "title": {
          "text": "Region"
         },
         "tracegroupgap": 0,
         "x": 0.01,
         "xanchor": "left",
         "y": 0.99,
         "yanchor": "top"
        },
        "template": {
         "data": {
          "bar": [
           {
            "error_x": {
             "color": "#2a3f5f"
            },
            "error_y": {
             "color": "#2a3f5f"
            },
            "marker": {
             "line": {
              "color": "#E5ECF6",
              "width": 0.5
             },
             "pattern": {
              "fillmode": "overlay",
              "size": 10,
              "solidity": 0.2
             }
            },
            "type": "bar"
           }
          ],
          "barpolar": [
           {
            "marker": {
             "line": {
              "color": "#E5ECF6",
              "width": 0.5
             },
             "pattern": {
              "fillmode": "overlay",
              "size": 10,
              "solidity": 0.2
             }
            },
            "type": "barpolar"
           }
          ],
          "carpet": [
           {
            "aaxis": {
             "endlinecolor": "#2a3f5f",
             "gridcolor": "white",
             "linecolor": "white",
             "minorgridcolor": "white",
             "startlinecolor": "#2a3f5f"
            },
            "baxis": {
             "endlinecolor": "#2a3f5f",
             "gridcolor": "white",
             "linecolor": "white",
             "minorgridcolor": "white",
             "startlinecolor": "#2a3f5f"
            },
            "type": "carpet"
           }
          ],
          "choropleth": [
           {
            "colorbar": {
             "outlinewidth": 0,
             "ticks": ""
            },
            "type": "choropleth"
           }
          ],
          "contour": [
           {
            "colorbar": {
             "outlinewidth": 0,
             "ticks": ""
            },
            "colorscale": [
             [
              0,
              "#0d0887"
             ],
             [
              0.1111111111111111,
              "#46039f"
             ],
             [
              0.2222222222222222,
              "#7201a8"
             ],
             [
              0.3333333333333333,
              "#9c179e"
             ],
             [
              0.4444444444444444,
              "#bd3786"
             ],
             [
              0.5555555555555556,
              "#d8576b"
             ],
             [
              0.6666666666666666,
              "#ed7953"
             ],
             [
              0.7777777777777778,
              "#fb9f3a"
             ],
             [
              0.8888888888888888,
              "#fdca26"
             ],
             [
              1,
              "#f0f921"
             ]
            ],
            "type": "contour"
           }
          ],
          "contourcarpet": [
           {
            "colorbar": {
             "outlinewidth": 0,
             "ticks": ""
            },
            "type": "contourcarpet"
           }
          ],
          "heatmap": [
           {
            "colorbar": {
             "outlinewidth": 0,
             "ticks": ""
            },
            "colorscale": [
             [
              0,
              "#0d0887"
             ],
             [
              0.1111111111111111,
              "#46039f"
             ],
             [
              0.2222222222222222,
              "#7201a8"
             ],
             [
              0.3333333333333333,
              "#9c179e"
             ],
             [
              0.4444444444444444,
              "#bd3786"
             ],
             [
              0.5555555555555556,
              "#d8576b"
             ],
             [
              0.6666666666666666,
              "#ed7953"
             ],
             [
              0.7777777777777778,
              "#fb9f3a"
             ],
             [
              0.8888888888888888,
              "#fdca26"
             ],
             [
              1,
              "#f0f921"
             ]
            ],
            "type": "heatmap"
           }
          ],
          "heatmapgl": [
           {
            "colorbar": {
             "outlinewidth": 0,
             "ticks": ""
            },
            "colorscale": [
             [
              0,
              "#0d0887"
             ],
             [
              0.1111111111111111,
              "#46039f"
             ],
             [
              0.2222222222222222,
              "#7201a8"
             ],
             [
              0.3333333333333333,
              "#9c179e"
             ],
             [
              0.4444444444444444,
              "#bd3786"
             ],
             [
              0.5555555555555556,
              "#d8576b"
             ],
             [
              0.6666666666666666,
              "#ed7953"
             ],
             [
              0.7777777777777778,
              "#fb9f3a"
             ],
             [
              0.8888888888888888,
              "#fdca26"
             ],
             [
              1,
              "#f0f921"
             ]
            ],
            "type": "heatmapgl"
           }
          ],
          "histogram": [
           {
            "marker": {
             "pattern": {
              "fillmode": "overlay",
              "size": 10,
              "solidity": 0.2
             }
            },
            "type": "histogram"
           }
          ],
          "histogram2d": [
           {
            "colorbar": {
             "outlinewidth": 0,
             "ticks": ""
            },
            "colorscale": [
             [
              0,
              "#0d0887"
             ],
             [
              0.1111111111111111,
              "#46039f"
             ],
             [
              0.2222222222222222,
              "#7201a8"
             ],
             [
              0.3333333333333333,
              "#9c179e"
             ],
             [
              0.4444444444444444,
              "#bd3786"
             ],
             [
              0.5555555555555556,
              "#d8576b"
             ],
             [
              0.6666666666666666,
              "#ed7953"
             ],
             [
              0.7777777777777778,
              "#fb9f3a"
             ],
             [
              0.8888888888888888,
              "#fdca26"
             ],
             [
              1,
              "#f0f921"
             ]
            ],
            "type": "histogram2d"
           }
          ],
          "histogram2dcontour": [
           {
            "colorbar": {
             "outlinewidth": 0,
             "ticks": ""
            },
            "colorscale": [
             [
              0,
              "#0d0887"
             ],
             [
              0.1111111111111111,
              "#46039f"
             ],
             [
              0.2222222222222222,
              "#7201a8"
             ],
             [
              0.3333333333333333,
              "#9c179e"
             ],
             [
              0.4444444444444444,
              "#bd3786"
             ],
             [
              0.5555555555555556,
              "#d8576b"
             ],
             [
              0.6666666666666666,
              "#ed7953"
             ],
             [
              0.7777777777777778,
              "#fb9f3a"
             ],
             [
              0.8888888888888888,
              "#fdca26"
             ],
             [
              1,
              "#f0f921"
             ]
            ],
            "type": "histogram2dcontour"
           }
          ],
          "mesh3d": [
           {
            "colorbar": {
             "outlinewidth": 0,
             "ticks": ""
            },
            "type": "mesh3d"
           }
          ],
          "parcoords": [
           {
            "line": {
             "colorbar": {
              "outlinewidth": 0,
              "ticks": ""
             }
            },
            "type": "parcoords"
           }
          ],
          "pie": [
           {
            "automargin": true,
            "type": "pie"
           }
          ],
          "scatter": [
           {
            "fillpattern": {
             "fillmode": "overlay",
             "size": 10,
             "solidity": 0.2
            },
            "type": "scatter"
           }
          ],
          "scatter3d": [
           {
            "line": {
             "colorbar": {
              "outlinewidth": 0,
              "ticks": ""
             }
            },
            "marker": {
             "colorbar": {
              "outlinewidth": 0,
              "ticks": ""
             }
            },
            "type": "scatter3d"
           }
          ],
          "scattercarpet": [
           {
            "marker": {
             "colorbar": {
              "outlinewidth": 0,
              "ticks": ""
             }
            },
            "type": "scattercarpet"
           }
          ],
          "scattergeo": [
           {
            "marker": {
             "colorbar": {
              "outlinewidth": 0,
              "ticks": ""
             }
            },
            "type": "scattergeo"
           }
          ],
          "scattergl": [
           {
            "marker": {
             "colorbar": {
              "outlinewidth": 0,
              "ticks": ""
             }
            },
            "type": "scattergl"
           }
          ],
          "scattermapbox": [
           {
            "marker": {
             "colorbar": {
              "outlinewidth": 0,
              "ticks": ""
             }
            },
            "type": "scattermapbox"
           }
          ],
          "scatterpolar": [
           {
            "marker": {
             "colorbar": {
              "outlinewidth": 0,
              "ticks": ""
             }
            },
            "type": "scatterpolar"
           }
          ],
          "scatterpolargl": [
           {
            "marker": {
             "colorbar": {
              "outlinewidth": 0,
              "ticks": ""
             }
            },
            "type": "scatterpolargl"
           }
          ],
          "scatterternary": [
           {
            "marker": {
             "colorbar": {
              "outlinewidth": 0,
              "ticks": ""
             }
            },
            "type": "scatterternary"
           }
          ],
          "surface": [
           {
            "colorbar": {
             "outlinewidth": 0,
             "ticks": ""
            },
            "colorscale": [
             [
              0,
              "#0d0887"
             ],
             [
              0.1111111111111111,
              "#46039f"
             ],
             [
              0.2222222222222222,
              "#7201a8"
             ],
             [
              0.3333333333333333,
              "#9c179e"
             ],
             [
              0.4444444444444444,
              "#bd3786"
             ],
             [
              0.5555555555555556,
              "#d8576b"
             ],
             [
              0.6666666666666666,
              "#ed7953"
             ],
             [
              0.7777777777777778,
              "#fb9f3a"
             ],
             [
              0.8888888888888888,
              "#fdca26"
             ],
             [
              1,
              "#f0f921"
             ]
            ],
            "type": "surface"
           }
          ],
          "table": [
           {
            "cells": {
             "fill": {
              "color": "#EBF0F8"
             },
             "line": {
              "color": "white"
             }
            },
            "header": {
             "fill": {
              "color": "#C8D4E3"
             },
             "line": {
              "color": "white"
             }
            },
            "type": "table"
           }
          ]
         },
         "layout": {
          "annotationdefaults": {
           "arrowcolor": "#2a3f5f",
           "arrowhead": 0,
           "arrowwidth": 1
          },
          "autotypenumbers": "strict",
          "coloraxis": {
           "colorbar": {
            "outlinewidth": 0,
            "ticks": ""
           }
          },
          "colorscale": {
           "diverging": [
            [
             0,
             "#8e0152"
            ],
            [
             0.1,
             "#c51b7d"
            ],
            [
             0.2,
             "#de77ae"
            ],
            [
             0.3,
             "#f1b6da"
            ],
            [
             0.4,
             "#fde0ef"
            ],
            [
             0.5,
             "#f7f7f7"
            ],
            [
             0.6,
             "#e6f5d0"
            ],
            [
             0.7,
             "#b8e186"
            ],
            [
             0.8,
             "#7fbc41"
            ],
            [
             0.9,
             "#4d9221"
            ],
            [
             1,
             "#276419"
            ]
           ],
           "sequential": [
            [
             0,
             "#0d0887"
            ],
            [
             0.1111111111111111,
             "#46039f"
            ],
            [
             0.2222222222222222,
             "#7201a8"
            ],
            [
             0.3333333333333333,
             "#9c179e"
            ],
            [
             0.4444444444444444,
             "#bd3786"
            ],
            [
             0.5555555555555556,
             "#d8576b"
            ],
            [
             0.6666666666666666,
             "#ed7953"
            ],
            [
             0.7777777777777778,
             "#fb9f3a"
            ],
            [
             0.8888888888888888,
             "#fdca26"
            ],
            [
             1,
             "#f0f921"
            ]
           ],
           "sequentialminus": [
            [
             0,
             "#0d0887"
            ],
            [
             0.1111111111111111,
             "#46039f"
            ],
            [
             0.2222222222222222,
             "#7201a8"
            ],
            [
             0.3333333333333333,
             "#9c179e"
            ],
            [
             0.4444444444444444,
             "#bd3786"
            ],
            [
             0.5555555555555556,
             "#d8576b"
            ],
            [
             0.6666666666666666,
             "#ed7953"
            ],
            [
             0.7777777777777778,
             "#fb9f3a"
            ],
            [
             0.8888888888888888,
             "#fdca26"
            ],
            [
             1,
             "#f0f921"
            ]
           ]
          },
          "colorway": [
           "#636efa",
           "#EF553B",
           "#00cc96",
           "#ab63fa",
           "#FFA15A",
           "#19d3f3",
           "#FF6692",
           "#B6E880",
           "#FF97FF",
           "#FECB52"
          ],
          "font": {
           "color": "#2a3f5f"
          },
          "geo": {
           "bgcolor": "white",
           "lakecolor": "white",
           "landcolor": "#E5ECF6",
           "showlakes": true,
           "showland": true,
           "subunitcolor": "white"
          },
          "hoverlabel": {
           "align": "left"
          },
          "hovermode": "closest",
          "mapbox": {
           "style": "light"
          },
          "paper_bgcolor": "white",
          "plot_bgcolor": "#E5ECF6",
          "polar": {
           "angularaxis": {
            "gridcolor": "white",
            "linecolor": "white",
            "ticks": ""
           },
           "bgcolor": "#E5ECF6",
           "radialaxis": {
            "gridcolor": "white",
            "linecolor": "white",
            "ticks": ""
           }
          },
          "scene": {
           "xaxis": {
            "backgroundcolor": "#E5ECF6",
            "gridcolor": "white",
            "gridwidth": 2,
            "linecolor": "white",
            "showbackground": true,
            "ticks": "",
            "zerolinecolor": "white"
           },
           "yaxis": {
            "backgroundcolor": "#E5ECF6",
            "gridcolor": "white",
            "gridwidth": 2,
            "linecolor": "white",
            "showbackground": true,
            "ticks": "",
            "zerolinecolor": "white"
           },
           "zaxis": {
            "backgroundcolor": "#E5ECF6",
            "gridcolor": "white",
            "gridwidth": 2,
            "linecolor": "white",
            "showbackground": true,
            "ticks": "",
            "zerolinecolor": "white"
           }
          },
          "shapedefaults": {
           "line": {
            "color": "#2a3f5f"
           }
          },
          "ternary": {
           "aaxis": {
            "gridcolor": "white",
            "linecolor": "white",
            "ticks": ""
           },
           "baxis": {
            "gridcolor": "white",
            "linecolor": "white",
            "ticks": ""
           },
           "bgcolor": "#E5ECF6",
           "caxis": {
            "gridcolor": "white",
            "linecolor": "white",
            "ticks": ""
           }
          },
          "title": {
           "x": 0.05
          },
          "xaxis": {
           "automargin": true,
           "gridcolor": "white",
           "linecolor": "white",
           "ticks": "",
           "title": {
            "standoff": 15
           },
           "zerolinecolor": "white",
           "zerolinewidth": 2
          },
          "yaxis": {
           "automargin": true,
           "gridcolor": "white",
           "linecolor": "white",
           "ticks": "",
           "title": {
            "standoff": 15
           },
           "zerolinecolor": "white",
           "zerolinewidth": 2
          }
         }
        },
        "title": {
         "text": "UK House Price Index (CPI Adjusted GBP, 2024) vs. Nominal Mortgage Rates (%)"
        },
        "width": 800,
        "xaxis": {
         "anchor": "y",
         "domain": [
          0,
          1
         ],
         "title": {
          "text": "Nominal Mortgage Rate"
         }
        },
        "yaxis": {
         "anchor": "x",
         "domain": [
          0,
          1
         ],
         "title": {
          "text": "Residential Property Price Index"
         }
        }
       }
      }
     },
     "metadata": {},
     "output_type": "display_data"
    }
   ],
   "source": [
    "fig = px.scatter(df,x='nominal_mortrate_perc',y='real_prop_gbp',\n",
    "              labels={\n",
    "                  'nominal_mortrate_perc':'Nominal Mortgage Rate',\n",
    "                  'real_prop_gbp':'Residential Property Price Index'\n",
    "              },\n",
    "              width=800, height=600, trendline=\"ols\",\n",
    "              title='UK House Price Index (CPI Adjusted GBP, 2024) vs. Nominal Mortgage Rates (%)')\n",
    "\n",
    "fig.update_layout(legend=dict(\n",
    "    title='Region',\n",
    "    yanchor=\"top\",\n",
    "    y=0.99,\n",
    "    xanchor=\"left\",\n",
    "    x=0.01\n",
    "))\n",
    "\n",
    "fig.show()"
   ]
  },
  {
   "cell_type": "code",
   "execution_count": 254,
   "metadata": {},
   "outputs": [
    {
     "data": {
      "text/plain": [
       "<Axes: xlabel='year', ylabel='real_wages_gbp'>"
      ]
     },
     "execution_count": 254,
     "metadata": {},
     "output_type": "execute_result"
    },
    {
     "data": {
      "image/png": "[encoded data removed]",
      "text/plain": [
       "<Figure size 640x480 with 1 Axes>"
      ]
     },
     "metadata": {},
     "output_type": "display_data"
    }
   ],
   "source": [
    "import seaborn as sns\n",
    "df_test = df.loc[df.index>1989]\n",
    "sns.scatterplot(x=df_test.index,y=df_test['real_wages_gbp'])"
   ]
  },
  {
   "cell_type": "code",
   "execution_count": null,
   "metadata": {},
   "outputs": [
    {
     "data": {
      "text/html": [
       "<div>\n",
       "<style scoped>\n",
       "    .dataframe tbody tr th:only-of-type {\n",
       "        vertical-align: middle;\n",
       "    }\n",
       "\n",
       "    .dataframe tbody tr th {\n",
       "        vertical-align: top;\n",
       "    }\n",
       "\n",
       "    .dataframe thead th {\n",
       "        text-align: right;\n",
       "    }\n",
       "</style>\n",
       "<table border=\"1\" class=\"dataframe\">\n",
       "  <thead>\n",
       "    <tr style=\"text-align: right;\">\n",
       "      <th></th>\n",
       "      <th>AWEPPUKQ</th>\n",
       "      <th>HPIUKA</th>\n",
       "      <th>CMRAUKA</th>\n",
       "      <th>FPCPITOTLZGGBR</th>\n",
       "      <th>CPIUKQ</th>\n",
       "      <th>real_prop_gbp</th>\n",
       "      <th>real_wages_gbp</th>\n",
       "      <th>nominal_mortrate_perc</th>\n",
       "    </tr>\n",
       "    <tr>\n",
       "      <th>year</th>\n",
       "      <th></th>\n",
       "      <th></th>\n",
       "      <th></th>\n",
       "      <th></th>\n",
       "      <th></th>\n",
       "      <th></th>\n",
       "      <th></th>\n",
       "      <th></th>\n",
       "    </tr>\n",
       "  </thead>\n",
       "  <tbody>\n",
       "    <tr>\n",
       "      <th>2001</th>\n",
       "      <td>334.0000</td>\n",
       "      <td>52.10</td>\n",
       "      <td>6.44</td>\n",
       "      <td>1.532350</td>\n",
       "      <td>1.379597</td>\n",
       "      <td>71.876987</td>\n",
       "      <td>460.785290</td>\n",
       "      <td>6.44</td>\n",
       "    </tr>\n",
       "    <tr>\n",
       "      <th>2002</th>\n",
       "      <td>344.5850</td>\n",
       "      <td>60.75</td>\n",
       "      <td>5.39</td>\n",
       "      <td>1.520402</td>\n",
       "      <td>1.362454</td>\n",
       "      <td>82.769066</td>\n",
       "      <td>469.481128</td>\n",
       "      <td>5.39</td>\n",
       "    </tr>\n",
       "    <tr>\n",
       "      <th>2003</th>\n",
       "      <td>355.6650</td>\n",
       "      <td>69.44</td>\n",
       "      <td>4.96</td>\n",
       "      <td>1.376500</td>\n",
       "      <td>1.344134</td>\n",
       "      <td>93.336668</td>\n",
       "      <td>478.061435</td>\n",
       "      <td>4.96</td>\n",
       "    </tr>\n",
       "    <tr>\n",
       "      <th>2004</th>\n",
       "      <td>371.1675</td>\n",
       "      <td>77.68</td>\n",
       "      <td>5.28</td>\n",
       "      <td>1.390398</td>\n",
       "      <td>1.326360</td>\n",
       "      <td>103.031653</td>\n",
       "      <td>492.301763</td>\n",
       "      <td>5.28</td>\n",
       "    </tr>\n",
       "    <tr>\n",
       "      <th>2005</th>\n",
       "      <td>388.5000</td>\n",
       "      <td>81.94</td>\n",
       "      <td>5.47</td>\n",
       "      <td>2.089136</td>\n",
       "      <td>1.299602</td>\n",
       "      <td>106.489383</td>\n",
       "      <td>504.895353</td>\n",
       "      <td>5.47</td>\n",
       "    </tr>\n",
       "    <tr>\n",
       "      <th>2006</th>\n",
       "      <td>406.7475</td>\n",
       "      <td>88.38</td>\n",
       "      <td>5.35</td>\n",
       "      <td>2.455662</td>\n",
       "      <td>1.270070</td>\n",
       "      <td>112.248765</td>\n",
       "      <td>516.597697</td>\n",
       "      <td>5.35</td>\n",
       "    </tr>\n",
       "  </tbody>\n",
       "</table>\n",
       "</div>"
      ],
      "text/plain": [
       "      AWEPPUKQ  HPIUKA  CMRAUKA  FPCPITOTLZGGBR    CPIUKQ  real_prop_gbp  \\\n",
       "year                                                                       \n",
       "2001  334.0000   52.10     6.44        1.532350  1.379597      71.876987   \n",
       "2002  344.5850   60.75     5.39        1.520402  1.362454      82.769066   \n",
       "2003  355.6650   69.44     4.96        1.376500  1.344134      93.336668   \n",
       "2004  371.1675   77.68     5.28        1.390398  1.326360     103.031653   \n",
       "2005  388.5000   81.94     5.47        2.089136  1.299602     106.489383   \n",
       "2006  406.7475   88.38     5.35        2.455662  1.270070     112.248765   \n",
       "\n",
       "      real_wages_gbp  nominal_mortrate_perc  \n",
       "year                                         \n",
       "2001      460.785290                   6.44  \n",
       "2002      469.481128                   5.39  \n",
       "2003      478.061435                   4.96  \n",
       "2004      492.301763                   5.28  \n",
       "2005      504.895353                   5.47  \n",
       "2006      516.597697                   5.35  "
      ]
     },
     "execution_count": 251,
     "metadata": {},
     "output_type": "execute_result"
    }
   ],
   "source": []
  }
 ],
 "metadata": {
  "kernelspec": {
   "display_name": "base",
   "language": "python",
   "name": "python3"
  },
  "language_info": {
   "codemirror_mode": {
    "name": "ipython",
    "version": 3
   },
   "file_extension": ".py",
   "mimetype": "text/x-python",
   "name": "python",
   "nbconvert_exporter": "python",
   "pygments_lexer": "ipython3",
   "version": "3.12.7"
  }
 },
 "nbformat": 4,
 "nbformat_minor": 2
}
