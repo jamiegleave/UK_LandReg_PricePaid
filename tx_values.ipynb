{
 "cells": [
  {
   "cell_type": "code",
   "execution_count": 3,
   "metadata": {},
   "outputs": [],
   "source": [
    "import sys         \n",
    "\n",
    "import pandas as pd\n",
    "import numpy as np\n",
    "from scipy.stats import iqr\n",
    "\n",
    "from ppc_db import postgresql_extractdata\n",
    "\n",
    "sys.path.append(r'C:\\Users\\jamie\\OneDrive\\Python\\Py_24\\Git_master\\econ')\n",
    "import fred\n",
    "\n",
    "db_args = {\n",
    "    'host':'localhost',\n",
    "    'database':'LandRegData',\n",
    "    'user':'root',\n",
    "    'password':'password'\n",
    " }"
   ]
  },
  {
   "cell_type": "code",
   "execution_count": 4,
   "metadata": {},
   "outputs": [],
   "source": [
    "cols = ['region', 'price_gbp']\n",
    "\n",
    "query = f\"SELECT {\", \".join(str(x) for x in cols)} FROM Oct24pricepaidcomplete INNER JOIN county_region ON oct24pricepaidcomplete.county=county_region.county WHERE EXTRACT(YEAR FROM date)=2023\"\n",
    "df = pd.DataFrame(postgresql_extractdata(query, **db_args),\n",
    "                  columns=['Month' if x=='EXTRACT(MONTH FROM date)' else 'Year' if x=='EXTRACT(YEAR FROM date)' else x for x in cols])\n"
   ]
  },
  {
   "cell_type": "code",
   "execution_count": 8,
   "metadata": {},
   "outputs": [],
   "source": [
    "# PostgreSQL Quantiles\n",
    "\n",
    "cols = ['EXTRACT(YEAR FROM date)', 'region',\n",
    "        'percentile_disc(0.25) WITHIN GROUP (order by price_gbp)',\n",
    "        'percentile_disc(0.50) WITHIN GROUP (order by price_gbp)',\n",
    "        'percentile_disc(0.75) WITHIN GROUP (order by price_gbp)']\n",
    "\n",
    "query = f\"SELECT {\", \".join(str(x) for x in cols)} from oct24pricepaidcomplete INNER JOIN county_region ON oct24pricepaidcomplete.county=county_region.county GROUP BY EXTRACT(YEAR FROM date), region\"\n",
    "\n",
    "df = pd.DataFrame(postgresql_extractdata(query, **db_args),\n",
    "                      columns=['Year','region','0.25','0.50','0.75']).set_index('Year')\n",
    "\n",
    "#SELECT EXTRACT(YEAR FROM date), region from oct24pricepaidcomplete INNER JOIN county_region ON oct24pricepaidcomplete.county=county_region.county GROUP BY EXTRACT(YEAR FROM date), region\n"
   ]
  },
  {
   "cell_type": "code",
   "execution_count": 14,
   "metadata": {},
   "outputs": [
    {
     "data": {
      "text/html": [
       "<div>\n",
       "<style scoped>\n",
       "    .dataframe tbody tr th:only-of-type {\n",
       "        vertical-align: middle;\n",
       "    }\n",
       "\n",
       "    .dataframe tbody tr th {\n",
       "        vertical-align: top;\n",
       "    }\n",
       "\n",
       "    .dataframe thead th {\n",
       "        text-align: right;\n",
       "    }\n",
       "</style>\n",
       "<table border=\"1\" class=\"dataframe\">\n",
       "  <thead>\n",
       "    <tr style=\"text-align: right;\">\n",
       "      <th></th>\n",
       "      <th>region</th>\n",
       "      <th>0.25</th>\n",
       "      <th>0.50</th>\n",
       "      <th>0.75</th>\n",
       "    </tr>\n",
       "    <tr>\n",
       "      <th>Year</th>\n",
       "      <th></th>\n",
       "      <th></th>\n",
       "      <th></th>\n",
       "      <th></th>\n",
       "    </tr>\n",
       "  </thead>\n",
       "  <tbody>\n",
       "    <tr>\n",
       "      <th>1995</th>\n",
       "      <td>East Midlands</td>\n",
       "      <td>35000</td>\n",
       "      <td>45950</td>\n",
       "      <td>64000</td>\n",
       "    </tr>\n",
       "    <tr>\n",
       "      <th>1995</th>\n",
       "      <td>East of England</td>\n",
       "      <td>42250</td>\n",
       "      <td>57500</td>\n",
       "      <td>80250</td>\n",
       "    </tr>\n",
       "    <tr>\n",
       "      <th>1995</th>\n",
       "      <td>London</td>\n",
       "      <td>53500</td>\n",
       "      <td>72995</td>\n",
       "      <td>107000</td>\n",
       "    </tr>\n",
       "    <tr>\n",
       "      <th>1995</th>\n",
       "      <td>North East</td>\n",
       "      <td>30000</td>\n",
       "      <td>42250</td>\n",
       "      <td>59500</td>\n",
       "    </tr>\n",
       "    <tr>\n",
       "      <th>1995</th>\n",
       "      <td>North West</td>\n",
       "      <td>32500</td>\n",
       "      <td>45000</td>\n",
       "      <td>61335</td>\n",
       "    </tr>\n",
       "    <tr>\n",
       "      <th>...</th>\n",
       "      <td>...</td>\n",
       "      <td>...</td>\n",
       "      <td>...</td>\n",
       "      <td>...</td>\n",
       "    </tr>\n",
       "    <tr>\n",
       "      <th>2024</th>\n",
       "      <td>South East</td>\n",
       "      <td>265000</td>\n",
       "      <td>365000</td>\n",
       "      <td>515000</td>\n",
       "    </tr>\n",
       "    <tr>\n",
       "      <th>2024</th>\n",
       "      <td>South West</td>\n",
       "      <td>220000</td>\n",
       "      <td>297600</td>\n",
       "      <td>415000</td>\n",
       "    </tr>\n",
       "    <tr>\n",
       "      <th>2024</th>\n",
       "      <td>Wales</td>\n",
       "      <td>135000</td>\n",
       "      <td>191046</td>\n",
       "      <td>280000</td>\n",
       "    </tr>\n",
       "    <tr>\n",
       "      <th>2024</th>\n",
       "      <td>West Midlands</td>\n",
       "      <td>165000</td>\n",
       "      <td>228000</td>\n",
       "      <td>320000</td>\n",
       "    </tr>\n",
       "    <tr>\n",
       "      <th>2024</th>\n",
       "      <td>Yorkshire and the Humber</td>\n",
       "      <td>130000</td>\n",
       "      <td>185725</td>\n",
       "      <td>275000</td>\n",
       "    </tr>\n",
       "  </tbody>\n",
       "</table>\n",
       "<p>300 rows × 4 columns</p>\n",
       "</div>"
      ],
      "text/plain": [
       "                        region    0.25    0.50    0.75\n",
       "Year                                                  \n",
       "1995             East Midlands   35000   45950   64000\n",
       "1995           East of England   42250   57500   80250\n",
       "1995                    London   53500   72995  107000\n",
       "1995                North East   30000   42250   59500\n",
       "1995                North West   32500   45000   61335\n",
       "...                        ...     ...     ...     ...\n",
       "2024                South East  265000  365000  515000\n",
       "2024                South West  220000  297600  415000\n",
       "2024                     Wales  135000  191046  280000\n",
       "2024             West Midlands  165000  228000  320000\n",
       "2024  Yorkshire and the Humber  130000  185725  275000\n",
       "\n",
       "[300 rows x 4 columns]"
      ]
     },
     "execution_count": 14,
     "metadata": {},
     "output_type": "execute_result"
    }
   ],
   "source": [
    "df"
   ]
  },
  {
   "cell_type": "code",
   "execution_count": 53,
   "metadata": {},
   "outputs": [
    {
     "data": {
      "text/html": [
       "<div>\n",
       "<style scoped>\n",
       "    .dataframe tbody tr th:only-of-type {\n",
       "        vertical-align: middle;\n",
       "    }\n",
       "\n",
       "    .dataframe tbody tr th {\n",
       "        vertical-align: top;\n",
       "    }\n",
       "\n",
       "    .dataframe thead th {\n",
       "        text-align: right;\n",
       "    }\n",
       "</style>\n",
       "<table border=\"1\" class=\"dataframe\">\n",
       "  <thead>\n",
       "    <tr style=\"text-align: right;\">\n",
       "      <th>region</th>\n",
       "      <th>East Midlands</th>\n",
       "      <th>London</th>\n",
       "      <th>North East</th>\n",
       "      <th>North West</th>\n",
       "      <th>South East</th>\n",
       "    </tr>\n",
       "    <tr>\n",
       "      <th>Year</th>\n",
       "      <th></th>\n",
       "      <th></th>\n",
       "      <th></th>\n",
       "      <th></th>\n",
       "      <th></th>\n",
       "    </tr>\n",
       "  </thead>\n",
       "  <tbody>\n",
       "    <tr>\n",
       "      <th>1995</th>\n",
       "      <td>45950</td>\n",
       "      <td>72995</td>\n",
       "      <td>42250</td>\n",
       "      <td>45000</td>\n",
       "      <td>65000</td>\n",
       "    </tr>\n",
       "    <tr>\n",
       "      <th>1996</th>\n",
       "      <td>47500</td>\n",
       "      <td>77000</td>\n",
       "      <td>44500</td>\n",
       "      <td>46320</td>\n",
       "      <td>68500</td>\n",
       "    </tr>\n",
       "    <tr>\n",
       "      <th>1997</th>\n",
       "      <td>50000</td>\n",
       "      <td>86000</td>\n",
       "      <td>46995</td>\n",
       "      <td>49000</td>\n",
       "      <td>74500</td>\n",
       "    </tr>\n",
       "    <tr>\n",
       "      <th>1998</th>\n",
       "      <td>53500</td>\n",
       "      <td>96600</td>\n",
       "      <td>48000</td>\n",
       "      <td>50000</td>\n",
       "      <td>83000</td>\n",
       "    </tr>\n",
       "    <tr>\n",
       "      <th>1999</th>\n",
       "      <td>57500</td>\n",
       "      <td>118000</td>\n",
       "      <td>50500</td>\n",
       "      <td>53700</td>\n",
       "      <td>92500</td>\n",
       "    </tr>\n",
       "    <tr>\n",
       "      <th>2000</th>\n",
       "      <td>61500</td>\n",
       "      <td>138000</td>\n",
       "      <td>52000</td>\n",
       "      <td>56500</td>\n",
       "      <td>112000</td>\n",
       "    </tr>\n",
       "    <tr>\n",
       "      <th>2001</th>\n",
       "      <td>70000</td>\n",
       "      <td>155000</td>\n",
       "      <td>55000</td>\n",
       "      <td>60000</td>\n",
       "      <td>126000</td>\n",
       "    </tr>\n",
       "    <tr>\n",
       "      <th>2002</th>\n",
       "      <td>85000</td>\n",
       "      <td>180500</td>\n",
       "      <td>60000</td>\n",
       "      <td>70000</td>\n",
       "      <td>148000</td>\n",
       "    </tr>\n",
       "    <tr>\n",
       "      <th>2003</th>\n",
       "      <td>107000</td>\n",
       "      <td>200000</td>\n",
       "      <td>77950</td>\n",
       "      <td>85000</td>\n",
       "      <td>169950</td>\n",
       "    </tr>\n",
       "    <tr>\n",
       "      <th>2004</th>\n",
       "      <td>126500</td>\n",
       "      <td>220000</td>\n",
       "      <td>96000</td>\n",
       "      <td>108000</td>\n",
       "      <td>185000</td>\n",
       "    </tr>\n",
       "    <tr>\n",
       "      <th>2005</th>\n",
       "      <td>132000</td>\n",
       "      <td>230000</td>\n",
       "      <td>108937</td>\n",
       "      <td>119000</td>\n",
       "      <td>192000</td>\n",
       "    </tr>\n",
       "    <tr>\n",
       "      <th>2006</th>\n",
       "      <td>137000</td>\n",
       "      <td>245000</td>\n",
       "      <td>119000</td>\n",
       "      <td>127950</td>\n",
       "      <td>202500</td>\n",
       "    </tr>\n",
       "    <tr>\n",
       "      <th>2007</th>\n",
       "      <td>144500</td>\n",
       "      <td>263000</td>\n",
       "      <td>122500</td>\n",
       "      <td>134950</td>\n",
       "      <td>219950</td>\n",
       "    </tr>\n",
       "    <tr>\n",
       "      <th>2008</th>\n",
       "      <td>138000</td>\n",
       "      <td>259000</td>\n",
       "      <td>120000</td>\n",
       "      <td>129950</td>\n",
       "      <td>215000</td>\n",
       "    </tr>\n",
       "    <tr>\n",
       "      <th>2009</th>\n",
       "      <td>135000</td>\n",
       "      <td>250000</td>\n",
       "      <td>120000</td>\n",
       "      <td>130000</td>\n",
       "      <td>203000</td>\n",
       "    </tr>\n",
       "    <tr>\n",
       "      <th>2010</th>\n",
       "      <td>139000</td>\n",
       "      <td>287500</td>\n",
       "      <td>122000</td>\n",
       "      <td>130000</td>\n",
       "      <td>229000</td>\n",
       "    </tr>\n",
       "    <tr>\n",
       "      <th>2011</th>\n",
       "      <td>136000</td>\n",
       "      <td>292800</td>\n",
       "      <td>117000</td>\n",
       "      <td>127000</td>\n",
       "      <td>223000</td>\n",
       "    </tr>\n",
       "    <tr>\n",
       "      <th>2012</th>\n",
       "      <td>138000</td>\n",
       "      <td>300000</td>\n",
       "      <td>120000</td>\n",
       "      <td>130000</td>\n",
       "      <td>229000</td>\n",
       "    </tr>\n",
       "    <tr>\n",
       "      <th>2013</th>\n",
       "      <td>140000</td>\n",
       "      <td>323000</td>\n",
       "      <td>120000</td>\n",
       "      <td>130000</td>\n",
       "      <td>235000</td>\n",
       "    </tr>\n",
       "    <tr>\n",
       "      <th>2014</th>\n",
       "      <td>149000</td>\n",
       "      <td>362000</td>\n",
       "      <td>124000</td>\n",
       "      <td>135000</td>\n",
       "      <td>249900</td>\n",
       "    </tr>\n",
       "    <tr>\n",
       "      <th>2015</th>\n",
       "      <td>157500</td>\n",
       "      <td>398000</td>\n",
       "      <td>127000</td>\n",
       "      <td>140000</td>\n",
       "      <td>270000</td>\n",
       "    </tr>\n",
       "    <tr>\n",
       "      <th>2016</th>\n",
       "      <td>165000</td>\n",
       "      <td>435000</td>\n",
       "      <td>128000</td>\n",
       "      <td>145000</td>\n",
       "      <td>292000</td>\n",
       "    </tr>\n",
       "    <tr>\n",
       "      <th>2017</th>\n",
       "      <td>176500</td>\n",
       "      <td>450000</td>\n",
       "      <td>130000</td>\n",
       "      <td>150000</td>\n",
       "      <td>310000</td>\n",
       "    </tr>\n",
       "    <tr>\n",
       "      <th>2018</th>\n",
       "      <td>185000</td>\n",
       "      <td>450000</td>\n",
       "      <td>132599</td>\n",
       "      <td>155000</td>\n",
       "      <td>317250</td>\n",
       "    </tr>\n",
       "    <tr>\n",
       "      <th>2019</th>\n",
       "      <td>190000</td>\n",
       "      <td>455000</td>\n",
       "      <td>134000</td>\n",
       "      <td>160000</td>\n",
       "      <td>320000</td>\n",
       "    </tr>\n",
       "    <tr>\n",
       "      <th>2020</th>\n",
       "      <td>201000</td>\n",
       "      <td>481500</td>\n",
       "      <td>137500</td>\n",
       "      <td>170000</td>\n",
       "      <td>340000</td>\n",
       "    </tr>\n",
       "    <tr>\n",
       "      <th>2021</th>\n",
       "      <td>220000</td>\n",
       "      <td>493800</td>\n",
       "      <td>144995</td>\n",
       "      <td>185000</td>\n",
       "      <td>355000</td>\n",
       "    </tr>\n",
       "    <tr>\n",
       "      <th>2022</th>\n",
       "      <td>239500</td>\n",
       "      <td>515000</td>\n",
       "      <td>148000</td>\n",
       "      <td>195000</td>\n",
       "      <td>378000</td>\n",
       "    </tr>\n",
       "    <tr>\n",
       "      <th>2023</th>\n",
       "      <td>235000</td>\n",
       "      <td>510000</td>\n",
       "      <td>146750</td>\n",
       "      <td>190000</td>\n",
       "      <td>373000</td>\n",
       "    </tr>\n",
       "    <tr>\n",
       "      <th>2024</th>\n",
       "      <td>229950</td>\n",
       "      <td>505000</td>\n",
       "      <td>139950</td>\n",
       "      <td>190000</td>\n",
       "      <td>365000</td>\n",
       "    </tr>\n",
       "  </tbody>\n",
       "</table>\n",
       "</div>"
      ],
      "text/plain": [
       "region  East Midlands  London  North East  North West  South East\n",
       "Year                                                             \n",
       "1995            45950   72995       42250       45000       65000\n",
       "1996            47500   77000       44500       46320       68500\n",
       "1997            50000   86000       46995       49000       74500\n",
       "1998            53500   96600       48000       50000       83000\n",
       "1999            57500  118000       50500       53700       92500\n",
       "2000            61500  138000       52000       56500      112000\n",
       "2001            70000  155000       55000       60000      126000\n",
       "2002            85000  180500       60000       70000      148000\n",
       "2003           107000  200000       77950       85000      169950\n",
       "2004           126500  220000       96000      108000      185000\n",
       "2005           132000  230000      108937      119000      192000\n",
       "2006           137000  245000      119000      127950      202500\n",
       "2007           144500  263000      122500      134950      219950\n",
       "2008           138000  259000      120000      129950      215000\n",
       "2009           135000  250000      120000      130000      203000\n",
       "2010           139000  287500      122000      130000      229000\n",
       "2011           136000  292800      117000      127000      223000\n",
       "2012           138000  300000      120000      130000      229000\n",
       "2013           140000  323000      120000      130000      235000\n",
       "2014           149000  362000      124000      135000      249900\n",
       "2015           157500  398000      127000      140000      270000\n",
       "2016           165000  435000      128000      145000      292000\n",
       "2017           176500  450000      130000      150000      310000\n",
       "2018           185000  450000      132599      155000      317250\n",
       "2019           190000  455000      134000      160000      320000\n",
       "2020           201000  481500      137500      170000      340000\n",
       "2021           220000  493800      144995      185000      355000\n",
       "2022           239500  515000      148000      195000      378000\n",
       "2023           235000  510000      146750      190000      373000\n",
       "2024           229950  505000      139950      190000      365000"
      ]
     },
     "execution_count": 53,
     "metadata": {},
     "output_type": "execute_result"
    }
   ],
   "source": [
    "df_screened"
   ]
  },
  {
   "cell_type": "code",
   "execution_count": null,
   "metadata": {},
   "outputs": [
    {
     "data": {
      "application/vnd.plotly.v1+json": {
       "config": {
        "plotlyServerURL": "https://plot.ly"
       },
       "data": [
        {
         "hovertemplate": "region=East Midlands<br>Year=%{x}<br>Relative Price=%{y}<extra></extra>",
         "legendgroup": "East Midlands",
         "line": {
          "color": "#636efa",
          "dash": "solid"
         },
         "marker": {
          "symbol": "circle"
         },
         "mode": "lines",
         "name": "East Midlands",
         "orientation": "v",
         "showlegend": true,
         "type": "scatter",
         "x": [
          1995,
          1996,
          1997,
          1998,
          1999,
          2000,
          2001,
          2002,
          2003,
          2004,
          2005,
          2006,
          2007,
          2008,
          2009,
          2010,
          2011,
          2012,
          2013,
          2014,
          2015,
          2016,
          2017,
          2018,
          2019,
          2020,
          2021,
          2022,
          2023,
          2024
         ],
         "xaxis": "x",
         "y": [
          1,
          1.0337323177366704,
          1.088139281828074,
          1.1643090315560392,
          1.251360174102285,
          1.338411316648531,
          1.5233949945593035,
          1.8498367791077257,
          2.3286180631120783,
          2.752992383025027,
          2.872687704026115,
          2.9815016322089227,
          3.144722524483134,
          3.003264417845484,
          2.9379760609358,
          3.0250272034820456,
          2.9597388465723613,
          3.003264417845484,
          3.046789989118607,
          3.2426550598476607,
          3.427638737758433,
          3.5908596300326443,
          3.8411316648531013,
          4.026115342763874,
          4.134929270946682,
          4.374319912948858,
          4.787812840043525,
          5.212187159956475,
          5.114254624591948,
          5.004352557127312
         ],
         "yaxis": "y"
        },
        {
         "hovertemplate": "region=London<br>Year=%{x}<br>Relative Price=%{y}<extra></extra>",
         "legendgroup": "London",
         "line": {
          "color": "#EF553B",
          "dash": "solid"
         },
         "marker": {
          "symbol": "circle"
         },
         "mode": "lines",
         "name": "London",
         "orientation": "v",
         "showlegend": true,
         "type": "scatter",
         "x": [
          1995,
          1996,
          1997,
          1998,
          1999,
          2000,
          2001,
          2002,
          2003,
          2004,
          2005,
          2006,
          2007,
          2008,
          2009,
          2010,
          2011,
          2012,
          2013,
          2014,
          2015,
          2016,
          2017,
          2018,
          2019,
          2020,
          2021,
          2022,
          2023,
          2024
         ],
         "xaxis": "x",
         "y": [
          1,
          1.0548667716966915,
          1.1781628878690322,
          1.323378313583122,
          1.6165490787040209,
          1.8905404479758887,
          2.1234331118569765,
          2.4727721076786082,
          2.7399136927186793,
          3.013905061990547,
          3.150900746626481,
          3.3563942735803822,
          3.602986505925063,
          3.54818823207069,
          3.4248921158983494,
          3.9386259332831015,
          4.0112336461401465,
          4.1098705390780195,
          4.424960613740667,
          4.95924378382081,
          5.452428248510172,
          5.959312281663127,
          6.164805808617029,
          6.164805808617029,
          6.233303650934996,
          6.59634221522022,
          6.764846907322419,
          7.0552777587505995,
          6.986779916432632,
          6.918282074114665
         ],
         "yaxis": "y"
        },
        {
         "hovertemplate": "region=North East<br>Year=%{x}<br>Relative Price=%{y}<extra></extra>",
         "legendgroup": "North East",
         "line": {
          "color": "#00cc96",
          "dash": "solid"
         },
         "marker": {
          "symbol": "circle"
         },
         "mode": "lines",
         "name": "North East",
         "orientation": "v",
         "showlegend": true,
         "type": "scatter",
         "x": [
          1995,
          1996,
          1997,
          1998,
          1999,
          2000,
          2001,
          2002,
          2003,
          2004,
          2005,
          2006,
          2007,
          2008,
          2009,
          2010,
          2011,
          2012,
          2013,
          2014,
          2015,
          2016,
          2017,
          2018,
          2019,
          2020,
          2021,
          2022,
          2023,
          2024
         ],
         "xaxis": "x",
         "y": [
          1,
          1.0532544378698225,
          1.1123076923076922,
          1.136094674556213,
          1.1952662721893492,
          1.2307692307692308,
          1.301775147928994,
          1.4201183431952662,
          1.8449704142011834,
          2.272189349112426,
          2.5783905325443786,
          2.8165680473372783,
          2.899408284023669,
          2.8402366863905324,
          2.8402366863905324,
          2.8875739644970415,
          2.769230769230769,
          2.8402366863905324,
          2.8402366863905324,
          2.93491124260355,
          3.0059171597633134,
          3.029585798816568,
          3.076923076923077,
          3.1384378698224853,
          3.171597633136095,
          3.2544378698224854,
          3.431834319526627,
          3.502958579881657,
          3.473372781065089,
          3.3124260355029587
         ],
         "yaxis": "y"
        },
        {
         "hovertemplate": "region=North West<br>Year=%{x}<br>Relative Price=%{y}<extra></extra>",
         "legendgroup": "North West",
         "line": {
          "color": "#ab63fa",
          "dash": "solid"
         },
         "marker": {
          "symbol": "circle"
         },
         "mode": "lines",
         "name": "North West",
         "orientation": "v",
         "showlegend": true,
         "type": "scatter",
         "x": [
          1995,
          1996,
          1997,
          1998,
          1999,
          2000,
          2001,
          2002,
          2003,
          2004,
          2005,
          2006,
          2007,
          2008,
          2009,
          2010,
          2011,
          2012,
          2013,
          2014,
          2015,
          2016,
          2017,
          2018,
          2019,
          2020,
          2021,
          2022,
          2023,
          2024
         ],
         "xaxis": "x",
         "y": [
          1,
          1.0293333333333334,
          1.0888888888888888,
          1.1111111111111112,
          1.1933333333333334,
          1.2555555555555555,
          1.3333333333333333,
          1.5555555555555556,
          1.8888888888888888,
          2.4,
          2.6444444444444444,
          2.8433333333333333,
          2.9988888888888887,
          2.887777777777778,
          2.888888888888889,
          2.888888888888889,
          2.8222222222222224,
          2.888888888888889,
          2.888888888888889,
          3,
          3.111111111111111,
          3.2222222222222223,
          3.3333333333333335,
          3.4444444444444446,
          3.5555555555555554,
          3.7777777777777777,
          4.111111111111111,
          4.333333333333333,
          4.222222222222222,
          4.222222222222222
         ],
         "yaxis": "y"
        },
        {
         "hovertemplate": "region=South East<br>Year=%{x}<br>Relative Price=%{y}<extra></extra>",
         "legendgroup": "South East",
         "line": {
          "color": "#FFA15A",
          "dash": "solid"
         },
         "marker": {
          "symbol": "circle"
         },
         "mode": "lines",
         "name": "South East",
         "orientation": "v",
         "showlegend": true,
         "type": "scatter",
         "x": [
          1995,
          1996,
          1997,
          1998,
          1999,
          2000,
          2001,
          2002,
          2003,
          2004,
          2005,
          2006,
          2007,
          2008,
          2009,
          2010,
          2011,
          2012,
          2013,
          2014,
          2015,
          2016,
          2017,
          2018,
          2019,
          2020,
          2021,
          2022,
          2023,
          2024
         ],
         "xaxis": "x",
         "y": [
          1,
          1.0538461538461539,
          1.146153846153846,
          1.2769230769230768,
          1.4230769230769231,
          1.7230769230769232,
          1.9384615384615385,
          2.276923076923077,
          2.6146153846153846,
          2.8461538461538463,
          2.953846153846154,
          3.1153846153846154,
          3.3838461538461537,
          3.3076923076923075,
          3.123076923076923,
          3.523076923076923,
          3.4307692307692306,
          3.523076923076923,
          3.6153846153846154,
          3.8446153846153845,
          4.153846153846154,
          4.492307692307692,
          4.769230769230769,
          4.880769230769231,
          4.923076923076923,
          5.230769230769231,
          5.461538461538462,
          5.815384615384615,
          5.7384615384615385,
          5.615384615384615
         ],
         "yaxis": "y"
        }
       ],
       "layout": {
        "height": 600,
        "legend": {
         "title": {
          "text": "Region"
         },
         "tracegroupgap": 0,
         "x": 0.01,
         "xanchor": "left",
         "y": 0.99,
         "yanchor": "top"
        },
        "template": {
         "data": {
          "bar": [
           {
            "error_x": {
             "color": "#2a3f5f"
            },
            "error_y": {
             "color": "#2a3f5f"
            },
            "marker": {
             "line": {
              "color": "#E5ECF6",
              "width": 0.5
             },
             "pattern": {
              "fillmode": "overlay",
              "size": 10,
              "solidity": 0.2
             }
            },
            "type": "bar"
           }
          ],
          "barpolar": [
           {
            "marker": {
             "line": {
              "color": "#E5ECF6",
              "width": 0.5
             },
             "pattern": {
              "fillmode": "overlay",
              "size": 10,
              "solidity": 0.2
             }
            },
            "type": "barpolar"
           }
          ],
          "carpet": [
           {
            "aaxis": {
             "endlinecolor": "#2a3f5f",
             "gridcolor": "white",
             "linecolor": "white",
             "minorgridcolor": "white",
             "startlinecolor": "#2a3f5f"
            },
            "baxis": {
             "endlinecolor": "#2a3f5f",
             "gridcolor": "white",
             "linecolor": "white",
             "minorgridcolor": "white",
             "startlinecolor": "#2a3f5f"
            },
            "type": "carpet"
           }
          ],
          "choropleth": [
           {
            "colorbar": {
             "outlinewidth": 0,
             "ticks": ""
            },
            "type": "choropleth"
           }
          ],
          "contour": [
           {
            "colorbar": {
             "outlinewidth": 0,
             "ticks": ""
            },
            "colorscale": [
             [
              0,
              "#0d0887"
             ],
             [
              0.1111111111111111,
              "#46039f"
             ],
             [
              0.2222222222222222,
              "#7201a8"
             ],
             [
              0.3333333333333333,
              "#9c179e"
             ],
             [
              0.4444444444444444,
              "#bd3786"
             ],
             [
              0.5555555555555556,
              "#d8576b"
             ],
             [
              0.6666666666666666,
              "#ed7953"
             ],
             [
              0.7777777777777778,
              "#fb9f3a"
             ],
             [
              0.8888888888888888,
              "#fdca26"
             ],
             [
              1,
              "#f0f921"
             ]
            ],
            "type": "contour"
           }
          ],
          "contourcarpet": [
           {
            "colorbar": {
             "outlinewidth": 0,
             "ticks": ""
            },
            "type": "contourcarpet"
           }
          ],
          "heatmap": [
           {
            "colorbar": {
             "outlinewidth": 0,
             "ticks": ""
            },
            "colorscale": [
             [
              0,
              "#0d0887"
             ],
             [
              0.1111111111111111,
              "#46039f"
             ],
             [
              0.2222222222222222,
              "#7201a8"
             ],
             [
              0.3333333333333333,
              "#9c179e"
             ],
             [
              0.4444444444444444,
              "#bd3786"
             ],
             [
              0.5555555555555556,
              "#d8576b"
             ],
             [
              0.6666666666666666,
              "#ed7953"
             ],
             [
              0.7777777777777778,
              "#fb9f3a"
             ],
             [
              0.8888888888888888,
              "#fdca26"
             ],
             [
              1,
              "#f0f921"
             ]
            ],
            "type": "heatmap"
           }
          ],
          "heatmapgl": [
           {
            "colorbar": {
             "outlinewidth": 0,
             "ticks": ""
            },
            "colorscale": [
             [
              0,
              "#0d0887"
             ],
             [
              0.1111111111111111,
              "#46039f"
             ],
             [
              0.2222222222222222,
              "#7201a8"
             ],
             [
              0.3333333333333333,
              "#9c179e"
             ],
             [
              0.4444444444444444,
              "#bd3786"
             ],
             [
              0.5555555555555556,
              "#d8576b"
             ],
             [
              0.6666666666666666,
              "#ed7953"
             ],
             [
              0.7777777777777778,
              "#fb9f3a"
             ],
             [
              0.8888888888888888,
              "#fdca26"
             ],
             [
              1,
              "#f0f921"
             ]
            ],
            "type": "heatmapgl"
           }
          ],
          "histogram": [
           {
            "marker": {
             "pattern": {
              "fillmode": "overlay",
              "size": 10,
              "solidity": 0.2
             }
            },
            "type": "histogram"
           }
          ],
          "histogram2d": [
           {
            "colorbar": {
             "outlinewidth": 0,
             "ticks": ""
            },
            "colorscale": [
             [
              0,
              "#0d0887"
             ],
             [
              0.1111111111111111,
              "#46039f"
             ],
             [
              0.2222222222222222,
              "#7201a8"
             ],
             [
              0.3333333333333333,
              "#9c179e"
             ],
             [
              0.4444444444444444,
              "#bd3786"
             ],
             [
              0.5555555555555556,
              "#d8576b"
             ],
             [
              0.6666666666666666,
              "#ed7953"
             ],
             [
              0.7777777777777778,
              "#fb9f3a"
             ],
             [
              0.8888888888888888,
              "#fdca26"
             ],
             [
              1,
              "#f0f921"
             ]
            ],
            "type": "histogram2d"
           }
          ],
          "histogram2dcontour": [
           {
            "colorbar": {
             "outlinewidth": 0,
             "ticks": ""
            },
            "colorscale": [
             [
              0,
              "#0d0887"
             ],
             [
              0.1111111111111111,
              "#46039f"
             ],
             [
              0.2222222222222222,
              "#7201a8"
             ],
             [
              0.3333333333333333,
              "#9c179e"
             ],
             [
              0.4444444444444444,
              "#bd3786"
             ],
             [
              0.5555555555555556,
              "#d8576b"
             ],
             [
              0.6666666666666666,
              "#ed7953"
             ],
             [
              0.7777777777777778,
              "#fb9f3a"
             ],
             [
              0.8888888888888888,
              "#fdca26"
             ],
             [
              1,
              "#f0f921"
             ]
            ],
            "type": "histogram2dcontour"
           }
          ],
          "mesh3d": [
           {
            "colorbar": {
             "outlinewidth": 0,
             "ticks": ""
            },
            "type": "mesh3d"
           }
          ],
          "parcoords": [
           {
            "line": {
             "colorbar": {
              "outlinewidth": 0,
              "ticks": ""
             }
            },
            "type": "parcoords"
           }
          ],
          "pie": [
           {
            "automargin": true,
            "type": "pie"
           }
          ],
          "scatter": [
           {
            "fillpattern": {
             "fillmode": "overlay",
             "size": 10,
             "solidity": 0.2
            },
            "type": "scatter"
           }
          ],
          "scatter3d": [
           {
            "line": {
             "colorbar": {
              "outlinewidth": 0,
              "ticks": ""
             }
            },
            "marker": {
             "colorbar": {
              "outlinewidth": 0,
              "ticks": ""
             }
            },
            "type": "scatter3d"
           }
          ],
          "scattercarpet": [
           {
            "marker": {
             "colorbar": {
              "outlinewidth": 0,
              "ticks": ""
             }
            },
            "type": "scattercarpet"
           }
          ],
          "scattergeo": [
           {
            "marker": {
             "colorbar": {
              "outlinewidth": 0,
              "ticks": ""
             }
            },
            "type": "scattergeo"
           }
          ],
          "scattergl": [
           {
            "marker": {
             "colorbar": {
              "outlinewidth": 0,
              "ticks": ""
             }
            },
            "type": "scattergl"
           }
          ],
          "scattermapbox": [
           {
            "marker": {
             "colorbar": {
              "outlinewidth": 0,
              "ticks": ""
             }
            },
            "type": "scattermapbox"
           }
          ],
          "scatterpolar": [
           {
            "marker": {
             "colorbar": {
              "outlinewidth": 0,
              "ticks": ""
             }
            },
            "type": "scatterpolar"
           }
          ],
          "scatterpolargl": [
           {
            "marker": {
             "colorbar": {
              "outlinewidth": 0,
              "ticks": ""
             }
            },
            "type": "scatterpolargl"
           }
          ],
          "scatterternary": [
           {
            "marker": {
             "colorbar": {
              "outlinewidth": 0,
              "ticks": ""
             }
            },
            "type": "scatterternary"
           }
          ],
          "surface": [
           {
            "colorbar": {
             "outlinewidth": 0,
             "ticks": ""
            },
            "colorscale": [
             [
              0,
              "#0d0887"
             ],
             [
              0.1111111111111111,
              "#46039f"
             ],
             [
              0.2222222222222222,
              "#7201a8"
             ],
             [
              0.3333333333333333,
              "#9c179e"
             ],
             [
              0.4444444444444444,
              "#bd3786"
             ],
             [
              0.5555555555555556,
              "#d8576b"
             ],
             [
              0.6666666666666666,
              "#ed7953"
             ],
             [
              0.7777777777777778,
              "#fb9f3a"
             ],
             [
              0.8888888888888888,
              "#fdca26"
             ],
             [
              1,
              "#f0f921"
             ]
            ],
            "type": "surface"
           }
          ],
          "table": [
           {
            "cells": {
             "fill": {
              "color": "#EBF0F8"
             },
             "line": {
              "color": "white"
             }
            },
            "header": {
             "fill": {
              "color": "#C8D4E3"
             },
             "line": {
              "color": "white"
             }
            },
            "type": "table"
           }
          ]
         },
         "layout": {
          "annotationdefaults": {
           "arrowcolor": "#2a3f5f",
           "arrowhead": 0,
           "arrowwidth": 1
          },
          "autotypenumbers": "strict",
          "coloraxis": {
           "colorbar": {
            "outlinewidth": 0,
            "ticks": ""
           }
          },
          "colorscale": {
           "diverging": [
            [
             0,
             "#8e0152"
            ],
            [
             0.1,
             "#c51b7d"
            ],
            [
             0.2,
             "#de77ae"
            ],
            [
             0.3,
             "#f1b6da"
            ],
            [
             0.4,
             "#fde0ef"
            ],
            [
             0.5,
             "#f7f7f7"
            ],
            [
             0.6,
             "#e6f5d0"
            ],
            [
             0.7,
             "#b8e186"
            ],
            [
             0.8,
             "#7fbc41"
            ],
            [
             0.9,
             "#4d9221"
            ],
            [
             1,
             "#276419"
            ]
           ],
           "sequential": [
            [
             0,
             "#0d0887"
            ],
            [
             0.1111111111111111,
             "#46039f"
            ],
            [
             0.2222222222222222,
             "#7201a8"
            ],
            [
             0.3333333333333333,
             "#9c179e"
            ],
            [
             0.4444444444444444,
             "#bd3786"
            ],
            [
             0.5555555555555556,
             "#d8576b"
            ],
            [
             0.6666666666666666,
             "#ed7953"
            ],
            [
             0.7777777777777778,
             "#fb9f3a"
            ],
            [
             0.8888888888888888,
             "#fdca26"
            ],
            [
             1,
             "#f0f921"
            ]
           ],
           "sequentialminus": [
            [
             0,
             "#0d0887"
            ],
            [
             0.1111111111111111,
             "#46039f"
            ],
            [
             0.2222222222222222,
             "#7201a8"
            ],
            [
             0.3333333333333333,
             "#9c179e"
            ],
            [
             0.4444444444444444,
             "#bd3786"
            ],
            [
             0.5555555555555556,
             "#d8576b"
            ],
            [
             0.6666666666666666,
             "#ed7953"
            ],
            [
             0.7777777777777778,
             "#fb9f3a"
            ],
            [
             0.8888888888888888,
             "#fdca26"
            ],
            [
             1,
             "#f0f921"
            ]
           ]
          },
          "colorway": [
           "#636efa",
           "#EF553B",
           "#00cc96",
           "#ab63fa",
           "#FFA15A",
           "#19d3f3",
           "#FF6692",
           "#B6E880",
           "#FF97FF",
           "#FECB52"
          ],
          "font": {
           "color": "#2a3f5f"
          },
          "geo": {
           "bgcolor": "white",
           "lakecolor": "white",
           "landcolor": "#E5ECF6",
           "showlakes": true,
           "showland": true,
           "subunitcolor": "white"
          },
          "hoverlabel": {
           "align": "left"
          },
          "hovermode": "closest",
          "mapbox": {
           "style": "light"
          },
          "paper_bgcolor": "white",
          "plot_bgcolor": "#E5ECF6",
          "polar": {
           "angularaxis": {
            "gridcolor": "white",
            "linecolor": "white",
            "ticks": ""
           },
           "bgcolor": "#E5ECF6",
           "radialaxis": {
            "gridcolor": "white",
            "linecolor": "white",
            "ticks": ""
           }
          },
          "scene": {
           "xaxis": {
            "backgroundcolor": "#E5ECF6",
            "gridcolor": "white",
            "gridwidth": 2,
            "linecolor": "white",
            "showbackground": true,
            "ticks": "",
            "zerolinecolor": "white"
           },
           "yaxis": {
            "backgroundcolor": "#E5ECF6",
            "gridcolor": "white",
            "gridwidth": 2,
            "linecolor": "white",
            "showbackground": true,
            "ticks": "",
            "zerolinecolor": "white"
           },
           "zaxis": {
            "backgroundcolor": "#E5ECF6",
            "gridcolor": "white",
            "gridwidth": 2,
            "linecolor": "white",
            "showbackground": true,
            "ticks": "",
            "zerolinecolor": "white"
           }
          },
          "shapedefaults": {
           "line": {
            "color": "#2a3f5f"
           }
          },
          "ternary": {
           "aaxis": {
            "gridcolor": "white",
            "linecolor": "white",
            "ticks": ""
           },
           "baxis": {
            "gridcolor": "white",
            "linecolor": "white",
            "ticks": ""
           },
           "bgcolor": "#E5ECF6",
           "caxis": {
            "gridcolor": "white",
            "linecolor": "white",
            "ticks": ""
           }
          },
          "title": {
           "x": 0.05
          },
          "xaxis": {
           "automargin": true,
           "gridcolor": "white",
           "linecolor": "white",
           "ticks": "",
           "title": {
            "standoff": 15
           },
           "zerolinecolor": "white",
           "zerolinewidth": 2
          },
          "yaxis": {
           "automargin": true,
           "gridcolor": "white",
           "linecolor": "white",
           "ticks": "",
           "title": {
            "standoff": 15
           },
           "zerolinecolor": "white",
           "zerolinewidth": 2
          }
         }
        },
        "title": {
         "text": "Median House Prices, Nominal GBP"
        },
        "width": 800,
        "xaxis": {
         "anchor": "y",
         "domain": [
          0,
          1
         ],
         "title": {
          "text": "Year"
         }
        },
        "yaxis": {
         "anchor": "x",
         "domain": [
          0,
          1
         ],
         "title": {
          "text": "Relative Price"
         }
        }
       }
      }
     },
     "metadata": {},
     "output_type": "display_data"
    }
   ],
   "source": [
    "# Nominal, Median\n",
    "\n",
    "df_screened = (\n",
    "    df[df['region']\n",
    "       .isin(['London','South East', 'East Midlands','North West','North East'])]\n",
    "       .groupby(['Year','region'])['0.50'].sum().unstack()\n",
    ")\n",
    "\n",
    "import plotly.express as px\n",
    "fig = px.line(df_screened.apply(lambda x:x/x.iloc[0]),\n",
    "              labels={\n",
    "                  'index':'Year',\n",
    "                  'value':'Relative Price'\n",
    "              },\n",
    "              width=800, height=600,\n",
    "              title='Median House Prices, Nominal GBP')\n",
    "\n",
    "fig.update_layout(legend=dict(\n",
    "    title='Region',\n",
    "    yanchor=\"top\",\n",
    "    y=0.99,\n",
    "    xanchor=\"left\",\n",
    "    x=0.01\n",
    "))\n",
    "\n",
    "fig.show()"
   ]
  },
  {
   "cell_type": "code",
   "execution_count": 61,
   "metadata": {},
   "outputs": [
    {
     "data": {
      "application/vnd.plotly.v1+json": {
       "config": {
        "plotlyServerURL": "https://plot.ly"
       },
       "data": [
        {
         "hovertemplate": "region=East Midlands<br>Year=%{x}<br>Spread, GBP=%{y}<extra></extra>",
         "legendgroup": "East Midlands",
         "line": {
          "color": "#636efa",
          "dash": "solid"
         },
         "marker": {
          "symbol": "circle"
         },
         "mode": "lines",
         "name": "East Midlands",
         "orientation": "v",
         "showlegend": true,
         "type": "scatter",
         "x": [
          1995,
          1996,
          1997,
          1998,
          1999,
          2000,
          2001,
          2002,
          2003,
          2004,
          2005,
          2006,
          2007,
          2008,
          2009,
          2010,
          2011,
          2012,
          2013,
          2014,
          2015,
          2016,
          2017,
          2018,
          2019,
          2020,
          2021,
          2022,
          2023,
          2024
         ],
         "xaxis": "x",
         "y": [
          29000,
          31750,
          34500,
          37500,
          41495,
          46005,
          54500,
          66550,
          76000,
          81000,
          79000,
          77500,
          80500,
          81000,
          79500,
          88000,
          86995,
          85000,
          88000,
          95500,
          106050,
          112500,
          121000,
          130000,
          130995,
          139000,
          148000,
          154000,
          150000,
          143000
         ],
         "yaxis": "y"
        },
        {
         "hovertemplate": "region=London<br>Year=%{x}<br>Spread, GBP=%{y}<extra></extra>",
         "legendgroup": "London",
         "line": {
          "color": "#EF553B",
          "dash": "solid"
         },
         "marker": {
          "symbol": "circle"
         },
         "mode": "lines",
         "name": "London",
         "orientation": "v",
         "showlegend": true,
         "type": "scatter",
         "x": [
          1995,
          1996,
          1997,
          1998,
          1999,
          2000,
          2001,
          2002,
          2003,
          2004,
          2005,
          2006,
          2007,
          2008,
          2009,
          2010,
          2011,
          2012,
          2013,
          2014,
          2015,
          2016,
          2017,
          2018,
          2019,
          2020,
          2021,
          2022,
          2023,
          2024
         ],
         "xaxis": "x",
         "y": [
          53500,
          61500,
          74000,
          81850,
          97500,
          115000,
          117000,
          115000,
          115000,
          125005,
          133000,
          153000,
          168000,
          167000,
          194950,
          217500,
          232500,
          232000,
          263000,
          310000,
          309000,
          315005,
          332000,
          324000,
          325000,
          346000,
          350000,
          385500,
          385000,
          357000
         ],
         "yaxis": "y"
        },
        {
         "hovertemplate": "region=North East<br>Year=%{x}<br>Spread, GBP=%{y}<extra></extra>",
         "legendgroup": "North East",
         "line": {
          "color": "#00cc96",
          "dash": "solid"
         },
         "marker": {
          "symbol": "circle"
         },
         "mode": "lines",
         "name": "North East",
         "orientation": "v",
         "showlegend": true,
         "type": "scatter",
         "x": [
          1995,
          1996,
          1997,
          1998,
          1999,
          2000,
          2001,
          2002,
          2003,
          2004,
          2005,
          2006,
          2007,
          2008,
          2009,
          2010,
          2011,
          2012,
          2013,
          2014,
          2015,
          2016,
          2017,
          2018,
          2019,
          2020,
          2021,
          2022,
          2023,
          2024
         ],
         "xaxis": "x",
         "y": [
          29500,
          30500,
          34000,
          35900,
          39750,
          42500,
          48050,
          57500,
          78500,
          87000,
          82050,
          81000,
          81000,
          81950,
          81202,
          90000,
          85000,
          89950,
          89500,
          97000,
          101000,
          104450,
          112495,
          115995,
          116000,
          128500,
          135050,
          138950,
          137500,
          129000
         ],
         "yaxis": "y"
        },
        {
         "hovertemplate": "region=North West<br>Year=%{x}<br>Spread, GBP=%{y}<extra></extra>",
         "legendgroup": "North West",
         "line": {
          "color": "#ab63fa",
          "dash": "solid"
         },
         "marker": {
          "symbol": "circle"
         },
         "mode": "lines",
         "name": "North West",
         "orientation": "v",
         "showlegend": true,
         "type": "scatter",
         "x": [
          1995,
          1996,
          1997,
          1998,
          1999,
          2000,
          2001,
          2002,
          2003,
          2004,
          2005,
          2006,
          2007,
          2008,
          2009,
          2010,
          2011,
          2012,
          2013,
          2014,
          2015,
          2016,
          2017,
          2018,
          2019,
          2020,
          2021,
          2022,
          2023,
          2024
         ],
         "xaxis": "x",
         "y": [
          28835,
          31950,
          35450,
          37950,
          42450,
          47950,
          53450,
          68000,
          79500,
          88000,
          84950,
          85000,
          85005,
          85000,
          83000,
          98050,
          93500,
          95000,
          98000,
          103000,
          108000,
          117000,
          124200,
          128995,
          131500,
          145995,
          155000,
          160000,
          159500,
          151000
         ],
         "yaxis": "y"
        },
        {
         "hovertemplate": "region=South East<br>Year=%{x}<br>Spread, GBP=%{y}<extra></extra>",
         "legendgroup": "South East",
         "line": {
          "color": "#FFA15A",
          "dash": "solid"
         },
         "marker": {
          "symbol": "circle"
         },
         "mode": "lines",
         "name": "South East",
         "orientation": "v",
         "showlegend": true,
         "type": "scatter",
         "x": [
          1995,
          1996,
          1997,
          1998,
          1999,
          2000,
          2001,
          2002,
          2003,
          2004,
          2005,
          2006,
          2007,
          2008,
          2009,
          2010,
          2011,
          2012,
          2013,
          2014,
          2015,
          2016,
          2017,
          2018,
          2019,
          2020,
          2021,
          2022,
          2023,
          2024
         ],
         "xaxis": "x",
         "y": [
          46250,
          50000,
          58000,
          66500,
          74005,
          88000,
          94000,
          103500,
          111000,
          110000,
          113000,
          125000,
          135000,
          138000,
          130000,
          157500,
          157000,
          158000,
          164000,
          178000,
          190000,
          205000,
          212500,
          215000,
          217250,
          238500,
          250050,
          270000,
          264000,
          250000
         ],
         "yaxis": "y"
        }
       ],
       "layout": {
        "height": 600,
        "legend": {
         "title": {
          "text": "Region"
         },
         "tracegroupgap": 0,
         "x": 0.01,
         "xanchor": "left",
         "y": 0.99,
         "yanchor": "top"
        },
        "template": {
         "data": {
          "bar": [
           {
            "error_x": {
             "color": "#2a3f5f"
            },
            "error_y": {
             "color": "#2a3f5f"
            },
            "marker": {
             "line": {
              "color": "#E5ECF6",
              "width": 0.5
             },
             "pattern": {
              "fillmode": "overlay",
              "size": 10,
              "solidity": 0.2
             }
            },
            "type": "bar"
           }
          ],
          "barpolar": [
           {
            "marker": {
             "line": {
              "color": "#E5ECF6",
              "width": 0.5
             },
             "pattern": {
              "fillmode": "overlay",
              "size": 10,
              "solidity": 0.2
             }
            },
            "type": "barpolar"
           }
          ],
          "carpet": [
           {
            "aaxis": {
             "endlinecolor": "#2a3f5f",
             "gridcolor": "white",
             "linecolor": "white",
             "minorgridcolor": "white",
             "startlinecolor": "#2a3f5f"
            },
            "baxis": {
             "endlinecolor": "#2a3f5f",
             "gridcolor": "white",
             "linecolor": "white",
             "minorgridcolor": "white",
             "startlinecolor": "#2a3f5f"
            },
            "type": "carpet"
           }
          ],
          "choropleth": [
           {
            "colorbar": {
             "outlinewidth": 0,
             "ticks": ""
            },
            "type": "choropleth"
           }
          ],
          "contour": [
           {
            "colorbar": {
             "outlinewidth": 0,
             "ticks": ""
            },
            "colorscale": [
             [
              0,
              "#0d0887"
             ],
             [
              0.1111111111111111,
              "#46039f"
             ],
             [
              0.2222222222222222,
              "#7201a8"
             ],
             [
              0.3333333333333333,
              "#9c179e"
             ],
             [
              0.4444444444444444,
              "#bd3786"
             ],
             [
              0.5555555555555556,
              "#d8576b"
             ],
             [
              0.6666666666666666,
              "#ed7953"
             ],
             [
              0.7777777777777778,
              "#fb9f3a"
             ],
             [
              0.8888888888888888,
              "#fdca26"
             ],
             [
              1,
              "#f0f921"
             ]
            ],
            "type": "contour"
           }
          ],
          "contourcarpet": [
           {
            "colorbar": {
             "outlinewidth": 0,
             "ticks": ""
            },
            "type": "contourcarpet"
           }
          ],
          "heatmap": [
           {
            "colorbar": {
             "outlinewidth": 0,
             "ticks": ""
            },
            "colorscale": [
             [
              0,
              "#0d0887"
             ],
             [
              0.1111111111111111,
              "#46039f"
             ],
             [
              0.2222222222222222,
              "#7201a8"
             ],
             [
              0.3333333333333333,
              "#9c179e"
             ],
             [
              0.4444444444444444,
              "#bd3786"
             ],
             [
              0.5555555555555556,
              "#d8576b"
             ],
             [
              0.6666666666666666,
              "#ed7953"
             ],
             [
              0.7777777777777778,
              "#fb9f3a"
             ],
             [
              0.8888888888888888,
              "#fdca26"
             ],
             [
              1,
              "#f0f921"
             ]
            ],
            "type": "heatmap"
           }
          ],
          "heatmapgl": [
           {
            "colorbar": {
             "outlinewidth": 0,
             "ticks": ""
            },
            "colorscale": [
             [
              0,
              "#0d0887"
             ],
             [
              0.1111111111111111,
              "#46039f"
             ],
             [
              0.2222222222222222,
              "#7201a8"
             ],
             [
              0.3333333333333333,
              "#9c179e"
             ],
             [
              0.4444444444444444,
              "#bd3786"
             ],
             [
              0.5555555555555556,
              "#d8576b"
             ],
             [
              0.6666666666666666,
              "#ed7953"
             ],
             [
              0.7777777777777778,
              "#fb9f3a"
             ],
             [
              0.8888888888888888,
              "#fdca26"
             ],
             [
              1,
              "#f0f921"
             ]
            ],
            "type": "heatmapgl"
           }
          ],
          "histogram": [
           {
            "marker": {
             "pattern": {
              "fillmode": "overlay",
              "size": 10,
              "solidity": 0.2
             }
            },
            "type": "histogram"
           }
          ],
          "histogram2d": [
           {
            "colorbar": {
             "outlinewidth": 0,
             "ticks": ""
            },
            "colorscale": [
             [
              0,
              "#0d0887"
             ],
             [
              0.1111111111111111,
              "#46039f"
             ],
             [
              0.2222222222222222,
              "#7201a8"
             ],
             [
              0.3333333333333333,
              "#9c179e"
             ],
             [
              0.4444444444444444,
              "#bd3786"
             ],
             [
              0.5555555555555556,
              "#d8576b"
             ],
             [
              0.6666666666666666,
              "#ed7953"
             ],
             [
              0.7777777777777778,
              "#fb9f3a"
             ],
             [
              0.8888888888888888,
              "#fdca26"
             ],
             [
              1,
              "#f0f921"
             ]
            ],
            "type": "histogram2d"
           }
          ],
          "histogram2dcontour": [
           {
            "colorbar": {
             "outlinewidth": 0,
             "ticks": ""
            },
            "colorscale": [
             [
              0,
              "#0d0887"
             ],
             [
              0.1111111111111111,
              "#46039f"
             ],
             [
              0.2222222222222222,
              "#7201a8"
             ],
             [
              0.3333333333333333,
              "#9c179e"
             ],
             [
              0.4444444444444444,
              "#bd3786"
             ],
             [
              0.5555555555555556,
              "#d8576b"
             ],
             [
              0.6666666666666666,
              "#ed7953"
             ],
             [
              0.7777777777777778,
              "#fb9f3a"
             ],
             [
              0.8888888888888888,
              "#fdca26"
             ],
             [
              1,
              "#f0f921"
             ]
            ],
            "type": "histogram2dcontour"
           }
          ],
          "mesh3d": [
           {
            "colorbar": {
             "outlinewidth": 0,
             "ticks": ""
            },
            "type": "mesh3d"
           }
          ],
          "parcoords": [
           {
            "line": {
             "colorbar": {
              "outlinewidth": 0,
              "ticks": ""
             }
            },
            "type": "parcoords"
           }
          ],
          "pie": [
           {
            "automargin": true,
            "type": "pie"
           }
          ],
          "scatter": [
           {
            "fillpattern": {
             "fillmode": "overlay",
             "size": 10,
             "solidity": 0.2
            },
            "type": "scatter"
           }
          ],
          "scatter3d": [
           {
            "line": {
             "colorbar": {
              "outlinewidth": 0,
              "ticks": ""
             }
            },
            "marker": {
             "colorbar": {
              "outlinewidth": 0,
              "ticks": ""
             }
            },
            "type": "scatter3d"
           }
          ],
          "scattercarpet": [
           {
            "marker": {
             "colorbar": {
              "outlinewidth": 0,
              "ticks": ""
             }
            },
            "type": "scattercarpet"
           }
          ],
          "scattergeo": [
           {
            "marker": {
             "colorbar": {
              "outlinewidth": 0,
              "ticks": ""
             }
            },
            "type": "scattergeo"
           }
          ],
          "scattergl": [
           {
            "marker": {
             "colorbar": {
              "outlinewidth": 0,
              "ticks": ""
             }
            },
            "type": "scattergl"
           }
          ],
          "scattermapbox": [
           {
            "marker": {
             "colorbar": {
              "outlinewidth": 0,
              "ticks": ""
             }
            },
            "type": "scattermapbox"
           }
          ],
          "scatterpolar": [
           {
            "marker": {
             "colorbar": {
              "outlinewidth": 0,
              "ticks": ""
             }
            },
            "type": "scatterpolar"
           }
          ],
          "scatterpolargl": [
           {
            "marker": {
             "colorbar": {
              "outlinewidth": 0,
              "ticks": ""
             }
            },
            "type": "scatterpolargl"
           }
          ],
          "scatterternary": [
           {
            "marker": {
             "colorbar": {
              "outlinewidth": 0,
              "ticks": ""
             }
            },
            "type": "scatterternary"
           }
          ],
          "surface": [
           {
            "colorbar": {
             "outlinewidth": 0,
             "ticks": ""
            },
            "colorscale": [
             [
              0,
              "#0d0887"
             ],
             [
              0.1111111111111111,
              "#46039f"
             ],
             [
              0.2222222222222222,
              "#7201a8"
             ],
             [
              0.3333333333333333,
              "#9c179e"
             ],
             [
              0.4444444444444444,
              "#bd3786"
             ],
             [
              0.5555555555555556,
              "#d8576b"
             ],
             [
              0.6666666666666666,
              "#ed7953"
             ],
             [
              0.7777777777777778,
              "#fb9f3a"
             ],
             [
              0.8888888888888888,
              "#fdca26"
             ],
             [
              1,
              "#f0f921"
             ]
            ],
            "type": "surface"
           }
          ],
          "table": [
           {
            "cells": {
             "fill": {
              "color": "#EBF0F8"
             },
             "line": {
              "color": "white"
             }
            },
            "header": {
             "fill": {
              "color": "#C8D4E3"
             },
             "line": {
              "color": "white"
             }
            },
            "type": "table"
           }
          ]
         },
         "layout": {
          "annotationdefaults": {
           "arrowcolor": "#2a3f5f",
           "arrowhead": 0,
           "arrowwidth": 1
          },
          "autotypenumbers": "strict",
          "coloraxis": {
           "colorbar": {
            "outlinewidth": 0,
            "ticks": ""
           }
          },
          "colorscale": {
           "diverging": [
            [
             0,
             "#8e0152"
            ],
            [
             0.1,
             "#c51b7d"
            ],
            [
             0.2,
             "#de77ae"
            ],
            [
             0.3,
             "#f1b6da"
            ],
            [
             0.4,
             "#fde0ef"
            ],
            [
             0.5,
             "#f7f7f7"
            ],
            [
             0.6,
             "#e6f5d0"
            ],
            [
             0.7,
             "#b8e186"
            ],
            [
             0.8,
             "#7fbc41"
            ],
            [
             0.9,
             "#4d9221"
            ],
            [
             1,
             "#276419"
            ]
           ],
           "sequential": [
            [
             0,
             "#0d0887"
            ],
            [
             0.1111111111111111,
             "#46039f"
            ],
            [
             0.2222222222222222,
             "#7201a8"
            ],
            [
             0.3333333333333333,
             "#9c179e"
            ],
            [
             0.4444444444444444,
             "#bd3786"
            ],
            [
             0.5555555555555556,
             "#d8576b"
            ],
            [
             0.6666666666666666,
             "#ed7953"
            ],
            [
             0.7777777777777778,
             "#fb9f3a"
            ],
            [
             0.8888888888888888,
             "#fdca26"
            ],
            [
             1,
             "#f0f921"
            ]
           ],
           "sequentialminus": [
            [
             0,
             "#0d0887"
            ],
            [
             0.1111111111111111,
             "#46039f"
            ],
            [
             0.2222222222222222,
             "#7201a8"
            ],
            [
             0.3333333333333333,
             "#9c179e"
            ],
            [
             0.4444444444444444,
             "#bd3786"
            ],
            [
             0.5555555555555556,
             "#d8576b"
            ],
            [
             0.6666666666666666,
             "#ed7953"
            ],
            [
             0.7777777777777778,
             "#fb9f3a"
            ],
            [
             0.8888888888888888,
             "#fdca26"
            ],
            [
             1,
             "#f0f921"
            ]
           ]
          },
          "colorway": [
           "#636efa",
           "#EF553B",
           "#00cc96",
           "#ab63fa",
           "#FFA15A",
           "#19d3f3",
           "#FF6692",
           "#B6E880",
           "#FF97FF",
           "#FECB52"
          ],
          "font": {
           "color": "#2a3f5f"
          },
          "geo": {
           "bgcolor": "white",
           "lakecolor": "white",
           "landcolor": "#E5ECF6",
           "showlakes": true,
           "showland": true,
           "subunitcolor": "white"
          },
          "hoverlabel": {
           "align": "left"
          },
          "hovermode": "closest",
          "mapbox": {
           "style": "light"
          },
          "paper_bgcolor": "white",
          "plot_bgcolor": "#E5ECF6",
          "polar": {
           "angularaxis": {
            "gridcolor": "white",
            "linecolor": "white",
            "ticks": ""
           },
           "bgcolor": "#E5ECF6",
           "radialaxis": {
            "gridcolor": "white",
            "linecolor": "white",
            "ticks": ""
           }
          },
          "scene": {
           "xaxis": {
            "backgroundcolor": "#E5ECF6",
            "gridcolor": "white",
            "gridwidth": 2,
            "linecolor": "white",
            "showbackground": true,
            "ticks": "",
            "zerolinecolor": "white"
           },
           "yaxis": {
            "backgroundcolor": "#E5ECF6",
            "gridcolor": "white",
            "gridwidth": 2,
            "linecolor": "white",
            "showbackground": true,
            "ticks": "",
            "zerolinecolor": "white"
           },
           "zaxis": {
            "backgroundcolor": "#E5ECF6",
            "gridcolor": "white",
            "gridwidth": 2,
            "linecolor": "white",
            "showbackground": true,
            "ticks": "",
            "zerolinecolor": "white"
           }
          },
          "shapedefaults": {
           "line": {
            "color": "#2a3f5f"
           }
          },
          "ternary": {
           "aaxis": {
            "gridcolor": "white",
            "linecolor": "white",
            "ticks": ""
           },
           "baxis": {
            "gridcolor": "white",
            "linecolor": "white",
            "ticks": ""
           },
           "bgcolor": "#E5ECF6",
           "caxis": {
            "gridcolor": "white",
            "linecolor": "white",
            "ticks": ""
           }
          },
          "title": {
           "x": 0.05
          },
          "xaxis": {
           "automargin": true,
           "gridcolor": "white",
           "linecolor": "white",
           "ticks": "",
           "title": {
            "standoff": 15
           },
           "zerolinecolor": "white",
           "zerolinewidth": 2
          },
          "yaxis": {
           "automargin": true,
           "gridcolor": "white",
           "linecolor": "white",
           "ticks": "",
           "title": {
            "standoff": 15
           },
           "zerolinecolor": "white",
           "zerolinewidth": 2
          }
         }
        },
        "title": {
         "text": "House Price IQR, Nominal GBP"
        },
        "width": 800,
        "xaxis": {
         "anchor": "y",
         "domain": [
          0,
          1
         ],
         "title": {
          "text": "Year"
         }
        },
        "yaxis": {
         "anchor": "x",
         "domain": [
          0,
          1
         ],
         "title": {
          "text": "Spread, GBP"
         }
        }
       }
      }
     },
     "metadata": {},
     "output_type": "display_data"
    }
   ],
   "source": [
    "# Nominal, IQR\n",
    "\n",
    "df_screened = (\n",
    "    df[df['region']\n",
    "       .isin(['London','South East', 'East Midlands','North West','North East'])]\n",
    "       .groupby(['Year','region']).sum().unstack()\n",
    ")\n",
    "\n",
    "import plotly.express as px\n",
    "fig = px.line(df_screened['0.75']-df_screened['0.25'],\n",
    "              labels={\n",
    "                  'index':'Year',\n",
    "                  'value':'Spread, GBP'\n",
    "              },\n",
    "              width=800, height=600,\n",
    "              title='House Price IQR, Nominal GBP')\n",
    "\n",
    "fig.update_layout(legend=dict(\n",
    "    title='Region',\n",
    "    yanchor=\"top\",\n",
    "    y=0.99,\n",
    "    xanchor=\"left\",\n",
    "    x=0.01\n",
    "))\n",
    "\n",
    "fig.show()"
   ]
  },
  {
   "cell_type": "code",
   "execution_count": 50,
   "metadata": {},
   "outputs": [
    {
     "data": {
      "text/html": [
       "<div>\n",
       "<style scoped>\n",
       "    .dataframe tbody tr th:only-of-type {\n",
       "        vertical-align: middle;\n",
       "    }\n",
       "\n",
       "    .dataframe tbody tr th {\n",
       "        vertical-align: top;\n",
       "    }\n",
       "\n",
       "    .dataframe thead th {\n",
       "        text-align: right;\n",
       "    }\n",
       "</style>\n",
       "<table border=\"1\" class=\"dataframe\">\n",
       "  <thead>\n",
       "    <tr style=\"text-align: right;\">\n",
       "      <th>region</th>\n",
       "      <th>East Midlands</th>\n",
       "      <th>London</th>\n",
       "      <th>North East</th>\n",
       "      <th>North West</th>\n",
       "      <th>South East</th>\n",
       "    </tr>\n",
       "    <tr>\n",
       "      <th>Year</th>\n",
       "      <th></th>\n",
       "      <th></th>\n",
       "      <th></th>\n",
       "      <th></th>\n",
       "      <th></th>\n",
       "    </tr>\n",
       "  </thead>\n",
       "  <tbody>\n",
       "    <tr>\n",
       "      <th>1995</th>\n",
       "      <td>45177.707884</td>\n",
       "      <td>71768.156409</td>\n",
       "      <td>41539.894627</td>\n",
       "      <td>44243.674750</td>\n",
       "      <td>63907.530195</td>\n",
       "    </tr>\n",
       "    <tr>\n",
       "      <th>1996</th>\n",
       "      <td>45406.600127</td>\n",
       "      <td>73606.488628</td>\n",
       "      <td>42538.814856</td>\n",
       "      <td>44278.604587</td>\n",
       "      <td>65481.097026</td>\n",
       "    </tr>\n",
       "    <tr>\n",
       "      <th>1997</th>\n",
       "      <td>46765.935948</td>\n",
       "      <td>80437.409831</td>\n",
       "      <td>43955.303198</td>\n",
       "      <td>45830.617229</td>\n",
       "      <td>69681.244563</td>\n",
       "    </tr>\n",
       "    <tr>\n",
       "      <th>1998</th>\n",
       "      <td>49144.396173</td>\n",
       "      <td>88735.489165</td>\n",
       "      <td>44092.168529</td>\n",
       "      <td>45929.342218</td>\n",
       "      <td>76242.708082</td>\n",
       "    </tr>\n",
       "    <tr>\n",
       "      <th>1999</th>\n",
       "      <td>51907.922015</td>\n",
       "      <td>106524.083440</td>\n",
       "      <td>45588.696727</td>\n",
       "      <td>48477.485430</td>\n",
       "      <td>83504.048460</td>\n",
       "    </tr>\n",
       "    <tr>\n",
       "      <th>2000</th>\n",
       "      <td>54870.266815</td>\n",
       "      <td>123123.525535</td>\n",
       "      <td>46394.371941</td>\n",
       "      <td>50409.269513</td>\n",
       "      <td>99926.339565</td>\n",
       "    </tr>\n",
       "    <tr>\n",
       "      <th>2001</th>\n",
       "      <td>61512.295214</td>\n",
       "      <td>136205.796546</td>\n",
       "      <td>48331.089097</td>\n",
       "      <td>52724.824469</td>\n",
       "      <td>110722.131386</td>\n",
       "    </tr>\n",
       "    <tr>\n",
       "      <th>2002</th>\n",
       "      <td>73573.731224</td>\n",
       "      <td>156235.982188</td>\n",
       "      <td>51934.398511</td>\n",
       "      <td>60590.131597</td>\n",
       "      <td>128104.849661</td>\n",
       "    </tr>\n",
       "    <tr>\n",
       "      <th>2003</th>\n",
       "      <td>91358.099223</td>\n",
       "      <td>170762.802285</td>\n",
       "      <td>66554.802191</td>\n",
       "      <td>72574.190971</td>\n",
       "      <td>145105.691242</td>\n",
       "    </tr>\n",
       "    <tr>\n",
       "      <th>2004</th>\n",
       "      <td>106526.863370</td>\n",
       "      <td>185264.110208</td>\n",
       "      <td>80842.520818</td>\n",
       "      <td>90947.835920</td>\n",
       "      <td>155790.274493</td>\n",
       "    </tr>\n",
       "    <tr>\n",
       "      <th>2005</th>\n",
       "      <td>108886.538992</td>\n",
       "      <td>189726.545214</td>\n",
       "      <td>89861.915896</td>\n",
       "      <td>98162.864698</td>\n",
       "      <td>158380.420353</td>\n",
       "    </tr>\n",
       "    <tr>\n",
       "      <th>2006</th>\n",
       "      <td>110306.479019</td>\n",
       "      <td>197263.411385</td>\n",
       "      <td>95813.656958</td>\n",
       "      <td>103019.810150</td>\n",
       "      <td>163044.248186</td>\n",
       "    </tr>\n",
       "    <tr>\n",
       "      <th>2007</th>\n",
       "      <td>113629.276374</td>\n",
       "      <td>206813.146618</td>\n",
       "      <td>96329.317341</td>\n",
       "      <td>106119.521430</td>\n",
       "      <td>172960.272238</td>\n",
       "    </tr>\n",
       "    <tr>\n",
       "      <th>2008</th>\n",
       "      <td>104838.106979</td>\n",
       "      <td>196761.374693</td>\n",
       "      <td>91163.571286</td>\n",
       "      <td>98722.550739</td>\n",
       "      <td>163334.731888</td>\n",
       "    </tr>\n",
       "    <tr>\n",
       "      <th>2009</th>\n",
       "      <td>100573.892810</td>\n",
       "      <td>186247.949649</td>\n",
       "      <td>89399.015831</td>\n",
       "      <td>96848.933817</td>\n",
       "      <td>151233.335115</td>\n",
       "    </tr>\n",
       "    <tr>\n",
       "      <th>2010</th>\n",
       "      <td>101037.477690</td>\n",
       "      <td>208980.394503</td>\n",
       "      <td>88680.376102</td>\n",
       "      <td>94495.482732</td>\n",
       "      <td>166457.427273</td>\n",
       "    </tr>\n",
       "    <tr>\n",
       "      <th>2011</th>\n",
       "      <td>95189.343842</td>\n",
       "      <td>204937.057919</td>\n",
       "      <td>81890.832570</td>\n",
       "      <td>88890.049029</td>\n",
       "      <td>156082.527036</td>\n",
       "    </tr>\n",
       "    <tr>\n",
       "      <th>2012</th>\n",
       "      <td>94161.743948</td>\n",
       "      <td>204699.443365</td>\n",
       "      <td>81879.777346</td>\n",
       "      <td>88703.092125</td>\n",
       "      <td>156253.908435</td>\n",
       "    </tr>\n",
       "    <tr>\n",
       "      <th>2013</th>\n",
       "      <td>93384.265970</td>\n",
       "      <td>215450.842203</td>\n",
       "      <td>80043.656546</td>\n",
       "      <td>86713.961258</td>\n",
       "      <td>156752.160736</td>\n",
       "    </tr>\n",
       "    <tr>\n",
       "      <th>2014</th>\n",
       "      <td>97963.896980</td>\n",
       "      <td>238006.246354</td>\n",
       "      <td>81527.001514</td>\n",
       "      <td>88759.235519</td>\n",
       "      <td>164303.207083</td>\n",
       "    </tr>\n",
       "    <tr>\n",
       "      <th>2015</th>\n",
       "      <td>103172.434141</td>\n",
       "      <td>260715.103416</td>\n",
       "      <td>83193.010386</td>\n",
       "      <td>91708.830347</td>\n",
       "      <td>176867.029955</td>\n",
       "    </tr>\n",
       "    <tr>\n",
       "      <th>2016</th>\n",
       "      <td>107009.599255</td>\n",
       "      <td>282116.216217</td>\n",
       "      <td>83013.507301</td>\n",
       "      <td>94038.738739</td>\n",
       "      <td>189374.563530</td>\n",
       "    </tr>\n",
       "    <tr>\n",
       "      <th>2017</th>\n",
       "      <td>111617.018184</td>\n",
       "      <td>284575.967043</td>\n",
       "      <td>82210.834923</td>\n",
       "      <td>94858.655681</td>\n",
       "      <td>196041.221740</td>\n",
       "    </tr>\n",
       "    <tr>\n",
       "      <th>2018</th>\n",
       "      <td>114367.499515</td>\n",
       "      <td>278191.215036</td>\n",
       "      <td>81973.059828</td>\n",
       "      <td>95821.418512</td>\n",
       "      <td>196124.806600</td>\n",
       "    </tr>\n",
       "    <tr>\n",
       "      <th>2019</th>\n",
       "      <td>115449.879619</td>\n",
       "      <td>276472.080140</td>\n",
       "      <td>81422.546679</td>\n",
       "      <td>97220.951258</td>\n",
       "      <td>194441.902516</td>\n",
       "    </tr>\n",
       "    <tr>\n",
       "      <th>2020</th>\n",
       "      <td>120933.427064</td>\n",
       "      <td>289698.731996</td>\n",
       "      <td>82728.090653</td>\n",
       "      <td>102282.002989</td>\n",
       "      <td>204564.005978</td>\n",
       "    </tr>\n",
       "    <tr>\n",
       "      <th>2021</th>\n",
       "      <td>129142.845025</td>\n",
       "      <td>289866.985788</td>\n",
       "      <td>85113.940066</td>\n",
       "      <td>108597.392407</td>\n",
       "      <td>208389.590836</td>\n",
       "    </tr>\n",
       "    <tr>\n",
       "      <th>2022</th>\n",
       "      <td>130345.204054</td>\n",
       "      <td>280283.006630</td>\n",
       "      <td>80547.349478</td>\n",
       "      <td>106126.575326</td>\n",
       "      <td>205722.284478</td>\n",
       "    </tr>\n",
       "    <tr>\n",
       "      <th>2023</th>\n",
       "      <td>119684.188179</td>\n",
       "      <td>259740.153069</td>\n",
       "      <td>74738.955810</td>\n",
       "      <td>96765.939379</td>\n",
       "      <td>189966.817833</td>\n",
       "    </tr>\n",
       "    <tr>\n",
       "      <th>2024</th>\n",
       "      <td>114047.281382</td>\n",
       "      <td>250462.609688</td>\n",
       "      <td>69410.380645</td>\n",
       "      <td>94233.457110</td>\n",
       "      <td>181027.430764</td>\n",
       "    </tr>\n",
       "  </tbody>\n",
       "</table>\n",
       "</div>"
      ],
      "text/plain": [
       "region  East Midlands         London    North East     North West  \\\n",
       "Year                                                                \n",
       "1995     45177.707884   71768.156409  41539.894627   44243.674750   \n",
       "1996     45406.600127   73606.488628  42538.814856   44278.604587   \n",
       "1997     46765.935948   80437.409831  43955.303198   45830.617229   \n",
       "1998     49144.396173   88735.489165  44092.168529   45929.342218   \n",
       "1999     51907.922015  106524.083440  45588.696727   48477.485430   \n",
       "2000     54870.266815  123123.525535  46394.371941   50409.269513   \n",
       "2001     61512.295214  136205.796546  48331.089097   52724.824469   \n",
       "2002     73573.731224  156235.982188  51934.398511   60590.131597   \n",
       "2003     91358.099223  170762.802285  66554.802191   72574.190971   \n",
       "2004    106526.863370  185264.110208  80842.520818   90947.835920   \n",
       "2005    108886.538992  189726.545214  89861.915896   98162.864698   \n",
       "2006    110306.479019  197263.411385  95813.656958  103019.810150   \n",
       "2007    113629.276374  206813.146618  96329.317341  106119.521430   \n",
       "2008    104838.106979  196761.374693  91163.571286   98722.550739   \n",
       "2009    100573.892810  186247.949649  89399.015831   96848.933817   \n",
       "2010    101037.477690  208980.394503  88680.376102   94495.482732   \n",
       "2011     95189.343842  204937.057919  81890.832570   88890.049029   \n",
       "2012     94161.743948  204699.443365  81879.777346   88703.092125   \n",
       "2013     93384.265970  215450.842203  80043.656546   86713.961258   \n",
       "2014     97963.896980  238006.246354  81527.001514   88759.235519   \n",
       "2015    103172.434141  260715.103416  83193.010386   91708.830347   \n",
       "2016    107009.599255  282116.216217  83013.507301   94038.738739   \n",
       "2017    111617.018184  284575.967043  82210.834923   94858.655681   \n",
       "2018    114367.499515  278191.215036  81973.059828   95821.418512   \n",
       "2019    115449.879619  276472.080140  81422.546679   97220.951258   \n",
       "2020    120933.427064  289698.731996  82728.090653  102282.002989   \n",
       "2021    129142.845025  289866.985788  85113.940066  108597.392407   \n",
       "2022    130345.204054  280283.006630  80547.349478  106126.575326   \n",
       "2023    119684.188179  259740.153069  74738.955810   96765.939379   \n",
       "2024    114047.281382  250462.609688  69410.380645   94233.457110   \n",
       "\n",
       "region     South East  \n",
       "Year                   \n",
       "1995     63907.530195  \n",
       "1996     65481.097026  \n",
       "1997     69681.244563  \n",
       "1998     76242.708082  \n",
       "1999     83504.048460  \n",
       "2000     99926.339565  \n",
       "2001    110722.131386  \n",
       "2002    128104.849661  \n",
       "2003    145105.691242  \n",
       "2004    155790.274493  \n",
       "2005    158380.420353  \n",
       "2006    163044.248186  \n",
       "2007    172960.272238  \n",
       "2008    163334.731888  \n",
       "2009    151233.335115  \n",
       "2010    166457.427273  \n",
       "2011    156082.527036  \n",
       "2012    156253.908435  \n",
       "2013    156752.160736  \n",
       "2014    164303.207083  \n",
       "2015    176867.029955  \n",
       "2016    189374.563530  \n",
       "2017    196041.221740  \n",
       "2018    196124.806600  \n",
       "2019    194441.902516  \n",
       "2020    204564.005978  \n",
       "2021    208389.590836  \n",
       "2022    205722.284478  \n",
       "2023    189966.817833  \n",
       "2024    181027.430764  "
      ]
     },
     "execution_count": 50,
     "metadata": {},
     "output_type": "execute_result"
    }
   ],
   "source": [
    "df_screened.mul(gbp_cpi.values,axis=1)"
   ]
  },
  {
   "cell_type": "code",
   "execution_count": 63,
   "metadata": {},
   "outputs": [
    {
     "data": {
      "application/vnd.plotly.v1+json": {
       "config": {
        "plotlyServerURL": "https://plot.ly"
       },
       "data": [
        {
         "hovertemplate": "region=East Midlands<br>Year=%{x}<br>Relative Price=%{y}<extra></extra>",
         "legendgroup": "East Midlands",
         "line": {
          "color": "#636efa",
          "dash": "solid"
         },
         "marker": {
          "symbol": "circle"
         },
         "mode": "lines",
         "name": "East Midlands",
         "orientation": "v",
         "showlegend": true,
         "type": "scatter",
         "x": [
          1995,
          1996,
          1997,
          1998,
          1999,
          2000,
          2001,
          2002,
          2003,
          2004,
          2005,
          2006,
          2007,
          2008,
          2009,
          2010,
          2011,
          2012,
          2013,
          2014,
          2015,
          2016,
          2017,
          2018,
          2019,
          2020,
          2021,
          2022,
          2023,
          2024
         ],
         "xaxis": "x",
         "y": [
          1,
          1.0050664864231973,
          1.0351551271361468,
          1.0878018933472822,
          1.148972014003911,
          1.214542954581834,
          1.3615629941312388,
          1.628540593815548,
          2.0221942082006197,
          2.3579519271675466,
          2.4101828997695467,
          2.4416130030977565,
          2.515162492659719,
          2.3205716245899515,
          2.226184052293008,
          2.2364454157284857,
          2.1069980815994542,
          2.0842523527300907,
          2.0670430250799208,
          2.1684122893501514,
          2.2837022720555766,
          2.3686371944725657,
          2.4706215390872512,
          2.5315029219440994,
          2.5554612003741144,
          2.6768384835833734,
          2.8585523939611917,
          2.885166383150206,
          2.6491868176772666,
          2.524414954266066
         ],
         "yaxis": "y"
        },
        {
         "hovertemplate": "region=London<br>Year=%{x}<br>Relative Price=%{y}<extra></extra>",
         "legendgroup": "London",
         "line": {
          "color": "#EF553B",
          "dash": "solid"
         },
         "marker": {
          "symbol": "circle"
         },
         "mode": "lines",
         "name": "London",
         "orientation": "v",
         "showlegend": true,
         "type": "scatter",
         "x": [
          1995,
          1996,
          1997,
          1998,
          1999,
          2000,
          2001,
          2002,
          2003,
          2004,
          2005,
          2006,
          2007,
          2008,
          2009,
          2010,
          2011,
          2012,
          2013,
          2014,
          2015,
          2016,
          2017,
          2018,
          2019,
          2020,
          2021,
          2022,
          2023,
          2024
         ],
         "xaxis": "x",
         "y": [
          1,
          1.0256148730989463,
          1.1207952643068462,
          1.2364186793316698,
          1.4842806165116982,
          1.7155731970279438,
          1.8978583728731355,
          2.176954097837694,
          2.379367268576672,
          2.5814249589066263,
          2.643603440689634,
          2.748620297023021,
          2.8816839802905214,
          2.741625040113552,
          2.5951335378847284,
          2.9118818841103367,
          2.8555430176051653,
          2.8522321543151454,
          3.0020395253865155,
          3.316321029602697,
          3.632740709274899,
          3.9309385991499015,
          3.9652121676599474,
          3.8762485892961287,
          3.852294582651422,
          4.036591525991923,
          4.0389359333293555,
          3.9053951035604304,
          3.6191559887580707,
          3.4898849604135944
         ],
         "yaxis": "y"
        },
        {
         "hovertemplate": "region=North East<br>Year=%{x}<br>Relative Price=%{y}<extra></extra>",
         "legendgroup": "North East",
         "line": {
          "color": "#00cc96",
          "dash": "solid"
         },
         "marker": {
          "symbol": "circle"
         },
         "mode": "lines",
         "name": "North East",
         "orientation": "v",
         "showlegend": true,
         "type": "scatter",
         "x": [
          1995,
          1996,
          1997,
          1998,
          1999,
          2000,
          2001,
          2002,
          2003,
          2004,
          2005,
          2006,
          2007,
          2008,
          2009,
          2010,
          2011,
          2012,
          2013,
          2014,
          2015,
          2016,
          2017,
          2018,
          2019,
          2020,
          2021,
          2022,
          2023,
          2024
         ],
         "xaxis": "x",
         "y": [
          1,
          1.0240472499662376,
          1.0581467187830154,
          1.0614415112389606,
          1.0974677990000414,
          1.1168630146448584,
          1.1634860784169647,
          1.2502294235014173,
          1.6021899619351876,
          1.9461416920965424,
          2.163267786385757,
          2.3065454984820435,
          2.318959116458709,
          2.194602853612725,
          2.1521242804021297,
          2.1348242911808466,
          1.971377956211435,
          1.9711118211051744,
          1.9269104379189657,
          1.9626193625764334,
          2.0027255999130085,
          1.9984043784127445,
          1.9790814507920538,
          1.9733574330092405,
          1.960104795897046,
          1.9915334739427362,
          2.048968607902358,
          1.9390359605441605,
          1.7992090851774578,
          1.6709329975192628
         ],
         "yaxis": "y"
        },
        {
         "hovertemplate": "region=North West<br>Year=%{x}<br>Relative Price=%{y}<extra></extra>",
         "legendgroup": "North West",
         "line": {
          "color": "#ab63fa",
          "dash": "solid"
         },
         "marker": {
          "symbol": "circle"
         },
         "mode": "lines",
         "name": "North West",
         "orientation": "v",
         "showlegend": true,
         "type": "scatter",
         "x": [
          1995,
          1996,
          1997,
          1998,
          1999,
          2000,
          2001,
          2002,
          2003,
          2004,
          2005,
          2006,
          2007,
          2008,
          2009,
          2010,
          2011,
          2012,
          2013,
          2014,
          2015,
          2016,
          2017,
          2018,
          2019,
          2020,
          2021,
          2022,
          2023,
          2024
         ],
         "xaxis": "x",
         "y": [
          1,
          1.000789487704832,
          1.0358682340015073,
          1.0380996261538444,
          1.0956930160907672,
          1.1393553948009008,
          1.1916918015301035,
          1.3694642666686823,
          1.6403291856032336,
          2.0556121622769727,
          2.2186869705530086,
          2.3284641416293836,
          2.398524128683509,
          2.2313370509147474,
          2.188989372242351,
          2.1357964333899457,
          2.0091018553735056,
          2.0048762365592907,
          1.959917700049985,
          2.006145195214217,
          2.0728122350805678,
          2.1254730595922005,
          2.1440049050247247,
          2.165765367665629,
          2.1973977479708173,
          2.3117881497525175,
          2.454529218481374,
          2.398683561551532,
          2.187113523567979,
          2.129874103860249
         ],
         "yaxis": "y"
        },
        {
         "hovertemplate": "region=South East<br>Year=%{x}<br>Relative Price=%{y}<extra></extra>",
         "legendgroup": "South East",
         "line": {
          "color": "#FFA15A",
          "dash": "solid"
         },
         "marker": {
          "symbol": "circle"
         },
         "mode": "lines",
         "name": "South East",
         "orientation": "v",
         "showlegend": true,
         "type": "scatter",
         "x": [
          1995,
          1996,
          1997,
          1998,
          1999,
          2000,
          2001,
          2002,
          2003,
          2004,
          2005,
          2006,
          2007,
          2008,
          2009,
          2010,
          2011,
          2012,
          2013,
          2014,
          2015,
          2016,
          2017,
          2018,
          2019,
          2020,
          2021,
          2022,
          2023,
          2024
         ],
         "xaxis": "x",
         "y": [
          1,
          1.024622557410039,
          1.0903448208759978,
          1.1930160319029568,
          1.306638641878762,
          1.563608220502802,
          1.732536542224535,
          2.004534509013939,
          2.270557018859209,
          2.4377451924438462,
          2.4782747802945044,
          2.551252531409235,
          2.70641459169233,
          2.5557979066031526,
          2.3664399899921746,
          2.6046606208382705,
          2.4423182457508332,
          2.444999954762543,
          2.452796411601017,
          2.5709522270976044,
          2.767546006179,
          2.9632589923651476,
          3.067576248727683,
          3.068884151874584,
          3.0425507279595934,
          3.20093743811887,
          3.2607986914960456,
          3.2190617263898664,
          2.97252635571567,
          2.832646328413327
         ],
         "yaxis": "y"
        }
       ],
       "layout": {
        "height": 600,
        "legend": {
         "title": {
          "text": "Region"
         },
         "tracegroupgap": 0,
         "x": 0.01,
         "xanchor": "left",
         "y": 0.99,
         "yanchor": "top"
        },
        "template": {
         "data": {
          "bar": [
           {
            "error_x": {
             "color": "#2a3f5f"
            },
            "error_y": {
             "color": "#2a3f5f"
            },
            "marker": {
             "line": {
              "color": "#E5ECF6",
              "width": 0.5
             },
             "pattern": {
              "fillmode": "overlay",
              "size": 10,
              "solidity": 0.2
             }
            },
            "type": "bar"
           }
          ],
          "barpolar": [
           {
            "marker": {
             "line": {
              "color": "#E5ECF6",
              "width": 0.5
             },
             "pattern": {
              "fillmode": "overlay",
              "size": 10,
              "solidity": 0.2
             }
            },
            "type": "barpolar"
           }
          ],
          "carpet": [
           {
            "aaxis": {
             "endlinecolor": "#2a3f5f",
             "gridcolor": "white",
             "linecolor": "white",
             "minorgridcolor": "white",
             "startlinecolor": "#2a3f5f"
            },
            "baxis": {
             "endlinecolor": "#2a3f5f",
             "gridcolor": "white",
             "linecolor": "white",
             "minorgridcolor": "white",
             "startlinecolor": "#2a3f5f"
            },
            "type": "carpet"
           }
          ],
          "choropleth": [
           {
            "colorbar": {
             "outlinewidth": 0,
             "ticks": ""
            },
            "type": "choropleth"
           }
          ],
          "contour": [
           {
            "colorbar": {
             "outlinewidth": 0,
             "ticks": ""
            },
            "colorscale": [
             [
              0,
              "#0d0887"
             ],
             [
              0.1111111111111111,
              "#46039f"
             ],
             [
              0.2222222222222222,
              "#7201a8"
             ],
             [
              0.3333333333333333,
              "#9c179e"
             ],
             [
              0.4444444444444444,
              "#bd3786"
             ],
             [
              0.5555555555555556,
              "#d8576b"
             ],
             [
              0.6666666666666666,
              "#ed7953"
             ],
             [
              0.7777777777777778,
              "#fb9f3a"
             ],
             [
              0.8888888888888888,
              "#fdca26"
             ],
             [
              1,
              "#f0f921"
             ]
            ],
            "type": "contour"
           }
          ],
          "contourcarpet": [
           {
            "colorbar": {
             "outlinewidth": 0,
             "ticks": ""
            },
            "type": "contourcarpet"
           }
          ],
          "heatmap": [
           {
            "colorbar": {
             "outlinewidth": 0,
             "ticks": ""
            },
            "colorscale": [
             [
              0,
              "#0d0887"
             ],
             [
              0.1111111111111111,
              "#46039f"
             ],
             [
              0.2222222222222222,
              "#7201a8"
             ],
             [
              0.3333333333333333,
              "#9c179e"
             ],
             [
              0.4444444444444444,
              "#bd3786"
             ],
             [
              0.5555555555555556,
              "#d8576b"
             ],
             [
              0.6666666666666666,
              "#ed7953"
             ],
             [
              0.7777777777777778,
              "#fb9f3a"
             ],
             [
              0.8888888888888888,
              "#fdca26"
             ],
             [
              1,
              "#f0f921"
             ]
            ],
            "type": "heatmap"
           }
          ],
          "heatmapgl": [
           {
            "colorbar": {
             "outlinewidth": 0,
             "ticks": ""
            },
            "colorscale": [
             [
              0,
              "#0d0887"
             ],
             [
              0.1111111111111111,
              "#46039f"
             ],
             [
              0.2222222222222222,
              "#7201a8"
             ],
             [
              0.3333333333333333,
              "#9c179e"
             ],
             [
              0.4444444444444444,
              "#bd3786"
             ],
             [
              0.5555555555555556,
              "#d8576b"
             ],
             [
              0.6666666666666666,
              "#ed7953"
             ],
             [
              0.7777777777777778,
              "#fb9f3a"
             ],
             [
              0.8888888888888888,
              "#fdca26"
             ],
             [
              1,
              "#f0f921"
             ]
            ],
            "type": "heatmapgl"
           }
          ],
          "histogram": [
           {
            "marker": {
             "pattern": {
              "fillmode": "overlay",
              "size": 10,
              "solidity": 0.2
             }
            },
            "type": "histogram"
           }
          ],
          "histogram2d": [
           {
            "colorbar": {
             "outlinewidth": 0,
             "ticks": ""
            },
            "colorscale": [
             [
              0,
              "#0d0887"
             ],
             [
              0.1111111111111111,
              "#46039f"
             ],
             [
              0.2222222222222222,
              "#7201a8"
             ],
             [
              0.3333333333333333,
              "#9c179e"
             ],
             [
              0.4444444444444444,
              "#bd3786"
             ],
             [
              0.5555555555555556,
              "#d8576b"
             ],
             [
              0.6666666666666666,
              "#ed7953"
             ],
             [
              0.7777777777777778,
              "#fb9f3a"
             ],
             [
              0.8888888888888888,
              "#fdca26"
             ],
             [
              1,
              "#f0f921"
             ]
            ],
            "type": "histogram2d"
           }
          ],
          "histogram2dcontour": [
           {
            "colorbar": {
             "outlinewidth": 0,
             "ticks": ""
            },
            "colorscale": [
             [
              0,
              "#0d0887"
             ],
             [
              0.1111111111111111,
              "#46039f"
             ],
             [
              0.2222222222222222,
              "#7201a8"
             ],
             [
              0.3333333333333333,
              "#9c179e"
             ],
             [
              0.4444444444444444,
              "#bd3786"
             ],
             [
              0.5555555555555556,
              "#d8576b"
             ],
             [
              0.6666666666666666,
              "#ed7953"
             ],
             [
              0.7777777777777778,
              "#fb9f3a"
             ],
             [
              0.8888888888888888,
              "#fdca26"
             ],
             [
              1,
              "#f0f921"
             ]
            ],
            "type": "histogram2dcontour"
           }
          ],
          "mesh3d": [
           {
            "colorbar": {
             "outlinewidth": 0,
             "ticks": ""
            },
            "type": "mesh3d"
           }
          ],
          "parcoords": [
           {
            "line": {
             "colorbar": {
              "outlinewidth": 0,
              "ticks": ""
             }
            },
            "type": "parcoords"
           }
          ],
          "pie": [
           {
            "automargin": true,
            "type": "pie"
           }
          ],
          "scatter": [
           {
            "fillpattern": {
             "fillmode": "overlay",
             "size": 10,
             "solidity": 0.2
            },
            "type": "scatter"
           }
          ],
          "scatter3d": [
           {
            "line": {
             "colorbar": {
              "outlinewidth": 0,
              "ticks": ""
             }
            },
            "marker": {
             "colorbar": {
              "outlinewidth": 0,
              "ticks": ""
             }
            },
            "type": "scatter3d"
           }
          ],
          "scattercarpet": [
           {
            "marker": {
             "colorbar": {
              "outlinewidth": 0,
              "ticks": ""
             }
            },
            "type": "scattercarpet"
           }
          ],
          "scattergeo": [
           {
            "marker": {
             "colorbar": {
              "outlinewidth": 0,
              "ticks": ""
             }
            },
            "type": "scattergeo"
           }
          ],
          "scattergl": [
           {
            "marker": {
             "colorbar": {
              "outlinewidth": 0,
              "ticks": ""
             }
            },
            "type": "scattergl"
           }
          ],
          "scattermapbox": [
           {
            "marker": {
             "colorbar": {
              "outlinewidth": 0,
              "ticks": ""
             }
            },
            "type": "scattermapbox"
           }
          ],
          "scatterpolar": [
           {
            "marker": {
             "colorbar": {
              "outlinewidth": 0,
              "ticks": ""
             }
            },
            "type": "scatterpolar"
           }
          ],
          "scatterpolargl": [
           {
            "marker": {
             "colorbar": {
              "outlinewidth": 0,
              "ticks": ""
             }
            },
            "type": "scatterpolargl"
           }
          ],
          "scatterternary": [
           {
            "marker": {
             "colorbar": {
              "outlinewidth": 0,
              "ticks": ""
             }
            },
            "type": "scatterternary"
           }
          ],
          "surface": [
           {
            "colorbar": {
             "outlinewidth": 0,
             "ticks": ""
            },
            "colorscale": [
             [
              0,
              "#0d0887"
             ],
             [
              0.1111111111111111,
              "#46039f"
             ],
             [
              0.2222222222222222,
              "#7201a8"
             ],
             [
              0.3333333333333333,
              "#9c179e"
             ],
             [
              0.4444444444444444,
              "#bd3786"
             ],
             [
              0.5555555555555556,
              "#d8576b"
             ],
             [
              0.6666666666666666,
              "#ed7953"
             ],
             [
              0.7777777777777778,
              "#fb9f3a"
             ],
             [
              0.8888888888888888,
              "#fdca26"
             ],
             [
              1,
              "#f0f921"
             ]
            ],
            "type": "surface"
           }
          ],
          "table": [
           {
            "cells": {
             "fill": {
              "color": "#EBF0F8"
             },
             "line": {
              "color": "white"
             }
            },
            "header": {
             "fill": {
              "color": "#C8D4E3"
             },
             "line": {
              "color": "white"
             }
            },
            "type": "table"
           }
          ]
         },
         "layout": {
          "annotationdefaults": {
           "arrowcolor": "#2a3f5f",
           "arrowhead": 0,
           "arrowwidth": 1
          },
          "autotypenumbers": "strict",
          "coloraxis": {
           "colorbar": {
            "outlinewidth": 0,
            "ticks": ""
           }
          },
          "colorscale": {
           "diverging": [
            [
             0,
             "#8e0152"
            ],
            [
             0.1,
             "#c51b7d"
            ],
            [
             0.2,
             "#de77ae"
            ],
            [
             0.3,
             "#f1b6da"
            ],
            [
             0.4,
             "#fde0ef"
            ],
            [
             0.5,
             "#f7f7f7"
            ],
            [
             0.6,
             "#e6f5d0"
            ],
            [
             0.7,
             "#b8e186"
            ],
            [
             0.8,
             "#7fbc41"
            ],
            [
             0.9,
             "#4d9221"
            ],
            [
             1,
             "#276419"
            ]
           ],
           "sequential": [
            [
             0,
             "#0d0887"
            ],
            [
             0.1111111111111111,
             "#46039f"
            ],
            [
             0.2222222222222222,
             "#7201a8"
            ],
            [
             0.3333333333333333,
             "#9c179e"
            ],
            [
             0.4444444444444444,
             "#bd3786"
            ],
            [
             0.5555555555555556,
             "#d8576b"
            ],
            [
             0.6666666666666666,
             "#ed7953"
            ],
            [
             0.7777777777777778,
             "#fb9f3a"
            ],
            [
             0.8888888888888888,
             "#fdca26"
            ],
            [
             1,
             "#f0f921"
            ]
           ],
           "sequentialminus": [
            [
             0,
             "#0d0887"
            ],
            [
             0.1111111111111111,
             "#46039f"
            ],
            [
             0.2222222222222222,
             "#7201a8"
            ],
            [
             0.3333333333333333,
             "#9c179e"
            ],
            [
             0.4444444444444444,
             "#bd3786"
            ],
            [
             0.5555555555555556,
             "#d8576b"
            ],
            [
             0.6666666666666666,
             "#ed7953"
            ],
            [
             0.7777777777777778,
             "#fb9f3a"
            ],
            [
             0.8888888888888888,
             "#fdca26"
            ],
            [
             1,
             "#f0f921"
            ]
           ]
          },
          "colorway": [
           "#636efa",
           "#EF553B",
           "#00cc96",
           "#ab63fa",
           "#FFA15A",
           "#19d3f3",
           "#FF6692",
           "#B6E880",
           "#FF97FF",
           "#FECB52"
          ],
          "font": {
           "color": "#2a3f5f"
          },
          "geo": {
           "bgcolor": "white",
           "lakecolor": "white",
           "landcolor": "#E5ECF6",
           "showlakes": true,
           "showland": true,
           "subunitcolor": "white"
          },
          "hoverlabel": {
           "align": "left"
          },
          "hovermode": "closest",
          "mapbox": {
           "style": "light"
          },
          "paper_bgcolor": "white",
          "plot_bgcolor": "#E5ECF6",
          "polar": {
           "angularaxis": {
            "gridcolor": "white",
            "linecolor": "white",
            "ticks": ""
           },
           "bgcolor": "#E5ECF6",
           "radialaxis": {
            "gridcolor": "white",
            "linecolor": "white",
            "ticks": ""
           }
          },
          "scene": {
           "xaxis": {
            "backgroundcolor": "#E5ECF6",
            "gridcolor": "white",
            "gridwidth": 2,
            "linecolor": "white",
            "showbackground": true,
            "ticks": "",
            "zerolinecolor": "white"
           },
           "yaxis": {
            "backgroundcolor": "#E5ECF6",
            "gridcolor": "white",
            "gridwidth": 2,
            "linecolor": "white",
            "showbackground": true,
            "ticks": "",
            "zerolinecolor": "white"
           },
           "zaxis": {
            "backgroundcolor": "#E5ECF6",
            "gridcolor": "white",
            "gridwidth": 2,
            "linecolor": "white",
            "showbackground": true,
            "ticks": "",
            "zerolinecolor": "white"
           }
          },
          "shapedefaults": {
           "line": {
            "color": "#2a3f5f"
           }
          },
          "ternary": {
           "aaxis": {
            "gridcolor": "white",
            "linecolor": "white",
            "ticks": ""
           },
           "baxis": {
            "gridcolor": "white",
            "linecolor": "white",
            "ticks": ""
           },
           "bgcolor": "#E5ECF6",
           "caxis": {
            "gridcolor": "white",
            "linecolor": "white",
            "ticks": ""
           }
          },
          "title": {
           "x": 0.05
          },
          "xaxis": {
           "automargin": true,
           "gridcolor": "white",
           "linecolor": "white",
           "ticks": "",
           "title": {
            "standoff": 15
           },
           "zerolinecolor": "white",
           "zerolinewidth": 2
          },
          "yaxis": {
           "automargin": true,
           "gridcolor": "white",
           "linecolor": "white",
           "ticks": "",
           "title": {
            "standoff": 15
           },
           "zerolinecolor": "white",
           "zerolinewidth": 2
          }
         }
        },
        "title": {
         "text": "Median House Prices, CPI Adjusted GBP (1995)"
        },
        "width": 800,
        "xaxis": {
         "anchor": "y",
         "domain": [
          0,
          1
         ],
         "title": {
          "text": "Year"
         }
        },
        "yaxis": {
         "anchor": "x",
         "domain": [
          0,
          1
         ],
         "title": {
          "text": "Relative Price"
         }
        }
       }
      }
     },
     "metadata": {},
     "output_type": "display_data"
    }
   ],
   "source": [
    "df_screened = (\n",
    "    df[df['region']\n",
    "       .isin(['London','South East', 'East Midlands','North West','North East'])]\n",
    "       .groupby(['Year','region'])['0.50'].sum().unstack()\n",
    ")\n",
    "\n",
    "gbp_cpi = (\n",
    "    fred.Fred_Pull('GBRCPIALLMINMEI',\n",
    "                   '899901ba06f09b9961a73113b1834a15').index(1995)\n",
    "                   .resample('YE').mean()\n",
    "                   .assign(year=lambda df: df.index.year).set_index('year')\n",
    ")\n",
    "\n",
    "import plotly.express as px\n",
    "fig = px.line(df_screened.mul(gbp_cpi.values,axis=1)\n",
    "              .apply(lambda x: x/x.iloc[0],axis=0),\n",
    "              labels={\n",
    "                  'index':'Year',\n",
    "                  'value':'Relative Price'\n",
    "              },\n",
    "              width=800, height=600,\n",
    "              title='Median House Prices, CPI Adjusted GBP (1995)')\n",
    "\n",
    "fig.update_layout(legend=dict(\n",
    "    title='Region',\n",
    "    yanchor=\"top\",\n",
    "    y=0.99,\n",
    "    xanchor=\"left\",\n",
    "    x=0.01\n",
    "))\n",
    "\n",
    "fig.show()"
   ]
  },
  {
   "cell_type": "code",
   "execution_count": null,
   "metadata": {},
   "outputs": [
    {
     "data": {
      "text/html": [
       "<div>\n",
       "<style scoped>\n",
       "    .dataframe tbody tr th:only-of-type {\n",
       "        vertical-align: middle;\n",
       "    }\n",
       "\n",
       "    .dataframe tbody tr th {\n",
       "        vertical-align: top;\n",
       "    }\n",
       "\n",
       "    .dataframe thead th {\n",
       "        text-align: right;\n",
       "    }\n",
       "</style>\n",
       "<table border=\"1\" class=\"dataframe\">\n",
       "  <thead>\n",
       "    <tr style=\"text-align: right;\">\n",
       "      <th>region</th>\n",
       "      <th>East Midlands</th>\n",
       "      <th>London</th>\n",
       "      <th>North East</th>\n",
       "      <th>North West</th>\n",
       "      <th>South East</th>\n",
       "    </tr>\n",
       "    <tr>\n",
       "      <th>Year</th>\n",
       "      <th></th>\n",
       "      <th></th>\n",
       "      <th></th>\n",
       "      <th></th>\n",
       "      <th></th>\n",
       "    </tr>\n",
       "  </thead>\n",
       "  <tbody>\n",
       "    <tr>\n",
       "      <th>2000</th>\n",
       "      <td>61500</td>\n",
       "      <td>138000</td>\n",
       "      <td>52000</td>\n",
       "      <td>56500</td>\n",
       "      <td>112000</td>\n",
       "    </tr>\n",
       "    <tr>\n",
       "      <th>2001</th>\n",
       "      <td>70000</td>\n",
       "      <td>155000</td>\n",
       "      <td>55000</td>\n",
       "      <td>60000</td>\n",
       "      <td>126000</td>\n",
       "    </tr>\n",
       "    <tr>\n",
       "      <th>2002</th>\n",
       "      <td>85000</td>\n",
       "      <td>180500</td>\n",
       "      <td>60000</td>\n",
       "      <td>70000</td>\n",
       "      <td>148000</td>\n",
       "    </tr>\n",
       "    <tr>\n",
       "      <th>2003</th>\n",
       "      <td>107000</td>\n",
       "      <td>200000</td>\n",
       "      <td>77950</td>\n",
       "      <td>85000</td>\n",
       "      <td>169950</td>\n",
       "    </tr>\n",
       "    <tr>\n",
       "      <th>2004</th>\n",
       "      <td>126500</td>\n",
       "      <td>220000</td>\n",
       "      <td>96000</td>\n",
       "      <td>108000</td>\n",
       "      <td>185000</td>\n",
       "    </tr>\n",
       "    <tr>\n",
       "      <th>2005</th>\n",
       "      <td>132000</td>\n",
       "      <td>230000</td>\n",
       "      <td>108937</td>\n",
       "      <td>119000</td>\n",
       "      <td>192000</td>\n",
       "    </tr>\n",
       "    <tr>\n",
       "      <th>2006</th>\n",
       "      <td>137000</td>\n",
       "      <td>245000</td>\n",
       "      <td>119000</td>\n",
       "      <td>127950</td>\n",
       "      <td>202500</td>\n",
       "    </tr>\n",
       "    <tr>\n",
       "      <th>2007</th>\n",
       "      <td>144500</td>\n",
       "      <td>263000</td>\n",
       "      <td>122500</td>\n",
       "      <td>134950</td>\n",
       "      <td>219950</td>\n",
       "    </tr>\n",
       "    <tr>\n",
       "      <th>2008</th>\n",
       "      <td>138000</td>\n",
       "      <td>259000</td>\n",
       "      <td>120000</td>\n",
       "      <td>129950</td>\n",
       "      <td>215000</td>\n",
       "    </tr>\n",
       "    <tr>\n",
       "      <th>2009</th>\n",
       "      <td>135000</td>\n",
       "      <td>250000</td>\n",
       "      <td>120000</td>\n",
       "      <td>130000</td>\n",
       "      <td>203000</td>\n",
       "    </tr>\n",
       "    <tr>\n",
       "      <th>2010</th>\n",
       "      <td>139000</td>\n",
       "      <td>287500</td>\n",
       "      <td>122000</td>\n",
       "      <td>130000</td>\n",
       "      <td>229000</td>\n",
       "    </tr>\n",
       "    <tr>\n",
       "      <th>2011</th>\n",
       "      <td>136000</td>\n",
       "      <td>292800</td>\n",
       "      <td>117000</td>\n",
       "      <td>127000</td>\n",
       "      <td>223000</td>\n",
       "    </tr>\n",
       "    <tr>\n",
       "      <th>2012</th>\n",
       "      <td>138000</td>\n",
       "      <td>300000</td>\n",
       "      <td>120000</td>\n",
       "      <td>130000</td>\n",
       "      <td>229000</td>\n",
       "    </tr>\n",
       "    <tr>\n",
       "      <th>2013</th>\n",
       "      <td>140000</td>\n",
       "      <td>323000</td>\n",
       "      <td>120000</td>\n",
       "      <td>130000</td>\n",
       "      <td>235000</td>\n",
       "    </tr>\n",
       "    <tr>\n",
       "      <th>2014</th>\n",
       "      <td>149000</td>\n",
       "      <td>362000</td>\n",
       "      <td>124000</td>\n",
       "      <td>135000</td>\n",
       "      <td>249900</td>\n",
       "    </tr>\n",
       "    <tr>\n",
       "      <th>2015</th>\n",
       "      <td>157500</td>\n",
       "      <td>398000</td>\n",
       "      <td>127000</td>\n",
       "      <td>140000</td>\n",
       "      <td>270000</td>\n",
       "    </tr>\n",
       "    <tr>\n",
       "      <th>2016</th>\n",
       "      <td>165000</td>\n",
       "      <td>435000</td>\n",
       "      <td>128000</td>\n",
       "      <td>145000</td>\n",
       "      <td>292000</td>\n",
       "    </tr>\n",
       "    <tr>\n",
       "      <th>2017</th>\n",
       "      <td>176500</td>\n",
       "      <td>450000</td>\n",
       "      <td>130000</td>\n",
       "      <td>150000</td>\n",
       "      <td>310000</td>\n",
       "    </tr>\n",
       "    <tr>\n",
       "      <th>2018</th>\n",
       "      <td>185000</td>\n",
       "      <td>450000</td>\n",
       "      <td>132599</td>\n",
       "      <td>155000</td>\n",
       "      <td>317250</td>\n",
       "    </tr>\n",
       "    <tr>\n",
       "      <th>2019</th>\n",
       "      <td>190000</td>\n",
       "      <td>455000</td>\n",
       "      <td>134000</td>\n",
       "      <td>160000</td>\n",
       "      <td>320000</td>\n",
       "    </tr>\n",
       "    <tr>\n",
       "      <th>2020</th>\n",
       "      <td>201000</td>\n",
       "      <td>481500</td>\n",
       "      <td>137500</td>\n",
       "      <td>170000</td>\n",
       "      <td>340000</td>\n",
       "    </tr>\n",
       "    <tr>\n",
       "      <th>2021</th>\n",
       "      <td>220000</td>\n",
       "      <td>493800</td>\n",
       "      <td>144995</td>\n",
       "      <td>185000</td>\n",
       "      <td>355000</td>\n",
       "    </tr>\n",
       "    <tr>\n",
       "      <th>2022</th>\n",
       "      <td>239500</td>\n",
       "      <td>515000</td>\n",
       "      <td>148000</td>\n",
       "      <td>195000</td>\n",
       "      <td>378000</td>\n",
       "    </tr>\n",
       "    <tr>\n",
       "      <th>2023</th>\n",
       "      <td>235000</td>\n",
       "      <td>510000</td>\n",
       "      <td>146750</td>\n",
       "      <td>190000</td>\n",
       "      <td>373000</td>\n",
       "    </tr>\n",
       "    <tr>\n",
       "      <th>2024</th>\n",
       "      <td>229950</td>\n",
       "      <td>505000</td>\n",
       "      <td>139950</td>\n",
       "      <td>190000</td>\n",
       "      <td>365000</td>\n",
       "    </tr>\n",
       "  </tbody>\n",
       "</table>\n",
       "</div>"
      ],
      "text/plain": [
       "region  East Midlands  London  North East  North West  South East\n",
       "Year                                                             \n",
       "2000            61500  138000       52000       56500      112000\n",
       "2001            70000  155000       55000       60000      126000\n",
       "2002            85000  180500       60000       70000      148000\n",
       "2003           107000  200000       77950       85000      169950\n",
       "2004           126500  220000       96000      108000      185000\n",
       "2005           132000  230000      108937      119000      192000\n",
       "2006           137000  245000      119000      127950      202500\n",
       "2007           144500  263000      122500      134950      219950\n",
       "2008           138000  259000      120000      129950      215000\n",
       "2009           135000  250000      120000      130000      203000\n",
       "2010           139000  287500      122000      130000      229000\n",
       "2011           136000  292800      117000      127000      223000\n",
       "2012           138000  300000      120000      130000      229000\n",
       "2013           140000  323000      120000      130000      235000\n",
       "2014           149000  362000      124000      135000      249900\n",
       "2015           157500  398000      127000      140000      270000\n",
       "2016           165000  435000      128000      145000      292000\n",
       "2017           176500  450000      130000      150000      310000\n",
       "2018           185000  450000      132599      155000      317250\n",
       "2019           190000  455000      134000      160000      320000\n",
       "2020           201000  481500      137500      170000      340000\n",
       "2021           220000  493800      144995      185000      355000\n",
       "2022           239500  515000      148000      195000      378000\n",
       "2023           235000  510000      146750      190000      373000\n",
       "2024           229950  505000      139950      190000      365000"
      ]
     },
     "execution_count": 68,
     "metadata": {},
     "output_type": "execute_result"
    }
   ],
   "source": [
    "df_screened"
   ]
  },
  {
   "cell_type": "code",
   "execution_count": 69,
   "metadata": {},
   "outputs": [
    {
     "data": {
      "application/vnd.plotly.v1+json": {
       "config": {
        "plotlyServerURL": "https://plot.ly"
       },
       "data": [
        {
         "hovertemplate": "region=East Midlands<br>Year=%{x}<br>Relative Price=%{y}<extra></extra>",
         "legendgroup": "East Midlands",
         "line": {
          "color": "#636efa",
          "dash": "solid"
         },
         "marker": {
          "symbol": "circle"
         },
         "mode": "lines",
         "name": "East Midlands",
         "orientation": "v",
         "showlegend": true,
         "type": "scatter",
         "x": [
          2007,
          2008,
          2009,
          2010,
          2011,
          2012,
          2013,
          2014,
          2015,
          2016,
          2017,
          2018,
          2019,
          2020,
          2021,
          2022,
          2023,
          2024
         ],
         "xaxis": "x",
         "y": [
          1,
          0.9226328841028507,
          0.885105458907697,
          0.8891852602984321,
          0.8377184725633205,
          0.8286750294713753,
          0.821832796533983,
          0.8621360630489968,
          0.9079740488816771,
          0.9417432079975847,
          0.982291023461722,
          1.0064967688298743,
          1.016022307835777,
          1.0642805351127376,
          1.1365279190921564,
          1.1471093384901814,
          1.0532865472543764,
          1.003678673498571
         ],
         "yaxis": "y"
        },
        {
         "hovertemplate": "region=London<br>Year=%{x}<br>Relative Price=%{y}<extra></extra>",
         "legendgroup": "London",
         "line": {
          "color": "#EF553B",
          "dash": "solid"
         },
         "marker": {
          "symbol": "circle"
         },
         "mode": "lines",
         "name": "London",
         "orientation": "v",
         "showlegend": true,
         "type": "scatter",
         "x": [
          2007,
          2008,
          2009,
          2010,
          2011,
          2012,
          2013,
          2014,
          2015,
          2016,
          2017,
          2018,
          2019,
          2020,
          2021,
          2022,
          2023,
          2024
         ],
         "xaxis": "x",
         "y": [
          1,
          0.9513968425632677,
          0.9005614618515859,
          1.0104792558886941,
          0.9909285810435323,
          0.98977964753359,
          1.0417656987786217,
          1.150827450992165,
          1.260631191387148,
          1.364111618774241,
          1.3760052090306545,
          1.3451331290342732,
          1.3368206260642936,
          1.4007752250421877,
          1.4015887796697826,
          1.3552475324399385,
          1.2559170309831127,
          1.2110574873174524
         ],
         "yaxis": "y"
        },
        {
         "hovertemplate": "region=North East<br>Year=%{x}<br>Relative Price=%{y}<extra></extra>",
         "legendgroup": "North East",
         "line": {
          "color": "#00cc96",
          "dash": "solid"
         },
         "marker": {
          "symbol": "circle"
         },
         "mode": "lines",
         "name": "North East",
         "orientation": "v",
         "showlegend": true,
         "type": "scatter",
         "x": [
          2007,
          2008,
          2009,
          2010,
          2011,
          2012,
          2013,
          2014,
          2015,
          2016,
          2017,
          2018,
          2019,
          2020,
          2021,
          2022,
          2023,
          2024
         ],
         "xaxis": "x",
         "y": [
          1,
          0.946374102948443,
          0.928056154646075,
          0.9205959156541511,
          0.850113286698186,
          0.8499985218002749,
          0.8309376496734264,
          0.8463363362669181,
          0.8636312670192211,
          0.861767835503937,
          0.8534352489207814,
          0.8509668924317915,
          0.8452519848173642,
          0.8588049094129843,
          0.8835725448369892,
          0.8361665140113678,
          0.7758692563433529,
          0.7205530212498746
         ],
         "yaxis": "y"
        },
        {
         "hovertemplate": "region=North West<br>Year=%{x}<br>Relative Price=%{y}<extra></extra>",
         "legendgroup": "North West",
         "line": {
          "color": "#ab63fa",
          "dash": "solid"
         },
         "marker": {
          "symbol": "circle"
         },
         "mode": "lines",
         "name": "North West",
         "orientation": "v",
         "showlegend": true,
         "type": "scatter",
         "x": [
          2007,
          2008,
          2009,
          2010,
          2011,
          2012,
          2013,
          2014,
          2015,
          2016,
          2017,
          2018,
          2019,
          2020,
          2021,
          2022,
          2023,
          2024
         ],
         "xaxis": "x",
         "y": [
          1,
          0.9302958532835246,
          0.9126401298467794,
          0.8904627674361699,
          0.8376408772990965,
          0.8358791194065319,
          0.8171348691521129,
          0.8364081775217918,
          0.8642032032499434,
          0.8861587149255906,
          0.8938850684823073,
          0.9029575069792458,
          0.9161457755177617,
          0.9638377709468368,
          1.0233498129654441,
          1.0000664712379232,
          0.9118580452923906,
          0.8879936117337641
         ],
         "yaxis": "y"
        },
        {
         "hovertemplate": "region=South East<br>Year=%{x}<br>Relative Price=%{y}<extra></extra>",
         "legendgroup": "South East",
         "line": {
          "color": "#FFA15A",
          "dash": "solid"
         },
         "marker": {
          "symbol": "circle"
         },
         "mode": "lines",
         "name": "South East",
         "orientation": "v",
         "showlegend": true,
         "type": "scatter",
         "x": [
          2007,
          2008,
          2009,
          2010,
          2011,
          2012,
          2013,
          2014,
          2015,
          2016,
          2017,
          2018,
          2019,
          2020,
          2021,
          2022,
          2023,
          2024
         ],
         "xaxis": "x",
         "y": [
          1,
          0.9443482585589384,
          0.8743819211056024,
          0.9624026669208753,
          0.9024183705068051,
          0.9034092419793215,
          0.9062899746144488,
          0.9499476669204547,
          1.0225876015723236,
          1.0949020898206918,
          1.1334465377714051,
          1.1339297982263687,
          1.1241997945544162,
          1.1827225022893895,
          1.2048407888079913,
          1.189419291586429,
          1.098326311438093,
          1.0466416849467484
         ],
         "yaxis": "y"
        }
       ],
       "layout": {
        "height": 600,
        "legend": {
         "title": {
          "text": "Region"
         },
         "tracegroupgap": 0,
         "x": 0.01,
         "xanchor": "left",
         "y": 0.99,
         "yanchor": "top"
        },
        "template": {
         "data": {
          "bar": [
           {
            "error_x": {
             "color": "#2a3f5f"
            },
            "error_y": {
             "color": "#2a3f5f"
            },
            "marker": {
             "line": {
              "color": "#E5ECF6",
              "width": 0.5
             },
             "pattern": {
              "fillmode": "overlay",
              "size": 10,
              "solidity": 0.2
             }
            },
            "type": "bar"
           }
          ],
          "barpolar": [
           {
            "marker": {
             "line": {
              "color": "#E5ECF6",
              "width": 0.5
             },
             "pattern": {
              "fillmode": "overlay",
              "size": 10,
              "solidity": 0.2
             }
            },
            "type": "barpolar"
           }
          ],
          "carpet": [
           {
            "aaxis": {
             "endlinecolor": "#2a3f5f",
             "gridcolor": "white",
             "linecolor": "white",
             "minorgridcolor": "white",
             "startlinecolor": "#2a3f5f"
            },
            "baxis": {
             "endlinecolor": "#2a3f5f",
             "gridcolor": "white",
             "linecolor": "white",
             "minorgridcolor": "white",
             "startlinecolor": "#2a3f5f"
            },
            "type": "carpet"
           }
          ],
          "choropleth": [
           {
            "colorbar": {
             "outlinewidth": 0,
             "ticks": ""
            },
            "type": "choropleth"
           }
          ],
          "contour": [
           {
            "colorbar": {
             "outlinewidth": 0,
             "ticks": ""
            },
            "colorscale": [
             [
              0,
              "#0d0887"
             ],
             [
              0.1111111111111111,
              "#46039f"
             ],
             [
              0.2222222222222222,
              "#7201a8"
             ],
             [
              0.3333333333333333,
              "#9c179e"
             ],
             [
              0.4444444444444444,
              "#bd3786"
             ],
             [
              0.5555555555555556,
              "#d8576b"
             ],
             [
              0.6666666666666666,
              "#ed7953"
             ],
             [
              0.7777777777777778,
              "#fb9f3a"
             ],
             [
              0.8888888888888888,
              "#fdca26"
             ],
             [
              1,
              "#f0f921"
             ]
            ],
            "type": "contour"
           }
          ],
          "contourcarpet": [
           {
            "colorbar": {
             "outlinewidth": 0,
             "ticks": ""
            },
            "type": "contourcarpet"
           }
          ],
          "heatmap": [
           {
            "colorbar": {
             "outlinewidth": 0,
             "ticks": ""
            },
            "colorscale": [
             [
              0,
              "#0d0887"
             ],
             [
              0.1111111111111111,
              "#46039f"
             ],
             [
              0.2222222222222222,
              "#7201a8"
             ],
             [
              0.3333333333333333,
              "#9c179e"
             ],
             [
              0.4444444444444444,
              "#bd3786"
             ],
             [
              0.5555555555555556,
              "#d8576b"
             ],
             [
              0.6666666666666666,
              "#ed7953"
             ],
             [
              0.7777777777777778,
              "#fb9f3a"
             ],
             [
              0.8888888888888888,
              "#fdca26"
             ],
             [
              1,
              "#f0f921"
             ]
            ],
            "type": "heatmap"
           }
          ],
          "heatmapgl": [
           {
            "colorbar": {
             "outlinewidth": 0,
             "ticks": ""
            },
            "colorscale": [
             [
              0,
              "#0d0887"
             ],
             [
              0.1111111111111111,
              "#46039f"
             ],
             [
              0.2222222222222222,
              "#7201a8"
             ],
             [
              0.3333333333333333,
              "#9c179e"
             ],
             [
              0.4444444444444444,
              "#bd3786"
             ],
             [
              0.5555555555555556,
              "#d8576b"
             ],
             [
              0.6666666666666666,
              "#ed7953"
             ],
             [
              0.7777777777777778,
              "#fb9f3a"
             ],
             [
              0.8888888888888888,
              "#fdca26"
             ],
             [
              1,
              "#f0f921"
             ]
            ],
            "type": "heatmapgl"
           }
          ],
          "histogram": [
           {
            "marker": {
             "pattern": {
              "fillmode": "overlay",
              "size": 10,
              "solidity": 0.2
             }
            },
            "type": "histogram"
           }
          ],
          "histogram2d": [
           {
            "colorbar": {
             "outlinewidth": 0,
             "ticks": ""
            },
            "colorscale": [
             [
              0,
              "#0d0887"
             ],
             [
              0.1111111111111111,
              "#46039f"
             ],
             [
              0.2222222222222222,
              "#7201a8"
             ],
             [
              0.3333333333333333,
              "#9c179e"
             ],
             [
              0.4444444444444444,
              "#bd3786"
             ],
             [
              0.5555555555555556,
              "#d8576b"
             ],
             [
              0.6666666666666666,
              "#ed7953"
             ],
             [
              0.7777777777777778,
              "#fb9f3a"
             ],
             [
              0.8888888888888888,
              "#fdca26"
             ],
             [
              1,
              "#f0f921"
             ]
            ],
            "type": "histogram2d"
           }
          ],
          "histogram2dcontour": [
           {
            "colorbar": {
             "outlinewidth": 0,
             "ticks": ""
            },
            "colorscale": [
             [
              0,
              "#0d0887"
             ],
             [
              0.1111111111111111,
              "#46039f"
             ],
             [
              0.2222222222222222,
              "#7201a8"
             ],
             [
              0.3333333333333333,
              "#9c179e"
             ],
             [
              0.4444444444444444,
              "#bd3786"
             ],
             [
              0.5555555555555556,
              "#d8576b"
             ],
             [
              0.6666666666666666,
              "#ed7953"
             ],
             [
              0.7777777777777778,
              "#fb9f3a"
             ],
             [
              0.8888888888888888,
              "#fdca26"
             ],
             [
              1,
              "#f0f921"
             ]
            ],
            "type": "histogram2dcontour"
           }
          ],
          "mesh3d": [
           {
            "colorbar": {
             "outlinewidth": 0,
             "ticks": ""
            },
            "type": "mesh3d"
           }
          ],
          "parcoords": [
           {
            "line": {
             "colorbar": {
              "outlinewidth": 0,
              "ticks": ""
             }
            },
            "type": "parcoords"
           }
          ],
          "pie": [
           {
            "automargin": true,
            "type": "pie"
           }
          ],
          "scatter": [
           {
            "fillpattern": {
             "fillmode": "overlay",
             "size": 10,
             "solidity": 0.2
            },
            "type": "scatter"
           }
          ],
          "scatter3d": [
           {
            "line": {
             "colorbar": {
              "outlinewidth": 0,
              "ticks": ""
             }
            },
            "marker": {
             "colorbar": {
              "outlinewidth": 0,
              "ticks": ""
             }
            },
            "type": "scatter3d"
           }
          ],
          "scattercarpet": [
           {
            "marker": {
             "colorbar": {
              "outlinewidth": 0,
              "ticks": ""
             }
            },
            "type": "scattercarpet"
           }
          ],
          "scattergeo": [
           {
            "marker": {
             "colorbar": {
              "outlinewidth": 0,
              "ticks": ""
             }
            },
            "type": "scattergeo"
           }
          ],
          "scattergl": [
           {
            "marker": {
             "colorbar": {
              "outlinewidth": 0,
              "ticks": ""
             }
            },
            "type": "scattergl"
           }
          ],
          "scattermapbox": [
           {
            "marker": {
             "colorbar": {
              "outlinewidth": 0,
              "ticks": ""
             }
            },
            "type": "scattermapbox"
           }
          ],
          "scatterpolar": [
           {
            "marker": {
             "colorbar": {
              "outlinewidth": 0,
              "ticks": ""
             }
            },
            "type": "scatterpolar"
           }
          ],
          "scatterpolargl": [
           {
            "marker": {
             "colorbar": {
              "outlinewidth": 0,
              "ticks": ""
             }
            },
            "type": "scatterpolargl"
           }
          ],
          "scatterternary": [
           {
            "marker": {
             "colorbar": {
              "outlinewidth": 0,
              "ticks": ""
             }
            },
            "type": "scatterternary"
           }
          ],
          "surface": [
           {
            "colorbar": {
             "outlinewidth": 0,
             "ticks": ""
            },
            "colorscale": [
             [
              0,
              "#0d0887"
             ],
             [
              0.1111111111111111,
              "#46039f"
             ],
             [
              0.2222222222222222,
              "#7201a8"
             ],
             [
              0.3333333333333333,
              "#9c179e"
             ],
             [
              0.4444444444444444,
              "#bd3786"
             ],
             [
              0.5555555555555556,
              "#d8576b"
             ],
             [
              0.6666666666666666,
              "#ed7953"
             ],
             [
              0.7777777777777778,
              "#fb9f3a"
             ],
             [
              0.8888888888888888,
              "#fdca26"
             ],
             [
              1,
              "#f0f921"
             ]
            ],
            "type": "surface"
           }
          ],
          "table": [
           {
            "cells": {
             "fill": {
              "color": "#EBF0F8"
             },
             "line": {
              "color": "white"
             }
            },
            "header": {
             "fill": {
              "color": "#C8D4E3"
             },
             "line": {
              "color": "white"
             }
            },
            "type": "table"
           }
          ]
         },
         "layout": {
          "annotationdefaults": {
           "arrowcolor": "#2a3f5f",
           "arrowhead": 0,
           "arrowwidth": 1
          },
          "autotypenumbers": "strict",
          "coloraxis": {
           "colorbar": {
            "outlinewidth": 0,
            "ticks": ""
           }
          },
          "colorscale": {
           "diverging": [
            [
             0,
             "#8e0152"
            ],
            [
             0.1,
             "#c51b7d"
            ],
            [
             0.2,
             "#de77ae"
            ],
            [
             0.3,
             "#f1b6da"
            ],
            [
             0.4,
             "#fde0ef"
            ],
            [
             0.5,
             "#f7f7f7"
            ],
            [
             0.6,
             "#e6f5d0"
            ],
            [
             0.7,
             "#b8e186"
            ],
            [
             0.8,
             "#7fbc41"
            ],
            [
             0.9,
             "#4d9221"
            ],
            [
             1,
             "#276419"
            ]
           ],
           "sequential": [
            [
             0,
             "#0d0887"
            ],
            [
             0.1111111111111111,
             "#46039f"
            ],
            [
             0.2222222222222222,
             "#7201a8"
            ],
            [
             0.3333333333333333,
             "#9c179e"
            ],
            [
             0.4444444444444444,
             "#bd3786"
            ],
            [
             0.5555555555555556,
             "#d8576b"
            ],
            [
             0.6666666666666666,
             "#ed7953"
            ],
            [
             0.7777777777777778,
             "#fb9f3a"
            ],
            [
             0.8888888888888888,
             "#fdca26"
            ],
            [
             1,
             "#f0f921"
            ]
           ],
           "sequentialminus": [
            [
             0,
             "#0d0887"
            ],
            [
             0.1111111111111111,
             "#46039f"
            ],
            [
             0.2222222222222222,
             "#7201a8"
            ],
            [
             0.3333333333333333,
             "#9c179e"
            ],
            [
             0.4444444444444444,
             "#bd3786"
            ],
            [
             0.5555555555555556,
             "#d8576b"
            ],
            [
             0.6666666666666666,
             "#ed7953"
            ],
            [
             0.7777777777777778,
             "#fb9f3a"
            ],
            [
             0.8888888888888888,
             "#fdca26"
            ],
            [
             1,
             "#f0f921"
            ]
           ]
          },
          "colorway": [
           "#636efa",
           "#EF553B",
           "#00cc96",
           "#ab63fa",
           "#FFA15A",
           "#19d3f3",
           "#FF6692",
           "#B6E880",
           "#FF97FF",
           "#FECB52"
          ],
          "font": {
           "color": "#2a3f5f"
          },
          "geo": {
           "bgcolor": "white",
           "lakecolor": "white",
           "landcolor": "#E5ECF6",
           "showlakes": true,
           "showland": true,
           "subunitcolor": "white"
          },
          "hoverlabel": {
           "align": "left"
          },
          "hovermode": "closest",
          "mapbox": {
           "style": "light"
          },
          "paper_bgcolor": "white",
          "plot_bgcolor": "#E5ECF6",
          "polar": {
           "angularaxis": {
            "gridcolor": "white",
            "linecolor": "white",
            "ticks": ""
           },
           "bgcolor": "#E5ECF6",
           "radialaxis": {
            "gridcolor": "white",
            "linecolor": "white",
            "ticks": ""
           }
          },
          "scene": {
           "xaxis": {
            "backgroundcolor": "#E5ECF6",
            "gridcolor": "white",
            "gridwidth": 2,
            "linecolor": "white",
            "showbackground": true,
            "ticks": "",
            "zerolinecolor": "white"
           },
           "yaxis": {
            "backgroundcolor": "#E5ECF6",
            "gridcolor": "white",
            "gridwidth": 2,
            "linecolor": "white",
            "showbackground": true,
            "ticks": "",
            "zerolinecolor": "white"
           },
           "zaxis": {
            "backgroundcolor": "#E5ECF6",
            "gridcolor": "white",
            "gridwidth": 2,
            "linecolor": "white",
            "showbackground": true,
            "ticks": "",
            "zerolinecolor": "white"
           }
          },
          "shapedefaults": {
           "line": {
            "color": "#2a3f5f"
           }
          },
          "ternary": {
           "aaxis": {
            "gridcolor": "white",
            "linecolor": "white",
            "ticks": ""
           },
           "baxis": {
            "gridcolor": "white",
            "linecolor": "white",
            "ticks": ""
           },
           "bgcolor": "#E5ECF6",
           "caxis": {
            "gridcolor": "white",
            "linecolor": "white",
            "ticks": ""
           }
          },
          "title": {
           "x": 0.05
          },
          "xaxis": {
           "automargin": true,
           "gridcolor": "white",
           "linecolor": "white",
           "ticks": "",
           "title": {
            "standoff": 15
           },
           "zerolinecolor": "white",
           "zerolinewidth": 2
          },
          "yaxis": {
           "automargin": true,
           "gridcolor": "white",
           "linecolor": "white",
           "ticks": "",
           "title": {
            "standoff": 15
           },
           "zerolinecolor": "white",
           "zerolinewidth": 2
          }
         }
        },
        "title": {
         "text": "Median House Prices, CPI Adjusted GBP (2007)"
        },
        "width": 800,
        "xaxis": {
         "anchor": "y",
         "domain": [
          0,
          1
         ],
         "title": {
          "text": "Year"
         }
        },
        "yaxis": {
         "anchor": "x",
         "domain": [
          0,
          1
         ],
         "title": {
          "text": "Relative Price"
         }
        }
       }
      }
     },
     "metadata": {},
     "output_type": "display_data"
    }
   ],
   "source": [
    "# Post-GFC\n",
    "\n",
    "df_screened = (\n",
    "    df[df['region']\n",
    "       .isin(['London','South East', 'East Midlands','North West','North East'])]\n",
    "       .groupby(['Year','region'])['0.50'].sum().unstack()\n",
    "       .loc[2007:]\n",
    ")\n",
    "\n",
    "gbp_cpi = (\n",
    "    fred.Fred_Pull('GBRCPIALLMINMEI',\n",
    "                   '899901ba06f09b9961a73113b1834a15').index(2007)\n",
    "                   .resample('YE').mean()\n",
    "                   .assign(year=lambda df: df.index.year).set_index('year')\n",
    ")\n",
    "\n",
    "import plotly.express as px\n",
    "fig = px.line(df_screened.mul(gbp_cpi.values,axis=1).apply(lambda x: x/x.iloc[0],axis=0),\n",
    "              labels={\n",
    "                  'index':'Year',\n",
    "                  'value':'Relative Price'\n",
    "              },\n",
    "              width=800, height=600,\n",
    "              title='Median House Prices, CPI Adjusted GBP (2007)')\n",
    "\n",
    "fig.update_layout(legend=dict(\n",
    "    title='Region',\n",
    "    yanchor=\"top\",\n",
    "    y=0.99,\n",
    "    xanchor=\"left\",\n",
    "    x=0.01\n",
    "))\n",
    "\n",
    "fig.show()"
   ]
  },
  {
   "cell_type": "code",
   "execution_count": 79,
   "metadata": {},
   "outputs": [
    {
     "data": {
      "text/html": [
       "<div>\n",
       "<style scoped>\n",
       "    .dataframe tbody tr th:only-of-type {\n",
       "        vertical-align: middle;\n",
       "    }\n",
       "\n",
       "    .dataframe tbody tr th {\n",
       "        vertical-align: top;\n",
       "    }\n",
       "\n",
       "    .dataframe thead th {\n",
       "        text-align: right;\n",
       "    }\n",
       "</style>\n",
       "<table border=\"1\" class=\"dataframe\">\n",
       "  <thead>\n",
       "    <tr style=\"text-align: right;\">\n",
       "      <th>region</th>\n",
       "      <th>East Midlands</th>\n",
       "      <th>London</th>\n",
       "      <th>North East</th>\n",
       "      <th>North West</th>\n",
       "      <th>South East</th>\n",
       "    </tr>\n",
       "    <tr>\n",
       "      <th>Year</th>\n",
       "      <th></th>\n",
       "      <th></th>\n",
       "      <th></th>\n",
       "      <th></th>\n",
       "      <th></th>\n",
       "    </tr>\n",
       "  </thead>\n",
       "  <tbody>\n",
       "    <tr>\n",
       "      <th>2007</th>\n",
       "      <td>144500</td>\n",
       "      <td>263000</td>\n",
       "      <td>122500</td>\n",
       "      <td>134950</td>\n",
       "      <td>219950</td>\n",
       "    </tr>\n",
       "    <tr>\n",
       "      <th>2008</th>\n",
       "      <td>138000</td>\n",
       "      <td>259000</td>\n",
       "      <td>120000</td>\n",
       "      <td>129950</td>\n",
       "      <td>215000</td>\n",
       "    </tr>\n",
       "    <tr>\n",
       "      <th>2009</th>\n",
       "      <td>135000</td>\n",
       "      <td>250000</td>\n",
       "      <td>120000</td>\n",
       "      <td>130000</td>\n",
       "      <td>203000</td>\n",
       "    </tr>\n",
       "    <tr>\n",
       "      <th>2010</th>\n",
       "      <td>139000</td>\n",
       "      <td>287500</td>\n",
       "      <td>122000</td>\n",
       "      <td>130000</td>\n",
       "      <td>229000</td>\n",
       "    </tr>\n",
       "    <tr>\n",
       "      <th>2011</th>\n",
       "      <td>136000</td>\n",
       "      <td>292800</td>\n",
       "      <td>117000</td>\n",
       "      <td>127000</td>\n",
       "      <td>223000</td>\n",
       "    </tr>\n",
       "    <tr>\n",
       "      <th>2012</th>\n",
       "      <td>138000</td>\n",
       "      <td>300000</td>\n",
       "      <td>120000</td>\n",
       "      <td>130000</td>\n",
       "      <td>229000</td>\n",
       "    </tr>\n",
       "    <tr>\n",
       "      <th>2013</th>\n",
       "      <td>140000</td>\n",
       "      <td>323000</td>\n",
       "      <td>120000</td>\n",
       "      <td>130000</td>\n",
       "      <td>235000</td>\n",
       "    </tr>\n",
       "    <tr>\n",
       "      <th>2014</th>\n",
       "      <td>149000</td>\n",
       "      <td>362000</td>\n",
       "      <td>124000</td>\n",
       "      <td>135000</td>\n",
       "      <td>249900</td>\n",
       "    </tr>\n",
       "    <tr>\n",
       "      <th>2015</th>\n",
       "      <td>157500</td>\n",
       "      <td>398000</td>\n",
       "      <td>127000</td>\n",
       "      <td>140000</td>\n",
       "      <td>270000</td>\n",
       "    </tr>\n",
       "    <tr>\n",
       "      <th>2016</th>\n",
       "      <td>165000</td>\n",
       "      <td>435000</td>\n",
       "      <td>128000</td>\n",
       "      <td>145000</td>\n",
       "      <td>292000</td>\n",
       "    </tr>\n",
       "    <tr>\n",
       "      <th>2017</th>\n",
       "      <td>176500</td>\n",
       "      <td>450000</td>\n",
       "      <td>130000</td>\n",
       "      <td>150000</td>\n",
       "      <td>310000</td>\n",
       "    </tr>\n",
       "    <tr>\n",
       "      <th>2018</th>\n",
       "      <td>185000</td>\n",
       "      <td>450000</td>\n",
       "      <td>132599</td>\n",
       "      <td>155000</td>\n",
       "      <td>317250</td>\n",
       "    </tr>\n",
       "    <tr>\n",
       "      <th>2019</th>\n",
       "      <td>190000</td>\n",
       "      <td>455000</td>\n",
       "      <td>134000</td>\n",
       "      <td>160000</td>\n",
       "      <td>320000</td>\n",
       "    </tr>\n",
       "    <tr>\n",
       "      <th>2020</th>\n",
       "      <td>201000</td>\n",
       "      <td>481500</td>\n",
       "      <td>137500</td>\n",
       "      <td>170000</td>\n",
       "      <td>340000</td>\n",
       "    </tr>\n",
       "    <tr>\n",
       "      <th>2021</th>\n",
       "      <td>220000</td>\n",
       "      <td>493800</td>\n",
       "      <td>144995</td>\n",
       "      <td>185000</td>\n",
       "      <td>355000</td>\n",
       "    </tr>\n",
       "    <tr>\n",
       "      <th>2022</th>\n",
       "      <td>239500</td>\n",
       "      <td>515000</td>\n",
       "      <td>148000</td>\n",
       "      <td>195000</td>\n",
       "      <td>378000</td>\n",
       "    </tr>\n",
       "    <tr>\n",
       "      <th>2023</th>\n",
       "      <td>235000</td>\n",
       "      <td>510000</td>\n",
       "      <td>146750</td>\n",
       "      <td>190000</td>\n",
       "      <td>373000</td>\n",
       "    </tr>\n",
       "    <tr>\n",
       "      <th>2024</th>\n",
       "      <td>229950</td>\n",
       "      <td>505000</td>\n",
       "      <td>139950</td>\n",
       "      <td>190000</td>\n",
       "      <td>365000</td>\n",
       "    </tr>\n",
       "  </tbody>\n",
       "</table>\n",
       "</div>"
      ],
      "text/plain": [
       "region  East Midlands  London  North East  North West  South East\n",
       "Year                                                             \n",
       "2007           144500  263000      122500      134950      219950\n",
       "2008           138000  259000      120000      129950      215000\n",
       "2009           135000  250000      120000      130000      203000\n",
       "2010           139000  287500      122000      130000      229000\n",
       "2011           136000  292800      117000      127000      223000\n",
       "2012           138000  300000      120000      130000      229000\n",
       "2013           140000  323000      120000      130000      235000\n",
       "2014           149000  362000      124000      135000      249900\n",
       "2015           157500  398000      127000      140000      270000\n",
       "2016           165000  435000      128000      145000      292000\n",
       "2017           176500  450000      130000      150000      310000\n",
       "2018           185000  450000      132599      155000      317250\n",
       "2019           190000  455000      134000      160000      320000\n",
       "2020           201000  481500      137500      170000      340000\n",
       "2021           220000  493800      144995      185000      355000\n",
       "2022           239500  515000      148000      195000      378000\n",
       "2023           235000  510000      146750      190000      373000\n",
       "2024           229950  505000      139950      190000      365000"
      ]
     },
     "execution_count": 79,
     "metadata": {},
     "output_type": "execute_result"
    }
   ],
   "source": [
    "df_screened"
   ]
  },
  {
   "cell_type": "code",
   "execution_count": 94,
   "metadata": {},
   "outputs": [
    {
     "data": {
      "text/plain": [
       "array([1.55874749, 1.49842605, 1.53573279, 1.52997017, 1.46177262,\n",
       "       1.32501515, 1.22417484, 1.25718139, 1.33715332, 1.46008919,\n",
       "       1.40287386, 1.37615921, 1.4530773 , 1.29519838, 1.09793802,\n",
       "       1.06731519, 1.07314162, 1.03940477, 1.01094044, 1.04744938,\n",
       "       0.97065834, 0.84967476, 0.79154299, 0.80059983, 0.75199442,\n",
       "       0.7464232 , 0.76463145, 0.63662083, 0.61443822, 0.61599239])"
      ]
     },
     "execution_count": 94,
     "metadata": {},
     "output_type": "execute_result"
    }
   ],
   "source": [
    "usdreal['real'].values"
   ]
  },
  {
   "cell_type": "code",
   "execution_count": null,
   "metadata": {},
   "outputs": [
    {
     "data": {
      "text/html": [
       "<div>\n",
       "<style scoped>\n",
       "    .dataframe tbody tr th:only-of-type {\n",
       "        vertical-align: middle;\n",
       "    }\n",
       "\n",
       "    .dataframe tbody tr th {\n",
       "        vertical-align: top;\n",
       "    }\n",
       "\n",
       "    .dataframe thead th {\n",
       "        text-align: right;\n",
       "    }\n",
       "</style>\n",
       "<table border=\"1\" class=\"dataframe\">\n",
       "  <thead>\n",
       "    <tr style=\"text-align: right;\">\n",
       "      <th>region</th>\n",
       "      <th>East Midlands</th>\n",
       "      <th>London</th>\n",
       "      <th>North East</th>\n",
       "      <th>North West</th>\n",
       "      <th>South East</th>\n",
       "    </tr>\n",
       "    <tr>\n",
       "      <th>Year</th>\n",
       "      <th></th>\n",
       "      <th></th>\n",
       "      <th></th>\n",
       "      <th></th>\n",
       "      <th></th>\n",
       "    </tr>\n",
       "  </thead>\n",
       "  <tbody>\n",
       "    <tr>\n",
       "      <th>1995</th>\n",
       "      <td>71624.447358</td>\n",
       "      <td>113780.773339</td>\n",
       "      <td>65857.081630</td>\n",
       "      <td>70143.637239</td>\n",
       "      <td>101318.587123</td>\n",
       "    </tr>\n",
       "    <tr>\n",
       "      <th>1996</th>\n",
       "      <td>71175.237180</td>\n",
       "      <td>115378.805533</td>\n",
       "      <td>66679.959042</td>\n",
       "      <td>69407.094446</td>\n",
       "      <td>102642.184143</td>\n",
       "    </tr>\n",
       "    <tr>\n",
       "      <th>1997</th>\n",
       "      <td>76786.639487</td>\n",
       "      <td>132073.019917</td>\n",
       "      <td>72171.762453</td>\n",
       "      <td>75250.906697</td>\n",
       "      <td>114412.092835</td>\n",
       "    </tr>\n",
       "    <tr>\n",
       "      <th>1998</th>\n",
       "      <td>81853.404154</td>\n",
       "      <td>147795.118528</td>\n",
       "      <td>73438.568213</td>\n",
       "      <td>76498.508555</td>\n",
       "      <td>126987.524201</td>\n",
       "    </tr>\n",
       "    <tr>\n",
       "      <th>1999</th>\n",
       "      <td>84051.925507</td>\n",
       "      <td>172489.168867</td>\n",
       "      <td>73819.517185</td>\n",
       "      <td>78497.189561</td>\n",
       "      <td>135213.967120</td>\n",
       "    </tr>\n",
       "    <tr>\n",
       "      <th>2000</th>\n",
       "      <td>81488.431706</td>\n",
       "      <td>182852.090657</td>\n",
       "      <td>68900.787784</td>\n",
       "      <td>74863.355957</td>\n",
       "      <td>148401.696765</td>\n",
       "    </tr>\n",
       "    <tr>\n",
       "      <th>2001</th>\n",
       "      <td>85692.238705</td>\n",
       "      <td>189747.099991</td>\n",
       "      <td>67329.616126</td>\n",
       "      <td>73450.490319</td>\n",
       "      <td>154246.029670</td>\n",
       "    </tr>\n",
       "    <tr>\n",
       "      <th>2002</th>\n",
       "      <td>106860.418281</td>\n",
       "      <td>226921.241174</td>\n",
       "      <td>75430.883493</td>\n",
       "      <td>88002.697408</td>\n",
       "      <td>186062.845949</td>\n",
       "    </tr>\n",
       "    <tr>\n",
       "      <th>2003</th>\n",
       "      <td>143075.405656</td>\n",
       "      <td>267430.664778</td>\n",
       "      <td>104231.101597</td>\n",
       "      <td>113658.032531</td>\n",
       "      <td>227249.207395</td>\n",
       "    </tr>\n",
       "    <tr>\n",
       "      <th>2004</th>\n",
       "      <td>184701.282466</td>\n",
       "      <td>321219.621679</td>\n",
       "      <td>140168.562187</td>\n",
       "      <td>157689.632461</td>\n",
       "      <td>270116.500048</td>\n",
       "    </tr>\n",
       "    <tr>\n",
       "      <th>2005</th>\n",
       "      <td>185179.349909</td>\n",
       "      <td>322660.988477</td>\n",
       "      <td>152824.870008</td>\n",
       "      <td>166941.989690</td>\n",
       "      <td>269351.781685</td>\n",
       "    </tr>\n",
       "    <tr>\n",
       "      <th>2006</th>\n",
       "      <td>188533.811420</td>\n",
       "      <td>337159.005824</td>\n",
       "      <td>163762.945686</td>\n",
       "      <td>176079.570593</td>\n",
       "      <td>278672.239508</td>\n",
       "    </tr>\n",
       "    <tr>\n",
       "      <th>2007</th>\n",
       "      <td>209969.670253</td>\n",
       "      <td>382159.330633</td>\n",
       "      <td>178001.969592</td>\n",
       "      <td>196092.782011</td>\n",
       "      <td>319604.352748</td>\n",
       "    </tr>\n",
       "    <tr>\n",
       "      <th>2008</th>\n",
       "      <td>178737.376146</td>\n",
       "      <td>335456.379868</td>\n",
       "      <td>155423.805344</td>\n",
       "      <td>168311.029204</td>\n",
       "      <td>278467.651241</td>\n",
       "    </tr>\n",
       "    <tr>\n",
       "      <th>2009</th>\n",
       "      <td>148221.632062</td>\n",
       "      <td>274484.503819</td>\n",
       "      <td>131752.561833</td>\n",
       "      <td>142731.941986</td>\n",
       "      <td>222881.417101</td>\n",
       "    </tr>\n",
       "    <tr>\n",
       "      <th>2010</th>\n",
       "      <td>148356.811171</td>\n",
       "      <td>306853.116630</td>\n",
       "      <td>130212.452970</td>\n",
       "      <td>138750.974476</td>\n",
       "      <td>244415.178116</td>\n",
       "    </tr>\n",
       "    <tr>\n",
       "      <th>2011</th>\n",
       "      <td>145947.260788</td>\n",
       "      <td>314215.867343</td>\n",
       "      <td>125557.569942</td>\n",
       "      <td>136288.986177</td>\n",
       "      <td>239310.582027</td>\n",
       "    </tr>\n",
       "    <tr>\n",
       "      <th>2012</th>\n",
       "      <td>143437.858679</td>\n",
       "      <td>311821.431910</td>\n",
       "      <td>124728.572764</td>\n",
       "      <td>135122.620494</td>\n",
       "      <td>238023.693024</td>\n",
       "    </tr>\n",
       "    <tr>\n",
       "      <th>2013</th>\n",
       "      <td>141531.661863</td>\n",
       "      <td>326533.762727</td>\n",
       "      <td>121312.853025</td>\n",
       "      <td>131422.257444</td>\n",
       "      <td>237571.003841</td>\n",
       "    </tr>\n",
       "    <tr>\n",
       "      <th>2014</th>\n",
       "      <td>156069.957463</td>\n",
       "      <td>379176.675180</td>\n",
       "      <td>129883.722990</td>\n",
       "      <td>141405.666158</td>\n",
       "      <td>261757.599799</td>\n",
       "    </tr>\n",
       "    <tr>\n",
       "      <th>2015</th>\n",
       "      <td>152878.689086</td>\n",
       "      <td>386322.020676</td>\n",
       "      <td>123273.609613</td>\n",
       "      <td>135892.168077</td>\n",
       "      <td>262077.752720</td>\n",
       "    </tr>\n",
       "    <tr>\n",
       "      <th>2016</th>\n",
       "      <td>140196.335512</td>\n",
       "      <td>369608.520894</td>\n",
       "      <td>108758.369367</td>\n",
       "      <td>123202.840298</td>\n",
       "      <td>248105.030118</td>\n",
       "    </tr>\n",
       "    <tr>\n",
       "      <th>2017</th>\n",
       "      <td>139707.338393</td>\n",
       "      <td>356194.347176</td>\n",
       "      <td>102900.589184</td>\n",
       "      <td>118731.449059</td>\n",
       "      <td>245378.328055</td>\n",
       "    </tr>\n",
       "    <tr>\n",
       "      <th>2018</th>\n",
       "      <td>148110.968932</td>\n",
       "      <td>360269.924429</td>\n",
       "      <td>106158.737132</td>\n",
       "      <td>124092.973970</td>\n",
       "      <td>253990.296722</td>\n",
       "    </tr>\n",
       "    <tr>\n",
       "      <th>2019</th>\n",
       "      <td>142878.939601</td>\n",
       "      <td>342157.460623</td>\n",
       "      <td>100767.252140</td>\n",
       "      <td>120319.107032</td>\n",
       "      <td>240638.214065</td>\n",
       "    </tr>\n",
       "    <tr>\n",
       "      <th>2020</th>\n",
       "      <td>150031.063721</td>\n",
       "      <td>359402.772048</td>\n",
       "      <td>102633.190356</td>\n",
       "      <td>126891.944441</td>\n",
       "      <td>253783.888881</td>\n",
       "    </tr>\n",
       "    <tr>\n",
       "      <th>2021</th>\n",
       "      <td>168218.917932</td>\n",
       "      <td>377575.007612</td>\n",
       "      <td>110867.736389</td>\n",
       "      <td>141456.817352</td>\n",
       "      <td>271444.163026</td>\n",
       "    </tr>\n",
       "    <tr>\n",
       "      <th>2022</th>\n",
       "      <td>152470.688361</td>\n",
       "      <td>327859.726539</td>\n",
       "      <td>94219.882578</td>\n",
       "      <td>124141.061505</td>\n",
       "      <td>240642.673071</td>\n",
       "    </tr>\n",
       "    <tr>\n",
       "      <th>2023</th>\n",
       "      <td>144392.981844</td>\n",
       "      <td>313363.492512</td>\n",
       "      <td>90168.808875</td>\n",
       "      <td>116743.261916</td>\n",
       "      <td>229185.456288</td>\n",
       "    </tr>\n",
       "    <tr>\n",
       "      <th>2024</th>\n",
       "      <td>141647.451124</td>\n",
       "      <td>311076.159243</td>\n",
       "      <td>86208.135616</td>\n",
       "      <td>117038.554963</td>\n",
       "      <td>224837.224007</td>\n",
       "    </tr>\n",
       "  </tbody>\n",
       "</table>\n",
       "</div>"
      ],
      "text/plain": [
       "region  East Midlands         London     North East     North West  \\\n",
       "Year                                                                 \n",
       "1995     71624.447358  113780.773339   65857.081630   70143.637239   \n",
       "1996     71175.237180  115378.805533   66679.959042   69407.094446   \n",
       "1997     76786.639487  132073.019917   72171.762453   75250.906697   \n",
       "1998     81853.404154  147795.118528   73438.568213   76498.508555   \n",
       "1999     84051.925507  172489.168867   73819.517185   78497.189561   \n",
       "2000     81488.431706  182852.090657   68900.787784   74863.355957   \n",
       "2001     85692.238705  189747.099991   67329.616126   73450.490319   \n",
       "2002    106860.418281  226921.241174   75430.883493   88002.697408   \n",
       "2003    143075.405656  267430.664778  104231.101597  113658.032531   \n",
       "2004    184701.282466  321219.621679  140168.562187  157689.632461   \n",
       "2005    185179.349909  322660.988477  152824.870008  166941.989690   \n",
       "2006    188533.811420  337159.005824  163762.945686  176079.570593   \n",
       "2007    209969.670253  382159.330633  178001.969592  196092.782011   \n",
       "2008    178737.376146  335456.379868  155423.805344  168311.029204   \n",
       "2009    148221.632062  274484.503819  131752.561833  142731.941986   \n",
       "2010    148356.811171  306853.116630  130212.452970  138750.974476   \n",
       "2011    145947.260788  314215.867343  125557.569942  136288.986177   \n",
       "2012    143437.858679  311821.431910  124728.572764  135122.620494   \n",
       "2013    141531.661863  326533.762727  121312.853025  131422.257444   \n",
       "2014    156069.957463  379176.675180  129883.722990  141405.666158   \n",
       "2015    152878.689086  386322.020676  123273.609613  135892.168077   \n",
       "2016    140196.335512  369608.520894  108758.369367  123202.840298   \n",
       "2017    139707.338393  356194.347176  102900.589184  118731.449059   \n",
       "2018    148110.968932  360269.924429  106158.737132  124092.973970   \n",
       "2019    142878.939601  342157.460623  100767.252140  120319.107032   \n",
       "2020    150031.063721  359402.772048  102633.190356  126891.944441   \n",
       "2021    168218.917932  377575.007612  110867.736389  141456.817352   \n",
       "2022    152470.688361  327859.726539   94219.882578  124141.061505   \n",
       "2023    144392.981844  313363.492512   90168.808875  116743.261916   \n",
       "2024    141647.451124  311076.159243   86208.135616  117038.554963   \n",
       "\n",
       "region     South East  \n",
       "Year                   \n",
       "1995    101318.587123  \n",
       "1996    102642.184143  \n",
       "1997    114412.092835  \n",
       "1998    126987.524201  \n",
       "1999    135213.967120  \n",
       "2000    148401.696765  \n",
       "2001    154246.029670  \n",
       "2002    186062.845949  \n",
       "2003    227249.207395  \n",
       "2004    270116.500048  \n",
       "2005    269351.781685  \n",
       "2006    278672.239508  \n",
       "2007    319604.352748  \n",
       "2008    278467.651241  \n",
       "2009    222881.417101  \n",
       "2010    244415.178116  \n",
       "2011    239310.582027  \n",
       "2012    238023.693024  \n",
       "2013    237571.003841  \n",
       "2014    261757.599799  \n",
       "2015    262077.752720  \n",
       "2016    248105.030118  \n",
       "2017    245378.328055  \n",
       "2018    253990.296722  \n",
       "2019    240638.214065  \n",
       "2020    253783.888881  \n",
       "2021    271444.163026  \n",
       "2022    240642.673071  \n",
       "2023    229185.456288  \n",
       "2024    224837.224007  "
      ]
     },
     "execution_count": 98,
     "metadata": {},
     "output_type": "execute_result"
    }
   ],
   "source": []
  },
  {
   "cell_type": "code",
   "execution_count": 89,
   "metadata": {},
   "outputs": [
    {
     "data": {
      "text/html": [
       "<div>\n",
       "<style scoped>\n",
       "    .dataframe tbody tr th:only-of-type {\n",
       "        vertical-align: middle;\n",
       "    }\n",
       "\n",
       "    .dataframe tbody tr th {\n",
       "        vertical-align: top;\n",
       "    }\n",
       "\n",
       "    .dataframe thead th {\n",
       "        text-align: right;\n",
       "    }\n",
       "</style>\n",
       "<table border=\"1\" class=\"dataframe\">\n",
       "  <thead>\n",
       "    <tr style=\"text-align: right;\">\n",
       "      <th>region</th>\n",
       "      <th>East Midlands</th>\n",
       "      <th>London</th>\n",
       "      <th>North East</th>\n",
       "      <th>North West</th>\n",
       "      <th>South East</th>\n",
       "    </tr>\n",
       "    <tr>\n",
       "      <th>Year</th>\n",
       "      <th></th>\n",
       "      <th></th>\n",
       "      <th></th>\n",
       "      <th></th>\n",
       "      <th></th>\n",
       "    </tr>\n",
       "  </thead>\n",
       "  <tbody>\n",
       "    <tr>\n",
       "      <th>1995</th>\n",
       "      <td>71624.447358</td>\n",
       "      <td>113780.773339</td>\n",
       "      <td>65857.081630</td>\n",
       "      <td>70143.637239</td>\n",
       "      <td>101318.587123</td>\n",
       "    </tr>\n",
       "    <tr>\n",
       "      <th>1996</th>\n",
       "      <td>71175.237180</td>\n",
       "      <td>115378.805533</td>\n",
       "      <td>66679.959042</td>\n",
       "      <td>69407.094446</td>\n",
       "      <td>102642.184143</td>\n",
       "    </tr>\n",
       "    <tr>\n",
       "      <th>1997</th>\n",
       "      <td>76786.639487</td>\n",
       "      <td>132073.019917</td>\n",
       "      <td>72171.762453</td>\n",
       "      <td>75250.906697</td>\n",
       "      <td>114412.092835</td>\n",
       "    </tr>\n",
       "    <tr>\n",
       "      <th>1998</th>\n",
       "      <td>81853.404154</td>\n",
       "      <td>147795.118528</td>\n",
       "      <td>73438.568213</td>\n",
       "      <td>76498.508555</td>\n",
       "      <td>126987.524201</td>\n",
       "    </tr>\n",
       "    <tr>\n",
       "      <th>1999</th>\n",
       "      <td>84051.925507</td>\n",
       "      <td>172489.168867</td>\n",
       "      <td>73819.517185</td>\n",
       "      <td>78497.189561</td>\n",
       "      <td>135213.967120</td>\n",
       "    </tr>\n",
       "    <tr>\n",
       "      <th>2000</th>\n",
       "      <td>81488.431706</td>\n",
       "      <td>182852.090657</td>\n",
       "      <td>68900.787784</td>\n",
       "      <td>74863.355957</td>\n",
       "      <td>148401.696765</td>\n",
       "    </tr>\n",
       "    <tr>\n",
       "      <th>2001</th>\n",
       "      <td>85692.238705</td>\n",
       "      <td>189747.099991</td>\n",
       "      <td>67329.616126</td>\n",
       "      <td>73450.490319</td>\n",
       "      <td>154246.029670</td>\n",
       "    </tr>\n",
       "    <tr>\n",
       "      <th>2002</th>\n",
       "      <td>106860.418281</td>\n",
       "      <td>226921.241174</td>\n",
       "      <td>75430.883493</td>\n",
       "      <td>88002.697408</td>\n",
       "      <td>186062.845949</td>\n",
       "    </tr>\n",
       "    <tr>\n",
       "      <th>2003</th>\n",
       "      <td>143075.405656</td>\n",
       "      <td>267430.664778</td>\n",
       "      <td>104231.101597</td>\n",
       "      <td>113658.032531</td>\n",
       "      <td>227249.207395</td>\n",
       "    </tr>\n",
       "    <tr>\n",
       "      <th>2004</th>\n",
       "      <td>184701.282466</td>\n",
       "      <td>321219.621679</td>\n",
       "      <td>140168.562187</td>\n",
       "      <td>157689.632461</td>\n",
       "      <td>270116.500048</td>\n",
       "    </tr>\n",
       "    <tr>\n",
       "      <th>2005</th>\n",
       "      <td>185179.349909</td>\n",
       "      <td>322660.988477</td>\n",
       "      <td>152824.870008</td>\n",
       "      <td>166941.989690</td>\n",
       "      <td>269351.781685</td>\n",
       "    </tr>\n",
       "    <tr>\n",
       "      <th>2006</th>\n",
       "      <td>188533.811420</td>\n",
       "      <td>337159.005824</td>\n",
       "      <td>163762.945686</td>\n",
       "      <td>176079.570593</td>\n",
       "      <td>278672.239508</td>\n",
       "    </tr>\n",
       "    <tr>\n",
       "      <th>2007</th>\n",
       "      <td>209969.670253</td>\n",
       "      <td>382159.330633</td>\n",
       "      <td>178001.969592</td>\n",
       "      <td>196092.782011</td>\n",
       "      <td>319604.352748</td>\n",
       "    </tr>\n",
       "    <tr>\n",
       "      <th>2008</th>\n",
       "      <td>178737.376146</td>\n",
       "      <td>335456.379868</td>\n",
       "      <td>155423.805344</td>\n",
       "      <td>168311.029204</td>\n",
       "      <td>278467.651241</td>\n",
       "    </tr>\n",
       "    <tr>\n",
       "      <th>2009</th>\n",
       "      <td>148221.632062</td>\n",
       "      <td>274484.503819</td>\n",
       "      <td>131752.561833</td>\n",
       "      <td>142731.941986</td>\n",
       "      <td>222881.417101</td>\n",
       "    </tr>\n",
       "    <tr>\n",
       "      <th>2010</th>\n",
       "      <td>148356.811171</td>\n",
       "      <td>306853.116630</td>\n",
       "      <td>130212.452970</td>\n",
       "      <td>138750.974476</td>\n",
       "      <td>244415.178116</td>\n",
       "    </tr>\n",
       "    <tr>\n",
       "      <th>2011</th>\n",
       "      <td>145947.260788</td>\n",
       "      <td>314215.867343</td>\n",
       "      <td>125557.569942</td>\n",
       "      <td>136288.986177</td>\n",
       "      <td>239310.582027</td>\n",
       "    </tr>\n",
       "    <tr>\n",
       "      <th>2012</th>\n",
       "      <td>143437.858679</td>\n",
       "      <td>311821.431910</td>\n",
       "      <td>124728.572764</td>\n",
       "      <td>135122.620494</td>\n",
       "      <td>238023.693024</td>\n",
       "    </tr>\n",
       "    <tr>\n",
       "      <th>2013</th>\n",
       "      <td>141531.661863</td>\n",
       "      <td>326533.762727</td>\n",
       "      <td>121312.853025</td>\n",
       "      <td>131422.257444</td>\n",
       "      <td>237571.003841</td>\n",
       "    </tr>\n",
       "    <tr>\n",
       "      <th>2014</th>\n",
       "      <td>156069.957463</td>\n",
       "      <td>379176.675180</td>\n",
       "      <td>129883.722990</td>\n",
       "      <td>141405.666158</td>\n",
       "      <td>261757.599799</td>\n",
       "    </tr>\n",
       "    <tr>\n",
       "      <th>2015</th>\n",
       "      <td>152878.689086</td>\n",
       "      <td>386322.020676</td>\n",
       "      <td>123273.609613</td>\n",
       "      <td>135892.168077</td>\n",
       "      <td>262077.752720</td>\n",
       "    </tr>\n",
       "    <tr>\n",
       "      <th>2016</th>\n",
       "      <td>140196.335512</td>\n",
       "      <td>369608.520894</td>\n",
       "      <td>108758.369367</td>\n",
       "      <td>123202.840298</td>\n",
       "      <td>248105.030118</td>\n",
       "    </tr>\n",
       "    <tr>\n",
       "      <th>2017</th>\n",
       "      <td>139707.338393</td>\n",
       "      <td>356194.347176</td>\n",
       "      <td>102900.589184</td>\n",
       "      <td>118731.449059</td>\n",
       "      <td>245378.328055</td>\n",
       "    </tr>\n",
       "    <tr>\n",
       "      <th>2018</th>\n",
       "      <td>148110.968932</td>\n",
       "      <td>360269.924429</td>\n",
       "      <td>106158.737132</td>\n",
       "      <td>124092.973970</td>\n",
       "      <td>253990.296722</td>\n",
       "    </tr>\n",
       "    <tr>\n",
       "      <th>2019</th>\n",
       "      <td>142878.939601</td>\n",
       "      <td>342157.460623</td>\n",
       "      <td>100767.252140</td>\n",
       "      <td>120319.107032</td>\n",
       "      <td>240638.214065</td>\n",
       "    </tr>\n",
       "    <tr>\n",
       "      <th>2020</th>\n",
       "      <td>150031.063721</td>\n",
       "      <td>359402.772048</td>\n",
       "      <td>102633.190356</td>\n",
       "      <td>126891.944441</td>\n",
       "      <td>253783.888881</td>\n",
       "    </tr>\n",
       "    <tr>\n",
       "      <th>2021</th>\n",
       "      <td>168218.917932</td>\n",
       "      <td>377575.007612</td>\n",
       "      <td>110867.736389</td>\n",
       "      <td>141456.817352</td>\n",
       "      <td>271444.163026</td>\n",
       "    </tr>\n",
       "    <tr>\n",
       "      <th>2022</th>\n",
       "      <td>152470.688361</td>\n",
       "      <td>327859.726539</td>\n",
       "      <td>94219.882578</td>\n",
       "      <td>124141.061505</td>\n",
       "      <td>240642.673071</td>\n",
       "    </tr>\n",
       "    <tr>\n",
       "      <th>2023</th>\n",
       "      <td>144392.981844</td>\n",
       "      <td>313363.492512</td>\n",
       "      <td>90168.808875</td>\n",
       "      <td>116743.261916</td>\n",
       "      <td>229185.456288</td>\n",
       "    </tr>\n",
       "    <tr>\n",
       "      <th>2024</th>\n",
       "      <td>141647.451124</td>\n",
       "      <td>311076.159243</td>\n",
       "      <td>86208.135616</td>\n",
       "      <td>117038.554963</td>\n",
       "      <td>224837.224007</td>\n",
       "    </tr>\n",
       "  </tbody>\n",
       "</table>\n",
       "</div>"
      ],
      "text/plain": [
       "region  East Midlands         London     North East     North West  \\\n",
       "Year                                                                 \n",
       "1995     71624.447358  113780.773339   65857.081630   70143.637239   \n",
       "1996     71175.237180  115378.805533   66679.959042   69407.094446   \n",
       "1997     76786.639487  132073.019917   72171.762453   75250.906697   \n",
       "1998     81853.404154  147795.118528   73438.568213   76498.508555   \n",
       "1999     84051.925507  172489.168867   73819.517185   78497.189561   \n",
       "2000     81488.431706  182852.090657   68900.787784   74863.355957   \n",
       "2001     85692.238705  189747.099991   67329.616126   73450.490319   \n",
       "2002    106860.418281  226921.241174   75430.883493   88002.697408   \n",
       "2003    143075.405656  267430.664778  104231.101597  113658.032531   \n",
       "2004    184701.282466  321219.621679  140168.562187  157689.632461   \n",
       "2005    185179.349909  322660.988477  152824.870008  166941.989690   \n",
       "2006    188533.811420  337159.005824  163762.945686  176079.570593   \n",
       "2007    209969.670253  382159.330633  178001.969592  196092.782011   \n",
       "2008    178737.376146  335456.379868  155423.805344  168311.029204   \n",
       "2009    148221.632062  274484.503819  131752.561833  142731.941986   \n",
       "2010    148356.811171  306853.116630  130212.452970  138750.974476   \n",
       "2011    145947.260788  314215.867343  125557.569942  136288.986177   \n",
       "2012    143437.858679  311821.431910  124728.572764  135122.620494   \n",
       "2013    141531.661863  326533.762727  121312.853025  131422.257444   \n",
       "2014    156069.957463  379176.675180  129883.722990  141405.666158   \n",
       "2015    152878.689086  386322.020676  123273.609613  135892.168077   \n",
       "2016    140196.335512  369608.520894  108758.369367  123202.840298   \n",
       "2017    139707.338393  356194.347176  102900.589184  118731.449059   \n",
       "2018    148110.968932  360269.924429  106158.737132  124092.973970   \n",
       "2019    142878.939601  342157.460623  100767.252140  120319.107032   \n",
       "2020    150031.063721  359402.772048  102633.190356  126891.944441   \n",
       "2021    168218.917932  377575.007612  110867.736389  141456.817352   \n",
       "2022    152470.688361  327859.726539   94219.882578  124141.061505   \n",
       "2023    144392.981844  313363.492512   90168.808875  116743.261916   \n",
       "2024    141647.451124  311076.159243   86208.135616  117038.554963   \n",
       "\n",
       "region     South East  \n",
       "Year                   \n",
       "1995    101318.587123  \n",
       "1996    102642.184143  \n",
       "1997    114412.092835  \n",
       "1998    126987.524201  \n",
       "1999    135213.967120  \n",
       "2000    148401.696765  \n",
       "2001    154246.029670  \n",
       "2002    186062.845949  \n",
       "2003    227249.207395  \n",
       "2004    270116.500048  \n",
       "2005    269351.781685  \n",
       "2006    278672.239508  \n",
       "2007    319604.352748  \n",
       "2008    278467.651241  \n",
       "2009    222881.417101  \n",
       "2010    244415.178116  \n",
       "2011    239310.582027  \n",
       "2012    238023.693024  \n",
       "2013    237571.003841  \n",
       "2014    261757.599799  \n",
       "2015    262077.752720  \n",
       "2016    248105.030118  \n",
       "2017    245378.328055  \n",
       "2018    253990.296722  \n",
       "2019    240638.214065  \n",
       "2020    253783.888881  \n",
       "2021    271444.163026  \n",
       "2022    240642.673071  \n",
       "2023    229185.456288  \n",
       "2024    224837.224007  "
      ]
     },
     "execution_count": 89,
     "metadata": {},
     "output_type": "execute_result"
    }
   ],
   "source": [
    "df_screened.mul(usdreal['real'],axis=0)"
   ]
  },
  {
   "cell_type": "code",
   "execution_count": 100,
   "metadata": {},
   "outputs": [
    {
     "data": {
      "application/vnd.plotly.v1+json": {
       "config": {
        "plotlyServerURL": "https://plot.ly"
       },
       "data": [
        {
         "hovertemplate": "region=East Midlands<br>Year=%{x}<br>Relative Price=%{y}<extra></extra>",
         "legendgroup": "East Midlands",
         "line": {
          "color": "#636efa",
          "dash": "solid"
         },
         "marker": {
          "symbol": "circle"
         },
         "mode": "lines",
         "name": "East Midlands",
         "orientation": "v",
         "showlegend": true,
         "type": "scatter",
         "x": [
          1995,
          1996,
          1997,
          1998,
          1999,
          2000,
          2001,
          2002,
          2003,
          2004,
          2005,
          2006,
          2007,
          2008,
          2009,
          2010,
          2011,
          2012,
          2013,
          2014,
          2015,
          2016,
          2017,
          2018,
          2019,
          2020,
          2021,
          2022,
          2023,
          2024
         ],
         "xaxis": "x",
         "y": [
          1,
          0.9937282562710488,
          1.0720730465458892,
          1.142813762237893,
          1.173508887080955,
          1.1377181215529502,
          1.1964104696943734,
          1.491954524226715,
          1.9975777954801965,
          2.57874635376649,
          2.5854209943507858,
          2.6322550242825886,
          2.931536339859003,
          2.4954800035195346,
          2.0694279331875887,
          2.071315265146279,
          2.0376738134893837,
          2.0026382606639164,
          1.9760244872130999,
          2.179004002401728,
          2.134448428227295,
          1.9573810435199959,
          1.9505538059341807,
          2.067882886286293,
          1.9948347927376788,
          2.094690699262215,
          2.3486243054724105,
          2.1287520390738894,
          2.0159734164723657,
          1.977641103686535
         ],
         "yaxis": "y"
        },
        {
         "hovertemplate": "region=London<br>Year=%{x}<br>Relative Price=%{y}<extra></extra>",
         "legendgroup": "London",
         "line": {
          "color": "#EF553B",
          "dash": "solid"
         },
         "marker": {
          "symbol": "circle"
         },
         "mode": "lines",
         "name": "London",
         "orientation": "v",
         "showlegend": true,
         "type": "scatter",
         "x": [
          1995,
          1996,
          1997,
          1998,
          1999,
          2000,
          2001,
          2002,
          2003,
          2004,
          2005,
          2006,
          2007,
          2008,
          2009,
          2010,
          2011,
          2012,
          2013,
          2014,
          2015,
          2016,
          2017,
          2018,
          2019,
          2020,
          2021,
          2022,
          2023,
          2024
         ],
         "xaxis": "x",
         "y": [
          1,
          1.0140448350609195,
          1.1607674657265266,
          1.2989463350539805,
          1.5159781728091313,
          1.6070561421857967,
          1.6676552146978272,
          1.9943724630733402,
          2.3504029453384665,
          2.823145002917299,
          2.835812932267702,
          2.963233558104651,
          3.358733812572845,
          2.9482694661323996,
          2.412397945317658,
          2.696880216455455,
          2.7615901889428693,
          2.7405459003298906,
          2.8698500910574842,
          3.3325197575406342,
          3.3953189923000675,
          3.248426865529483,
          3.1305319582954105,
          3.1663515184257216,
          3.007164133121219,
          3.158730262610781,
          3.3184429718002235,
          2.8815037630572,
          2.754098810517285,
          2.733995824730785
         ],
         "yaxis": "y"
        },
        {
         "hovertemplate": "region=North East<br>Year=%{x}<br>Relative Price=%{y}<extra></extra>",
         "legendgroup": "North East",
         "line": {
          "color": "#00cc96",
          "dash": "solid"
         },
         "marker": {
          "symbol": "circle"
         },
         "mode": "lines",
         "name": "North East",
         "orientation": "v",
         "showlegend": true,
         "type": "scatter",
         "x": [
          1995,
          1996,
          1997,
          1998,
          1999,
          2000,
          2001,
          2002,
          2003,
          2004,
          2005,
          2006,
          2007,
          2008,
          2009,
          2010,
          2011,
          2012,
          2013,
          2014,
          2015,
          2016,
          2017,
          2018,
          2019,
          2020,
          2021,
          2022,
          2023,
          2024
         ],
         "xaxis": "x",
         "y": [
          1,
          1.0124948964019354,
          1.0958846135812474,
          1.115120293752982,
          1.1209047737583446,
          1.046216839231681,
          1.022359546757432,
          1.145372397714738,
          1.582686311296899,
          2.128374940381176,
          2.3205533289026596,
          2.486641400341797,
          2.7028523764908736,
          2.3600165919572444,
          2.000583059144662,
          1.9771974364451965,
          1.9065158497025667,
          1.8939280283510567,
          1.8420623875727866,
          1.9722058702806984,
          1.871835291847035,
          1.6514301374311935,
          1.5624832840736647,
          1.6119562923956077,
          1.530089849806753,
          1.558422994409736,
          1.683459601382692,
          1.4306719983126477,
          1.3691588913965342,
          1.3090184606203057
         ],
         "yaxis": "y"
        },
        {
         "hovertemplate": "region=North West<br>Year=%{x}<br>Relative Price=%{y}<extra></extra>",
         "legendgroup": "North West",
         "line": {
          "color": "#ab63fa",
          "dash": "solid"
         },
         "marker": {
          "symbol": "circle"
         },
         "mode": "lines",
         "name": "North West",
         "orientation": "v",
         "showlegend": true,
         "type": "scatter",
         "x": [
          1995,
          1996,
          1997,
          1998,
          1999,
          2000,
          2001,
          2002,
          2003,
          2004,
          2005,
          2006,
          2007,
          2008,
          2009,
          2010,
          2011,
          2012,
          2013,
          2014,
          2015,
          2016,
          2017,
          2018,
          2019,
          2020,
          2021,
          2022,
          2023,
          2024
         ],
         "xaxis": "x",
         "y": [
          1,
          0.9894995066948891,
          1.0728115857557319,
          1.0905979724783217,
          1.1190920894707488,
          1.0672864839106526,
          1.0471440206182183,
          1.2546069874967918,
          1.6203612616192682,
          2.2480960307776168,
          2.3800018969966015,
          2.5102714590271185,
          2.795589018914192,
          2.399519554865677,
          2.034852305991121,
          1.9780977995765465,
          1.9429985604067517,
          1.926370314021885,
          1.8736162340265798,
          2.0159443069199883,
          1.9373413388058114,
          1.7564364374024044,
          1.6926902244131368,
          1.769126593015321,
          1.7153246077435573,
          1.8090300052279482,
          2.016673541893393,
          1.7698121510658147,
          1.6643457127670913,
          1.6685555464458741
         ],
         "yaxis": "y"
        },
        {
         "hovertemplate": "region=South East<br>Year=%{x}<br>Relative Price=%{y}<extra></extra>",
         "legendgroup": "South East",
         "line": {
          "color": "#FFA15A",
          "dash": "solid"
         },
         "marker": {
          "symbol": "circle"
         },
         "mode": "lines",
         "name": "South East",
         "orientation": "v",
         "showlegend": true,
         "type": "scatter",
         "x": [
          1995,
          1996,
          1997,
          1998,
          1999,
          2000,
          2001,
          2002,
          2003,
          2004,
          2005,
          2006,
          2007,
          2008,
          2009,
          2010,
          2011,
          2012,
          2013,
          2014,
          2015,
          2016,
          2017,
          2018,
          2019,
          2020,
          2021,
          2022,
          2023,
          2024
         ],
         "xaxis": "x",
         "y": [
          1,
          1.0130637137594645,
          1.1292310333582705,
          1.253348746832779,
          1.334542564796445,
          1.4647035749243535,
          1.5223863068987942,
          1.8364137443359632,
          2.242917255845929,
          2.6660113185503787,
          2.6584636574079687,
          2.7504552463864624,
          3.1544493643751754,
          2.748435989383541,
          2.1998077887844842,
          2.4123429378267827,
          2.3619613026870687,
          2.34925989183379,
          2.344791914181193,
          2.5835101656374615,
          2.586670029284682,
          2.448761250659692,
          2.42184909031418,
          2.5068479924104197,
          2.3750648414910795,
          2.504810776469467,
          2.6791151627232397,
          2.375108851252821,
          2.2620277561777833,
          2.219111323916881
         ],
         "yaxis": "y"
        }
       ],
       "layout": {
        "height": 600,
        "legend": {
         "title": {
          "text": "Region"
         },
         "tracegroupgap": 0,
         "x": 0.01,
         "xanchor": "left",
         "y": 0.99,
         "yanchor": "top"
        },
        "template": {
         "data": {
          "bar": [
           {
            "error_x": {
             "color": "#2a3f5f"
            },
            "error_y": {
             "color": "#2a3f5f"
            },
            "marker": {
             "line": {
              "color": "#E5ECF6",
              "width": 0.5
             },
             "pattern": {
              "fillmode": "overlay",
              "size": 10,
              "solidity": 0.2
             }
            },
            "type": "bar"
           }
          ],
          "barpolar": [
           {
            "marker": {
             "line": {
              "color": "#E5ECF6",
              "width": 0.5
             },
             "pattern": {
              "fillmode": "overlay",
              "size": 10,
              "solidity": 0.2
             }
            },
            "type": "barpolar"
           }
          ],
          "carpet": [
           {
            "aaxis": {
             "endlinecolor": "#2a3f5f",
             "gridcolor": "white",
             "linecolor": "white",
             "minorgridcolor": "white",
             "startlinecolor": "#2a3f5f"
            },
            "baxis": {
             "endlinecolor": "#2a3f5f",
             "gridcolor": "white",
             "linecolor": "white",
             "minorgridcolor": "white",
             "startlinecolor": "#2a3f5f"
            },
            "type": "carpet"
           }
          ],
          "choropleth": [
           {
            "colorbar": {
             "outlinewidth": 0,
             "ticks": ""
            },
            "type": "choropleth"
           }
          ],
          "contour": [
           {
            "colorbar": {
             "outlinewidth": 0,
             "ticks": ""
            },
            "colorscale": [
             [
              0,
              "#0d0887"
             ],
             [
              0.1111111111111111,
              "#46039f"
             ],
             [
              0.2222222222222222,
              "#7201a8"
             ],
             [
              0.3333333333333333,
              "#9c179e"
             ],
             [
              0.4444444444444444,
              "#bd3786"
             ],
             [
              0.5555555555555556,
              "#d8576b"
             ],
             [
              0.6666666666666666,
              "#ed7953"
             ],
             [
              0.7777777777777778,
              "#fb9f3a"
             ],
             [
              0.8888888888888888,
              "#fdca26"
             ],
             [
              1,
              "#f0f921"
             ]
            ],
            "type": "contour"
           }
          ],
          "contourcarpet": [
           {
            "colorbar": {
             "outlinewidth": 0,
             "ticks": ""
            },
            "type": "contourcarpet"
           }
          ],
          "heatmap": [
           {
            "colorbar": {
             "outlinewidth": 0,
             "ticks": ""
            },
            "colorscale": [
             [
              0,
              "#0d0887"
             ],
             [
              0.1111111111111111,
              "#46039f"
             ],
             [
              0.2222222222222222,
              "#7201a8"
             ],
             [
              0.3333333333333333,
              "#9c179e"
             ],
             [
              0.4444444444444444,
              "#bd3786"
             ],
             [
              0.5555555555555556,
              "#d8576b"
             ],
             [
              0.6666666666666666,
              "#ed7953"
             ],
             [
              0.7777777777777778,
              "#fb9f3a"
             ],
             [
              0.8888888888888888,
              "#fdca26"
             ],
             [
              1,
              "#f0f921"
             ]
            ],
            "type": "heatmap"
           }
          ],
          "heatmapgl": [
           {
            "colorbar": {
             "outlinewidth": 0,
             "ticks": ""
            },
            "colorscale": [
             [
              0,
              "#0d0887"
             ],
             [
              0.1111111111111111,
              "#46039f"
             ],
             [
              0.2222222222222222,
              "#7201a8"
             ],
             [
              0.3333333333333333,
              "#9c179e"
             ],
             [
              0.4444444444444444,
              "#bd3786"
             ],
             [
              0.5555555555555556,
              "#d8576b"
             ],
             [
              0.6666666666666666,
              "#ed7953"
             ],
             [
              0.7777777777777778,
              "#fb9f3a"
             ],
             [
              0.8888888888888888,
              "#fdca26"
             ],
             [
              1,
              "#f0f921"
             ]
            ],
            "type": "heatmapgl"
           }
          ],
          "histogram": [
           {
            "marker": {
             "pattern": {
              "fillmode": "overlay",
              "size": 10,
              "solidity": 0.2
             }
            },
            "type": "histogram"
           }
          ],
          "histogram2d": [
           {
            "colorbar": {
             "outlinewidth": 0,
             "ticks": ""
            },
            "colorscale": [
             [
              0,
              "#0d0887"
             ],
             [
              0.1111111111111111,
              "#46039f"
             ],
             [
              0.2222222222222222,
              "#7201a8"
             ],
             [
              0.3333333333333333,
              "#9c179e"
             ],
             [
              0.4444444444444444,
              "#bd3786"
             ],
             [
              0.5555555555555556,
              "#d8576b"
             ],
             [
              0.6666666666666666,
              "#ed7953"
             ],
             [
              0.7777777777777778,
              "#fb9f3a"
             ],
             [
              0.8888888888888888,
              "#fdca26"
             ],
             [
              1,
              "#f0f921"
             ]
            ],
            "type": "histogram2d"
           }
          ],
          "histogram2dcontour": [
           {
            "colorbar": {
             "outlinewidth": 0,
             "ticks": ""
            },
            "colorscale": [
             [
              0,
              "#0d0887"
             ],
             [
              0.1111111111111111,
              "#46039f"
             ],
             [
              0.2222222222222222,
              "#7201a8"
             ],
             [
              0.3333333333333333,
              "#9c179e"
             ],
             [
              0.4444444444444444,
              "#bd3786"
             ],
             [
              0.5555555555555556,
              "#d8576b"
             ],
             [
              0.6666666666666666,
              "#ed7953"
             ],
             [
              0.7777777777777778,
              "#fb9f3a"
             ],
             [
              0.8888888888888888,
              "#fdca26"
             ],
             [
              1,
              "#f0f921"
             ]
            ],
            "type": "histogram2dcontour"
           }
          ],
          "mesh3d": [
           {
            "colorbar": {
             "outlinewidth": 0,
             "ticks": ""
            },
            "type": "mesh3d"
           }
          ],
          "parcoords": [
           {
            "line": {
             "colorbar": {
              "outlinewidth": 0,
              "ticks": ""
             }
            },
            "type": "parcoords"
           }
          ],
          "pie": [
           {
            "automargin": true,
            "type": "pie"
           }
          ],
          "scatter": [
           {
            "fillpattern": {
             "fillmode": "overlay",
             "size": 10,
             "solidity": 0.2
            },
            "type": "scatter"
           }
          ],
          "scatter3d": [
           {
            "line": {
             "colorbar": {
              "outlinewidth": 0,
              "ticks": ""
             }
            },
            "marker": {
             "colorbar": {
              "outlinewidth": 0,
              "ticks": ""
             }
            },
            "type": "scatter3d"
           }
          ],
          "scattercarpet": [
           {
            "marker": {
             "colorbar": {
              "outlinewidth": 0,
              "ticks": ""
             }
            },
            "type": "scattercarpet"
           }
          ],
          "scattergeo": [
           {
            "marker": {
             "colorbar": {
              "outlinewidth": 0,
              "ticks": ""
             }
            },
            "type": "scattergeo"
           }
          ],
          "scattergl": [
           {
            "marker": {
             "colorbar": {
              "outlinewidth": 0,
              "ticks": ""
             }
            },
            "type": "scattergl"
           }
          ],
          "scattermapbox": [
           {
            "marker": {
             "colorbar": {
              "outlinewidth": 0,
              "ticks": ""
             }
            },
            "type": "scattermapbox"
           }
          ],
          "scatterpolar": [
           {
            "marker": {
             "colorbar": {
              "outlinewidth": 0,
              "ticks": ""
             }
            },
            "type": "scatterpolar"
           }
          ],
          "scatterpolargl": [
           {
            "marker": {
             "colorbar": {
              "outlinewidth": 0,
              "ticks": ""
             }
            },
            "type": "scatterpolargl"
           }
          ],
          "scatterternary": [
           {
            "marker": {
             "colorbar": {
              "outlinewidth": 0,
              "ticks": ""
             }
            },
            "type": "scatterternary"
           }
          ],
          "surface": [
           {
            "colorbar": {
             "outlinewidth": 0,
             "ticks": ""
            },
            "colorscale": [
             [
              0,
              "#0d0887"
             ],
             [
              0.1111111111111111,
              "#46039f"
             ],
             [
              0.2222222222222222,
              "#7201a8"
             ],
             [
              0.3333333333333333,
              "#9c179e"
             ],
             [
              0.4444444444444444,
              "#bd3786"
             ],
             [
              0.5555555555555556,
              "#d8576b"
             ],
             [
              0.6666666666666666,
              "#ed7953"
             ],
             [
              0.7777777777777778,
              "#fb9f3a"
             ],
             [
              0.8888888888888888,
              "#fdca26"
             ],
             [
              1,
              "#f0f921"
             ]
            ],
            "type": "surface"
           }
          ],
          "table": [
           {
            "cells": {
             "fill": {
              "color": "#EBF0F8"
             },
             "line": {
              "color": "white"
             }
            },
            "header": {
             "fill": {
              "color": "#C8D4E3"
             },
             "line": {
              "color": "white"
             }
            },
            "type": "table"
           }
          ]
         },
         "layout": {
          "annotationdefaults": {
           "arrowcolor": "#2a3f5f",
           "arrowhead": 0,
           "arrowwidth": 1
          },
          "autotypenumbers": "strict",
          "coloraxis": {
           "colorbar": {
            "outlinewidth": 0,
            "ticks": ""
           }
          },
          "colorscale": {
           "diverging": [
            [
             0,
             "#8e0152"
            ],
            [
             0.1,
             "#c51b7d"
            ],
            [
             0.2,
             "#de77ae"
            ],
            [
             0.3,
             "#f1b6da"
            ],
            [
             0.4,
             "#fde0ef"
            ],
            [
             0.5,
             "#f7f7f7"
            ],
            [
             0.6,
             "#e6f5d0"
            ],
            [
             0.7,
             "#b8e186"
            ],
            [
             0.8,
             "#7fbc41"
            ],
            [
             0.9,
             "#4d9221"
            ],
            [
             1,
             "#276419"
            ]
           ],
           "sequential": [
            [
             0,
             "#0d0887"
            ],
            [
             0.1111111111111111,
             "#46039f"
            ],
            [
             0.2222222222222222,
             "#7201a8"
            ],
            [
             0.3333333333333333,
             "#9c179e"
            ],
            [
             0.4444444444444444,
             "#bd3786"
            ],
            [
             0.5555555555555556,
             "#d8576b"
            ],
            [
             0.6666666666666666,
             "#ed7953"
            ],
            [
             0.7777777777777778,
             "#fb9f3a"
            ],
            [
             0.8888888888888888,
             "#fdca26"
            ],
            [
             1,
             "#f0f921"
            ]
           ],
           "sequentialminus": [
            [
             0,
             "#0d0887"
            ],
            [
             0.1111111111111111,
             "#46039f"
            ],
            [
             0.2222222222222222,
             "#7201a8"
            ],
            [
             0.3333333333333333,
             "#9c179e"
            ],
            [
             0.4444444444444444,
             "#bd3786"
            ],
            [
             0.5555555555555556,
             "#d8576b"
            ],
            [
             0.6666666666666666,
             "#ed7953"
            ],
            [
             0.7777777777777778,
             "#fb9f3a"
            ],
            [
             0.8888888888888888,
             "#fdca26"
            ],
            [
             1,
             "#f0f921"
            ]
           ]
          },
          "colorway": [
           "#636efa",
           "#EF553B",
           "#00cc96",
           "#ab63fa",
           "#FFA15A",
           "#19d3f3",
           "#FF6692",
           "#B6E880",
           "#FF97FF",
           "#FECB52"
          ],
          "font": {
           "color": "#2a3f5f"
          },
          "geo": {
           "bgcolor": "white",
           "lakecolor": "white",
           "landcolor": "#E5ECF6",
           "showlakes": true,
           "showland": true,
           "subunitcolor": "white"
          },
          "hoverlabel": {
           "align": "left"
          },
          "hovermode": "closest",
          "mapbox": {
           "style": "light"
          },
          "paper_bgcolor": "white",
          "plot_bgcolor": "#E5ECF6",
          "polar": {
           "angularaxis": {
            "gridcolor": "white",
            "linecolor": "white",
            "ticks": ""
           },
           "bgcolor": "#E5ECF6",
           "radialaxis": {
            "gridcolor": "white",
            "linecolor": "white",
            "ticks": ""
           }
          },
          "scene": {
           "xaxis": {
            "backgroundcolor": "#E5ECF6",
            "gridcolor": "white",
            "gridwidth": 2,
            "linecolor": "white",
            "showbackground": true,
            "ticks": "",
            "zerolinecolor": "white"
           },
           "yaxis": {
            "backgroundcolor": "#E5ECF6",
            "gridcolor": "white",
            "gridwidth": 2,
            "linecolor": "white",
            "showbackground": true,
            "ticks": "",
            "zerolinecolor": "white"
           },
           "zaxis": {
            "backgroundcolor": "#E5ECF6",
            "gridcolor": "white",
            "gridwidth": 2,
            "linecolor": "white",
            "showbackground": true,
            "ticks": "",
            "zerolinecolor": "white"
           }
          },
          "shapedefaults": {
           "line": {
            "color": "#2a3f5f"
           }
          },
          "ternary": {
           "aaxis": {
            "gridcolor": "white",
            "linecolor": "white",
            "ticks": ""
           },
           "baxis": {
            "gridcolor": "white",
            "linecolor": "white",
            "ticks": ""
           },
           "bgcolor": "#E5ECF6",
           "caxis": {
            "gridcolor": "white",
            "linecolor": "white",
            "ticks": ""
           }
          },
          "title": {
           "x": 0.05
          },
          "xaxis": {
           "automargin": true,
           "gridcolor": "white",
           "linecolor": "white",
           "ticks": "",
           "title": {
            "standoff": 15
           },
           "zerolinecolor": "white",
           "zerolinewidth": 2
          },
          "yaxis": {
           "automargin": true,
           "gridcolor": "white",
           "linecolor": "white",
           "ticks": "",
           "title": {
            "standoff": 15
           },
           "zerolinecolor": "white",
           "zerolinewidth": 2
          }
         }
        },
        "title": {
         "text": "Median House Prices, CPI Adjusted US$ (1995)"
        },
        "width": 800,
        "xaxis": {
         "anchor": "y",
         "domain": [
          0,
          1
         ],
         "title": {
          "text": "Year"
         }
        },
        "yaxis": {
         "anchor": "x",
         "domain": [
          0,
          1
         ],
         "title": {
          "text": "Relative Price"
         }
        }
       }
      }
     },
     "metadata": {},
     "output_type": "display_data"
    }
   ],
   "source": [
    "# Post-GFC, Real US$\n",
    "\n",
    "import plotly.express as px\n",
    "\n",
    "df_screened = (\n",
    "    df[df['region']\n",
    "       .isin(['London','South East', 'East Midlands','North West','North East'])]\n",
    "       .groupby(['Year','region'])['0.50'].sum().unstack()\n",
    ")\n",
    "\n",
    "us_cpi = (\n",
    "    fred.Fred_Pull('CPIAUCSL',\n",
    "                   '899901ba06f09b9961a73113b1834a15').index(1995)\n",
    "                   .resample('YE').mean()\n",
    "                   .assign(year=lambda df: df.index.year).set_index('year')\n",
    ")\n",
    "\n",
    "gbpusd_fx = (\n",
    "    fred.Fred_Pull('DEXUSUK',\n",
    "                   '899901ba06f09b9961a73113b1834a15').extract(1995)\n",
    "                   .resample('YE').mean()\n",
    "                   .assign(year=lambda df: df.index.year).set_index('year')\n",
    ")\n",
    "\n",
    "usdreal = (gbpusd_fx.loc[1995:]\n",
    "           .join(us_cpi)\n",
    "           .assign(real=lambda df:df['DEXUSUK']*df['CPIAUCSL'])\n",
    ")\n",
    "\n",
    "\n",
    "fig = px.line(df_screened.mul(usdreal.real,axis=0).apply(lambda x: x/x.iloc[0]),\n",
    "              labels={\n",
    "                  'index':'Year',\n",
    "                  'value':'Relative Price'\n",
    "              },\n",
    "              width=800, height=600,\n",
    "              title='Median House Prices, CPI Adjusted US$ (1995)')\n",
    "\n",
    "fig.update_layout(legend=dict(\n",
    "    title='Region',\n",
    "    yanchor=\"top\",\n",
    "    y=0.99,\n",
    "    xanchor=\"left\",\n",
    "    x=0.01\n",
    "))\n",
    "\n",
    "fig.show()"
   ]
  },
  {
   "cell_type": "markdown",
   "metadata": {},
   "source": [
    "Real Wages"
   ]
  },
  {
   "cell_type": "code",
   "execution_count": 30,
   "metadata": {},
   "outputs": [],
   "source": [
    "# Average Weekly Earnings Per Person in the United Kingdom (FROM Q1 1919)\n",
    "\n",
    "nominal_wages_gbp = (\n",
    "    fred.Fred_Pull('AWEPPUKQ',\n",
    "                   '899901ba06f09b9961a73113b1834a15').extract()\n",
    "                   .resample('YE').mean()\n",
    "                   .assign(year=lambda df: df.index.year).set_index('year')\n",
    ")\n",
    "\n",
    "# Residential Property Prices for United Kingdom (FROM Q2 1846)\n",
    "\n",
    "nominal_resproperty_gbp = (\n",
    "    fred.Fred_Pull('HPIUKA',\n",
    "                   '899901ba06f09b9961a73113b1834a15').extract()\n",
    "                   .resample('YE').mean()\n",
    "                   .assign(year=lambda df: df.index.year).set_index('year')\n",
    ")\n",
    "\n",
    "# Household Variable Mortgage Rate in the United Kingdom (FROM 1853)\n",
    "\n",
    "nominal_mortrate_perc = (\n",
    "    fred.Fred_Pull('CMRAUKA',\n",
    "                   '899901ba06f09b9961a73113b1834a15').extract()\n",
    "                   .resample('YE').mean()\n",
    "                   .assign(year=lambda df: df.index.year).set_index('year')\n",
    ")\n",
    "\n",
    "# Inflation, consumer prices for the United Kingdom (FROM 1960)\n",
    "\n",
    "gbp_cpi_percent = (\n",
    "    fred.Fred_Pull('FPCPITOTLZGGBR',\n",
    "                   '899901ba06f09b9961a73113b1834a15').extract()\n",
    "                   .resample('YE').mean()\n",
    "                   .assign(year=lambda df: df.index.year).set_index('year')\n",
    ")\n",
    "\n",
    "# Consumer Price Indices ..., COICOP 1999: Consumer Price Index... (FROM 1914)\n",
    "\n",
    "gbp_cpi = (\n",
    "    fred.Fred_Pull('CPIUKQ',\n",
    "                   '899901ba06f09b9961a73113b1834a15').extract()\n",
    "                   .apply(lambda x:1/(x/x.iloc[-1]))\n",
    "                   .resample('YE').mean()\n",
    "                   .assign(year=lambda df: df.index.year).set_index('year')\n",
    ")"
   ]
  },
  {
   "cell_type": "code",
   "execution_count": 31,
   "metadata": {},
   "outputs": [],
   "source": [
    "df = (\n",
    "    nominal_wages_gbp.join([nominal_resproperty_gbp,nominal_mortrate_perc,gbp_cpi_percent,gbp_cpi])\n",
    "    .assign(real_prop_gbp = lambda df:df['HPIUKA']*df['CPIUKQ'],\n",
    "            real_wages_gbp = lambda df: df['AWEPPUKQ']*df['CPIUKQ'],\n",
    "            nominal_mortrate_perc = lambda df: df['CMRAUKA']\n",
    "            )\n",
    ")\n",
    "\n",
    "#df=df.loc[df.index<2007]"
   ]
  },
  {
   "cell_type": "code",
   "execution_count": 32,
   "metadata": {},
   "outputs": [
    {
     "data": {
      "application/vnd.plotly.v1+json": {
       "config": {
        "plotlyServerURL": "https://plot.ly"
       },
       "data": [
        {
         "hovertemplate": "Average Weekly Earnings=%{x}<br>Residential Property Price Index=%{y}<extra></extra>",
         "legendgroup": "",
         "marker": {
          "color": "#636efa",
          "symbol": "circle"
         },
         "mode": "markers",
         "name": "",
         "orientation": "v",
         "showlegend": false,
         "type": "scatter",
         "x": [
          80.66916956216016,
          82.5229279175208,
          94.57952565964432,
          88.09884379182317,
          82.2872835700058,
          82.61799213406826,
          83.88605302854307,
          85.14915240746313,
          88.03368142468372,
          87.96258307803677,
          88.36983807735882,
          91.42603252191242,
          96.13745360029439,
          97.14727470593972,
          98.33934421077659,
          97.19572310568263,
          96.87173777031099,
          96.52992208549992,
          95.0012283659548,
          97.40768325864278,
          96.3941752577077,
          92.35637642822115,
          92.82293337324963,
          99.36676533397015,
          104.8433398824536,
          108.88512855340555,
          112.04529336455904,
          121.79886452750976,
          131.3200584382385,
          131.46839766622918,
          130.98801334023014,
          128.48177938834021,
          127.92048032696472,
          125.02011782054709,
          126.23479843000678,
          128.77738946541388,
          131.0409640528262,
          134.45622500245452,
          136.16984456427093,
          137.40449332905808,
          140.3337843119998,
          145.15449021553445,
          149.5769094490419,
          150.11703941024953,
          152.98312728627587,
          160.7857657263107,
          164.67529944305326,
          168.57782743196086,
          171.0004553840322,
          178.3330792459314,
          182.61614229301898,
          193.29800075892226,
          197.9090335497681,
          207.83872919006203,
          217.73266995698341,
          223.97596929160508,
          235.7445289269039,
          236.985194374922,
          226.53874769223606,
          238.6910710066454,
          250.6121090596434,
          264.09853384875953,
          268.7210342192226,
          272.46882132608454,
          282.0994478098228,
          287.4695338459068,
          298.3765072918482,
          311.7084560807298,
          325.936043672481,
          343.056980773277,
          357.2476038861409,
          369.33430011588763,
          370.1864242948953,
          376.14964948821114,
          377.8976613320368,
          384.53389856106855,
          386.797721488517,
          391.45100593266835,
          401.39620328950764,
          415.8149587044051,
          429.1241153704484,
          443.6571231537321,
          460.7852897932194,
          469.4811279327026,
          478.06143457300766,
          492.30176278657854,
          504.89535275378006,
          516.5976969332326,
          529.4747513249681,
          529.315678805884,
          517.6538665724786,
          512.6678254721631,
          502.2800524956011,
          495.13960533159093,
          488.4023822994641,
          487.27830754042697,
          498.9361972272974,
          507.41992952288024
         ],
         "xaxis": "x",
         "y": [
          3.8783254597192385,
          3.990363203533578,
          5.346352729078145,
          6.446256862816329,
          7.378586830838727,
          7.64097037078088,
          8.26150522250803,
          8.401813899787633,
          8.661781332229998,
          8.75417094747926,
          9.168052365374404,
          9.577120768541748,
          9.831165363255277,
          10.113429999417148,
          10.372506894442967,
          9.847590993483548,
          9.726078089388652,
          9.445197855724063,
          8.97932215179157,
          9.276922215108836,
          9.429864970862711,
          8.731328170883172,
          8.89987675788461,
          9.680826128570509,
          10.553766663664204,
          12.128976345189479,
          14.404852755176783,
          17.099339198291066,
          22.111385609723936,
          24.006723264376298,
          22.238636593210714,
          22.089231390039288,
          21.374054940708028,
          19.098942395032914,
          16.91903478585348,
          16.171830571468316,
          15.751167632393136,
          15.470991556112924,
          14.898582993502584,
          14.635719402755194,
          15.016411559033626,
          16.119747723565432,
          17.107254685867545,
          17.55587910383712,
          18.590000848857642,
          20.44087613106539,
          21.168827925250536,
          21.48602172530364,
          22.592454380322057,
          23.018296695556508,
          23.224798286119196,
          23.172692252629133,
          23.774008389606436,
          29.592265560559433,
          36.892057537559694,
          34.59935207189856,
          29.857893546107135,
          28.106329434855642,
          26.251550071994462,
          28.28990914176347,
          32.912322103869855,
          34.620924038396694,
          32.647233038955385,
          30.93135200362896,
          32.86331026631857,
          34.4683133173913,
          35.81627441134388,
          39.4140581612534,
          44.51529787554987,
          53.8758498949369,
          61.63967366003901,
          57.03955492195791,
          52.40126201093423,
          48.33726224771746,
          45.85896778344399,
          46.27184262062378,
          45.11821904075761,
          45.62570628843935,
          48.84855584499995,
          53.74879338592974,
          58.827416719555316,
          66.92547818560867,
          71.87698682103812,
          82.7690657512999,
          93.33666797899612,
          103.03165264539979,
          106.48938276613832,
          112.24876478640701,
          120.55788176072426,
          111.14730586538494,
          99.11728647528902,
          101.4363271516008,
          95.6920567158826,
          93.42655520024043,
          93.43529119602405,
          99.4800956722611,
          105.36083685109527,
          112.30169696156915
         ],
         "yaxis": "y"
        },
        {
         "hovertemplate": "<b>OLS trendline</b><br>real_prop_gbp = 0.203485 * real_wages_gbp + -12.5506<br>R<sup>2</sup>=0.919016<br><br>Average Weekly Earnings=%{x}<br>Residential Property Price Index=%{y} <b>(trend)</b><extra></extra>",
         "legendgroup": "",
         "marker": {
          "color": "#636efa",
          "symbol": "circle"
         },
         "mode": "lines",
         "name": "",
         "showlegend": false,
         "type": "scatter",
         "x": [
          80.66916956216016,
          82.2872835700058,
          82.5229279175208,
          82.61799213406826,
          83.88605302854307,
          85.14915240746313,
          87.96258307803677,
          88.03368142468372,
          88.09884379182317,
          88.36983807735882,
          91.42603252191242,
          92.35637642822115,
          92.82293337324963,
          94.57952565964432,
          95.0012283659548,
          96.13745360029439,
          96.3941752577077,
          96.52992208549992,
          96.87173777031099,
          97.14727470593972,
          97.19572310568263,
          97.40768325864278,
          98.33934421077659,
          99.36676533397015,
          104.8433398824536,
          108.88512855340555,
          112.04529336455904,
          121.79886452750976,
          125.02011782054709,
          126.23479843000678,
          127.92048032696472,
          128.48177938834021,
          128.77738946541388,
          130.98801334023014,
          131.0409640528262,
          131.3200584382385,
          131.46839766622918,
          134.45622500245452,
          136.16984456427093,
          137.40449332905808,
          140.3337843119998,
          145.15449021553445,
          149.5769094490419,
          150.11703941024953,
          152.98312728627587,
          160.7857657263107,
          164.67529944305326,
          168.57782743196086,
          171.0004553840322,
          178.3330792459314,
          182.61614229301898,
          193.29800075892226,
          197.9090335497681,
          207.83872919006203,
          217.73266995698341,
          223.97596929160508,
          226.53874769223606,
          235.7445289269039,
          236.985194374922,
          238.6910710066454,
          250.6121090596434,
          264.09853384875953,
          268.7210342192226,
          272.46882132608454,
          282.0994478098228,
          287.4695338459068,
          298.3765072918482,
          311.7084560807298,
          325.936043672481,
          343.056980773277,
          357.2476038861409,
          369.33430011588763,
          370.1864242948953,
          376.14964948821114,
          377.8976613320368,
          384.53389856106855,
          386.797721488517,
          391.45100593266835,
          401.39620328950764,
          415.8149587044051,
          429.1241153704484,
          443.6571231537321,
          460.7852897932194,
          469.4811279327026,
          478.06143457300766,
          487.27830754042697,
          488.4023822994641,
          492.30176278657854,
          495.13960533159093,
          498.9361972272974,
          502.2800524956011,
          504.89535275378006,
          507.41992952288024,
          512.6678254721631,
          516.5976969332326,
          517.6538665724786,
          529.315678805884,
          529.4747513249681
         ],
         "xaxis": "x",
         "y": [
          3.8644099821866575,
          4.193672247896519,
          4.241622387001868,
          4.260966548894405,
          4.518998183963646,
          4.776020224007446,
          5.348511749647255,
          5.3629792115144,
          5.376238789355838,
          5.431382117957693,
          6.053272480679034,
          6.242583704112807,
          6.337521141189491,
          6.694961688235267,
          6.780771951209655,
          7.011976979533628,
          7.064216039431045,
          7.091838510941134,
          7.161392946716589,
          7.21746063741822,
          7.227319170124829,
          7.270449925971128,
          7.460029148748767,
          7.669094149867746,
          8.783496061858763,
          9.60594027089811,
          10.248987065309297,
          12.233694523686292,
          12.889171920549668,
          13.13634145721107,
          13.479352788901746,
          13.593568845244636,
          13.653721123311577,
          14.103550382637629,
          14.114325069412356,
          14.17111664852371,
          14.201301487209392,
          14.809280154661398,
          15.157976387901247,
          15.409209148805992,
          16.00527653422527,
          16.986218878474567,
          17.886115776766818,
          17.996024234355534,
          18.579230722407903,
          20.16695222956008,
          20.95841480754904,
          21.752521527714364,
          22.245490480831016,
          23.73757097371397,
          24.609110949404467,
          26.782711142853202,
          27.72098811012188,
          29.741534294432775,
          31.7548048908928,
          33.02522395559106,
          33.546711451906305,
          35.419951762699796,
          35.67240882964421,
          36.01952949114233,
          38.44528440081619,
          41.18957235633684,
          42.130182806430994,
          42.89280204600271,
          44.85249208073823,
          45.945225155617216,
          48.16463291763849,
          50.87748729209599,
          53.77259091478981,
          57.2564483646055,
          60.14403026261848,
          62.60349416087113,
          62.77688882681297,
          63.99031694656794,
          64.34601150047146,
          65.69638761440694,
          66.15704209403165,
          67.10391664776822,
          69.12761720209716,
          72.06162064907701,
          74.7698371636744,
          77.72708927761786,
          81.21241783161904,
          82.98189226554013,
          84.72785774830217,
          86.60335506264343,
          86.83208764897125,
          87.62555389907902,
          88.20301288007053,
          88.97556317225937,
          89.65598825758042,
          90.18816317501165,
          90.7018772043829,
          91.76974640401431,
          92.56941711630424,
          92.78433201519638,
          95.15733830501051,
          95.18970720966857
         ],
         "yaxis": "y"
        }
       ],
       "layout": {
        "height": 600,
        "legend": {
         "title": {
          "text": "Region"
         },
         "tracegroupgap": 0,
         "x": 0.01,
         "xanchor": "left",
         "y": 0.99,
         "yanchor": "top"
        },
        "template": {
         "data": {
          "bar": [
           {
            "error_x": {
             "color": "#2a3f5f"
            },
            "error_y": {
             "color": "#2a3f5f"
            },
            "marker": {
             "line": {
              "color": "#E5ECF6",
              "width": 0.5
             },
             "pattern": {
              "fillmode": "overlay",
              "size": 10,
              "solidity": 0.2
             }
            },
            "type": "bar"
           }
          ],
          "barpolar": [
           {
            "marker": {
             "line": {
              "color": "#E5ECF6",
              "width": 0.5
             },
             "pattern": {
              "fillmode": "overlay",
              "size": 10,
              "solidity": 0.2
             }
            },
            "type": "barpolar"
           }
          ],
          "carpet": [
           {
            "aaxis": {
             "endlinecolor": "#2a3f5f",
             "gridcolor": "white",
             "linecolor": "white",
             "minorgridcolor": "white",
             "startlinecolor": "#2a3f5f"
            },
            "baxis": {
             "endlinecolor": "#2a3f5f",
             "gridcolor": "white",
             "linecolor": "white",
             "minorgridcolor": "white",
             "startlinecolor": "#2a3f5f"
            },
            "type": "carpet"
           }
          ],
          "choropleth": [
           {
            "colorbar": {
             "outlinewidth": 0,
             "ticks": ""
            },
            "type": "choropleth"
           }
          ],
          "contour": [
           {
            "colorbar": {
             "outlinewidth": 0,
             "ticks": ""
            },
            "colorscale": [
             [
              0,
              "#0d0887"
             ],
             [
              0.1111111111111111,
              "#46039f"
             ],
             [
              0.2222222222222222,
              "#7201a8"
             ],
             [
              0.3333333333333333,
              "#9c179e"
             ],
             [
              0.4444444444444444,
              "#bd3786"
             ],
             [
              0.5555555555555556,
              "#d8576b"
             ],
             [
              0.6666666666666666,
              "#ed7953"
             ],
             [
              0.7777777777777778,
              "#fb9f3a"
             ],
             [
              0.8888888888888888,
              "#fdca26"
             ],
             [
              1,
              "#f0f921"
             ]
            ],
            "type": "contour"
           }
          ],
          "contourcarpet": [
           {
            "colorbar": {
             "outlinewidth": 0,
             "ticks": ""
            },
            "type": "contourcarpet"
           }
          ],
          "heatmap": [
           {
            "colorbar": {
             "outlinewidth": 0,
             "ticks": ""
            },
            "colorscale": [
             [
              0,
              "#0d0887"
             ],
             [
              0.1111111111111111,
              "#46039f"
             ],
             [
              0.2222222222222222,
              "#7201a8"
             ],
             [
              0.3333333333333333,
              "#9c179e"
             ],
             [
              0.4444444444444444,
              "#bd3786"
             ],
             [
              0.5555555555555556,
              "#d8576b"
             ],
             [
              0.6666666666666666,
              "#ed7953"
             ],
             [
              0.7777777777777778,
              "#fb9f3a"
             ],
             [
              0.8888888888888888,
              "#fdca26"
             ],
             [
              1,
              "#f0f921"
             ]
            ],
            "type": "heatmap"
           }
          ],
          "heatmapgl": [
           {
            "colorbar": {
             "outlinewidth": 0,
             "ticks": ""
            },
            "colorscale": [
             [
              0,
              "#0d0887"
             ],
             [
              0.1111111111111111,
              "#46039f"
             ],
             [
              0.2222222222222222,
              "#7201a8"
             ],
             [
              0.3333333333333333,
              "#9c179e"
             ],
             [
              0.4444444444444444,
              "#bd3786"
             ],
             [
              0.5555555555555556,
              "#d8576b"
             ],
             [
              0.6666666666666666,
              "#ed7953"
             ],
             [
              0.7777777777777778,
              "#fb9f3a"
             ],
             [
              0.8888888888888888,
              "#fdca26"
             ],
             [
              1,
              "#f0f921"
             ]
            ],
            "type": "heatmapgl"
           }
          ],
          "histogram": [
           {
            "marker": {
             "pattern": {
              "fillmode": "overlay",
              "size": 10,
              "solidity": 0.2
             }
            },
            "type": "histogram"
           }
          ],
          "histogram2d": [
           {
            "colorbar": {
             "outlinewidth": 0,
             "ticks": ""
            },
            "colorscale": [
             [
              0,
              "#0d0887"
             ],
             [
              0.1111111111111111,
              "#46039f"
             ],
             [
              0.2222222222222222,
              "#7201a8"
             ],
             [
              0.3333333333333333,
              "#9c179e"
             ],
             [
              0.4444444444444444,
              "#bd3786"
             ],
             [
              0.5555555555555556,
              "#d8576b"
             ],
             [
              0.6666666666666666,
              "#ed7953"
             ],
             [
              0.7777777777777778,
              "#fb9f3a"
             ],
             [
              0.8888888888888888,
              "#fdca26"
             ],
             [
              1,
              "#f0f921"
             ]
            ],
            "type": "histogram2d"
           }
          ],
          "histogram2dcontour": [
           {
            "colorbar": {
             "outlinewidth": 0,
             "ticks": ""
            },
            "colorscale": [
             [
              0,
              "#0d0887"
             ],
             [
              0.1111111111111111,
              "#46039f"
             ],
             [
              0.2222222222222222,
              "#7201a8"
             ],
             [
              0.3333333333333333,
              "#9c179e"
             ],
             [
              0.4444444444444444,
              "#bd3786"
             ],
             [
              0.5555555555555556,
              "#d8576b"
             ],
             [
              0.6666666666666666,
              "#ed7953"
             ],
             [
              0.7777777777777778,
              "#fb9f3a"
             ],
             [
              0.8888888888888888,
              "#fdca26"
             ],
             [
              1,
              "#f0f921"
             ]
            ],
            "type": "histogram2dcontour"
           }
          ],
          "mesh3d": [
           {
            "colorbar": {
             "outlinewidth": 0,
             "ticks": ""
            },
            "type": "mesh3d"
           }
          ],
          "parcoords": [
           {
            "line": {
             "colorbar": {
              "outlinewidth": 0,
              "ticks": ""
             }
            },
            "type": "parcoords"
           }
          ],
          "pie": [
           {
            "automargin": true,
            "type": "pie"
           }
          ],
          "scatter": [
           {
            "fillpattern": {
             "fillmode": "overlay",
             "size": 10,
             "solidity": 0.2
            },
            "type": "scatter"
           }
          ],
          "scatter3d": [
           {
            "line": {
             "colorbar": {
              "outlinewidth": 0,
              "ticks": ""
             }
            },
            "marker": {
             "colorbar": {
              "outlinewidth": 0,
              "ticks": ""
             }
            },
            "type": "scatter3d"
           }
          ],
          "scattercarpet": [
           {
            "marker": {
             "colorbar": {
              "outlinewidth": 0,
              "ticks": ""
             }
            },
            "type": "scattercarpet"
           }
          ],
          "scattergeo": [
           {
            "marker": {
             "colorbar": {
              "outlinewidth": 0,
              "ticks": ""
             }
            },
            "type": "scattergeo"
           }
          ],
          "scattergl": [
           {
            "marker": {
             "colorbar": {
              "outlinewidth": 0,
              "ticks": ""
             }
            },
            "type": "scattergl"
           }
          ],
          "scattermapbox": [
           {
            "marker": {
             "colorbar": {
              "outlinewidth": 0,
              "ticks": ""
             }
            },
            "type": "scattermapbox"
           }
          ],
          "scatterpolar": [
           {
            "marker": {
             "colorbar": {
              "outlinewidth": 0,
              "ticks": ""
             }
            },
            "type": "scatterpolar"
           }
          ],
          "scatterpolargl": [
           {
            "marker": {
             "colorbar": {
              "outlinewidth": 0,
              "ticks": ""
             }
            },
            "type": "scatterpolargl"
           }
          ],
          "scatterternary": [
           {
            "marker": {
             "colorbar": {
              "outlinewidth": 0,
              "ticks": ""
             }
            },
            "type": "scatterternary"
           }
          ],
          "surface": [
           {
            "colorbar": {
             "outlinewidth": 0,
             "ticks": ""
            },
            "colorscale": [
             [
              0,
              "#0d0887"
             ],
             [
              0.1111111111111111,
              "#46039f"
             ],
             [
              0.2222222222222222,
              "#7201a8"
             ],
             [
              0.3333333333333333,
              "#9c179e"
             ],
             [
              0.4444444444444444,
              "#bd3786"
             ],
             [
              0.5555555555555556,
              "#d8576b"
             ],
             [
              0.6666666666666666,
              "#ed7953"
             ],
             [
              0.7777777777777778,
              "#fb9f3a"
             ],
             [
              0.8888888888888888,
              "#fdca26"
             ],
             [
              1,
              "#f0f921"
             ]
            ],
            "type": "surface"
           }
          ],
          "table": [
           {
            "cells": {
             "fill": {
              "color": "#EBF0F8"
             },
             "line": {
              "color": "white"
             }
            },
            "header": {
             "fill": {
              "color": "#C8D4E3"
             },
             "line": {
              "color": "white"
             }
            },
            "type": "table"
           }
          ]
         },
         "layout": {
          "annotationdefaults": {
           "arrowcolor": "#2a3f5f",
           "arrowhead": 0,
           "arrowwidth": 1
          },
          "autotypenumbers": "strict",
          "coloraxis": {
           "colorbar": {
            "outlinewidth": 0,
            "ticks": ""
           }
          },
          "colorscale": {
           "diverging": [
            [
             0,
             "#8e0152"
            ],
            [
             0.1,
             "#c51b7d"
            ],
            [
             0.2,
             "#de77ae"
            ],
            [
             0.3,
             "#f1b6da"
            ],
            [
             0.4,
             "#fde0ef"
            ],
            [
             0.5,
             "#f7f7f7"
            ],
            [
             0.6,
             "#e6f5d0"
            ],
            [
             0.7,
             "#b8e186"
            ],
            [
             0.8,
             "#7fbc41"
            ],
            [
             0.9,
             "#4d9221"
            ],
            [
             1,
             "#276419"
            ]
           ],
           "sequential": [
            [
             0,
             "#0d0887"
            ],
            [
             0.1111111111111111,
             "#46039f"
            ],
            [
             0.2222222222222222,
             "#7201a8"
            ],
            [
             0.3333333333333333,
             "#9c179e"
            ],
            [
             0.4444444444444444,
             "#bd3786"
            ],
            [
             0.5555555555555556,
             "#d8576b"
            ],
            [
             0.6666666666666666,
             "#ed7953"
            ],
            [
             0.7777777777777778,
             "#fb9f3a"
            ],
            [
             0.8888888888888888,
             "#fdca26"
            ],
            [
             1,
             "#f0f921"
            ]
           ],
           "sequentialminus": [
            [
             0,
             "#0d0887"
            ],
            [
             0.1111111111111111,
             "#46039f"
            ],
            [
             0.2222222222222222,
             "#7201a8"
            ],
            [
             0.3333333333333333,
             "#9c179e"
            ],
            [
             0.4444444444444444,
             "#bd3786"
            ],
            [
             0.5555555555555556,
             "#d8576b"
            ],
            [
             0.6666666666666666,
             "#ed7953"
            ],
            [
             0.7777777777777778,
             "#fb9f3a"
            ],
            [
             0.8888888888888888,
             "#fdca26"
            ],
            [
             1,
             "#f0f921"
            ]
           ]
          },
          "colorway": [
           "#636efa",
           "#EF553B",
           "#00cc96",
           "#ab63fa",
           "#FFA15A",
           "#19d3f3",
           "#FF6692",
           "#B6E880",
           "#FF97FF",
           "#FECB52"
          ],
          "font": {
           "color": "#2a3f5f"
          },
          "geo": {
           "bgcolor": "white",
           "lakecolor": "white",
           "landcolor": "#E5ECF6",
           "showlakes": true,
           "showland": true,
           "subunitcolor": "white"
          },
          "hoverlabel": {
           "align": "left"
          },
          "hovermode": "closest",
          "mapbox": {
           "style": "light"
          },
          "paper_bgcolor": "white",
          "plot_bgcolor": "#E5ECF6",
          "polar": {
           "angularaxis": {
            "gridcolor": "white",
            "linecolor": "white",
            "ticks": ""
           },
           "bgcolor": "#E5ECF6",
           "radialaxis": {
            "gridcolor": "white",
            "linecolor": "white",
            "ticks": ""
           }
          },
          "scene": {
           "xaxis": {
            "backgroundcolor": "#E5ECF6",
            "gridcolor": "white",
            "gridwidth": 2,
            "linecolor": "white",
            "showbackground": true,
            "ticks": "",
            "zerolinecolor": "white"
           },
           "yaxis": {
            "backgroundcolor": "#E5ECF6",
            "gridcolor": "white",
            "gridwidth": 2,
            "linecolor": "white",
            "showbackground": true,
            "ticks": "",
            "zerolinecolor": "white"
           },
           "zaxis": {
            "backgroundcolor": "#E5ECF6",
            "gridcolor": "white",
            "gridwidth": 2,
            "linecolor": "white",
            "showbackground": true,
            "ticks": "",
            "zerolinecolor": "white"
           }
          },
          "shapedefaults": {
           "line": {
            "color": "#2a3f5f"
           }
          },
          "ternary": {
           "aaxis": {
            "gridcolor": "white",
            "linecolor": "white",
            "ticks": ""
           },
           "baxis": {
            "gridcolor": "white",
            "linecolor": "white",
            "ticks": ""
           },
           "bgcolor": "#E5ECF6",
           "caxis": {
            "gridcolor": "white",
            "linecolor": "white",
            "ticks": ""
           }
          },
          "title": {
           "x": 0.05
          },
          "xaxis": {
           "automargin": true,
           "gridcolor": "white",
           "linecolor": "white",
           "ticks": "",
           "title": {
            "standoff": 15
           },
           "zerolinecolor": "white",
           "zerolinewidth": 2
          },
          "yaxis": {
           "automargin": true,
           "gridcolor": "white",
           "linecolor": "white",
           "ticks": "",
           "title": {
            "standoff": 15
           },
           "zerolinecolor": "white",
           "zerolinewidth": 2
          }
         }
        },
        "title": {
         "text": "UK House Price Index vs. Weekly Earnings, CPI Adjusted GBP (2024)"
        },
        "width": 800,
        "xaxis": {
         "anchor": "y",
         "domain": [
          0,
          1
         ],
         "title": {
          "text": "Average Weekly Earnings"
         }
        },
        "yaxis": {
         "anchor": "x",
         "domain": [
          0,
          1
         ],
         "title": {
          "text": "Residential Property Price Index"
         }
        }
       }
      }
     },
     "metadata": {},
     "output_type": "display_data"
    }
   ],
   "source": [
    "import seaborn as sns\n",
    "\n",
    "fig = px.scatter(df,x='real_wages_gbp',y='real_prop_gbp',\n",
    "              labels={\n",
    "                  'real_wages_gbp':'Average Weekly Earnings',\n",
    "                  'real_prop_gbp':'Residential Property Price Index'\n",
    "              },\n",
    "              width=800, height=600, trendline=\"ols\",\n",
    "              title='UK House Price Index vs. Weekly Earnings, CPI Adjusted GBP (2024)')\n",
    "\n",
    "fig.update_layout(legend=dict(\n",
    "    title='Region',\n",
    "    yanchor=\"top\",\n",
    "    y=0.99,\n",
    "    xanchor=\"left\",\n",
    "    x=0.01\n",
    "))\n",
    "\n",
    "fig.show()"
   ]
  },
  {
   "cell_type": "code",
   "execution_count": 33,
   "metadata": {},
   "outputs": [
    {
     "data": {
      "application/vnd.plotly.v1+json": {
       "config": {
        "plotlyServerURL": "https://plot.ly"
       },
       "data": [
        {
         "hovertemplate": "Nominal Mortgage Rate, %=%{x}<br>Residential Property Price Index, CPI Adjusted GBP=%{y}<extra></extra>",
         "legendgroup": "",
         "marker": {
          "color": "#636efa",
          "symbol": "circle"
         },
         "mode": "markers",
         "name": "",
         "orientation": "v",
         "showlegend": false,
         "type": "scatter",
         "x": [
          5.25,
          6.25,
          6.75,
          6.53,
          6.3,
          6.08,
          5.85,
          5.83,
          5.81,
          5.79,
          5.77,
          5.82,
          5.87,
          5.87,
          5.57,
          5.44,
          5.21,
          4.97,
          4.87,
          4.82,
          4.79,
          4.76,
          4.74,
          4.77,
          4.8,
          4.71,
          4.68,
          4.35,
          4.29,
          4.24,
          4.2,
          4.18,
          4.19,
          4.32,
          4.55,
          4.58,
          4.66,
          5.32,
          5.98,
          6.13,
          5.98,
          5.89,
          6.28,
          6.61,
          6.27,
          6.16,
          6.63,
          6.95,
          7.2,
          7.46,
          8.08,
          8.58,
          8.59,
          8.26,
          9.59,
          10.69,
          11.07,
          11.07,
          11.05,
          9.93,
          11.34,
          14.18,
          14.24,
          13.48,
          11.6,
          11.7,
          13.4,
          11.85,
          11.3,
          11.08,
          13.7,
          15.02,
          12.55,
          10.34,
          8,
          7.67,
          7.83,
          6.67,
          7.18,
          7.71,
          6.82,
          7.09,
          6.44,
          5.39,
          4.96,
          5.28,
          5.47,
          5.35,
          5.79,
          5.7,
          3.71,
          3.6,
          3.43,
          3.38,
          3.33,
          3.22,
          3.08,
          2.84
         ],
         "xaxis": "x",
         "y": [
          3.8783254597192385,
          3.990363203533578,
          5.346352729078145,
          6.446256862816329,
          7.378586830838727,
          7.64097037078088,
          8.26150522250803,
          8.401813899787633,
          8.661781332229998,
          8.75417094747926,
          9.168052365374404,
          9.577120768541748,
          9.831165363255277,
          10.113429999417148,
          10.372506894442967,
          9.847590993483548,
          9.726078089388652,
          9.445197855724063,
          8.97932215179157,
          9.276922215108836,
          9.429864970862711,
          8.731328170883172,
          8.89987675788461,
          9.680826128570509,
          10.553766663664204,
          12.128976345189479,
          14.404852755176783,
          17.099339198291066,
          22.111385609723936,
          24.006723264376298,
          22.238636593210714,
          22.089231390039288,
          21.374054940708028,
          19.098942395032914,
          16.91903478585348,
          16.171830571468316,
          15.751167632393136,
          15.470991556112924,
          14.898582993502584,
          14.635719402755194,
          15.016411559033626,
          16.119747723565432,
          17.107254685867545,
          17.55587910383712,
          18.590000848857642,
          20.44087613106539,
          21.168827925250536,
          21.48602172530364,
          22.592454380322057,
          23.018296695556508,
          23.224798286119196,
          23.172692252629133,
          23.774008389606436,
          29.592265560559433,
          36.892057537559694,
          34.59935207189856,
          29.857893546107135,
          28.106329434855642,
          26.251550071994462,
          28.28990914176347,
          32.912322103869855,
          34.620924038396694,
          32.647233038955385,
          30.93135200362896,
          32.86331026631857,
          34.4683133173913,
          35.81627441134388,
          39.4140581612534,
          44.51529787554987,
          53.8758498949369,
          61.63967366003901,
          57.03955492195791,
          52.40126201093423,
          48.33726224771746,
          45.85896778344399,
          46.27184262062378,
          45.11821904075761,
          45.62570628843935,
          48.84855584499995,
          53.74879338592974,
          58.827416719555316,
          66.92547818560867,
          71.87698682103812,
          82.7690657512999,
          93.33666797899612,
          103.03165264539979,
          106.48938276613832,
          112.24876478640701,
          120.55788176072426,
          111.14730586538494,
          99.11728647528902,
          101.4363271516008,
          95.6920567158826,
          93.42655520024043,
          93.43529119602405,
          99.4800956722611,
          105.36083685109527,
          112.30169696156915
         ],
         "yaxis": "y"
        },
        {
         "hovertemplate": "<b>OLS trendline</b><br>real_prop_gbp = -0.748109 * nominal_mortrate_perc + 41.5153<br>R<sup>2</sup>=0.004626<br><br>Nominal Mortgage Rate, %=%{x}<br>Residential Property Price Index, CPI Adjusted GBP=%{y} <b>(trend)</b><extra></extra>",
         "legendgroup": "",
         "marker": {
          "color": "#636efa",
          "symbol": "circle"
         },
         "mode": "lines",
         "name": "",
         "showlegend": false,
         "type": "scatter",
         "x": [
          2.84,
          3.08,
          3.22,
          3.33,
          3.38,
          3.43,
          3.6,
          3.71,
          4.18,
          4.19,
          4.2,
          4.24,
          4.29,
          4.32,
          4.35,
          4.55,
          4.58,
          4.66,
          4.68,
          4.71,
          4.74,
          4.76,
          4.77,
          4.79,
          4.8,
          4.82,
          4.87,
          4.96,
          4.97,
          5.21,
          5.25,
          5.28,
          5.32,
          5.35,
          5.39,
          5.44,
          5.47,
          5.57,
          5.7,
          5.77,
          5.79,
          5.79,
          5.81,
          5.82,
          5.83,
          5.85,
          5.87,
          5.87,
          5.89,
          5.98,
          5.98,
          6.08,
          6.13,
          6.16,
          6.25,
          6.27,
          6.28,
          6.3,
          6.44,
          6.53,
          6.61,
          6.63,
          6.67,
          6.75,
          6.82,
          6.95,
          7.09,
          7.18,
          7.2,
          7.46,
          7.67,
          7.71,
          7.83,
          8,
          8.08,
          8.26,
          8.58,
          8.59,
          9.59,
          9.93,
          10.34,
          10.69,
          11.05,
          11.07,
          11.07,
          11.08,
          11.3,
          11.34,
          11.6,
          11.7,
          11.85,
          12.55,
          13.4,
          13.48,
          13.7,
          14.18,
          14.24,
          15.02
         ],
         "xaxis": "x",
         "y": [
          39.39064634780557,
          39.2111002743573,
          39.106365064845804,
          39.024073114515346,
          38.98666768254696,
          38.94926225057856,
          38.822083781886036,
          38.73979183155558,
          38.38818077105271,
          38.38069968465903,
          38.37321859826535,
          38.34329425269064,
          38.30588882072225,
          38.283445561541214,
          38.26100230236018,
          38.11138057448662,
          38.088937315305586,
          38.02908862415616,
          38.0141264513688,
          37.99168319218777,
          37.96923993300673,
          37.95427776021938,
          37.9467966738257,
          37.931834501038345,
          37.92435341464466,
          37.90939124185731,
          37.87198580988892,
          37.80465603234582,
          37.797174945952136,
          37.617628872503865,
          37.58770452692915,
          37.56526126774812,
          37.53533692217341,
          37.51289366299237,
          37.482969317417655,
          37.44556388544927,
          37.423120626268236,
          37.34830976233145,
          37.25105563921364,
          37.19868803445789,
          37.18372586167054,
          37.18372586167054,
          37.16876368888318,
          37.1612826024895,
          37.153801516095825,
          37.13883934330847,
          37.12387717052111,
          37.12387717052111,
          37.108914997733756,
          37.041585220190655,
          37.041585220190655,
          36.96677435625387,
          36.92936892428548,
          36.906925665104445,
          36.839595887561345,
          36.82463371477399,
          36.817152628380306,
          36.80219045559295,
          36.69745524608146,
          36.63012546853835,
          36.57027677738893,
          36.55531460460158,
          36.525390259026864,
          36.46554156787744,
          36.41317396312169,
          36.31591984000387,
          36.21118463049238,
          36.14385485294928,
          36.128892680161925,
          35.93438443392629,
          35.77728161965905,
          35.74735727408434,
          35.657584237360204,
          35.53040576866768,
          35.47055707751825,
          35.33589752243205,
          35.096502757834344,
          35.08902167144067,
          34.340913032072855,
          34.0865560946878,
          33.779831552547,
          33.517993528768265,
          33.248674418595854,
          33.2337122458085,
          33.2337122458085,
          33.22623115941482,
          33.0616472587539,
          33.031722913179195,
          32.83721466694356,
          32.76240380300678,
          32.650187507101606,
          32.12651145954414,
          31.490619116081504,
          31.430770424932078,
          31.26618652427116,
          30.907094377374612,
          30.862207859012543,
          30.27868312030565
         ],
         "yaxis": "y"
        }
       ],
       "layout": {
        "height": 600,
        "legend": {
         "title": {
          "text": "Region"
         },
         "tracegroupgap": 0,
         "x": 0.01,
         "xanchor": "left",
         "y": 0.99,
         "yanchor": "top"
        },
        "template": {
         "data": {
          "bar": [
           {
            "error_x": {
             "color": "#2a3f5f"
            },
            "error_y": {
             "color": "#2a3f5f"
            },
            "marker": {
             "line": {
              "color": "#E5ECF6",
              "width": 0.5
             },
             "pattern": {
              "fillmode": "overlay",
              "size": 10,
              "solidity": 0.2
             }
            },
            "type": "bar"
           }
          ],
          "barpolar": [
           {
            "marker": {
             "line": {
              "color": "#E5ECF6",
              "width": 0.5
             },
             "pattern": {
              "fillmode": "overlay",
              "size": 10,
              "solidity": 0.2
             }
            },
            "type": "barpolar"
           }
          ],
          "carpet": [
           {
            "aaxis": {
             "endlinecolor": "#2a3f5f",
             "gridcolor": "white",
             "linecolor": "white",
             "minorgridcolor": "white",
             "startlinecolor": "#2a3f5f"
            },
            "baxis": {
             "endlinecolor": "#2a3f5f",
             "gridcolor": "white",
             "linecolor": "white",
             "minorgridcolor": "white",
             "startlinecolor": "#2a3f5f"
            },
            "type": "carpet"
           }
          ],
          "choropleth": [
           {
            "colorbar": {
             "outlinewidth": 0,
             "ticks": ""
            },
            "type": "choropleth"
           }
          ],
          "contour": [
           {
            "colorbar": {
             "outlinewidth": 0,
             "ticks": ""
            },
            "colorscale": [
             [
              0,
              "#0d0887"
             ],
             [
              0.1111111111111111,
              "#46039f"
             ],
             [
              0.2222222222222222,
              "#7201a8"
             ],
             [
              0.3333333333333333,
              "#9c179e"
             ],
             [
              0.4444444444444444,
              "#bd3786"
             ],
             [
              0.5555555555555556,
              "#d8576b"
             ],
             [
              0.6666666666666666,
              "#ed7953"
             ],
             [
              0.7777777777777778,
              "#fb9f3a"
             ],
             [
              0.8888888888888888,
              "#fdca26"
             ],
             [
              1,
              "#f0f921"
             ]
            ],
            "type": "contour"
           }
          ],
          "contourcarpet": [
           {
            "colorbar": {
             "outlinewidth": 0,
             "ticks": ""
            },
            "type": "contourcarpet"
           }
          ],
          "heatmap": [
           {
            "colorbar": {
             "outlinewidth": 0,
             "ticks": ""
            },
            "colorscale": [
             [
              0,
              "#0d0887"
             ],
             [
              0.1111111111111111,
              "#46039f"
             ],
             [
              0.2222222222222222,
              "#7201a8"
             ],
             [
              0.3333333333333333,
              "#9c179e"
             ],
             [
              0.4444444444444444,
              "#bd3786"
             ],
             [
              0.5555555555555556,
              "#d8576b"
             ],
             [
              0.6666666666666666,
              "#ed7953"
             ],
             [
              0.7777777777777778,
              "#fb9f3a"
             ],
             [
              0.8888888888888888,
              "#fdca26"
             ],
             [
              1,
              "#f0f921"
             ]
            ],
            "type": "heatmap"
           }
          ],
          "heatmapgl": [
           {
            "colorbar": {
             "outlinewidth": 0,
             "ticks": ""
            },
            "colorscale": [
             [
              0,
              "#0d0887"
             ],
             [
              0.1111111111111111,
              "#46039f"
             ],
             [
              0.2222222222222222,
              "#7201a8"
             ],
             [
              0.3333333333333333,
              "#9c179e"
             ],
             [
              0.4444444444444444,
              "#bd3786"
             ],
             [
              0.5555555555555556,
              "#d8576b"
             ],
             [
              0.6666666666666666,
              "#ed7953"
             ],
             [
              0.7777777777777778,
              "#fb9f3a"
             ],
             [
              0.8888888888888888,
              "#fdca26"
             ],
             [
              1,
              "#f0f921"
             ]
            ],
            "type": "heatmapgl"
           }
          ],
          "histogram": [
           {
            "marker": {
             "pattern": {
              "fillmode": "overlay",
              "size": 10,
              "solidity": 0.2
             }
            },
            "type": "histogram"
           }
          ],
          "histogram2d": [
           {
            "colorbar": {
             "outlinewidth": 0,
             "ticks": ""
            },
            "colorscale": [
             [
              0,
              "#0d0887"
             ],
             [
              0.1111111111111111,
              "#46039f"
             ],
             [
              0.2222222222222222,
              "#7201a8"
             ],
             [
              0.3333333333333333,
              "#9c179e"
             ],
             [
              0.4444444444444444,
              "#bd3786"
             ],
             [
              0.5555555555555556,
              "#d8576b"
             ],
             [
              0.6666666666666666,
              "#ed7953"
             ],
             [
              0.7777777777777778,
              "#fb9f3a"
             ],
             [
              0.8888888888888888,
              "#fdca26"
             ],
             [
              1,
              "#f0f921"
             ]
            ],
            "type": "histogram2d"
           }
          ],
          "histogram2dcontour": [
           {
            "colorbar": {
             "outlinewidth": 0,
             "ticks": ""
            },
            "colorscale": [
             [
              0,
              "#0d0887"
             ],
             [
              0.1111111111111111,
              "#46039f"
             ],
             [
              0.2222222222222222,
              "#7201a8"
             ],
             [
              0.3333333333333333,
              "#9c179e"
             ],
             [
              0.4444444444444444,
              "#bd3786"
             ],
             [
              0.5555555555555556,
              "#d8576b"
             ],
             [
              0.6666666666666666,
              "#ed7953"
             ],
             [
              0.7777777777777778,
              "#fb9f3a"
             ],
             [
              0.8888888888888888,
              "#fdca26"
             ],
             [
              1,
              "#f0f921"
             ]
            ],
            "type": "histogram2dcontour"
           }
          ],
          "mesh3d": [
           {
            "colorbar": {
             "outlinewidth": 0,
             "ticks": ""
            },
            "type": "mesh3d"
           }
          ],
          "parcoords": [
           {
            "line": {
             "colorbar": {
              "outlinewidth": 0,
              "ticks": ""
             }
            },
            "type": "parcoords"
           }
          ],
          "pie": [
           {
            "automargin": true,
            "type": "pie"
           }
          ],
          "scatter": [
           {
            "fillpattern": {
             "fillmode": "overlay",
             "size": 10,
             "solidity": 0.2
            },
            "type": "scatter"
           }
          ],
          "scatter3d": [
           {
            "line": {
             "colorbar": {
              "outlinewidth": 0,
              "ticks": ""
             }
            },
            "marker": {
             "colorbar": {
              "outlinewidth": 0,
              "ticks": ""
             }
            },
            "type": "scatter3d"
           }
          ],
          "scattercarpet": [
           {
            "marker": {
             "colorbar": {
              "outlinewidth": 0,
              "ticks": ""
             }
            },
            "type": "scattercarpet"
           }
          ],
          "scattergeo": [
           {
            "marker": {
             "colorbar": {
              "outlinewidth": 0,
              "ticks": ""
             }
            },
            "type": "scattergeo"
           }
          ],
          "scattergl": [
           {
            "marker": {
             "colorbar": {
              "outlinewidth": 0,
              "ticks": ""
             }
            },
            "type": "scattergl"
           }
          ],
          "scattermapbox": [
           {
            "marker": {
             "colorbar": {
              "outlinewidth": 0,
              "ticks": ""
             }
            },
            "type": "scattermapbox"
           }
          ],
          "scatterpolar": [
           {
            "marker": {
             "colorbar": {
              "outlinewidth": 0,
              "ticks": ""
             }
            },
            "type": "scatterpolar"
           }
          ],
          "scatterpolargl": [
           {
            "marker": {
             "colorbar": {
              "outlinewidth": 0,
              "ticks": ""
             }
            },
            "type": "scatterpolargl"
           }
          ],
          "scatterternary": [
           {
            "marker": {
             "colorbar": {
              "outlinewidth": 0,
              "ticks": ""
             }
            },
            "type": "scatterternary"
           }
          ],
          "surface": [
           {
            "colorbar": {
             "outlinewidth": 0,
             "ticks": ""
            },
            "colorscale": [
             [
              0,
              "#0d0887"
             ],
             [
              0.1111111111111111,
              "#46039f"
             ],
             [
              0.2222222222222222,
              "#7201a8"
             ],
             [
              0.3333333333333333,
              "#9c179e"
             ],
             [
              0.4444444444444444,
              "#bd3786"
             ],
             [
              0.5555555555555556,
              "#d8576b"
             ],
             [
              0.6666666666666666,
              "#ed7953"
             ],
             [
              0.7777777777777778,
              "#fb9f3a"
             ],
             [
              0.8888888888888888,
              "#fdca26"
             ],
             [
              1,
              "#f0f921"
             ]
            ],
            "type": "surface"
           }
          ],
          "table": [
           {
            "cells": {
             "fill": {
              "color": "#EBF0F8"
             },
             "line": {
              "color": "white"
             }
            },
            "header": {
             "fill": {
              "color": "#C8D4E3"
             },
             "line": {
              "color": "white"
             }
            },
            "type": "table"
           }
          ]
         },
         "layout": {
          "annotationdefaults": {
           "arrowcolor": "#2a3f5f",
           "arrowhead": 0,
           "arrowwidth": 1
          },
          "autotypenumbers": "strict",
          "coloraxis": {
           "colorbar": {
            "outlinewidth": 0,
            "ticks": ""
           }
          },
          "colorscale": {
           "diverging": [
            [
             0,
             "#8e0152"
            ],
            [
             0.1,
             "#c51b7d"
            ],
            [
             0.2,
             "#de77ae"
            ],
            [
             0.3,
             "#f1b6da"
            ],
            [
             0.4,
             "#fde0ef"
            ],
            [
             0.5,
             "#f7f7f7"
            ],
            [
             0.6,
             "#e6f5d0"
            ],
            [
             0.7,
             "#b8e186"
            ],
            [
             0.8,
             "#7fbc41"
            ],
            [
             0.9,
             "#4d9221"
            ],
            [
             1,
             "#276419"
            ]
           ],
           "sequential": [
            [
             0,
             "#0d0887"
            ],
            [
             0.1111111111111111,
             "#46039f"
            ],
            [
             0.2222222222222222,
             "#7201a8"
            ],
            [
             0.3333333333333333,
             "#9c179e"
            ],
            [
             0.4444444444444444,
             "#bd3786"
            ],
            [
             0.5555555555555556,
             "#d8576b"
            ],
            [
             0.6666666666666666,
             "#ed7953"
            ],
            [
             0.7777777777777778,
             "#fb9f3a"
            ],
            [
             0.8888888888888888,
             "#fdca26"
            ],
            [
             1,
             "#f0f921"
            ]
           ],
           "sequentialminus": [
            [
             0,
             "#0d0887"
            ],
            [
             0.1111111111111111,
             "#46039f"
            ],
            [
             0.2222222222222222,
             "#7201a8"
            ],
            [
             0.3333333333333333,
             "#9c179e"
            ],
            [
             0.4444444444444444,
             "#bd3786"
            ],
            [
             0.5555555555555556,
             "#d8576b"
            ],
            [
             0.6666666666666666,
             "#ed7953"
            ],
            [
             0.7777777777777778,
             "#fb9f3a"
            ],
            [
             0.8888888888888888,
             "#fdca26"
            ],
            [
             1,
             "#f0f921"
            ]
           ]
          },
          "colorway": [
           "#636efa",
           "#EF553B",
           "#00cc96",
           "#ab63fa",
           "#FFA15A",
           "#19d3f3",
           "#FF6692",
           "#B6E880",
           "#FF97FF",
           "#FECB52"
          ],
          "font": {
           "color": "#2a3f5f"
          },
          "geo": {
           "bgcolor": "white",
           "lakecolor": "white",
           "landcolor": "#E5ECF6",
           "showlakes": true,
           "showland": true,
           "subunitcolor": "white"
          },
          "hoverlabel": {
           "align": "left"
          },
          "hovermode": "closest",
          "mapbox": {
           "style": "light"
          },
          "paper_bgcolor": "white",
          "plot_bgcolor": "#E5ECF6",
          "polar": {
           "angularaxis": {
            "gridcolor": "white",
            "linecolor": "white",
            "ticks": ""
           },
           "bgcolor": "#E5ECF6",
           "radialaxis": {
            "gridcolor": "white",
            "linecolor": "white",
            "ticks": ""
           }
          },
          "scene": {
           "xaxis": {
            "backgroundcolor": "#E5ECF6",
            "gridcolor": "white",
            "gridwidth": 2,
            "linecolor": "white",
            "showbackground": true,
            "ticks": "",
            "zerolinecolor": "white"
           },
           "yaxis": {
            "backgroundcolor": "#E5ECF6",
            "gridcolor": "white",
            "gridwidth": 2,
            "linecolor": "white",
            "showbackground": true,
            "ticks": "",
            "zerolinecolor": "white"
           },
           "zaxis": {
            "backgroundcolor": "#E5ECF6",
            "gridcolor": "white",
            "gridwidth": 2,
            "linecolor": "white",
            "showbackground": true,
            "ticks": "",
            "zerolinecolor": "white"
           }
          },
          "shapedefaults": {
           "line": {
            "color": "#2a3f5f"
           }
          },
          "ternary": {
           "aaxis": {
            "gridcolor": "white",
            "linecolor": "white",
            "ticks": ""
           },
           "baxis": {
            "gridcolor": "white",
            "linecolor": "white",
            "ticks": ""
           },
           "bgcolor": "#E5ECF6",
           "caxis": {
            "gridcolor": "white",
            "linecolor": "white",
            "ticks": ""
           }
          },
          "title": {
           "x": 0.05
          },
          "xaxis": {
           "automargin": true,
           "gridcolor": "white",
           "linecolor": "white",
           "ticks": "",
           "title": {
            "standoff": 15
           },
           "zerolinecolor": "white",
           "zerolinewidth": 2
          },
          "yaxis": {
           "automargin": true,
           "gridcolor": "white",
           "linecolor": "white",
           "ticks": "",
           "title": {
            "standoff": 15
           },
           "zerolinecolor": "white",
           "zerolinewidth": 2
          }
         }
        },
        "title": {
         "text": "UK House Price Index vs. Nominal Mortgage Rates"
        },
        "width": 800,
        "xaxis": {
         "anchor": "y",
         "domain": [
          0,
          1
         ],
         "title": {
          "text": "Nominal Mortgage Rate, %"
         }
        },
        "yaxis": {
         "anchor": "x",
         "domain": [
          0,
          1
         ],
         "title": {
          "text": "Residential Property Price Index, CPI Adjusted GBP"
         }
        }
       }
      }
     },
     "metadata": {},
     "output_type": "display_data"
    }
   ],
   "source": [
    "fig = px.scatter(df,x='nominal_mortrate_perc',y='real_prop_gbp',\n",
    "              labels={\n",
    "                  'nominal_mortrate_perc':'Nominal Mortgage Rate, %',\n",
    "                  'real_prop_gbp':'Residential Property Price Index, CPI Adjusted GBP'\n",
    "              },\n",
    "              width=800, height=600, trendline=\"ols\",\n",
    "              title='UK House Price Index vs. Nominal Mortgage Rates')\n",
    "\n",
    "fig.update_layout(legend=dict(\n",
    "    title='Region',\n",
    "    yanchor=\"top\",\n",
    "    y=0.99,\n",
    "    xanchor=\"left\",\n",
    "    x=0.01\n",
    "))\n",
    "\n",
    "fig.show()"
   ]
  },
  {
   "cell_type": "code",
   "execution_count": 34,
   "metadata": {},
   "outputs": [
    {
     "name": "stdout",
     "output_type": "stream",
     "text": [
      "200\n"
     ]
    }
   ],
   "source": [
    "import pandas as pd # 0.23.0\n",
    "import requests     # 2.19.1\n",
    "import io\n",
    "\n",
    "url_endpoint = 'http://www.bankofengland.co.uk/boeapps/iadb/fromshowcolumns.asp?csv.x=yes'\n",
    "\n",
    "payload = {\n",
    "    'Datefrom'   : '01/Jan/1995',\n",
    "    'Dateto'     : '02/Nov/2024',\n",
    "    'SeriesCodes': 'RPQZ4TL',\n",
    "    'CSVF'       : 'TN',\n",
    "    'UsingCodes' : 'Y',\n",
    "    'VPD'        : 'Y',\n",
    "    'VFD'        : 'N'\n",
    "}\n",
    "\n",
    "\n",
    "\n",
    "headers = {\n",
    "    'User-Agent': 'Mozilla/5.0 (X11; Linux x86_64) '\n",
    "                  'AppleWebKit/537.36 (KHTML, like Gecko) '\n",
    "                  'Chrome/54.0.2840.90 '\n",
    "                  'Safari/537.36'\n",
    "}\n",
    "\n",
    "response = requests.get(url_endpoint, params=payload, headers=headers)\n",
    "\n",
    "\n",
    "# Check if the response was successful, it should return '200'\n",
    "print(response.status_code)\n",
    "\n",
    "df = pd.read_csv(io.BytesIO(response.content)).set_index('DATE')\n"
   ]
  },
  {
   "cell_type": "code",
   "execution_count": 35,
   "metadata": {},
   "outputs": [
    {
     "data": {
      "text/html": [
       "<div>\n",
       "<style scoped>\n",
       "    .dataframe tbody tr th:only-of-type {\n",
       "        vertical-align: middle;\n",
       "    }\n",
       "\n",
       "    .dataframe tbody tr th {\n",
       "        vertical-align: top;\n",
       "    }\n",
       "\n",
       "    .dataframe thead th {\n",
       "        text-align: right;\n",
       "    }\n",
       "</style>\n",
       "<table border=\"1\" class=\"dataframe\">\n",
       "  <thead>\n",
       "    <tr style=\"text-align: right;\">\n",
       "      <th></th>\n",
       "      <th>RPQZ4TL</th>\n",
       "    </tr>\n",
       "    <tr>\n",
       "      <th>DATE</th>\n",
       "      <th></th>\n",
       "    </tr>\n",
       "  </thead>\n",
       "  <tbody>\n",
       "    <tr>\n",
       "      <th>30 Sep 2013</th>\n",
       "      <td>10055</td>\n",
       "    </tr>\n",
       "    <tr>\n",
       "      <th>31 Dec 2013</th>\n",
       "      <td>9978</td>\n",
       "    </tr>\n",
       "    <tr>\n",
       "      <th>31 Mar 2014</th>\n",
       "      <td>10174</td>\n",
       "    </tr>\n",
       "    <tr>\n",
       "      <th>30 Jun 2014</th>\n",
       "      <td>10264</td>\n",
       "    </tr>\n",
       "    <tr>\n",
       "      <th>30 Sep 2014</th>\n",
       "      <td>10245</td>\n",
       "    </tr>\n",
       "    <tr>\n",
       "      <th>31 Dec 2014</th>\n",
       "      <td>10709</td>\n",
       "    </tr>\n",
       "    <tr>\n",
       "      <th>31 Mar 2015</th>\n",
       "      <td>10842</td>\n",
       "    </tr>\n",
       "    <tr>\n",
       "      <th>30 Jun 2015</th>\n",
       "      <td>10657</td>\n",
       "    </tr>\n",
       "    <tr>\n",
       "      <th>30 Sep 2015</th>\n",
       "      <td>10145</td>\n",
       "    </tr>\n",
       "    <tr>\n",
       "      <th>31 Dec 2015</th>\n",
       "      <td>9706</td>\n",
       "    </tr>\n",
       "    <tr>\n",
       "      <th>31 Mar 2016</th>\n",
       "      <td>10025</td>\n",
       "    </tr>\n",
       "    <tr>\n",
       "      <th>30 Jun 2016</th>\n",
       "      <td>10163</td>\n",
       "    </tr>\n",
       "    <tr>\n",
       "      <th>30 Sep 2016</th>\n",
       "      <td>9761</td>\n",
       "    </tr>\n",
       "    <tr>\n",
       "      <th>31 Dec 2016</th>\n",
       "      <td>9756</td>\n",
       "    </tr>\n",
       "    <tr>\n",
       "      <th>31 Mar 2017</th>\n",
       "      <td>10015</td>\n",
       "    </tr>\n",
       "    <tr>\n",
       "      <th>30 Jun 2017</th>\n",
       "      <td>10029</td>\n",
       "    </tr>\n",
       "    <tr>\n",
       "      <th>30 Sep 2017</th>\n",
       "      <td>9689</td>\n",
       "    </tr>\n",
       "    <tr>\n",
       "      <th>31 Dec 2017</th>\n",
       "      <td>9948</td>\n",
       "    </tr>\n",
       "    <tr>\n",
       "      <th>31 Mar 2018</th>\n",
       "      <td>9363</td>\n",
       "    </tr>\n",
       "    <tr>\n",
       "      <th>30 Jun 2018</th>\n",
       "      <td>9897</td>\n",
       "    </tr>\n",
       "    <tr>\n",
       "      <th>30 Sep 2018</th>\n",
       "      <td>10802</td>\n",
       "    </tr>\n",
       "    <tr>\n",
       "      <th>31 Dec 2018</th>\n",
       "      <td>12478</td>\n",
       "    </tr>\n",
       "    <tr>\n",
       "      <th>31 Mar 2019</th>\n",
       "      <td>12393</td>\n",
       "    </tr>\n",
       "    <tr>\n",
       "      <th>30 Jun 2019</th>\n",
       "      <td>13402</td>\n",
       "    </tr>\n",
       "    <tr>\n",
       "      <th>30 Sep 2019</th>\n",
       "      <td>13855</td>\n",
       "    </tr>\n",
       "    <tr>\n",
       "      <th>31 Dec 2019</th>\n",
       "      <td>14104</td>\n",
       "    </tr>\n",
       "    <tr>\n",
       "      <th>31 Mar 2020</th>\n",
       "      <td>13554</td>\n",
       "    </tr>\n",
       "    <tr>\n",
       "      <th>30 Jun 2020</th>\n",
       "      <td>13916</td>\n",
       "    </tr>\n",
       "    <tr>\n",
       "      <th>30 Sep 2020</th>\n",
       "      <td>13680</td>\n",
       "    </tr>\n",
       "    <tr>\n",
       "      <th>31 Dec 2020</th>\n",
       "      <td>14179</td>\n",
       "    </tr>\n",
       "    <tr>\n",
       "      <th>31 Mar 2021</th>\n",
       "      <td>15140</td>\n",
       "    </tr>\n",
       "    <tr>\n",
       "      <th>30 Jun 2021</th>\n",
       "      <td>15586</td>\n",
       "    </tr>\n",
       "    <tr>\n",
       "      <th>30 Sep 2021</th>\n",
       "      <td>16118</td>\n",
       "    </tr>\n",
       "    <tr>\n",
       "      <th>31 Dec 2021</th>\n",
       "      <td>16899</td>\n",
       "    </tr>\n",
       "    <tr>\n",
       "      <th>31 Mar 2022</th>\n",
       "      <td>17082</td>\n",
       "    </tr>\n",
       "    <tr>\n",
       "      <th>30 Jun 2022</th>\n",
       "      <td>17674</td>\n",
       "    </tr>\n",
       "    <tr>\n",
       "      <th>30 Sep 2022</th>\n",
       "      <td>17374</td>\n",
       "    </tr>\n",
       "    <tr>\n",
       "      <th>31 Dec 2022</th>\n",
       "      <td>17796</td>\n",
       "    </tr>\n",
       "    <tr>\n",
       "      <th>31 Mar 2023</th>\n",
       "      <td>17741</td>\n",
       "    </tr>\n",
       "    <tr>\n",
       "      <th>30 Jun 2023</th>\n",
       "      <td>17386</td>\n",
       "    </tr>\n",
       "  </tbody>\n",
       "</table>\n",
       "</div>"
      ],
      "text/plain": [
       "             RPQZ4TL\n",
       "DATE                \n",
       "30 Sep 2013    10055\n",
       "31 Dec 2013     9978\n",
       "31 Mar 2014    10174\n",
       "30 Jun 2014    10264\n",
       "30 Sep 2014    10245\n",
       "31 Dec 2014    10709\n",
       "31 Mar 2015    10842\n",
       "30 Jun 2015    10657\n",
       "30 Sep 2015    10145\n",
       "31 Dec 2015     9706\n",
       "31 Mar 2016    10025\n",
       "30 Jun 2016    10163\n",
       "30 Sep 2016     9761\n",
       "31 Dec 2016     9756\n",
       "31 Mar 2017    10015\n",
       "30 Jun 2017    10029\n",
       "30 Sep 2017     9689\n",
       "31 Dec 2017     9948\n",
       "31 Mar 2018     9363\n",
       "30 Jun 2018     9897\n",
       "30 Sep 2018    10802\n",
       "31 Dec 2018    12478\n",
       "31 Mar 2019    12393\n",
       "30 Jun 2019    13402\n",
       "30 Sep 2019    13855\n",
       "31 Dec 2019    14104\n",
       "31 Mar 2020    13554\n",
       "30 Jun 2020    13916\n",
       "30 Sep 2020    13680\n",
       "31 Dec 2020    14179\n",
       "31 Mar 2021    15140\n",
       "30 Jun 2021    15586\n",
       "30 Sep 2021    16118\n",
       "31 Dec 2021    16899\n",
       "31 Mar 2022    17082\n",
       "30 Jun 2022    17674\n",
       "30 Sep 2022    17374\n",
       "31 Dec 2022    17796\n",
       "31 Mar 2023    17741\n",
       "30 Jun 2023    17386"
      ]
     },
     "execution_count": 35,
     "metadata": {},
     "output_type": "execute_result"
    }
   ],
   "source": [
    "df"
   ]
  },
  {
   "cell_type": "code",
   "execution_count": 36,
   "metadata": {},
   "outputs": [
    {
     "data": {
      "text/plain": [
       "<Axes: xlabel='DATE'>"
      ]
     },
     "execution_count": 36,
     "metadata": {},
     "output_type": "execute_result"
    },
    {
     "data": {
      "image/png": "[encoded data removed]",
      "text/plain": [
       "<Figure size 640x480 with 1 Axes>"
      ]
     },
     "metadata": {},
     "output_type": "display_data"
    }
   ],
   "source": [
    "import seaborn as sns\n",
    "\n",
    "sns.lineplot(df)"
   ]
  }
 ],
 "metadata": {
  "kernelspec": {
   "display_name": "base",
   "language": "python",
   "name": "python3"
  },
  "language_info": {
   "codemirror_mode": {
    "name": "ipython",
    "version": 3
   },
   "file_extension": ".py",
   "mimetype": "text/x-python",
   "name": "python",
   "nbconvert_exporter": "python",
   "pygments_lexer": "ipython3",
   "version": "3.12.7"
  }
 },
 "nbformat": 4,
 "nbformat_minor": 2
}
