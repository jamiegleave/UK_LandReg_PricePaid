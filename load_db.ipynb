{
 "cells": [
  {
   "cell_type": "markdown",
   "metadata": {},
   "source": [
    "Download Price Paid Data and Load into DB"
   ]
  },
  {
   "cell_type": "code",
   "execution_count": 1,
   "metadata": {},
   "outputs": [
    {
     "name": "stderr",
     "output_type": "stream",
     "text": [
      "100%|██████████| 5.17G/5.17G [05:59<00:00, 14.4MB/s]\n"
     ]
    }
   ],
   "source": [
    "# Verifies that CSV file is up-to-date (else: D/L from Land Registry server)\n",
    "\n",
    "from ppc_db import fetch_csv\n",
    "\n",
    "url = 'http://prod.publicdata.landregistry.gov.uk.s3-website-eu-west-1.amazonaws.com/pp-complete.csv'\n",
    "dest = 'C:/Users/jamie/OneDrive/Python/Py_24/Docker/Data/'\n",
    "\n",
    "file_name = fetch_csv(url,dest)"
   ]
  },
  {
   "cell_type": "code",
   "execution_count": 2,
   "metadata": {},
   "outputs": [
    {
     "name": "stdout",
     "output_type": "stream",
     "text": [
      "Successfully copied C:/Users/jamie/OneDrive/Python/Py_24/Docker/Data/ to path /var/lib/mysql-files (container 110e4f0dab4e)\n"
     ]
    }
   ],
   "source": [
    "# Copy local file into Docker volume\n",
    "\n",
    "from ppc_db import copy_file_to_docker_volume\n",
    "\n",
    "mount_path = \"/var/lib/mysql-files\"\n",
    "\n",
    "copy_file_to_docker_volume(file_name+\".csv\",\n",
    "                           container_name = \"110e4f0dab4e\",\n",
    "                           local_path = \"C:/Users/jamie/OneDrive/Python/Py_24/Docker/Data/\",\n",
    "                           mount_path = mount_path\n",
    "                           )"
   ]
  },
  {
   "cell_type": "code",
   "execution_count": 3,
   "metadata": {},
   "outputs": [],
   "source": [
    "# CREATE TABLE (SQL)\n",
    "\n",
    "from ppc_db import sql_commitchanges\n",
    "\n",
    "#file_name = 'Sep24pricepaidcomplete'\n",
    "\n",
    "db_args = {\n",
    "    'user':'root',\n",
    "    'password':'password',\n",
    "    'host':'localhost',\n",
    "    'port':3306,\n",
    "    'database':'CSV_DB 7'\n",
    " }\n",
    "\n",
    "base = 'CREATE TABLE'+' `'+file_name+'` '\n",
    "\n",
    "fd = open('tbl_params.sql','r')\n",
    "sqlFile = fd.read()\n",
    "fd.close()\n",
    "\n",
    "sql_commitchanges(query=base+sqlFile,**db_args)"
   ]
  },
  {
   "cell_type": "code",
   "execution_count": 4,
   "metadata": {},
   "outputs": [],
   "source": [
    "# LOAD DATA (SQL)\n",
    "\n",
    "#mount_path = \"/var/lib/mysql-files\"\n",
    "\n",
    "start = \"LOAD DATA INFILE \"+\"\\\"\"+mount_path+\"/\"+file_name+\".csv\"+\"\\\" \"\n",
    "mid = \"INTO TABLE \"+file_name+\" \"\n",
    "end = \"COLUMNS TERMINATED BY ',' OPTIONALLY ENCLOSED BY '\\\"' ESCAPED BY '\\\"' LINES TERMINATED BY '\\\\n'\"\n",
    "\n",
    "sql_commitchanges(start+mid+end, **db_args)"
   ]
  }
 ],
 "metadata": {
  "kernelspec": {
   "display_name": "base",
   "language": "python",
   "name": "python3"
  },
  "language_info": {
   "codemirror_mode": {
    "name": "ipython",
    "version": 3
   },
   "file_extension": ".py",
   "mimetype": "text/x-python",
   "name": "python",
   "nbconvert_exporter": "python",
   "pygments_lexer": "ipython3",
   "version": "3.12.7"
  }
 },
 "nbformat": 4,
 "nbformat_minor": 2
}
