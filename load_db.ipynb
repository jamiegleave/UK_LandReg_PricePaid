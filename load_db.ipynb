{
 "cells": [
  {
   "cell_type": "markdown",
   "metadata": {},
   "source": [
    "Download Price Paid Data and Load into DB"
   ]
  },
  {
   "cell_type": "code",
   "execution_count": 1,
   "metadata": {},
   "outputs": [
    {
     "name": "stderr",
     "output_type": "stream",
     "text": [
      "100%|██████████| 5.17G/5.17G [05:59<00:00, 14.4MB/s]\n"
     ]
    }
   ],
   "source": [
    "# Verifies that CSV file is up-to-date (else: D/L from Land Registry server)\n",
    "\n",
    "from ppc_db import fetch_csv\n",
    "\n",
    "url = 'http://prod.publicdata.landregistry.gov.uk.s3-website-eu-west-1.amazonaws.com/pp-complete.csv'\n",
    "dest = 'C:/Users/jamie/OneDrive/Python/Py_24/Docker/Data/'\n",
    "\n",
    "file_name = fetch_csv(url,dest)"
   ]
  },
  {
   "cell_type": "code",
   "execution_count": 4,
   "metadata": {},
   "outputs": [
    {
     "name": "stdout",
     "output_type": "stream",
     "text": [
      "Successfully copied C:/Users/jamie/OneDrive/Python/Py_24/Docker/Data/ to path /var/lib/postgresql/data (container 788303b91078)\n"
     ]
    }
   ],
   "source": [
    "# Copy local file into Docker volume\n",
    "\n",
    "from ppc_db import copy_file_to_docker_volume\n",
    "\n",
    "mount_path = \"/var/lib/postgresql/data\"\n",
    "\n",
    "copy_file_to_docker_volume(file_name+\".csv\",\n",
    "                           container_name = \"788303b91078\",\n",
    "                           local_path = \"C:/Users/jamie/OneDrive/Python/Py_24/Docker/Data/\",\n",
    "                           mount_path = mount_path\n",
    "                           )"
   ]
  },
  {
   "cell_type": "code",
   "execution_count": 15,
   "metadata": {},
   "outputs": [
    {
     "name": "stdout",
     "output_type": "stream",
     "text": [
      "CREATE TABLE Oct24pricepaidcomplete (tx_id VARCHAR(40) DEFAULT NULL,\n",
      "price_gbp INT DEFAULT NULL,\n",
      "date DATE DEFAULT NULL,\n",
      "postcode VARCHAR(100) DEFAULT NULL,\n",
      "prop_type VARCHAR(1) DEFAULT NULL,\n",
      "new_build VARCHAR(1) DEFAULT NULL,\n",
      "estate_type VARCHAR(1) DEFAULT NULL,\n",
      "\"1_building_name_no\" VARCHAR(100) DEFAULT NULL,\n",
      "\"2_building_name_no\" VARCHAR(100) DEFAULT NULL,\n",
      "\"3_street\" VARCHAR(100) DEFAULT NULL,\n",
      "\"4_locality\" VARCHAR(100) DEFAULT NULL,\n",
      "\"5_town_city\" VARCHAR(100) DEFAULT NULL,\n",
      "\"6_district\" VARCHAR(100) DEFAULT NULL,\n",
      "\"7_county\" VARCHAR(100) DEFAULT NULL,\n",
      "\"COL 15\" VARCHAR(1) DEFAULT NULL,\n",
      "\"COL 16\" VARCHAR(1) DEFAULT NULL)\n"
     ]
    }
   ],
   "source": [
    "# CREATE TABLE (SQL)\n",
    "\n",
    "from ppc_db import sql_commitchanges\n",
    "\n",
    "file_name = 'Oct24pricepaidcomplete'\n",
    "\n",
    "db_args = {\n",
    "    'host':'localhost',\n",
    "    'database':'LandRegData',\n",
    "    'user':'root',\n",
    "    'password':'password'\n",
    " }\n",
    "\n",
    "base = 'CREATE TABLE '+file_name+' '\n",
    "\n",
    "fd = open('tbl_params.sql','r')\n",
    "sqlFile = fd.read()\n",
    "fd.close()\n",
    "\n",
    "print(base+sqlFile)\n",
    "\n",
    "#sql_commitchanges(query=base+sqlFile,**db_args)\n",
    "\n",
    "# CREATE TABLE Oct24pricepaidcomplete (\n",
    "#     tx_id VARCHAR(40) DEFAULT NULL,\n",
    "#     price_gbp INT DEFAULT NULL,\n",
    "#     date DATE DEFAULT NULL,\n",
    "#     postcode VARCHAR(100) DEFAULT NULL,\n",
    "#     prop_type VARCHAR(1) DEFAULT NULL,\n",
    "#     new_build VARCHAR(1) DEFAULT NULL,\n",
    "#     estate_type VARCHAR(1) DEFAULT NULL,\n",
    "#     \"1_building_name_no\" VARCHAR(100) DEFAULT NULL,\n",
    "#     \"2_building_name_no\" VARCHAR(100) DEFAULT NULL,\n",
    "#     \"3_street\" VARCHAR(100) DEFAULT NULL,\n",
    "#     \"4_locality\" VARCHAR(100) DEFAULT NULL,\n",
    "#     \"5_town_city\" VARCHAR(100) DEFAULT NULL,\n",
    "#     \"6_district\" VARCHAR(100) DEFAULT NULL,\n",
    "#     \"7_county\" VARCHAR(100) DEFAULT NULL,\n",
    "#     \"COL 15\" VARCHAR(1) DEFAULT NULL,\n",
    "#     \"COL 16\" VARCHAR(1) DEFAULT NULL\n",
    "# );"
   ]
  },
  {
   "cell_type": "code",
   "execution_count": 10,
   "metadata": {},
   "outputs": [],
   "source": [
    "# LOAD DATA (SQL)\n",
    "\n",
    "mount_path = \"/var/lib/postgresql/data\"\n",
    "\n",
    "start = \"COPY \"+file_name+\" FROM '\"+mount_path+\"/\"+file_name+\".csv'\"\n",
    "end = \"\"\" WITH (FORMAT csv, HEADER false, DELIMITER ',', QUOTE '\"', ESCAPE '\"')\"\"\"\n",
    "\n",
    "#sql_commitchanges(start+mid+end, **db_args)"
   ]
  },
  {
   "cell_type": "code",
   "execution_count": null,
   "metadata": {},
   "outputs": [
    {
     "name": "stdout",
     "output_type": "stream",
     "text": [
      "LOAD DATA INFILE \"/var/lib/postgresql/data/Oct24pricepaidcomplete.csv\" INTO TABLE Oct24pricepaidcomplete COLUMNS TERMINATED BY ',' OPTIONALLY ENCLOSED BY '\"' ESCAPED BY '\"' LINES TERMINATED BY '\\n'\n"
     ]
    }
   ],
   "source": [
    "print(start+mid+end)\n",
    "\n",
    "# #COPY Oct24pricepaidcomplete\n",
    "# FROM '/var/lib/postgresql/data/Oct24pricepaidcomplete.csv'\n",
    "# WITH (FORMAT csv, HEADER false, DELIMITER ',', QUOTE '\"', ESCAPE '\"');"
   ]
  }
 ],
 "metadata": {
  "kernelspec": {
   "display_name": "base",
   "language": "python",
   "name": "python3"
  },
  "language_info": {
   "codemirror_mode": {
    "name": "ipython",
    "version": 3
   },
   "file_extension": ".py",
   "mimetype": "text/x-python",
   "name": "python",
   "nbconvert_exporter": "python",
   "pygments_lexer": "ipython3",
   "version": "3.12.7"
  }
 },
 "nbformat": 4,
 "nbformat_minor": 2
}
