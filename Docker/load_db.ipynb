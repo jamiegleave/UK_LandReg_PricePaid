{
 "cells": [
  {
   "cell_type": "markdown",
   "metadata": {},
   "source": [
    "Download Price Paid Data and Load into DB"
   ]
  },
  {
   "cell_type": "code",
   "execution_count": 1,
   "metadata": {},
   "outputs": [
    {
     "name": "stdout",
     "output_type": "stream",
     "text": [
      "Server file is 5.1521 GB\n",
      "No file exists - initiating download\n"
     ]
    },
    {
     "name": "stderr",
     "output_type": "stream",
     "text": [
      "100%|██████████| 5.15G/5.15G [06:27<00:00, 13.3MB/s]\n"
     ]
    }
   ],
   "source": [
    "# Verifies that CSV file is up-to-date (else: D/L from Land Registry server)\n",
    "\n",
    "from initalisation import check_vers\n",
    "\n",
    "url = 'http://prod.publicdata.landregistry.gov.uk.s3-website-eu-west-1.amazonaws.com/pp-complete.csv'\n",
    "dest = 'C:/Users/jamie/OneDrive/Python/Py_24/Docker/Data/'\n",
    "\n",
    "check_vers(url,dest)"
   ]
  },
  {
   "cell_type": "code",
   "execution_count": 2,
   "metadata": {},
   "outputs": [
    {
     "name": "stdout",
     "output_type": "stream",
     "text": [
      "Successfully copied C:/Users/jamie/OneDrive/Python/Py_24/Docker/Data/ to path /var/lib/mysql-files (container 110e4f0dab4e)\n"
     ]
    }
   ],
   "source": [
    "# Copy local file into Docker volume\n",
    "\n",
    "from initalisation import copy_file_to_docker_volume, define_name\n",
    "\n",
    "file_name = define_name()\n",
    "mount_path = \"/var/lib/mysql-files\"\n",
    "\n",
    "copy_file_to_docker_volume(file_name+\".csv\",\n",
    "                           container_name = \"110e4f0dab4e\",\n",
    "                           local_path = \"C:/Users/jamie/OneDrive/Python/Py_24/Docker/Data/\",\n",
    "                           mount_path = mount_path\n",
    "                           )"
   ]
  },
  {
   "cell_type": "code",
   "execution_count": 3,
   "metadata": {},
   "outputs": [],
   "source": [
    "# CREATE TABLE (SQL)\n",
    "\n",
    "from initalisation import sql_commitchanges\n",
    "\n",
    "base = 'CREATE TABLE'+' `'+file_name.replace('_','')+'` '\n",
    "\n",
    "fd = open('tbl_params.sql','r')\n",
    "sqlFile = fd.read()\n",
    "fd.close()\n",
    "\n",
    "sql_commitchanges(base+sqlFile)"
   ]
  },
  {
   "cell_type": "code",
   "execution_count": 4,
   "metadata": {},
   "outputs": [],
   "source": [
    "# LOAD DATA (SQL)\n",
    "\n",
    "start = \"LOAD DATA INFILE \"+\"\\\"\"+mount_path+\"/\"+file_name+\".csv\"+\"\\\" \"\n",
    "mid = \"INTO TABLE \"+file_name.replace('_','')+\" \"\n",
    "end = \"COLUMNS TERMINATED BY ',' OPTIONALLY ENCLOSED BY '\\\"' ESCAPED BY '\\\"' LINES TERMINATED BY '\\\\n'\"\n",
    "\n",
    "sql_commitchanges(start+mid+end)"
   ]
  }
 ],
 "metadata": {
  "kernelspec": {
   "display_name": "base",
   "language": "python",
   "name": "python3"
  },
  "language_info": {
   "codemirror_mode": {
    "name": "ipython",
    "version": 3
   },
   "file_extension": ".py",
   "mimetype": "text/x-python",
   "name": "python",
   "nbconvert_exporter": "python",
   "pygments_lexer": "ipython3",
   "version": "3.12.7"
  }
 },
 "nbformat": 4,
 "nbformat_minor": 2
}
